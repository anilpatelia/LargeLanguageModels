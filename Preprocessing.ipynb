{
 "cells": [
  {
   "cell_type": "code",
   "execution_count": 3,
   "id": "f419d56a-005e-4e20-8274-ba48ac2a00f8",
   "metadata": {},
   "outputs": [
    {
     "name": "stdout",
     "output_type": "stream",
     "text": [
      "Preparing to download Marathi/0_2024.08.12_18.02.50-2024.08.12_18.03.50.mp4 to Marathi_mp4/0_2024.08.12_18.02.50-2024.08.12_18.03.50.mp4\n",
      "Video downloaded to: Marathi_mp4/0_2024.08.12_18.02.50-2024.08.12_18.03.50.mp4\n",
      "MoviePy - Writing audio in Marathi_mp3/0_2024.08.12_18.02.50-2024.08.12_18.03.50.mp3\n"
     ]
    },
    {
     "name": "stderr",
     "output_type": "stream",
     "text": [
      "                                                                                                                        \r"
     ]
    },
    {
     "name": "stdout",
     "output_type": "stream",
     "text": [
      "MoviePy - Done.\n",
      "Converted Marathi_mp4/0_2024.08.12_18.02.50-2024.08.12_18.03.50.mp4 to Marathi_mp3/0_2024.08.12_18.02.50-2024.08.12_18.03.50.mp3\n",
      "Deleted Marathi_mp4/0_2024.08.12_18.02.50-2024.08.12_18.03.50.mp4\n",
      "Preparing to download Marathi/0_2024.08.12_18.03.50-2024.08.12_18.04.50.mp4 to Marathi_mp4/0_2024.08.12_18.03.50-2024.08.12_18.04.50.mp4\n",
      "Video downloaded to: Marathi_mp4/0_2024.08.12_18.03.50-2024.08.12_18.04.50.mp4\n",
      "MoviePy - Writing audio in Marathi_mp3/0_2024.08.12_18.03.50-2024.08.12_18.04.50.mp3\n"
     ]
    },
    {
     "name": "stderr",
     "output_type": "stream",
     "text": [
      "                                                                                                                        \r"
     ]
    },
    {
     "name": "stdout",
     "output_type": "stream",
     "text": [
      "MoviePy - Done.\n",
      "Converted Marathi_mp4/0_2024.08.12_18.03.50-2024.08.12_18.04.50.mp4 to Marathi_mp3/0_2024.08.12_18.03.50-2024.08.12_18.04.50.mp3\n",
      "Deleted Marathi_mp4/0_2024.08.12_18.03.50-2024.08.12_18.04.50.mp4\n",
      "Preparing to download Marathi/0_2024.08.12_18.04.50-2024.08.12_18.05.50.mp4 to Marathi_mp4/0_2024.08.12_18.04.50-2024.08.12_18.05.50.mp4\n",
      "Video downloaded to: Marathi_mp4/0_2024.08.12_18.04.50-2024.08.12_18.05.50.mp4\n",
      "MoviePy - Writing audio in Marathi_mp3/0_2024.08.12_18.04.50-2024.08.12_18.05.50.mp3\n"
     ]
    },
    {
     "name": "stderr",
     "output_type": "stream",
     "text": [
      "                                                                                                                        \r"
     ]
    },
    {
     "name": "stdout",
     "output_type": "stream",
     "text": [
      "MoviePy - Done.\n",
      "Converted Marathi_mp4/0_2024.08.12_18.04.50-2024.08.12_18.05.50.mp4 to Marathi_mp3/0_2024.08.12_18.04.50-2024.08.12_18.05.50.mp3\n",
      "Deleted Marathi_mp4/0_2024.08.12_18.04.50-2024.08.12_18.05.50.mp4\n",
      "Preparing to download Marathi/0_2024.08.12_18.05.50-2024.08.12_18.06.50.mp4 to Marathi_mp4/0_2024.08.12_18.05.50-2024.08.12_18.06.50.mp4\n",
      "Video downloaded to: Marathi_mp4/0_2024.08.12_18.05.50-2024.08.12_18.06.50.mp4\n",
      "MoviePy - Writing audio in Marathi_mp3/0_2024.08.12_18.05.50-2024.08.12_18.06.50.mp3\n"
     ]
    },
    {
     "name": "stderr",
     "output_type": "stream",
     "text": [
      "                                                                                                                        \r"
     ]
    },
    {
     "name": "stdout",
     "output_type": "stream",
     "text": [
      "MoviePy - Done.\n",
      "Converted Marathi_mp4/0_2024.08.12_18.05.50-2024.08.12_18.06.50.mp4 to Marathi_mp3/0_2024.08.12_18.05.50-2024.08.12_18.06.50.mp3\n",
      "Deleted Marathi_mp4/0_2024.08.12_18.05.50-2024.08.12_18.06.50.mp4\n",
      "Preparing to download Marathi/0_2024.08.12_18.06.51-2024.08.12_18.07.51.mp4 to Marathi_mp4/0_2024.08.12_18.06.51-2024.08.12_18.07.51.mp4\n",
      "Video downloaded to: Marathi_mp4/0_2024.08.12_18.06.51-2024.08.12_18.07.51.mp4\n",
      "MoviePy - Writing audio in Marathi_mp3/0_2024.08.12_18.06.51-2024.08.12_18.07.51.mp3\n"
     ]
    },
    {
     "name": "stderr",
     "output_type": "stream",
     "text": [
      "                                                                                                                        \r"
     ]
    },
    {
     "name": "stdout",
     "output_type": "stream",
     "text": [
      "MoviePy - Done.\n",
      "Converted Marathi_mp4/0_2024.08.12_18.06.51-2024.08.12_18.07.51.mp4 to Marathi_mp3/0_2024.08.12_18.06.51-2024.08.12_18.07.51.mp3\n",
      "Deleted Marathi_mp4/0_2024.08.12_18.06.51-2024.08.12_18.07.51.mp4\n",
      "Preparing to download Marathi/0_2024.08.12_18.07.51-2024.08.12_18.08.51.mp4 to Marathi_mp4/0_2024.08.12_18.07.51-2024.08.12_18.08.51.mp4\n",
      "Video downloaded to: Marathi_mp4/0_2024.08.12_18.07.51-2024.08.12_18.08.51.mp4\n",
      "MoviePy - Writing audio in Marathi_mp3/0_2024.08.12_18.07.51-2024.08.12_18.08.51.mp3\n"
     ]
    },
    {
     "name": "stderr",
     "output_type": "stream",
     "text": [
      "                                                                                                                        \r"
     ]
    },
    {
     "name": "stdout",
     "output_type": "stream",
     "text": [
      "MoviePy - Done.\n",
      "Converted Marathi_mp4/0_2024.08.12_18.07.51-2024.08.12_18.08.51.mp4 to Marathi_mp3/0_2024.08.12_18.07.51-2024.08.12_18.08.51.mp3\n",
      "Deleted Marathi_mp4/0_2024.08.12_18.07.51-2024.08.12_18.08.51.mp4\n",
      "Preparing to download Marathi/0_2024.08.12_18.08.51-2024.08.12_18.09.51.mp4 to Marathi_mp4/0_2024.08.12_18.08.51-2024.08.12_18.09.51.mp4\n",
      "Video downloaded to: Marathi_mp4/0_2024.08.12_18.08.51-2024.08.12_18.09.51.mp4\n",
      "MoviePy - Writing audio in Marathi_mp3/0_2024.08.12_18.08.51-2024.08.12_18.09.51.mp3\n"
     ]
    },
    {
     "name": "stderr",
     "output_type": "stream",
     "text": [
      "                                                                                                                        \r"
     ]
    },
    {
     "name": "stdout",
     "output_type": "stream",
     "text": [
      "MoviePy - Done.\n",
      "Converted Marathi_mp4/0_2024.08.12_18.08.51-2024.08.12_18.09.51.mp4 to Marathi_mp3/0_2024.08.12_18.08.51-2024.08.12_18.09.51.mp3\n",
      "Deleted Marathi_mp4/0_2024.08.12_18.08.51-2024.08.12_18.09.51.mp4\n",
      "Preparing to download Marathi/0_2024.08.12_18.09.51-2024.08.12_18.10.51.mp4 to Marathi_mp4/0_2024.08.12_18.09.51-2024.08.12_18.10.51.mp4\n",
      "Video downloaded to: Marathi_mp4/0_2024.08.12_18.09.51-2024.08.12_18.10.51.mp4\n",
      "MoviePy - Writing audio in Marathi_mp3/0_2024.08.12_18.09.51-2024.08.12_18.10.51.mp3\n"
     ]
    },
    {
     "name": "stderr",
     "output_type": "stream",
     "text": [
      "                                                                                                                        \r"
     ]
    },
    {
     "name": "stdout",
     "output_type": "stream",
     "text": [
      "MoviePy - Done.\n",
      "Converted Marathi_mp4/0_2024.08.12_18.09.51-2024.08.12_18.10.51.mp4 to Marathi_mp3/0_2024.08.12_18.09.51-2024.08.12_18.10.51.mp3\n",
      "Deleted Marathi_mp4/0_2024.08.12_18.09.51-2024.08.12_18.10.51.mp4\n",
      "Preparing to download Marathi/0_2024.08.12_18.10.51-2024.08.12_18.11.51.mp4 to Marathi_mp4/0_2024.08.12_18.10.51-2024.08.12_18.11.51.mp4\n",
      "Video downloaded to: Marathi_mp4/0_2024.08.12_18.10.51-2024.08.12_18.11.51.mp4\n",
      "MoviePy - Writing audio in Marathi_mp3/0_2024.08.12_18.10.51-2024.08.12_18.11.51.mp3\n"
     ]
    },
    {
     "name": "stderr",
     "output_type": "stream",
     "text": [
      "                                                                                                                        \r"
     ]
    },
    {
     "name": "stdout",
     "output_type": "stream",
     "text": [
      "MoviePy - Done.\n",
      "Converted Marathi_mp4/0_2024.08.12_18.10.51-2024.08.12_18.11.51.mp4 to Marathi_mp3/0_2024.08.12_18.10.51-2024.08.12_18.11.51.mp3\n",
      "Deleted Marathi_mp4/0_2024.08.12_18.10.51-2024.08.12_18.11.51.mp4\n",
      "Preparing to download Marathi/0_2024.08.12_18.11.51-2024.08.12_18.12.51.mp4 to Marathi_mp4/0_2024.08.12_18.11.51-2024.08.12_18.12.51.mp4\n",
      "Video downloaded to: Marathi_mp4/0_2024.08.12_18.11.51-2024.08.12_18.12.51.mp4\n",
      "MoviePy - Writing audio in Marathi_mp3/0_2024.08.12_18.11.51-2024.08.12_18.12.51.mp3\n"
     ]
    },
    {
     "name": "stderr",
     "output_type": "stream",
     "text": [
      "                                                                                                                        \r"
     ]
    },
    {
     "name": "stdout",
     "output_type": "stream",
     "text": [
      "MoviePy - Done.\n",
      "Converted Marathi_mp4/0_2024.08.12_18.11.51-2024.08.12_18.12.51.mp4 to Marathi_mp3/0_2024.08.12_18.11.51-2024.08.12_18.12.51.mp3\n",
      "Deleted Marathi_mp4/0_2024.08.12_18.11.51-2024.08.12_18.12.51.mp4\n",
      "Preparing to download Marathi/0_2024.08.12_18.12.51-2024.08.12_18.13.51.mp4 to Marathi_mp4/0_2024.08.12_18.12.51-2024.08.12_18.13.51.mp4\n",
      "Video downloaded to: Marathi_mp4/0_2024.08.12_18.12.51-2024.08.12_18.13.51.mp4\n",
      "MoviePy - Writing audio in Marathi_mp3/0_2024.08.12_18.12.51-2024.08.12_18.13.51.mp3\n"
     ]
    },
    {
     "name": "stderr",
     "output_type": "stream",
     "text": [
      "                                                                                                                        \r"
     ]
    },
    {
     "name": "stdout",
     "output_type": "stream",
     "text": [
      "MoviePy - Done.\n",
      "Converted Marathi_mp4/0_2024.08.12_18.12.51-2024.08.12_18.13.51.mp4 to Marathi_mp3/0_2024.08.12_18.12.51-2024.08.12_18.13.51.mp3\n",
      "Deleted Marathi_mp4/0_2024.08.12_18.12.51-2024.08.12_18.13.51.mp4\n",
      "Preparing to download Marathi/0_2024.08.12_18.13.51-2024.08.12_18.14.51.mp4 to Marathi_mp4/0_2024.08.12_18.13.51-2024.08.12_18.14.51.mp4\n",
      "Video downloaded to: Marathi_mp4/0_2024.08.12_18.13.51-2024.08.12_18.14.51.mp4\n",
      "MoviePy - Writing audio in Marathi_mp3/0_2024.08.12_18.13.51-2024.08.12_18.14.51.mp3\n"
     ]
    },
    {
     "name": "stderr",
     "output_type": "stream",
     "text": [
      "                                                                                                                        \r"
     ]
    },
    {
     "name": "stdout",
     "output_type": "stream",
     "text": [
      "MoviePy - Done.\n",
      "Converted Marathi_mp4/0_2024.08.12_18.13.51-2024.08.12_18.14.51.mp4 to Marathi_mp3/0_2024.08.12_18.13.51-2024.08.12_18.14.51.mp3\n",
      "Deleted Marathi_mp4/0_2024.08.12_18.13.51-2024.08.12_18.14.51.mp4\n",
      "Preparing to download Marathi/0_2024.08.12_18.14.52-2024.08.12_18.15.52.mp4 to Marathi_mp4/0_2024.08.12_18.14.52-2024.08.12_18.15.52.mp4\n",
      "Video downloaded to: Marathi_mp4/0_2024.08.12_18.14.52-2024.08.12_18.15.52.mp4\n",
      "MoviePy - Writing audio in Marathi_mp3/0_2024.08.12_18.14.52-2024.08.12_18.15.52.mp3\n"
     ]
    },
    {
     "name": "stderr",
     "output_type": "stream",
     "text": [
      "                                                                                                                        \r"
     ]
    },
    {
     "name": "stdout",
     "output_type": "stream",
     "text": [
      "MoviePy - Done.\n",
      "Converted Marathi_mp4/0_2024.08.12_18.14.52-2024.08.12_18.15.52.mp4 to Marathi_mp3/0_2024.08.12_18.14.52-2024.08.12_18.15.52.mp3\n",
      "Deleted Marathi_mp4/0_2024.08.12_18.14.52-2024.08.12_18.15.52.mp4\n",
      "Preparing to download Marathi/0_2024.08.12_18.15.52-2024.08.12_18.16.52.mp4 to Marathi_mp4/0_2024.08.12_18.15.52-2024.08.12_18.16.52.mp4\n",
      "Video downloaded to: Marathi_mp4/0_2024.08.12_18.15.52-2024.08.12_18.16.52.mp4\n",
      "MoviePy - Writing audio in Marathi_mp3/0_2024.08.12_18.15.52-2024.08.12_18.16.52.mp3\n"
     ]
    },
    {
     "name": "stderr",
     "output_type": "stream",
     "text": [
      "                                                                                                                        \r"
     ]
    },
    {
     "name": "stdout",
     "output_type": "stream",
     "text": [
      "MoviePy - Done.\n",
      "Converted Marathi_mp4/0_2024.08.12_18.15.52-2024.08.12_18.16.52.mp4 to Marathi_mp3/0_2024.08.12_18.15.52-2024.08.12_18.16.52.mp3\n",
      "Deleted Marathi_mp4/0_2024.08.12_18.15.52-2024.08.12_18.16.52.mp4\n",
      "Preparing to download Marathi/0_2024.08.12_18.16.52-2024.08.12_18.17.52.mp4 to Marathi_mp4/0_2024.08.12_18.16.52-2024.08.12_18.17.52.mp4\n",
      "Video downloaded to: Marathi_mp4/0_2024.08.12_18.16.52-2024.08.12_18.17.52.mp4\n",
      "MoviePy - Writing audio in Marathi_mp3/0_2024.08.12_18.16.52-2024.08.12_18.17.52.mp3\n"
     ]
    },
    {
     "name": "stderr",
     "output_type": "stream",
     "text": [
      "                                                                                                                        \r"
     ]
    },
    {
     "name": "stdout",
     "output_type": "stream",
     "text": [
      "MoviePy - Done.\n",
      "Converted Marathi_mp4/0_2024.08.12_18.16.52-2024.08.12_18.17.52.mp4 to Marathi_mp3/0_2024.08.12_18.16.52-2024.08.12_18.17.52.mp3\n",
      "Deleted Marathi_mp4/0_2024.08.12_18.16.52-2024.08.12_18.17.52.mp4\n",
      "Preparing to download Marathi/0_2024.08.12_18.17.52-2024.08.12_18.18.52.mp4 to Marathi_mp4/0_2024.08.12_18.17.52-2024.08.12_18.18.52.mp4\n",
      "Video downloaded to: Marathi_mp4/0_2024.08.12_18.17.52-2024.08.12_18.18.52.mp4\n",
      "MoviePy - Writing audio in Marathi_mp3/0_2024.08.12_18.17.52-2024.08.12_18.18.52.mp3\n"
     ]
    },
    {
     "name": "stderr",
     "output_type": "stream",
     "text": [
      "                                                                                                                        \r"
     ]
    },
    {
     "name": "stdout",
     "output_type": "stream",
     "text": [
      "MoviePy - Done.\n",
      "Converted Marathi_mp4/0_2024.08.12_18.17.52-2024.08.12_18.18.52.mp4 to Marathi_mp3/0_2024.08.12_18.17.52-2024.08.12_18.18.52.mp3\n",
      "Deleted Marathi_mp4/0_2024.08.12_18.17.52-2024.08.12_18.18.52.mp4\n",
      "Preparing to download Marathi/0_2024.08.12_18.18.52-2024.08.12_18.19.52.mp4 to Marathi_mp4/0_2024.08.12_18.18.52-2024.08.12_18.19.52.mp4\n",
      "Video downloaded to: Marathi_mp4/0_2024.08.12_18.18.52-2024.08.12_18.19.52.mp4\n",
      "MoviePy - Writing audio in Marathi_mp3/0_2024.08.12_18.18.52-2024.08.12_18.19.52.mp3\n"
     ]
    },
    {
     "name": "stderr",
     "output_type": "stream",
     "text": [
      "                                                                                                                        \r"
     ]
    },
    {
     "name": "stdout",
     "output_type": "stream",
     "text": [
      "MoviePy - Done.\n",
      "Converted Marathi_mp4/0_2024.08.12_18.18.52-2024.08.12_18.19.52.mp4 to Marathi_mp3/0_2024.08.12_18.18.52-2024.08.12_18.19.52.mp3\n",
      "Deleted Marathi_mp4/0_2024.08.12_18.18.52-2024.08.12_18.19.52.mp4\n",
      "Preparing to download Marathi/0_2024.08.12_18.19.52-2024.08.12_18.20.52.mp4 to Marathi_mp4/0_2024.08.12_18.19.52-2024.08.12_18.20.52.mp4\n",
      "Video downloaded to: Marathi_mp4/0_2024.08.12_18.19.52-2024.08.12_18.20.52.mp4\n",
      "MoviePy - Writing audio in Marathi_mp3/0_2024.08.12_18.19.52-2024.08.12_18.20.52.mp3\n"
     ]
    },
    {
     "name": "stderr",
     "output_type": "stream",
     "text": [
      "                                                                                                                        \r"
     ]
    },
    {
     "name": "stdout",
     "output_type": "stream",
     "text": [
      "MoviePy - Done.\n",
      "Converted Marathi_mp4/0_2024.08.12_18.19.52-2024.08.12_18.20.52.mp4 to Marathi_mp3/0_2024.08.12_18.19.52-2024.08.12_18.20.52.mp3\n",
      "Deleted Marathi_mp4/0_2024.08.12_18.19.52-2024.08.12_18.20.52.mp4\n",
      "Preparing to download Marathi/0_2024.08.12_18.20.52-2024.08.12_18.21.52.mp4 to Marathi_mp4/0_2024.08.12_18.20.52-2024.08.12_18.21.52.mp4\n",
      "Video downloaded to: Marathi_mp4/0_2024.08.12_18.20.52-2024.08.12_18.21.52.mp4\n",
      "MoviePy - Writing audio in Marathi_mp3/0_2024.08.12_18.20.52-2024.08.12_18.21.52.mp3\n"
     ]
    },
    {
     "name": "stderr",
     "output_type": "stream",
     "text": [
      "                                                                                                                        \r"
     ]
    },
    {
     "name": "stdout",
     "output_type": "stream",
     "text": [
      "MoviePy - Done.\n",
      "Converted Marathi_mp4/0_2024.08.12_18.20.52-2024.08.12_18.21.52.mp4 to Marathi_mp3/0_2024.08.12_18.20.52-2024.08.12_18.21.52.mp3\n",
      "Deleted Marathi_mp4/0_2024.08.12_18.20.52-2024.08.12_18.21.52.mp4\n",
      "Preparing to download Marathi/0_2024.08.12_18.21.52-2024.08.12_18.22.52.mp4 to Marathi_mp4/0_2024.08.12_18.21.52-2024.08.12_18.22.52.mp4\n",
      "Video downloaded to: Marathi_mp4/0_2024.08.12_18.21.52-2024.08.12_18.22.52.mp4\n",
      "MoviePy - Writing audio in Marathi_mp3/0_2024.08.12_18.21.52-2024.08.12_18.22.52.mp3\n"
     ]
    },
    {
     "name": "stderr",
     "output_type": "stream",
     "text": [
      "                                                                                                                        \r"
     ]
    },
    {
     "name": "stdout",
     "output_type": "stream",
     "text": [
      "MoviePy - Done.\n",
      "Converted Marathi_mp4/0_2024.08.12_18.21.52-2024.08.12_18.22.52.mp4 to Marathi_mp3/0_2024.08.12_18.21.52-2024.08.12_18.22.52.mp3\n",
      "Deleted Marathi_mp4/0_2024.08.12_18.21.52-2024.08.12_18.22.52.mp4\n",
      "Preparing to download Marathi/0_2024.08.12_18.22.53-2024.08.12_18.23.53.mp4 to Marathi_mp4/0_2024.08.12_18.22.53-2024.08.12_18.23.53.mp4\n",
      "Video downloaded to: Marathi_mp4/0_2024.08.12_18.22.53-2024.08.12_18.23.53.mp4\n",
      "MoviePy - Writing audio in Marathi_mp3/0_2024.08.12_18.22.53-2024.08.12_18.23.53.mp3\n"
     ]
    },
    {
     "name": "stderr",
     "output_type": "stream",
     "text": [
      "                                                                                                                        \r"
     ]
    },
    {
     "name": "stdout",
     "output_type": "stream",
     "text": [
      "MoviePy - Done.\n",
      "Converted Marathi_mp4/0_2024.08.12_18.22.53-2024.08.12_18.23.53.mp4 to Marathi_mp3/0_2024.08.12_18.22.53-2024.08.12_18.23.53.mp3\n",
      "Deleted Marathi_mp4/0_2024.08.12_18.22.53-2024.08.12_18.23.53.mp4\n",
      "Preparing to download Marathi/0_2024.08.12_18.23.53-2024.08.12_18.24.53.mp4 to Marathi_mp4/0_2024.08.12_18.23.53-2024.08.12_18.24.53.mp4\n",
      "Video downloaded to: Marathi_mp4/0_2024.08.12_18.23.53-2024.08.12_18.24.53.mp4\n",
      "MoviePy - Writing audio in Marathi_mp3/0_2024.08.12_18.23.53-2024.08.12_18.24.53.mp3\n"
     ]
    },
    {
     "name": "stderr",
     "output_type": "stream",
     "text": [
      "                                                                                                                        \r"
     ]
    },
    {
     "name": "stdout",
     "output_type": "stream",
     "text": [
      "MoviePy - Done.\n",
      "Converted Marathi_mp4/0_2024.08.12_18.23.53-2024.08.12_18.24.53.mp4 to Marathi_mp3/0_2024.08.12_18.23.53-2024.08.12_18.24.53.mp3\n",
      "Deleted Marathi_mp4/0_2024.08.12_18.23.53-2024.08.12_18.24.53.mp4\n",
      "Preparing to download Marathi/0_2024.08.12_18.24.53-2024.08.12_18.25.53.mp4 to Marathi_mp4/0_2024.08.12_18.24.53-2024.08.12_18.25.53.mp4\n",
      "Video downloaded to: Marathi_mp4/0_2024.08.12_18.24.53-2024.08.12_18.25.53.mp4\n",
      "MoviePy - Writing audio in Marathi_mp3/0_2024.08.12_18.24.53-2024.08.12_18.25.53.mp3\n"
     ]
    },
    {
     "name": "stderr",
     "output_type": "stream",
     "text": [
      "                                                                                                                        \r"
     ]
    },
    {
     "name": "stdout",
     "output_type": "stream",
     "text": [
      "MoviePy - Done.\n",
      "Converted Marathi_mp4/0_2024.08.12_18.24.53-2024.08.12_18.25.53.mp4 to Marathi_mp3/0_2024.08.12_18.24.53-2024.08.12_18.25.53.mp3\n",
      "Deleted Marathi_mp4/0_2024.08.12_18.24.53-2024.08.12_18.25.53.mp4\n",
      "Preparing to download Marathi/0_2024.08.12_18.25.53-2024.08.12_18.26.53.mp4 to Marathi_mp4/0_2024.08.12_18.25.53-2024.08.12_18.26.53.mp4\n",
      "Video downloaded to: Marathi_mp4/0_2024.08.12_18.25.53-2024.08.12_18.26.53.mp4\n",
      "MoviePy - Writing audio in Marathi_mp3/0_2024.08.12_18.25.53-2024.08.12_18.26.53.mp3\n"
     ]
    },
    {
     "name": "stderr",
     "output_type": "stream",
     "text": [
      "                                                                                                                        \r"
     ]
    },
    {
     "name": "stdout",
     "output_type": "stream",
     "text": [
      "MoviePy - Done.\n",
      "Converted Marathi_mp4/0_2024.08.12_18.25.53-2024.08.12_18.26.53.mp4 to Marathi_mp3/0_2024.08.12_18.25.53-2024.08.12_18.26.53.mp3\n",
      "Deleted Marathi_mp4/0_2024.08.12_18.25.53-2024.08.12_18.26.53.mp4\n",
      "Preparing to download Marathi/0_2024.08.12_18.26.53-2024.08.12_18.27.53.mp4 to Marathi_mp4/0_2024.08.12_18.26.53-2024.08.12_18.27.53.mp4\n",
      "Video downloaded to: Marathi_mp4/0_2024.08.12_18.26.53-2024.08.12_18.27.53.mp4\n",
      "MoviePy - Writing audio in Marathi_mp3/0_2024.08.12_18.26.53-2024.08.12_18.27.53.mp3\n"
     ]
    },
    {
     "name": "stderr",
     "output_type": "stream",
     "text": [
      "                                                                                                                        \r"
     ]
    },
    {
     "name": "stdout",
     "output_type": "stream",
     "text": [
      "MoviePy - Done.\n",
      "Converted Marathi_mp4/0_2024.08.12_18.26.53-2024.08.12_18.27.53.mp4 to Marathi_mp3/0_2024.08.12_18.26.53-2024.08.12_18.27.53.mp3\n",
      "Deleted Marathi_mp4/0_2024.08.12_18.26.53-2024.08.12_18.27.53.mp4\n",
      "Preparing to download Marathi/0_2024.08.12_18.27.53-2024.08.12_18.28.53.mp4 to Marathi_mp4/0_2024.08.12_18.27.53-2024.08.12_18.28.53.mp4\n",
      "Video downloaded to: Marathi_mp4/0_2024.08.12_18.27.53-2024.08.12_18.28.53.mp4\n",
      "MoviePy - Writing audio in Marathi_mp3/0_2024.08.12_18.27.53-2024.08.12_18.28.53.mp3\n"
     ]
    },
    {
     "name": "stderr",
     "output_type": "stream",
     "text": [
      "                                                                                                                        \r"
     ]
    },
    {
     "name": "stdout",
     "output_type": "stream",
     "text": [
      "MoviePy - Done.\n",
      "Converted Marathi_mp4/0_2024.08.12_18.27.53-2024.08.12_18.28.53.mp4 to Marathi_mp3/0_2024.08.12_18.27.53-2024.08.12_18.28.53.mp3\n",
      "Deleted Marathi_mp4/0_2024.08.12_18.27.53-2024.08.12_18.28.53.mp4\n",
      "Preparing to download Marathi/0_2024.08.12_18.28.53-2024.08.12_18.29.53.mp4 to Marathi_mp4/0_2024.08.12_18.28.53-2024.08.12_18.29.53.mp4\n",
      "Video downloaded to: Marathi_mp4/0_2024.08.12_18.28.53-2024.08.12_18.29.53.mp4\n",
      "MoviePy - Writing audio in Marathi_mp3/0_2024.08.12_18.28.53-2024.08.12_18.29.53.mp3\n"
     ]
    },
    {
     "name": "stderr",
     "output_type": "stream",
     "text": [
      "                                                                                                                        \r"
     ]
    },
    {
     "name": "stdout",
     "output_type": "stream",
     "text": [
      "MoviePy - Done.\n",
      "Converted Marathi_mp4/0_2024.08.12_18.28.53-2024.08.12_18.29.53.mp4 to Marathi_mp3/0_2024.08.12_18.28.53-2024.08.12_18.29.53.mp3\n",
      "Deleted Marathi_mp4/0_2024.08.12_18.28.53-2024.08.12_18.29.53.mp4\n",
      "Preparing to download Marathi/0_2024.08.12_18.29.53-2024.08.12_18.30.53.mp4 to Marathi_mp4/0_2024.08.12_18.29.53-2024.08.12_18.30.53.mp4\n",
      "Video downloaded to: Marathi_mp4/0_2024.08.12_18.29.53-2024.08.12_18.30.53.mp4\n",
      "MoviePy - Writing audio in Marathi_mp3/0_2024.08.12_18.29.53-2024.08.12_18.30.53.mp3\n"
     ]
    },
    {
     "name": "stderr",
     "output_type": "stream",
     "text": [
      "                                                                                                                        \r"
     ]
    },
    {
     "name": "stdout",
     "output_type": "stream",
     "text": [
      "MoviePy - Done.\n",
      "Converted Marathi_mp4/0_2024.08.12_18.29.53-2024.08.12_18.30.53.mp4 to Marathi_mp3/0_2024.08.12_18.29.53-2024.08.12_18.30.53.mp3\n",
      "Deleted Marathi_mp4/0_2024.08.12_18.29.53-2024.08.12_18.30.53.mp4\n",
      "Preparing to download Marathi/0_2024.08.12_18.30.54-2024.08.12_18.31.54.mp4 to Marathi_mp4/0_2024.08.12_18.30.54-2024.08.12_18.31.54.mp4\n",
      "Video downloaded to: Marathi_mp4/0_2024.08.12_18.30.54-2024.08.12_18.31.54.mp4\n",
      "MoviePy - Writing audio in Marathi_mp3/0_2024.08.12_18.30.54-2024.08.12_18.31.54.mp3\n"
     ]
    },
    {
     "name": "stderr",
     "output_type": "stream",
     "text": [
      "                                                                                                                        \r"
     ]
    },
    {
     "name": "stdout",
     "output_type": "stream",
     "text": [
      "MoviePy - Done.\n",
      "Converted Marathi_mp4/0_2024.08.12_18.30.54-2024.08.12_18.31.54.mp4 to Marathi_mp3/0_2024.08.12_18.30.54-2024.08.12_18.31.54.mp3\n",
      "Deleted Marathi_mp4/0_2024.08.12_18.30.54-2024.08.12_18.31.54.mp4\n",
      "Preparing to download Marathi/0_2024.08.12_18.31.54-2024.08.12_18.32.54.mp4 to Marathi_mp4/0_2024.08.12_18.31.54-2024.08.12_18.32.54.mp4\n",
      "Video downloaded to: Marathi_mp4/0_2024.08.12_18.31.54-2024.08.12_18.32.54.mp4\n",
      "MoviePy - Writing audio in Marathi_mp3/0_2024.08.12_18.31.54-2024.08.12_18.32.54.mp3\n"
     ]
    },
    {
     "name": "stderr",
     "output_type": "stream",
     "text": [
      "                                                                                                                        \r"
     ]
    },
    {
     "name": "stdout",
     "output_type": "stream",
     "text": [
      "MoviePy - Done.\n",
      "Converted Marathi_mp4/0_2024.08.12_18.31.54-2024.08.12_18.32.54.mp4 to Marathi_mp3/0_2024.08.12_18.31.54-2024.08.12_18.32.54.mp3\n",
      "Deleted Marathi_mp4/0_2024.08.12_18.31.54-2024.08.12_18.32.54.mp4\n",
      "Preparing to download Marathi/0_2024.08.12_18.32.54-2024.08.12_18.33.54.mp4 to Marathi_mp4/0_2024.08.12_18.32.54-2024.08.12_18.33.54.mp4\n",
      "Video downloaded to: Marathi_mp4/0_2024.08.12_18.32.54-2024.08.12_18.33.54.mp4\n",
      "MoviePy - Writing audio in Marathi_mp3/0_2024.08.12_18.32.54-2024.08.12_18.33.54.mp3\n"
     ]
    },
    {
     "name": "stderr",
     "output_type": "stream",
     "text": [
      "                                                                                                                        \r"
     ]
    },
    {
     "name": "stdout",
     "output_type": "stream",
     "text": [
      "MoviePy - Done.\n",
      "Converted Marathi_mp4/0_2024.08.12_18.32.54-2024.08.12_18.33.54.mp4 to Marathi_mp3/0_2024.08.12_18.32.54-2024.08.12_18.33.54.mp3\n",
      "Deleted Marathi_mp4/0_2024.08.12_18.32.54-2024.08.12_18.33.54.mp4\n",
      "Preparing to download Marathi/0_2024.08.12_18.33.54-2024.08.12_18.34.54.mp4 to Marathi_mp4/0_2024.08.12_18.33.54-2024.08.12_18.34.54.mp4\n",
      "Video downloaded to: Marathi_mp4/0_2024.08.12_18.33.54-2024.08.12_18.34.54.mp4\n",
      "MoviePy - Writing audio in Marathi_mp3/0_2024.08.12_18.33.54-2024.08.12_18.34.54.mp3\n"
     ]
    },
    {
     "name": "stderr",
     "output_type": "stream",
     "text": [
      "                                                                                                                        \r"
     ]
    },
    {
     "name": "stdout",
     "output_type": "stream",
     "text": [
      "MoviePy - Done.\n",
      "Converted Marathi_mp4/0_2024.08.12_18.33.54-2024.08.12_18.34.54.mp4 to Marathi_mp3/0_2024.08.12_18.33.54-2024.08.12_18.34.54.mp3\n",
      "Deleted Marathi_mp4/0_2024.08.12_18.33.54-2024.08.12_18.34.54.mp4\n",
      "Preparing to download Marathi/0_2024.08.12_18.34.54-2024.08.12_18.35.54.mp4 to Marathi_mp4/0_2024.08.12_18.34.54-2024.08.12_18.35.54.mp4\n",
      "Video downloaded to: Marathi_mp4/0_2024.08.12_18.34.54-2024.08.12_18.35.54.mp4\n",
      "MoviePy - Writing audio in Marathi_mp3/0_2024.08.12_18.34.54-2024.08.12_18.35.54.mp3\n"
     ]
    },
    {
     "name": "stderr",
     "output_type": "stream",
     "text": [
      "                                                                                                                        \r"
     ]
    },
    {
     "name": "stdout",
     "output_type": "stream",
     "text": [
      "MoviePy - Done.\n",
      "Converted Marathi_mp4/0_2024.08.12_18.34.54-2024.08.12_18.35.54.mp4 to Marathi_mp3/0_2024.08.12_18.34.54-2024.08.12_18.35.54.mp3\n",
      "Deleted Marathi_mp4/0_2024.08.12_18.34.54-2024.08.12_18.35.54.mp4\n",
      "Preparing to download Marathi/0_2024.08.12_18.35.54-2024.08.12_18.36.54.mp4 to Marathi_mp4/0_2024.08.12_18.35.54-2024.08.12_18.36.54.mp4\n",
      "Video downloaded to: Marathi_mp4/0_2024.08.12_18.35.54-2024.08.12_18.36.54.mp4\n",
      "MoviePy - Writing audio in Marathi_mp3/0_2024.08.12_18.35.54-2024.08.12_18.36.54.mp3\n"
     ]
    },
    {
     "name": "stderr",
     "output_type": "stream",
     "text": [
      "                                                                                                                        \r"
     ]
    },
    {
     "name": "stdout",
     "output_type": "stream",
     "text": [
      "MoviePy - Done.\n",
      "Converted Marathi_mp4/0_2024.08.12_18.35.54-2024.08.12_18.36.54.mp4 to Marathi_mp3/0_2024.08.12_18.35.54-2024.08.12_18.36.54.mp3\n",
      "Deleted Marathi_mp4/0_2024.08.12_18.35.54-2024.08.12_18.36.54.mp4\n",
      "Preparing to download Marathi/0_2024.08.12_18.36.54-2024.08.12_18.37.54.mp4 to Marathi_mp4/0_2024.08.12_18.36.54-2024.08.12_18.37.54.mp4\n",
      "Video downloaded to: Marathi_mp4/0_2024.08.12_18.36.54-2024.08.12_18.37.54.mp4\n",
      "MoviePy - Writing audio in Marathi_mp3/0_2024.08.12_18.36.54-2024.08.12_18.37.54.mp3\n"
     ]
    },
    {
     "name": "stderr",
     "output_type": "stream",
     "text": [
      "                                                                                                                        \r"
     ]
    },
    {
     "name": "stdout",
     "output_type": "stream",
     "text": [
      "MoviePy - Done.\n",
      "Converted Marathi_mp4/0_2024.08.12_18.36.54-2024.08.12_18.37.54.mp4 to Marathi_mp3/0_2024.08.12_18.36.54-2024.08.12_18.37.54.mp3\n",
      "Deleted Marathi_mp4/0_2024.08.12_18.36.54-2024.08.12_18.37.54.mp4\n",
      "Preparing to download Marathi/0_2024.08.12_18.37.54-2024.08.12_18.38.54.mp4 to Marathi_mp4/0_2024.08.12_18.37.54-2024.08.12_18.38.54.mp4\n",
      "Video downloaded to: Marathi_mp4/0_2024.08.12_18.37.54-2024.08.12_18.38.54.mp4\n",
      "MoviePy - Writing audio in Marathi_mp3/0_2024.08.12_18.37.54-2024.08.12_18.38.54.mp3\n"
     ]
    },
    {
     "name": "stderr",
     "output_type": "stream",
     "text": [
      "                                                                                                                        \r"
     ]
    },
    {
     "name": "stdout",
     "output_type": "stream",
     "text": [
      "MoviePy - Done.\n",
      "Converted Marathi_mp4/0_2024.08.12_18.37.54-2024.08.12_18.38.54.mp4 to Marathi_mp3/0_2024.08.12_18.37.54-2024.08.12_18.38.54.mp3\n",
      "Deleted Marathi_mp4/0_2024.08.12_18.37.54-2024.08.12_18.38.54.mp4\n",
      "Preparing to download Marathi/0_2024.08.12_18.38.54-2024.08.12_18.39.54.mp4 to Marathi_mp4/0_2024.08.12_18.38.54-2024.08.12_18.39.54.mp4\n",
      "Video downloaded to: Marathi_mp4/0_2024.08.12_18.38.54-2024.08.12_18.39.54.mp4\n",
      "MoviePy - Writing audio in Marathi_mp3/0_2024.08.12_18.38.54-2024.08.12_18.39.54.mp3\n"
     ]
    },
    {
     "name": "stderr",
     "output_type": "stream",
     "text": [
      "                                                                                                                        \r"
     ]
    },
    {
     "name": "stdout",
     "output_type": "stream",
     "text": [
      "MoviePy - Done.\n",
      "Converted Marathi_mp4/0_2024.08.12_18.38.54-2024.08.12_18.39.54.mp4 to Marathi_mp3/0_2024.08.12_18.38.54-2024.08.12_18.39.54.mp3\n",
      "Deleted Marathi_mp4/0_2024.08.12_18.38.54-2024.08.12_18.39.54.mp4\n",
      "Preparing to download Marathi/0_2024.08.12_18.39.55-2024.08.12_18.40.55.mp4 to Marathi_mp4/0_2024.08.12_18.39.55-2024.08.12_18.40.55.mp4\n",
      "Video downloaded to: Marathi_mp4/0_2024.08.12_18.39.55-2024.08.12_18.40.55.mp4\n",
      "MoviePy - Writing audio in Marathi_mp3/0_2024.08.12_18.39.55-2024.08.12_18.40.55.mp3\n"
     ]
    },
    {
     "name": "stderr",
     "output_type": "stream",
     "text": [
      "                                                                                                                        \r"
     ]
    },
    {
     "name": "stdout",
     "output_type": "stream",
     "text": [
      "MoviePy - Done.\n",
      "Converted Marathi_mp4/0_2024.08.12_18.39.55-2024.08.12_18.40.55.mp4 to Marathi_mp3/0_2024.08.12_18.39.55-2024.08.12_18.40.55.mp3\n",
      "Deleted Marathi_mp4/0_2024.08.12_18.39.55-2024.08.12_18.40.55.mp4\n",
      "Preparing to download Marathi/0_2024.08.12_18.40.55-2024.08.12_18.41.55.mp4 to Marathi_mp4/0_2024.08.12_18.40.55-2024.08.12_18.41.55.mp4\n",
      "Video downloaded to: Marathi_mp4/0_2024.08.12_18.40.55-2024.08.12_18.41.55.mp4\n",
      "MoviePy - Writing audio in Marathi_mp3/0_2024.08.12_18.40.55-2024.08.12_18.41.55.mp3\n"
     ]
    },
    {
     "name": "stderr",
     "output_type": "stream",
     "text": [
      "                                                                                                                        \r"
     ]
    },
    {
     "name": "stdout",
     "output_type": "stream",
     "text": [
      "MoviePy - Done.\n",
      "Converted Marathi_mp4/0_2024.08.12_18.40.55-2024.08.12_18.41.55.mp4 to Marathi_mp3/0_2024.08.12_18.40.55-2024.08.12_18.41.55.mp3\n",
      "Deleted Marathi_mp4/0_2024.08.12_18.40.55-2024.08.12_18.41.55.mp4\n",
      "Preparing to download Marathi/0_2024.08.12_18.41.55-2024.08.12_18.42.55.mp4 to Marathi_mp4/0_2024.08.12_18.41.55-2024.08.12_18.42.55.mp4\n",
      "Video downloaded to: Marathi_mp4/0_2024.08.12_18.41.55-2024.08.12_18.42.55.mp4\n",
      "MoviePy - Writing audio in Marathi_mp3/0_2024.08.12_18.41.55-2024.08.12_18.42.55.mp3\n"
     ]
    },
    {
     "name": "stderr",
     "output_type": "stream",
     "text": [
      "                                                                                                                        \r"
     ]
    },
    {
     "name": "stdout",
     "output_type": "stream",
     "text": [
      "MoviePy - Done.\n",
      "Converted Marathi_mp4/0_2024.08.12_18.41.55-2024.08.12_18.42.55.mp4 to Marathi_mp3/0_2024.08.12_18.41.55-2024.08.12_18.42.55.mp3\n",
      "Deleted Marathi_mp4/0_2024.08.12_18.41.55-2024.08.12_18.42.55.mp4\n",
      "Preparing to download Marathi/0_2024.08.12_18.42.55-2024.08.12_18.43.55.mp4 to Marathi_mp4/0_2024.08.12_18.42.55-2024.08.12_18.43.55.mp4\n",
      "Video downloaded to: Marathi_mp4/0_2024.08.12_18.42.55-2024.08.12_18.43.55.mp4\n",
      "MoviePy - Writing audio in Marathi_mp3/0_2024.08.12_18.42.55-2024.08.12_18.43.55.mp3\n"
     ]
    },
    {
     "name": "stderr",
     "output_type": "stream",
     "text": [
      "                                                                                                                        \r"
     ]
    },
    {
     "name": "stdout",
     "output_type": "stream",
     "text": [
      "MoviePy - Done.\n",
      "Converted Marathi_mp4/0_2024.08.12_18.42.55-2024.08.12_18.43.55.mp4 to Marathi_mp3/0_2024.08.12_18.42.55-2024.08.12_18.43.55.mp3\n",
      "Deleted Marathi_mp4/0_2024.08.12_18.42.55-2024.08.12_18.43.55.mp4\n",
      "Preparing to download Marathi/0_2024.08.12_18.43.55-2024.08.12_18.44.55.mp4 to Marathi_mp4/0_2024.08.12_18.43.55-2024.08.12_18.44.55.mp4\n",
      "Video downloaded to: Marathi_mp4/0_2024.08.12_18.43.55-2024.08.12_18.44.55.mp4\n",
      "MoviePy - Writing audio in Marathi_mp3/0_2024.08.12_18.43.55-2024.08.12_18.44.55.mp3\n"
     ]
    },
    {
     "name": "stderr",
     "output_type": "stream",
     "text": [
      "                                                                                                                        \r"
     ]
    },
    {
     "name": "stdout",
     "output_type": "stream",
     "text": [
      "MoviePy - Done.\n",
      "Converted Marathi_mp4/0_2024.08.12_18.43.55-2024.08.12_18.44.55.mp4 to Marathi_mp3/0_2024.08.12_18.43.55-2024.08.12_18.44.55.mp3\n",
      "Deleted Marathi_mp4/0_2024.08.12_18.43.55-2024.08.12_18.44.55.mp4\n",
      "Preparing to download Marathi/0_2024.08.12_18.44.55-2024.08.12_18.45.55.mp4 to Marathi_mp4/0_2024.08.12_18.44.55-2024.08.12_18.45.55.mp4\n",
      "Video downloaded to: Marathi_mp4/0_2024.08.12_18.44.55-2024.08.12_18.45.55.mp4\n",
      "MoviePy - Writing audio in Marathi_mp3/0_2024.08.12_18.44.55-2024.08.12_18.45.55.mp3\n"
     ]
    },
    {
     "name": "stderr",
     "output_type": "stream",
     "text": [
      "                                                                                                                        \r"
     ]
    },
    {
     "name": "stdout",
     "output_type": "stream",
     "text": [
      "MoviePy - Done.\n",
      "Converted Marathi_mp4/0_2024.08.12_18.44.55-2024.08.12_18.45.55.mp4 to Marathi_mp3/0_2024.08.12_18.44.55-2024.08.12_18.45.55.mp3\n",
      "Deleted Marathi_mp4/0_2024.08.12_18.44.55-2024.08.12_18.45.55.mp4\n",
      "Preparing to download Marathi/0_2024.08.12_18.45.55-2024.08.12_18.46.55.mp4 to Marathi_mp4/0_2024.08.12_18.45.55-2024.08.12_18.46.55.mp4\n",
      "Video downloaded to: Marathi_mp4/0_2024.08.12_18.45.55-2024.08.12_18.46.55.mp4\n",
      "MoviePy - Writing audio in Marathi_mp3/0_2024.08.12_18.45.55-2024.08.12_18.46.55.mp3\n"
     ]
    },
    {
     "name": "stderr",
     "output_type": "stream",
     "text": [
      "                                                                                                                        \r"
     ]
    },
    {
     "name": "stdout",
     "output_type": "stream",
     "text": [
      "MoviePy - Done.\n",
      "Converted Marathi_mp4/0_2024.08.12_18.45.55-2024.08.12_18.46.55.mp4 to Marathi_mp3/0_2024.08.12_18.45.55-2024.08.12_18.46.55.mp3\n",
      "Deleted Marathi_mp4/0_2024.08.12_18.45.55-2024.08.12_18.46.55.mp4\n",
      "Preparing to download Marathi/0_2024.08.12_18.46.55-2024.08.12_18.47.55.mp4 to Marathi_mp4/0_2024.08.12_18.46.55-2024.08.12_18.47.55.mp4\n",
      "Video downloaded to: Marathi_mp4/0_2024.08.12_18.46.55-2024.08.12_18.47.55.mp4\n",
      "MoviePy - Writing audio in Marathi_mp3/0_2024.08.12_18.46.55-2024.08.12_18.47.55.mp3\n"
     ]
    },
    {
     "name": "stderr",
     "output_type": "stream",
     "text": [
      "                                                                                                                        \r"
     ]
    },
    {
     "name": "stdout",
     "output_type": "stream",
     "text": [
      "MoviePy - Done.\n",
      "Converted Marathi_mp4/0_2024.08.12_18.46.55-2024.08.12_18.47.55.mp4 to Marathi_mp3/0_2024.08.12_18.46.55-2024.08.12_18.47.55.mp3\n",
      "Deleted Marathi_mp4/0_2024.08.12_18.46.55-2024.08.12_18.47.55.mp4\n",
      "Preparing to download Marathi/0_2024.08.12_18.47.55-2024.08.12_18.48.55.mp4 to Marathi_mp4/0_2024.08.12_18.47.55-2024.08.12_18.48.55.mp4\n",
      "Video downloaded to: Marathi_mp4/0_2024.08.12_18.47.55-2024.08.12_18.48.55.mp4\n",
      "MoviePy - Writing audio in Marathi_mp3/0_2024.08.12_18.47.55-2024.08.12_18.48.55.mp3\n"
     ]
    },
    {
     "name": "stderr",
     "output_type": "stream",
     "text": [
      "                                                                                                                        \r"
     ]
    },
    {
     "name": "stdout",
     "output_type": "stream",
     "text": [
      "MoviePy - Done.\n",
      "Converted Marathi_mp4/0_2024.08.12_18.47.55-2024.08.12_18.48.55.mp4 to Marathi_mp3/0_2024.08.12_18.47.55-2024.08.12_18.48.55.mp3\n",
      "Deleted Marathi_mp4/0_2024.08.12_18.47.55-2024.08.12_18.48.55.mp4\n",
      "Preparing to download Marathi/0_2024.08.12_18.48.56-2024.08.12_18.49.56.mp4 to Marathi_mp4/0_2024.08.12_18.48.56-2024.08.12_18.49.56.mp4\n",
      "Video downloaded to: Marathi_mp4/0_2024.08.12_18.48.56-2024.08.12_18.49.56.mp4\n",
      "MoviePy - Writing audio in Marathi_mp3/0_2024.08.12_18.48.56-2024.08.12_18.49.56.mp3\n"
     ]
    },
    {
     "name": "stderr",
     "output_type": "stream",
     "text": [
      "                                                                                                                        \r"
     ]
    },
    {
     "name": "stdout",
     "output_type": "stream",
     "text": [
      "MoviePy - Done.\n",
      "Converted Marathi_mp4/0_2024.08.12_18.48.56-2024.08.12_18.49.56.mp4 to Marathi_mp3/0_2024.08.12_18.48.56-2024.08.12_18.49.56.mp3\n",
      "Deleted Marathi_mp4/0_2024.08.12_18.48.56-2024.08.12_18.49.56.mp4\n",
      "Preparing to download Marathi/0_2024.08.12_18.49.56-2024.08.12_18.50.56.mp4 to Marathi_mp4/0_2024.08.12_18.49.56-2024.08.12_18.50.56.mp4\n",
      "Video downloaded to: Marathi_mp4/0_2024.08.12_18.49.56-2024.08.12_18.50.56.mp4\n",
      "MoviePy - Writing audio in Marathi_mp3/0_2024.08.12_18.49.56-2024.08.12_18.50.56.mp3\n"
     ]
    },
    {
     "name": "stderr",
     "output_type": "stream",
     "text": [
      "                                                                                                                        \r"
     ]
    },
    {
     "name": "stdout",
     "output_type": "stream",
     "text": [
      "MoviePy - Done.\n",
      "Converted Marathi_mp4/0_2024.08.12_18.49.56-2024.08.12_18.50.56.mp4 to Marathi_mp3/0_2024.08.12_18.49.56-2024.08.12_18.50.56.mp3\n",
      "Deleted Marathi_mp4/0_2024.08.12_18.49.56-2024.08.12_18.50.56.mp4\n",
      "Preparing to download Marathi/0_2024.08.12_18.50.56-2024.08.12_18.51.56.mp4 to Marathi_mp4/0_2024.08.12_18.50.56-2024.08.12_18.51.56.mp4\n",
      "Video downloaded to: Marathi_mp4/0_2024.08.12_18.50.56-2024.08.12_18.51.56.mp4\n",
      "MoviePy - Writing audio in Marathi_mp3/0_2024.08.12_18.50.56-2024.08.12_18.51.56.mp3\n"
     ]
    },
    {
     "name": "stderr",
     "output_type": "stream",
     "text": [
      "                                                                                                                        \r"
     ]
    },
    {
     "name": "stdout",
     "output_type": "stream",
     "text": [
      "MoviePy - Done.\n",
      "Converted Marathi_mp4/0_2024.08.12_18.50.56-2024.08.12_18.51.56.mp4 to Marathi_mp3/0_2024.08.12_18.50.56-2024.08.12_18.51.56.mp3\n",
      "Deleted Marathi_mp4/0_2024.08.12_18.50.56-2024.08.12_18.51.56.mp4\n",
      "Preparing to download Marathi/0_2024.08.12_18.51.56-2024.08.12_18.52.56.mp4 to Marathi_mp4/0_2024.08.12_18.51.56-2024.08.12_18.52.56.mp4\n",
      "Video downloaded to: Marathi_mp4/0_2024.08.12_18.51.56-2024.08.12_18.52.56.mp4\n",
      "MoviePy - Writing audio in Marathi_mp3/0_2024.08.12_18.51.56-2024.08.12_18.52.56.mp3\n"
     ]
    },
    {
     "name": "stderr",
     "output_type": "stream",
     "text": [
      "                                                                                                                        \r"
     ]
    },
    {
     "name": "stdout",
     "output_type": "stream",
     "text": [
      "MoviePy - Done.\n",
      "Converted Marathi_mp4/0_2024.08.12_18.51.56-2024.08.12_18.52.56.mp4 to Marathi_mp3/0_2024.08.12_18.51.56-2024.08.12_18.52.56.mp3\n",
      "Deleted Marathi_mp4/0_2024.08.12_18.51.56-2024.08.12_18.52.56.mp4\n",
      "Preparing to download Marathi/0_2024.08.12_18.52.56-2024.08.12_18.53.56.mp4 to Marathi_mp4/0_2024.08.12_18.52.56-2024.08.12_18.53.56.mp4\n",
      "Video downloaded to: Marathi_mp4/0_2024.08.12_18.52.56-2024.08.12_18.53.56.mp4\n",
      "MoviePy - Writing audio in Marathi_mp3/0_2024.08.12_18.52.56-2024.08.12_18.53.56.mp3\n"
     ]
    },
    {
     "name": "stderr",
     "output_type": "stream",
     "text": [
      "                                                                                                                        \r"
     ]
    },
    {
     "name": "stdout",
     "output_type": "stream",
     "text": [
      "MoviePy - Done.\n",
      "Converted Marathi_mp4/0_2024.08.12_18.52.56-2024.08.12_18.53.56.mp4 to Marathi_mp3/0_2024.08.12_18.52.56-2024.08.12_18.53.56.mp3\n",
      "Deleted Marathi_mp4/0_2024.08.12_18.52.56-2024.08.12_18.53.56.mp4\n",
      "Preparing to download Marathi/0_2024.08.12_18.53.56-2024.08.12_18.54.56.mp4 to Marathi_mp4/0_2024.08.12_18.53.56-2024.08.12_18.54.56.mp4\n",
      "Video downloaded to: Marathi_mp4/0_2024.08.12_18.53.56-2024.08.12_18.54.56.mp4\n",
      "MoviePy - Writing audio in Marathi_mp3/0_2024.08.12_18.53.56-2024.08.12_18.54.56.mp3\n"
     ]
    },
    {
     "name": "stderr",
     "output_type": "stream",
     "text": [
      "                                                                                                                        \r"
     ]
    },
    {
     "name": "stdout",
     "output_type": "stream",
     "text": [
      "MoviePy - Done.\n",
      "Converted Marathi_mp4/0_2024.08.12_18.53.56-2024.08.12_18.54.56.mp4 to Marathi_mp3/0_2024.08.12_18.53.56-2024.08.12_18.54.56.mp3\n",
      "Deleted Marathi_mp4/0_2024.08.12_18.53.56-2024.08.12_18.54.56.mp4\n",
      "Preparing to download Marathi/0_2024.08.12_18.54.56-2024.08.12_18.55.56.mp4 to Marathi_mp4/0_2024.08.12_18.54.56-2024.08.12_18.55.56.mp4\n",
      "Video downloaded to: Marathi_mp4/0_2024.08.12_18.54.56-2024.08.12_18.55.56.mp4\n",
      "MoviePy - Writing audio in Marathi_mp3/0_2024.08.12_18.54.56-2024.08.12_18.55.56.mp3\n"
     ]
    },
    {
     "name": "stderr",
     "output_type": "stream",
     "text": [
      "                                                                                                                        \r"
     ]
    },
    {
     "name": "stdout",
     "output_type": "stream",
     "text": [
      "MoviePy - Done.\n",
      "Converted Marathi_mp4/0_2024.08.12_18.54.56-2024.08.12_18.55.56.mp4 to Marathi_mp3/0_2024.08.12_18.54.56-2024.08.12_18.55.56.mp3\n",
      "Deleted Marathi_mp4/0_2024.08.12_18.54.56-2024.08.12_18.55.56.mp4\n",
      "Preparing to download Marathi/0_2024.08.12_18.55.56-2024.08.12_18.56.56.mp4 to Marathi_mp4/0_2024.08.12_18.55.56-2024.08.12_18.56.56.mp4\n",
      "Video downloaded to: Marathi_mp4/0_2024.08.12_18.55.56-2024.08.12_18.56.56.mp4\n",
      "MoviePy - Writing audio in Marathi_mp3/0_2024.08.12_18.55.56-2024.08.12_18.56.56.mp3\n"
     ]
    },
    {
     "name": "stderr",
     "output_type": "stream",
     "text": [
      "                                                                                                                        \r"
     ]
    },
    {
     "name": "stdout",
     "output_type": "stream",
     "text": [
      "MoviePy - Done.\n",
      "Converted Marathi_mp4/0_2024.08.12_18.55.56-2024.08.12_18.56.56.mp4 to Marathi_mp3/0_2024.08.12_18.55.56-2024.08.12_18.56.56.mp3\n",
      "Deleted Marathi_mp4/0_2024.08.12_18.55.56-2024.08.12_18.56.56.mp4\n",
      "Preparing to download Marathi/0_2024.08.12_18.56.57-2024.08.12_18.57.57.mp4 to Marathi_mp4/0_2024.08.12_18.56.57-2024.08.12_18.57.57.mp4\n",
      "Video downloaded to: Marathi_mp4/0_2024.08.12_18.56.57-2024.08.12_18.57.57.mp4\n",
      "MoviePy - Writing audio in Marathi_mp3/0_2024.08.12_18.56.57-2024.08.12_18.57.57.mp3\n"
     ]
    },
    {
     "name": "stderr",
     "output_type": "stream",
     "text": [
      "                                                                                                                        \r"
     ]
    },
    {
     "name": "stdout",
     "output_type": "stream",
     "text": [
      "MoviePy - Done.\n",
      "Converted Marathi_mp4/0_2024.08.12_18.56.57-2024.08.12_18.57.57.mp4 to Marathi_mp3/0_2024.08.12_18.56.57-2024.08.12_18.57.57.mp3\n",
      "Deleted Marathi_mp4/0_2024.08.12_18.56.57-2024.08.12_18.57.57.mp4\n",
      "Preparing to download Marathi/0_2024.08.12_18.57.57-2024.08.12_18.58.57.mp4 to Marathi_mp4/0_2024.08.12_18.57.57-2024.08.12_18.58.57.mp4\n",
      "Video downloaded to: Marathi_mp4/0_2024.08.12_18.57.57-2024.08.12_18.58.57.mp4\n",
      "MoviePy - Writing audio in Marathi_mp3/0_2024.08.12_18.57.57-2024.08.12_18.58.57.mp3\n"
     ]
    },
    {
     "name": "stderr",
     "output_type": "stream",
     "text": [
      "                                                                                                                        \r"
     ]
    },
    {
     "name": "stdout",
     "output_type": "stream",
     "text": [
      "MoviePy - Done.\n",
      "Converted Marathi_mp4/0_2024.08.12_18.57.57-2024.08.12_18.58.57.mp4 to Marathi_mp3/0_2024.08.12_18.57.57-2024.08.12_18.58.57.mp3\n",
      "Deleted Marathi_mp4/0_2024.08.12_18.57.57-2024.08.12_18.58.57.mp4\n",
      "Preparing to download Marathi/0_2024.08.12_18.58.57-2024.08.12_18.59.57.mp4 to Marathi_mp4/0_2024.08.12_18.58.57-2024.08.12_18.59.57.mp4\n",
      "Video downloaded to: Marathi_mp4/0_2024.08.12_18.58.57-2024.08.12_18.59.57.mp4\n",
      "MoviePy - Writing audio in Marathi_mp3/0_2024.08.12_18.58.57-2024.08.12_18.59.57.mp3\n"
     ]
    },
    {
     "name": "stderr",
     "output_type": "stream",
     "text": [
      "                                                                                                                        \r"
     ]
    },
    {
     "name": "stdout",
     "output_type": "stream",
     "text": [
      "MoviePy - Done.\n",
      "Converted Marathi_mp4/0_2024.08.12_18.58.57-2024.08.12_18.59.57.mp4 to Marathi_mp3/0_2024.08.12_18.58.57-2024.08.12_18.59.57.mp3\n",
      "Deleted Marathi_mp4/0_2024.08.12_18.58.57-2024.08.12_18.59.57.mp4\n",
      "Preparing to download Marathi/0_2024.08.12_18.59.57-2024.08.12_19.00.57.mp4 to Marathi_mp4/0_2024.08.12_18.59.57-2024.08.12_19.00.57.mp4\n",
      "Video downloaded to: Marathi_mp4/0_2024.08.12_18.59.57-2024.08.12_19.00.57.mp4\n",
      "MoviePy - Writing audio in Marathi_mp3/0_2024.08.12_18.59.57-2024.08.12_19.00.57.mp3\n"
     ]
    },
    {
     "name": "stderr",
     "output_type": "stream",
     "text": [
      "                                                                                                                        \r"
     ]
    },
    {
     "name": "stdout",
     "output_type": "stream",
     "text": [
      "MoviePy - Done.\n",
      "Converted Marathi_mp4/0_2024.08.12_18.59.57-2024.08.12_19.00.57.mp4 to Marathi_mp3/0_2024.08.12_18.59.57-2024.08.12_19.00.57.mp3\n",
      "Deleted Marathi_mp4/0_2024.08.12_18.59.57-2024.08.12_19.00.57.mp4\n",
      "Preparing to download Marathi/0_2024.08.12_19.00.57-2024.08.12_19.01.57.mp4 to Marathi_mp4/0_2024.08.12_19.00.57-2024.08.12_19.01.57.mp4\n",
      "Video downloaded to: Marathi_mp4/0_2024.08.12_19.00.57-2024.08.12_19.01.57.mp4\n",
      "MoviePy - Writing audio in Marathi_mp3/0_2024.08.12_19.00.57-2024.08.12_19.01.57.mp3\n"
     ]
    },
    {
     "name": "stderr",
     "output_type": "stream",
     "text": [
      "                                                                                                                        \r"
     ]
    },
    {
     "name": "stdout",
     "output_type": "stream",
     "text": [
      "MoviePy - Done.\n",
      "Converted Marathi_mp4/0_2024.08.12_19.00.57-2024.08.12_19.01.57.mp4 to Marathi_mp3/0_2024.08.12_19.00.57-2024.08.12_19.01.57.mp3\n",
      "Deleted Marathi_mp4/0_2024.08.12_19.00.57-2024.08.12_19.01.57.mp4\n",
      "Preparing to download Marathi/0_2024.08.12_19.01.57-2024.08.12_19.02.57.mp4 to Marathi_mp4/0_2024.08.12_19.01.57-2024.08.12_19.02.57.mp4\n",
      "Video downloaded to: Marathi_mp4/0_2024.08.12_19.01.57-2024.08.12_19.02.57.mp4\n",
      "MoviePy - Writing audio in Marathi_mp3/0_2024.08.12_19.01.57-2024.08.12_19.02.57.mp3\n"
     ]
    },
    {
     "name": "stderr",
     "output_type": "stream",
     "text": [
      "                                                                                                                        \r"
     ]
    },
    {
     "name": "stdout",
     "output_type": "stream",
     "text": [
      "MoviePy - Done.\n",
      "Converted Marathi_mp4/0_2024.08.12_19.01.57-2024.08.12_19.02.57.mp4 to Marathi_mp3/0_2024.08.12_19.01.57-2024.08.12_19.02.57.mp3\n",
      "Deleted Marathi_mp4/0_2024.08.12_19.01.57-2024.08.12_19.02.57.mp4\n",
      "Preparing to download Marathi/0_2024.08.12_19.02.57-2024.08.12_19.03.57.mp4 to Marathi_mp4/0_2024.08.12_19.02.57-2024.08.12_19.03.57.mp4\n",
      "Video downloaded to: Marathi_mp4/0_2024.08.12_19.02.57-2024.08.12_19.03.57.mp4\n",
      "MoviePy - Writing audio in Marathi_mp3/0_2024.08.12_19.02.57-2024.08.12_19.03.57.mp3\n"
     ]
    },
    {
     "name": "stderr",
     "output_type": "stream",
     "text": [
      "                                                                                                                        \r"
     ]
    },
    {
     "name": "stdout",
     "output_type": "stream",
     "text": [
      "MoviePy - Done.\n",
      "Converted Marathi_mp4/0_2024.08.12_19.02.57-2024.08.12_19.03.57.mp4 to Marathi_mp3/0_2024.08.12_19.02.57-2024.08.12_19.03.57.mp3\n",
      "Deleted Marathi_mp4/0_2024.08.12_19.02.57-2024.08.12_19.03.57.mp4\n",
      "Preparing to download Marathi/0_2024.08.12_19.03.57-2024.08.12_19.04.57.mp4 to Marathi_mp4/0_2024.08.12_19.03.57-2024.08.12_19.04.57.mp4\n",
      "Video downloaded to: Marathi_mp4/0_2024.08.12_19.03.57-2024.08.12_19.04.57.mp4\n",
      "MoviePy - Writing audio in Marathi_mp3/0_2024.08.12_19.03.57-2024.08.12_19.04.57.mp3\n"
     ]
    },
    {
     "name": "stderr",
     "output_type": "stream",
     "text": [
      "                                                                                                                        \r"
     ]
    },
    {
     "name": "stdout",
     "output_type": "stream",
     "text": [
      "MoviePy - Done.\n",
      "Converted Marathi_mp4/0_2024.08.12_19.03.57-2024.08.12_19.04.57.mp4 to Marathi_mp3/0_2024.08.12_19.03.57-2024.08.12_19.04.57.mp3\n",
      "Deleted Marathi_mp4/0_2024.08.12_19.03.57-2024.08.12_19.04.57.mp4\n",
      "Preparing to download Marathi/0_2024.08.12_19.04.58-2024.08.12_19.05.58.mp4 to Marathi_mp4/0_2024.08.12_19.04.58-2024.08.12_19.05.58.mp4\n",
      "Video downloaded to: Marathi_mp4/0_2024.08.12_19.04.58-2024.08.12_19.05.58.mp4\n",
      "MoviePy - Writing audio in Marathi_mp3/0_2024.08.12_19.04.58-2024.08.12_19.05.58.mp3\n"
     ]
    },
    {
     "name": "stderr",
     "output_type": "stream",
     "text": [
      "                                                                                                                        \r"
     ]
    },
    {
     "name": "stdout",
     "output_type": "stream",
     "text": [
      "MoviePy - Done.\n",
      "Converted Marathi_mp4/0_2024.08.12_19.04.58-2024.08.12_19.05.58.mp4 to Marathi_mp3/0_2024.08.12_19.04.58-2024.08.12_19.05.58.mp3\n",
      "Deleted Marathi_mp4/0_2024.08.12_19.04.58-2024.08.12_19.05.58.mp4\n",
      "Preparing to download Marathi/0_2024.08.12_19.05.58-2024.08.12_19.06.58.mp4 to Marathi_mp4/0_2024.08.12_19.05.58-2024.08.12_19.06.58.mp4\n",
      "Video downloaded to: Marathi_mp4/0_2024.08.12_19.05.58-2024.08.12_19.06.58.mp4\n",
      "MoviePy - Writing audio in Marathi_mp3/0_2024.08.12_19.05.58-2024.08.12_19.06.58.mp3\n"
     ]
    },
    {
     "name": "stderr",
     "output_type": "stream",
     "text": [
      "                                                                                                                        \r"
     ]
    },
    {
     "name": "stdout",
     "output_type": "stream",
     "text": [
      "MoviePy - Done.\n",
      "Converted Marathi_mp4/0_2024.08.12_19.05.58-2024.08.12_19.06.58.mp4 to Marathi_mp3/0_2024.08.12_19.05.58-2024.08.12_19.06.58.mp3\n",
      "Deleted Marathi_mp4/0_2024.08.12_19.05.58-2024.08.12_19.06.58.mp4\n",
      "Preparing to download Marathi/0_2024.08.12_19.06.58-2024.08.12_19.07.58.mp4 to Marathi_mp4/0_2024.08.12_19.06.58-2024.08.12_19.07.58.mp4\n",
      "Video downloaded to: Marathi_mp4/0_2024.08.12_19.06.58-2024.08.12_19.07.58.mp4\n",
      "MoviePy - Writing audio in Marathi_mp3/0_2024.08.12_19.06.58-2024.08.12_19.07.58.mp3\n"
     ]
    },
    {
     "name": "stderr",
     "output_type": "stream",
     "text": [
      "                                                                                                                        \r"
     ]
    },
    {
     "name": "stdout",
     "output_type": "stream",
     "text": [
      "MoviePy - Done.\n",
      "Converted Marathi_mp4/0_2024.08.12_19.06.58-2024.08.12_19.07.58.mp4 to Marathi_mp3/0_2024.08.12_19.06.58-2024.08.12_19.07.58.mp3\n",
      "Deleted Marathi_mp4/0_2024.08.12_19.06.58-2024.08.12_19.07.58.mp4\n",
      "Preparing to download Marathi/0_2024.08.12_19.07.58-2024.08.12_19.08.58.mp4 to Marathi_mp4/0_2024.08.12_19.07.58-2024.08.12_19.08.58.mp4\n",
      "Video downloaded to: Marathi_mp4/0_2024.08.12_19.07.58-2024.08.12_19.08.58.mp4\n",
      "MoviePy - Writing audio in Marathi_mp3/0_2024.08.12_19.07.58-2024.08.12_19.08.58.mp3\n"
     ]
    },
    {
     "name": "stderr",
     "output_type": "stream",
     "text": [
      "                                                                                                                        \r"
     ]
    },
    {
     "name": "stdout",
     "output_type": "stream",
     "text": [
      "MoviePy - Done.\n",
      "Converted Marathi_mp4/0_2024.08.12_19.07.58-2024.08.12_19.08.58.mp4 to Marathi_mp3/0_2024.08.12_19.07.58-2024.08.12_19.08.58.mp3\n",
      "Deleted Marathi_mp4/0_2024.08.12_19.07.58-2024.08.12_19.08.58.mp4\n",
      "Preparing to download Marathi/0_2024.08.12_19.08.58-2024.08.12_19.09.58.mp4 to Marathi_mp4/0_2024.08.12_19.08.58-2024.08.12_19.09.58.mp4\n",
      "Video downloaded to: Marathi_mp4/0_2024.08.12_19.08.58-2024.08.12_19.09.58.mp4\n",
      "MoviePy - Writing audio in Marathi_mp3/0_2024.08.12_19.08.58-2024.08.12_19.09.58.mp3\n"
     ]
    },
    {
     "name": "stderr",
     "output_type": "stream",
     "text": [
      "                                                                                                                        \r"
     ]
    },
    {
     "name": "stdout",
     "output_type": "stream",
     "text": [
      "MoviePy - Done.\n",
      "Converted Marathi_mp4/0_2024.08.12_19.08.58-2024.08.12_19.09.58.mp4 to Marathi_mp3/0_2024.08.12_19.08.58-2024.08.12_19.09.58.mp3\n",
      "Deleted Marathi_mp4/0_2024.08.12_19.08.58-2024.08.12_19.09.58.mp4\n",
      "Preparing to download Marathi/0_2024.08.12_19.09.58-2024.08.12_19.10.58.mp4 to Marathi_mp4/0_2024.08.12_19.09.58-2024.08.12_19.10.58.mp4\n",
      "Video downloaded to: Marathi_mp4/0_2024.08.12_19.09.58-2024.08.12_19.10.58.mp4\n",
      "MoviePy - Writing audio in Marathi_mp3/0_2024.08.12_19.09.58-2024.08.12_19.10.58.mp3\n"
     ]
    },
    {
     "name": "stderr",
     "output_type": "stream",
     "text": [
      "                                                                                                                        \r"
     ]
    },
    {
     "name": "stdout",
     "output_type": "stream",
     "text": [
      "MoviePy - Done.\n",
      "Converted Marathi_mp4/0_2024.08.12_19.09.58-2024.08.12_19.10.58.mp4 to Marathi_mp3/0_2024.08.12_19.09.58-2024.08.12_19.10.58.mp3\n",
      "Deleted Marathi_mp4/0_2024.08.12_19.09.58-2024.08.12_19.10.58.mp4\n",
      "Preparing to download Marathi/0_2024.08.12_19.10.58-2024.08.12_19.11.58.mp4 to Marathi_mp4/0_2024.08.12_19.10.58-2024.08.12_19.11.58.mp4\n",
      "Video downloaded to: Marathi_mp4/0_2024.08.12_19.10.58-2024.08.12_19.11.58.mp4\n",
      "MoviePy - Writing audio in Marathi_mp3/0_2024.08.12_19.10.58-2024.08.12_19.11.58.mp3\n"
     ]
    },
    {
     "name": "stderr",
     "output_type": "stream",
     "text": [
      "                                                                                                                        \r"
     ]
    },
    {
     "name": "stdout",
     "output_type": "stream",
     "text": [
      "MoviePy - Done.\n",
      "Converted Marathi_mp4/0_2024.08.12_19.10.58-2024.08.12_19.11.58.mp4 to Marathi_mp3/0_2024.08.12_19.10.58-2024.08.12_19.11.58.mp3\n",
      "Deleted Marathi_mp4/0_2024.08.12_19.10.58-2024.08.12_19.11.58.mp4\n",
      "Preparing to download Marathi/0_2024.08.12_19.11.58-2024.08.12_19.12.58.mp4 to Marathi_mp4/0_2024.08.12_19.11.58-2024.08.12_19.12.58.mp4\n",
      "Video downloaded to: Marathi_mp4/0_2024.08.12_19.11.58-2024.08.12_19.12.58.mp4\n",
      "MoviePy - Writing audio in Marathi_mp3/0_2024.08.12_19.11.58-2024.08.12_19.12.58.mp3\n"
     ]
    },
    {
     "name": "stderr",
     "output_type": "stream",
     "text": [
      "                                                                                                                        \r"
     ]
    },
    {
     "name": "stdout",
     "output_type": "stream",
     "text": [
      "MoviePy - Done.\n",
      "Converted Marathi_mp4/0_2024.08.12_19.11.58-2024.08.12_19.12.58.mp4 to Marathi_mp3/0_2024.08.12_19.11.58-2024.08.12_19.12.58.mp3\n",
      "Deleted Marathi_mp4/0_2024.08.12_19.11.58-2024.08.12_19.12.58.mp4\n",
      "Preparing to download Marathi/0_2024.08.12_19.12.58-2024.08.12_19.13.58.mp4 to Marathi_mp4/0_2024.08.12_19.12.58-2024.08.12_19.13.58.mp4\n",
      "Video downloaded to: Marathi_mp4/0_2024.08.12_19.12.58-2024.08.12_19.13.58.mp4\n",
      "MoviePy - Writing audio in Marathi_mp3/0_2024.08.12_19.12.58-2024.08.12_19.13.58.mp3\n"
     ]
    },
    {
     "name": "stderr",
     "output_type": "stream",
     "text": [
      "                                                                                                                        \r"
     ]
    },
    {
     "name": "stdout",
     "output_type": "stream",
     "text": [
      "MoviePy - Done.\n",
      "Converted Marathi_mp4/0_2024.08.12_19.12.58-2024.08.12_19.13.58.mp4 to Marathi_mp3/0_2024.08.12_19.12.58-2024.08.12_19.13.58.mp3\n",
      "Deleted Marathi_mp4/0_2024.08.12_19.12.58-2024.08.12_19.13.58.mp4\n",
      "Preparing to download Marathi/0_2024.08.12_19.13.59-2024.08.12_19.14.59.mp4 to Marathi_mp4/0_2024.08.12_19.13.59-2024.08.12_19.14.59.mp4\n",
      "Video downloaded to: Marathi_mp4/0_2024.08.12_19.13.59-2024.08.12_19.14.59.mp4\n",
      "MoviePy - Writing audio in Marathi_mp3/0_2024.08.12_19.13.59-2024.08.12_19.14.59.mp3\n"
     ]
    },
    {
     "name": "stderr",
     "output_type": "stream",
     "text": [
      "                                                                                                                        \r"
     ]
    },
    {
     "name": "stdout",
     "output_type": "stream",
     "text": [
      "MoviePy - Done.\n",
      "Converted Marathi_mp4/0_2024.08.12_19.13.59-2024.08.12_19.14.59.mp4 to Marathi_mp3/0_2024.08.12_19.13.59-2024.08.12_19.14.59.mp3\n",
      "Deleted Marathi_mp4/0_2024.08.12_19.13.59-2024.08.12_19.14.59.mp4\n",
      "Preparing to download Marathi/0_2024.08.12_19.14.59-2024.08.12_19.15.59.mp4 to Marathi_mp4/0_2024.08.12_19.14.59-2024.08.12_19.15.59.mp4\n",
      "Video downloaded to: Marathi_mp4/0_2024.08.12_19.14.59-2024.08.12_19.15.59.mp4\n",
      "MoviePy - Writing audio in Marathi_mp3/0_2024.08.12_19.14.59-2024.08.12_19.15.59.mp3\n"
     ]
    },
    {
     "name": "stderr",
     "output_type": "stream",
     "text": [
      "                                                                                                                        \r"
     ]
    },
    {
     "name": "stdout",
     "output_type": "stream",
     "text": [
      "MoviePy - Done.\n",
      "Converted Marathi_mp4/0_2024.08.12_19.14.59-2024.08.12_19.15.59.mp4 to Marathi_mp3/0_2024.08.12_19.14.59-2024.08.12_19.15.59.mp3\n",
      "Deleted Marathi_mp4/0_2024.08.12_19.14.59-2024.08.12_19.15.59.mp4\n",
      "Preparing to download Marathi/0_2024.08.12_19.15.59-2024.08.12_19.16.59.mp4 to Marathi_mp4/0_2024.08.12_19.15.59-2024.08.12_19.16.59.mp4\n",
      "Video downloaded to: Marathi_mp4/0_2024.08.12_19.15.59-2024.08.12_19.16.59.mp4\n",
      "MoviePy - Writing audio in Marathi_mp3/0_2024.08.12_19.15.59-2024.08.12_19.16.59.mp3\n"
     ]
    },
    {
     "name": "stderr",
     "output_type": "stream",
     "text": [
      "                                                                                                                        \r"
     ]
    },
    {
     "name": "stdout",
     "output_type": "stream",
     "text": [
      "MoviePy - Done.\n",
      "Converted Marathi_mp4/0_2024.08.12_19.15.59-2024.08.12_19.16.59.mp4 to Marathi_mp3/0_2024.08.12_19.15.59-2024.08.12_19.16.59.mp3\n",
      "Deleted Marathi_mp4/0_2024.08.12_19.15.59-2024.08.12_19.16.59.mp4\n",
      "Preparing to download Marathi/0_2024.08.12_19.16.59-2024.08.12_19.17.59.mp4 to Marathi_mp4/0_2024.08.12_19.16.59-2024.08.12_19.17.59.mp4\n",
      "Video downloaded to: Marathi_mp4/0_2024.08.12_19.16.59-2024.08.12_19.17.59.mp4\n",
      "MoviePy - Writing audio in Marathi_mp3/0_2024.08.12_19.16.59-2024.08.12_19.17.59.mp3\n"
     ]
    },
    {
     "name": "stderr",
     "output_type": "stream",
     "text": [
      "                                                                                                                        \r"
     ]
    },
    {
     "name": "stdout",
     "output_type": "stream",
     "text": [
      "MoviePy - Done.\n",
      "Converted Marathi_mp4/0_2024.08.12_19.16.59-2024.08.12_19.17.59.mp4 to Marathi_mp3/0_2024.08.12_19.16.59-2024.08.12_19.17.59.mp3\n",
      "Deleted Marathi_mp4/0_2024.08.12_19.16.59-2024.08.12_19.17.59.mp4\n",
      "Preparing to download Marathi/0_2024.08.12_19.17.59-2024.08.12_19.18.59.mp4 to Marathi_mp4/0_2024.08.12_19.17.59-2024.08.12_19.18.59.mp4\n",
      "Video downloaded to: Marathi_mp4/0_2024.08.12_19.17.59-2024.08.12_19.18.59.mp4\n",
      "MoviePy - Writing audio in Marathi_mp3/0_2024.08.12_19.17.59-2024.08.12_19.18.59.mp3\n"
     ]
    },
    {
     "name": "stderr",
     "output_type": "stream",
     "text": [
      "                                                                                                                        \r"
     ]
    },
    {
     "name": "stdout",
     "output_type": "stream",
     "text": [
      "MoviePy - Done.\n",
      "Converted Marathi_mp4/0_2024.08.12_19.17.59-2024.08.12_19.18.59.mp4 to Marathi_mp3/0_2024.08.12_19.17.59-2024.08.12_19.18.59.mp3\n",
      "Deleted Marathi_mp4/0_2024.08.12_19.17.59-2024.08.12_19.18.59.mp4\n",
      "Preparing to download Marathi/0_2024.08.12_19.18.59-2024.08.12_19.19.59.mp4 to Marathi_mp4/0_2024.08.12_19.18.59-2024.08.12_19.19.59.mp4\n",
      "Video downloaded to: Marathi_mp4/0_2024.08.12_19.18.59-2024.08.12_19.19.59.mp4\n",
      "MoviePy - Writing audio in Marathi_mp3/0_2024.08.12_19.18.59-2024.08.12_19.19.59.mp3\n"
     ]
    },
    {
     "name": "stderr",
     "output_type": "stream",
     "text": [
      "                                                                                                                        \r"
     ]
    },
    {
     "name": "stdout",
     "output_type": "stream",
     "text": [
      "MoviePy - Done.\n",
      "Converted Marathi_mp4/0_2024.08.12_19.18.59-2024.08.12_19.19.59.mp4 to Marathi_mp3/0_2024.08.12_19.18.59-2024.08.12_19.19.59.mp3\n",
      "Deleted Marathi_mp4/0_2024.08.12_19.18.59-2024.08.12_19.19.59.mp4\n",
      "Preparing to download Marathi/0_2024.08.12_19.19.59-2024.08.12_19.20.59.mp4 to Marathi_mp4/0_2024.08.12_19.19.59-2024.08.12_19.20.59.mp4\n",
      "Video downloaded to: Marathi_mp4/0_2024.08.12_19.19.59-2024.08.12_19.20.59.mp4\n",
      "MoviePy - Writing audio in Marathi_mp3/0_2024.08.12_19.19.59-2024.08.12_19.20.59.mp3\n"
     ]
    },
    {
     "name": "stderr",
     "output_type": "stream",
     "text": [
      "                                                                                                                        \r"
     ]
    },
    {
     "name": "stdout",
     "output_type": "stream",
     "text": [
      "MoviePy - Done.\n",
      "Converted Marathi_mp4/0_2024.08.12_19.19.59-2024.08.12_19.20.59.mp4 to Marathi_mp3/0_2024.08.12_19.19.59-2024.08.12_19.20.59.mp3\n",
      "Deleted Marathi_mp4/0_2024.08.12_19.19.59-2024.08.12_19.20.59.mp4\n",
      "Preparing to download Marathi/0_2024.08.12_19.20.59-2024.08.12_19.21.59.mp4 to Marathi_mp4/0_2024.08.12_19.20.59-2024.08.12_19.21.59.mp4\n",
      "Video downloaded to: Marathi_mp4/0_2024.08.12_19.20.59-2024.08.12_19.21.59.mp4\n",
      "MoviePy - Writing audio in Marathi_mp3/0_2024.08.12_19.20.59-2024.08.12_19.21.59.mp3\n"
     ]
    },
    {
     "name": "stderr",
     "output_type": "stream",
     "text": [
      "                                                                                                                        \r"
     ]
    },
    {
     "name": "stdout",
     "output_type": "stream",
     "text": [
      "MoviePy - Done.\n",
      "Converted Marathi_mp4/0_2024.08.12_19.20.59-2024.08.12_19.21.59.mp4 to Marathi_mp3/0_2024.08.12_19.20.59-2024.08.12_19.21.59.mp3\n",
      "Deleted Marathi_mp4/0_2024.08.12_19.20.59-2024.08.12_19.21.59.mp4\n",
      "Preparing to download Marathi/0_2024.08.12_19.22.00-2024.08.12_19.23.00.mp4 to Marathi_mp4/0_2024.08.12_19.22.00-2024.08.12_19.23.00.mp4\n",
      "Video downloaded to: Marathi_mp4/0_2024.08.12_19.22.00-2024.08.12_19.23.00.mp4\n",
      "MoviePy - Writing audio in Marathi_mp3/0_2024.08.12_19.22.00-2024.08.12_19.23.00.mp3\n"
     ]
    },
    {
     "name": "stderr",
     "output_type": "stream",
     "text": [
      "                                                                                                                        \r"
     ]
    },
    {
     "name": "stdout",
     "output_type": "stream",
     "text": [
      "MoviePy - Done.\n",
      "Converted Marathi_mp4/0_2024.08.12_19.22.00-2024.08.12_19.23.00.mp4 to Marathi_mp3/0_2024.08.12_19.22.00-2024.08.12_19.23.00.mp3\n",
      "Deleted Marathi_mp4/0_2024.08.12_19.22.00-2024.08.12_19.23.00.mp4\n",
      "Preparing to download Marathi/0_2024.08.12_19.23.00-2024.08.12_19.24.00.mp4 to Marathi_mp4/0_2024.08.12_19.23.00-2024.08.12_19.24.00.mp4\n",
      "Video downloaded to: Marathi_mp4/0_2024.08.12_19.23.00-2024.08.12_19.24.00.mp4\n",
      "MoviePy - Writing audio in Marathi_mp3/0_2024.08.12_19.23.00-2024.08.12_19.24.00.mp3\n"
     ]
    },
    {
     "name": "stderr",
     "output_type": "stream",
     "text": [
      "                                                                                                                        \r"
     ]
    },
    {
     "name": "stdout",
     "output_type": "stream",
     "text": [
      "MoviePy - Done.\n",
      "Converted Marathi_mp4/0_2024.08.12_19.23.00-2024.08.12_19.24.00.mp4 to Marathi_mp3/0_2024.08.12_19.23.00-2024.08.12_19.24.00.mp3\n",
      "Deleted Marathi_mp4/0_2024.08.12_19.23.00-2024.08.12_19.24.00.mp4\n",
      "Preparing to download Marathi/0_2024.08.12_19.24.00-2024.08.12_19.25.00.mp4 to Marathi_mp4/0_2024.08.12_19.24.00-2024.08.12_19.25.00.mp4\n",
      "Video downloaded to: Marathi_mp4/0_2024.08.12_19.24.00-2024.08.12_19.25.00.mp4\n",
      "MoviePy - Writing audio in Marathi_mp3/0_2024.08.12_19.24.00-2024.08.12_19.25.00.mp3\n"
     ]
    },
    {
     "name": "stderr",
     "output_type": "stream",
     "text": [
      "                                                                                                                        \r"
     ]
    },
    {
     "name": "stdout",
     "output_type": "stream",
     "text": [
      "MoviePy - Done.\n",
      "Converted Marathi_mp4/0_2024.08.12_19.24.00-2024.08.12_19.25.00.mp4 to Marathi_mp3/0_2024.08.12_19.24.00-2024.08.12_19.25.00.mp3\n",
      "Deleted Marathi_mp4/0_2024.08.12_19.24.00-2024.08.12_19.25.00.mp4\n",
      "Preparing to download Marathi/0_2024.08.12_19.25.00-2024.08.12_19.26.00.mp4 to Marathi_mp4/0_2024.08.12_19.25.00-2024.08.12_19.26.00.mp4\n",
      "Video downloaded to: Marathi_mp4/0_2024.08.12_19.25.00-2024.08.12_19.26.00.mp4\n",
      "MoviePy - Writing audio in Marathi_mp3/0_2024.08.12_19.25.00-2024.08.12_19.26.00.mp3\n"
     ]
    },
    {
     "name": "stderr",
     "output_type": "stream",
     "text": [
      "                                                                                                                        \r"
     ]
    },
    {
     "name": "stdout",
     "output_type": "stream",
     "text": [
      "MoviePy - Done.\n",
      "Converted Marathi_mp4/0_2024.08.12_19.25.00-2024.08.12_19.26.00.mp4 to Marathi_mp3/0_2024.08.12_19.25.00-2024.08.12_19.26.00.mp3\n",
      "Deleted Marathi_mp4/0_2024.08.12_19.25.00-2024.08.12_19.26.00.mp4\n",
      "Preparing to download Marathi/0_2024.08.12_19.26.00-2024.08.12_19.27.00.mp4 to Marathi_mp4/0_2024.08.12_19.26.00-2024.08.12_19.27.00.mp4\n",
      "Video downloaded to: Marathi_mp4/0_2024.08.12_19.26.00-2024.08.12_19.27.00.mp4\n",
      "MoviePy - Writing audio in Marathi_mp3/0_2024.08.12_19.26.00-2024.08.12_19.27.00.mp3\n"
     ]
    },
    {
     "name": "stderr",
     "output_type": "stream",
     "text": [
      "                                                                                                                        \r"
     ]
    },
    {
     "name": "stdout",
     "output_type": "stream",
     "text": [
      "MoviePy - Done.\n",
      "Converted Marathi_mp4/0_2024.08.12_19.26.00-2024.08.12_19.27.00.mp4 to Marathi_mp3/0_2024.08.12_19.26.00-2024.08.12_19.27.00.mp3\n",
      "Deleted Marathi_mp4/0_2024.08.12_19.26.00-2024.08.12_19.27.00.mp4\n",
      "Preparing to download Marathi/0_2024.08.12_19.27.00-2024.08.12_19.28.00.mp4 to Marathi_mp4/0_2024.08.12_19.27.00-2024.08.12_19.28.00.mp4\n",
      "Video downloaded to: Marathi_mp4/0_2024.08.12_19.27.00-2024.08.12_19.28.00.mp4\n",
      "MoviePy - Writing audio in Marathi_mp3/0_2024.08.12_19.27.00-2024.08.12_19.28.00.mp3\n"
     ]
    },
    {
     "name": "stderr",
     "output_type": "stream",
     "text": [
      "                                                                                                                        \r"
     ]
    },
    {
     "name": "stdout",
     "output_type": "stream",
     "text": [
      "MoviePy - Done.\n",
      "Converted Marathi_mp4/0_2024.08.12_19.27.00-2024.08.12_19.28.00.mp4 to Marathi_mp3/0_2024.08.12_19.27.00-2024.08.12_19.28.00.mp3\n",
      "Deleted Marathi_mp4/0_2024.08.12_19.27.00-2024.08.12_19.28.00.mp4\n",
      "Preparing to download Marathi/0_2024.08.12_19.28.00-2024.08.12_19.29.00.mp4 to Marathi_mp4/0_2024.08.12_19.28.00-2024.08.12_19.29.00.mp4\n",
      "Video downloaded to: Marathi_mp4/0_2024.08.12_19.28.00-2024.08.12_19.29.00.mp4\n",
      "MoviePy - Writing audio in Marathi_mp3/0_2024.08.12_19.28.00-2024.08.12_19.29.00.mp3\n"
     ]
    },
    {
     "name": "stderr",
     "output_type": "stream",
     "text": [
      "                                                                                                                        \r"
     ]
    },
    {
     "name": "stdout",
     "output_type": "stream",
     "text": [
      "MoviePy - Done.\n",
      "Converted Marathi_mp4/0_2024.08.12_19.28.00-2024.08.12_19.29.00.mp4 to Marathi_mp3/0_2024.08.12_19.28.00-2024.08.12_19.29.00.mp3\n",
      "Deleted Marathi_mp4/0_2024.08.12_19.28.00-2024.08.12_19.29.00.mp4\n",
      "Preparing to download Marathi/0_2024.08.12_19.29.00-2024.08.12_19.30.00.mp4 to Marathi_mp4/0_2024.08.12_19.29.00-2024.08.12_19.30.00.mp4\n",
      "Video downloaded to: Marathi_mp4/0_2024.08.12_19.29.00-2024.08.12_19.30.00.mp4\n",
      "MoviePy - Writing audio in Marathi_mp3/0_2024.08.12_19.29.00-2024.08.12_19.30.00.mp3\n"
     ]
    },
    {
     "name": "stderr",
     "output_type": "stream",
     "text": [
      "                                                                                                                        \r"
     ]
    },
    {
     "name": "stdout",
     "output_type": "stream",
     "text": [
      "MoviePy - Done.\n",
      "Converted Marathi_mp4/0_2024.08.12_19.29.00-2024.08.12_19.30.00.mp4 to Marathi_mp3/0_2024.08.12_19.29.00-2024.08.12_19.30.00.mp3\n",
      "Deleted Marathi_mp4/0_2024.08.12_19.29.00-2024.08.12_19.30.00.mp4\n",
      "Preparing to download Marathi/0_2024.08.12_19.30.01-2024.08.12_19.31.01.mp4 to Marathi_mp4/0_2024.08.12_19.30.01-2024.08.12_19.31.01.mp4\n",
      "Video downloaded to: Marathi_mp4/0_2024.08.12_19.30.01-2024.08.12_19.31.01.mp4\n",
      "MoviePy - Writing audio in Marathi_mp3/0_2024.08.12_19.30.01-2024.08.12_19.31.01.mp3\n"
     ]
    },
    {
     "name": "stderr",
     "output_type": "stream",
     "text": [
      "                                                                                                                        \r"
     ]
    },
    {
     "name": "stdout",
     "output_type": "stream",
     "text": [
      "MoviePy - Done.\n",
      "Converted Marathi_mp4/0_2024.08.12_19.30.01-2024.08.12_19.31.01.mp4 to Marathi_mp3/0_2024.08.12_19.30.01-2024.08.12_19.31.01.mp3\n",
      "Deleted Marathi_mp4/0_2024.08.12_19.30.01-2024.08.12_19.31.01.mp4\n",
      "Preparing to download Marathi/0_2024.08.12_19.31.01-2024.08.12_19.32.01.mp4 to Marathi_mp4/0_2024.08.12_19.31.01-2024.08.12_19.32.01.mp4\n",
      "Video downloaded to: Marathi_mp4/0_2024.08.12_19.31.01-2024.08.12_19.32.01.mp4\n",
      "MoviePy - Writing audio in Marathi_mp3/0_2024.08.12_19.31.01-2024.08.12_19.32.01.mp3\n"
     ]
    },
    {
     "name": "stderr",
     "output_type": "stream",
     "text": [
      "                                                                                                                        \r"
     ]
    },
    {
     "name": "stdout",
     "output_type": "stream",
     "text": [
      "MoviePy - Done.\n",
      "Converted Marathi_mp4/0_2024.08.12_19.31.01-2024.08.12_19.32.01.mp4 to Marathi_mp3/0_2024.08.12_19.31.01-2024.08.12_19.32.01.mp3\n",
      "Deleted Marathi_mp4/0_2024.08.12_19.31.01-2024.08.12_19.32.01.mp4\n",
      "Preparing to download Marathi/0_2024.08.12_19.32.01-2024.08.12_19.33.01.mp4 to Marathi_mp4/0_2024.08.12_19.32.01-2024.08.12_19.33.01.mp4\n",
      "Video downloaded to: Marathi_mp4/0_2024.08.12_19.32.01-2024.08.12_19.33.01.mp4\n",
      "MoviePy - Writing audio in Marathi_mp3/0_2024.08.12_19.32.01-2024.08.12_19.33.01.mp3\n"
     ]
    },
    {
     "name": "stderr",
     "output_type": "stream",
     "text": [
      "                                                                                                                        \r"
     ]
    },
    {
     "name": "stdout",
     "output_type": "stream",
     "text": [
      "MoviePy - Done.\n",
      "Converted Marathi_mp4/0_2024.08.12_19.32.01-2024.08.12_19.33.01.mp4 to Marathi_mp3/0_2024.08.12_19.32.01-2024.08.12_19.33.01.mp3\n",
      "Deleted Marathi_mp4/0_2024.08.12_19.32.01-2024.08.12_19.33.01.mp4\n",
      "Preparing to download Marathi/0_2024.08.12_19.33.01-2024.08.12_19.34.01.mp4 to Marathi_mp4/0_2024.08.12_19.33.01-2024.08.12_19.34.01.mp4\n",
      "Video downloaded to: Marathi_mp4/0_2024.08.12_19.33.01-2024.08.12_19.34.01.mp4\n",
      "MoviePy - Writing audio in Marathi_mp3/0_2024.08.12_19.33.01-2024.08.12_19.34.01.mp3\n"
     ]
    },
    {
     "name": "stderr",
     "output_type": "stream",
     "text": [
      "                                                                                                                        \r"
     ]
    },
    {
     "name": "stdout",
     "output_type": "stream",
     "text": [
      "MoviePy - Done.\n",
      "Converted Marathi_mp4/0_2024.08.12_19.33.01-2024.08.12_19.34.01.mp4 to Marathi_mp3/0_2024.08.12_19.33.01-2024.08.12_19.34.01.mp3\n",
      "Deleted Marathi_mp4/0_2024.08.12_19.33.01-2024.08.12_19.34.01.mp4\n",
      "Preparing to download Marathi/0_2024.08.12_19.34.01-2024.08.12_19.35.01.mp4 to Marathi_mp4/0_2024.08.12_19.34.01-2024.08.12_19.35.01.mp4\n",
      "Video downloaded to: Marathi_mp4/0_2024.08.12_19.34.01-2024.08.12_19.35.01.mp4\n",
      "MoviePy - Writing audio in Marathi_mp3/0_2024.08.12_19.34.01-2024.08.12_19.35.01.mp3\n"
     ]
    },
    {
     "name": "stderr",
     "output_type": "stream",
     "text": [
      "                                                                                                                        \r"
     ]
    },
    {
     "name": "stdout",
     "output_type": "stream",
     "text": [
      "MoviePy - Done.\n",
      "Converted Marathi_mp4/0_2024.08.12_19.34.01-2024.08.12_19.35.01.mp4 to Marathi_mp3/0_2024.08.12_19.34.01-2024.08.12_19.35.01.mp3\n",
      "Deleted Marathi_mp4/0_2024.08.12_19.34.01-2024.08.12_19.35.01.mp4\n",
      "Preparing to download Marathi/0_2024.08.12_19.35.01-2024.08.12_19.36.01.mp4 to Marathi_mp4/0_2024.08.12_19.35.01-2024.08.12_19.36.01.mp4\n",
      "Video downloaded to: Marathi_mp4/0_2024.08.12_19.35.01-2024.08.12_19.36.01.mp4\n",
      "MoviePy - Writing audio in Marathi_mp3/0_2024.08.12_19.35.01-2024.08.12_19.36.01.mp3\n"
     ]
    },
    {
     "name": "stderr",
     "output_type": "stream",
     "text": [
      "                                                                                                                        \r"
     ]
    },
    {
     "name": "stdout",
     "output_type": "stream",
     "text": [
      "MoviePy - Done.\n",
      "Converted Marathi_mp4/0_2024.08.12_19.35.01-2024.08.12_19.36.01.mp4 to Marathi_mp3/0_2024.08.12_19.35.01-2024.08.12_19.36.01.mp3\n",
      "Deleted Marathi_mp4/0_2024.08.12_19.35.01-2024.08.12_19.36.01.mp4\n",
      "Preparing to download Marathi/0_2024.08.12_19.36.01-2024.08.12_19.37.01.mp4 to Marathi_mp4/0_2024.08.12_19.36.01-2024.08.12_19.37.01.mp4\n",
      "Video downloaded to: Marathi_mp4/0_2024.08.12_19.36.01-2024.08.12_19.37.01.mp4\n",
      "MoviePy - Writing audio in Marathi_mp3/0_2024.08.12_19.36.01-2024.08.12_19.37.01.mp3\n"
     ]
    },
    {
     "name": "stderr",
     "output_type": "stream",
     "text": [
      "                                                                                                                        \r"
     ]
    },
    {
     "name": "stdout",
     "output_type": "stream",
     "text": [
      "MoviePy - Done.\n",
      "Converted Marathi_mp4/0_2024.08.12_19.36.01-2024.08.12_19.37.01.mp4 to Marathi_mp3/0_2024.08.12_19.36.01-2024.08.12_19.37.01.mp3\n",
      "Deleted Marathi_mp4/0_2024.08.12_19.36.01-2024.08.12_19.37.01.mp4\n",
      "Preparing to download Marathi/0_2024.08.12_19.37.01-2024.08.12_19.38.01.mp4 to Marathi_mp4/0_2024.08.12_19.37.01-2024.08.12_19.38.01.mp4\n",
      "Video downloaded to: Marathi_mp4/0_2024.08.12_19.37.01-2024.08.12_19.38.01.mp4\n",
      "MoviePy - Writing audio in Marathi_mp3/0_2024.08.12_19.37.01-2024.08.12_19.38.01.mp3\n"
     ]
    },
    {
     "name": "stderr",
     "output_type": "stream",
     "text": [
      "                                                                                                                        \r"
     ]
    },
    {
     "name": "stdout",
     "output_type": "stream",
     "text": [
      "MoviePy - Done.\n",
      "Converted Marathi_mp4/0_2024.08.12_19.37.01-2024.08.12_19.38.01.mp4 to Marathi_mp3/0_2024.08.12_19.37.01-2024.08.12_19.38.01.mp3\n",
      "Deleted Marathi_mp4/0_2024.08.12_19.37.01-2024.08.12_19.38.01.mp4\n",
      "Preparing to download Marathi/0_2024.08.12_19.38.02-2024.08.12_19.39.02.mp4 to Marathi_mp4/0_2024.08.12_19.38.02-2024.08.12_19.39.02.mp4\n",
      "Video downloaded to: Marathi_mp4/0_2024.08.12_19.38.02-2024.08.12_19.39.02.mp4\n",
      "MoviePy - Writing audio in Marathi_mp3/0_2024.08.12_19.38.02-2024.08.12_19.39.02.mp3\n"
     ]
    },
    {
     "name": "stderr",
     "output_type": "stream",
     "text": [
      "                                                                                                                        \r"
     ]
    },
    {
     "name": "stdout",
     "output_type": "stream",
     "text": [
      "MoviePy - Done.\n",
      "Converted Marathi_mp4/0_2024.08.12_19.38.02-2024.08.12_19.39.02.mp4 to Marathi_mp3/0_2024.08.12_19.38.02-2024.08.12_19.39.02.mp3\n",
      "Deleted Marathi_mp4/0_2024.08.12_19.38.02-2024.08.12_19.39.02.mp4\n",
      "Preparing to download Marathi/0_2024.08.12_19.39.02-2024.08.12_19.40.02.mp4 to Marathi_mp4/0_2024.08.12_19.39.02-2024.08.12_19.40.02.mp4\n",
      "Video downloaded to: Marathi_mp4/0_2024.08.12_19.39.02-2024.08.12_19.40.02.mp4\n",
      "MoviePy - Writing audio in Marathi_mp3/0_2024.08.12_19.39.02-2024.08.12_19.40.02.mp3\n"
     ]
    },
    {
     "name": "stderr",
     "output_type": "stream",
     "text": [
      "                                                                                                                        \r"
     ]
    },
    {
     "name": "stdout",
     "output_type": "stream",
     "text": [
      "MoviePy - Done.\n",
      "Converted Marathi_mp4/0_2024.08.12_19.39.02-2024.08.12_19.40.02.mp4 to Marathi_mp3/0_2024.08.12_19.39.02-2024.08.12_19.40.02.mp3\n",
      "Deleted Marathi_mp4/0_2024.08.12_19.39.02-2024.08.12_19.40.02.mp4\n",
      "Preparing to download Marathi/0_2024.08.12_19.40.02-2024.08.12_19.41.02.mp4 to Marathi_mp4/0_2024.08.12_19.40.02-2024.08.12_19.41.02.mp4\n",
      "Video downloaded to: Marathi_mp4/0_2024.08.12_19.40.02-2024.08.12_19.41.02.mp4\n",
      "MoviePy - Writing audio in Marathi_mp3/0_2024.08.12_19.40.02-2024.08.12_19.41.02.mp3\n"
     ]
    },
    {
     "name": "stderr",
     "output_type": "stream",
     "text": [
      "                                                                                                                        \r"
     ]
    },
    {
     "name": "stdout",
     "output_type": "stream",
     "text": [
      "MoviePy - Done.\n",
      "Converted Marathi_mp4/0_2024.08.12_19.40.02-2024.08.12_19.41.02.mp4 to Marathi_mp3/0_2024.08.12_19.40.02-2024.08.12_19.41.02.mp3\n",
      "Deleted Marathi_mp4/0_2024.08.12_19.40.02-2024.08.12_19.41.02.mp4\n",
      "Preparing to download Marathi/0_2024.08.12_19.41.02-2024.08.12_19.42.02.mp4 to Marathi_mp4/0_2024.08.12_19.41.02-2024.08.12_19.42.02.mp4\n",
      "Video downloaded to: Marathi_mp4/0_2024.08.12_19.41.02-2024.08.12_19.42.02.mp4\n",
      "MoviePy - Writing audio in Marathi_mp3/0_2024.08.12_19.41.02-2024.08.12_19.42.02.mp3\n"
     ]
    },
    {
     "name": "stderr",
     "output_type": "stream",
     "text": [
      "                                                                                                                        \r"
     ]
    },
    {
     "name": "stdout",
     "output_type": "stream",
     "text": [
      "MoviePy - Done.\n",
      "Converted Marathi_mp4/0_2024.08.12_19.41.02-2024.08.12_19.42.02.mp4 to Marathi_mp3/0_2024.08.12_19.41.02-2024.08.12_19.42.02.mp3\n",
      "Deleted Marathi_mp4/0_2024.08.12_19.41.02-2024.08.12_19.42.02.mp4\n",
      "Preparing to download Marathi/0_2024.08.12_19.42.02-2024.08.12_19.43.02.mp4 to Marathi_mp4/0_2024.08.12_19.42.02-2024.08.12_19.43.02.mp4\n",
      "Video downloaded to: Marathi_mp4/0_2024.08.12_19.42.02-2024.08.12_19.43.02.mp4\n",
      "MoviePy - Writing audio in Marathi_mp3/0_2024.08.12_19.42.02-2024.08.12_19.43.02.mp3\n"
     ]
    },
    {
     "name": "stderr",
     "output_type": "stream",
     "text": [
      "                                                                                                                        \r"
     ]
    },
    {
     "name": "stdout",
     "output_type": "stream",
     "text": [
      "MoviePy - Done.\n",
      "Converted Marathi_mp4/0_2024.08.12_19.42.02-2024.08.12_19.43.02.mp4 to Marathi_mp3/0_2024.08.12_19.42.02-2024.08.12_19.43.02.mp3\n",
      "Deleted Marathi_mp4/0_2024.08.12_19.42.02-2024.08.12_19.43.02.mp4\n",
      "Preparing to download Marathi/0_2024.08.12_19.43.02-2024.08.12_19.44.02.mp4 to Marathi_mp4/0_2024.08.12_19.43.02-2024.08.12_19.44.02.mp4\n",
      "Video downloaded to: Marathi_mp4/0_2024.08.12_19.43.02-2024.08.12_19.44.02.mp4\n",
      "MoviePy - Writing audio in Marathi_mp3/0_2024.08.12_19.43.02-2024.08.12_19.44.02.mp3\n"
     ]
    },
    {
     "name": "stderr",
     "output_type": "stream",
     "text": [
      "                                                                                                                        \r"
     ]
    },
    {
     "name": "stdout",
     "output_type": "stream",
     "text": [
      "MoviePy - Done.\n",
      "Converted Marathi_mp4/0_2024.08.12_19.43.02-2024.08.12_19.44.02.mp4 to Marathi_mp3/0_2024.08.12_19.43.02-2024.08.12_19.44.02.mp3\n",
      "Deleted Marathi_mp4/0_2024.08.12_19.43.02-2024.08.12_19.44.02.mp4\n",
      "Preparing to download Marathi/0_2024.08.12_19.44.02-2024.08.12_19.45.02.mp4 to Marathi_mp4/0_2024.08.12_19.44.02-2024.08.12_19.45.02.mp4\n",
      "Video downloaded to: Marathi_mp4/0_2024.08.12_19.44.02-2024.08.12_19.45.02.mp4\n",
      "MoviePy - Writing audio in Marathi_mp3/0_2024.08.12_19.44.02-2024.08.12_19.45.02.mp3\n"
     ]
    },
    {
     "name": "stderr",
     "output_type": "stream",
     "text": [
      "                                                                                                                        \r"
     ]
    },
    {
     "name": "stdout",
     "output_type": "stream",
     "text": [
      "MoviePy - Done.\n",
      "Converted Marathi_mp4/0_2024.08.12_19.44.02-2024.08.12_19.45.02.mp4 to Marathi_mp3/0_2024.08.12_19.44.02-2024.08.12_19.45.02.mp3\n",
      "Deleted Marathi_mp4/0_2024.08.12_19.44.02-2024.08.12_19.45.02.mp4\n",
      "Preparing to download Marathi/0_2024.08.12_19.45.03-2024.08.12_19.46.03.mp4 to Marathi_mp4/0_2024.08.12_19.45.03-2024.08.12_19.46.03.mp4\n",
      "Video downloaded to: Marathi_mp4/0_2024.08.12_19.45.03-2024.08.12_19.46.03.mp4\n",
      "MoviePy - Writing audio in Marathi_mp3/0_2024.08.12_19.45.03-2024.08.12_19.46.03.mp3\n"
     ]
    },
    {
     "name": "stderr",
     "output_type": "stream",
     "text": [
      "                                                                                                                        \r"
     ]
    },
    {
     "name": "stdout",
     "output_type": "stream",
     "text": [
      "MoviePy - Done.\n",
      "Converted Marathi_mp4/0_2024.08.12_19.45.03-2024.08.12_19.46.03.mp4 to Marathi_mp3/0_2024.08.12_19.45.03-2024.08.12_19.46.03.mp3\n",
      "Deleted Marathi_mp4/0_2024.08.12_19.45.03-2024.08.12_19.46.03.mp4\n",
      "Preparing to download Marathi/0_2024.08.12_19.46.03-2024.08.12_19.47.03.mp4 to Marathi_mp4/0_2024.08.12_19.46.03-2024.08.12_19.47.03.mp4\n",
      "Video downloaded to: Marathi_mp4/0_2024.08.12_19.46.03-2024.08.12_19.47.03.mp4\n",
      "MoviePy - Writing audio in Marathi_mp3/0_2024.08.12_19.46.03-2024.08.12_19.47.03.mp3\n"
     ]
    },
    {
     "name": "stderr",
     "output_type": "stream",
     "text": [
      "                                                                                                                        \r"
     ]
    },
    {
     "name": "stdout",
     "output_type": "stream",
     "text": [
      "MoviePy - Done.\n",
      "Converted Marathi_mp4/0_2024.08.12_19.46.03-2024.08.12_19.47.03.mp4 to Marathi_mp3/0_2024.08.12_19.46.03-2024.08.12_19.47.03.mp3\n",
      "Deleted Marathi_mp4/0_2024.08.12_19.46.03-2024.08.12_19.47.03.mp4\n",
      "Preparing to download Marathi/0_2024.08.12_19.47.03-2024.08.12_19.48.03.mp4 to Marathi_mp4/0_2024.08.12_19.47.03-2024.08.12_19.48.03.mp4\n",
      "Video downloaded to: Marathi_mp4/0_2024.08.12_19.47.03-2024.08.12_19.48.03.mp4\n",
      "MoviePy - Writing audio in Marathi_mp3/0_2024.08.12_19.47.03-2024.08.12_19.48.03.mp3\n"
     ]
    },
    {
     "name": "stderr",
     "output_type": "stream",
     "text": [
      "                                                                                                                        \r"
     ]
    },
    {
     "name": "stdout",
     "output_type": "stream",
     "text": [
      "MoviePy - Done.\n",
      "Converted Marathi_mp4/0_2024.08.12_19.47.03-2024.08.12_19.48.03.mp4 to Marathi_mp3/0_2024.08.12_19.47.03-2024.08.12_19.48.03.mp3\n",
      "Deleted Marathi_mp4/0_2024.08.12_19.47.03-2024.08.12_19.48.03.mp4\n",
      "Preparing to download Marathi/0_2024.08.12_19.48.05-2024.08.12_19.49.05.mp4 to Marathi_mp4/0_2024.08.12_19.48.05-2024.08.12_19.49.05.mp4\n",
      "Video downloaded to: Marathi_mp4/0_2024.08.12_19.48.05-2024.08.12_19.49.05.mp4\n",
      "MoviePy - Writing audio in Marathi_mp3/0_2024.08.12_19.48.05-2024.08.12_19.49.05.mp3\n"
     ]
    },
    {
     "name": "stderr",
     "output_type": "stream",
     "text": [
      "                                                                                                                        \r"
     ]
    },
    {
     "name": "stdout",
     "output_type": "stream",
     "text": [
      "MoviePy - Done.\n",
      "Converted Marathi_mp4/0_2024.08.12_19.48.05-2024.08.12_19.49.05.mp4 to Marathi_mp3/0_2024.08.12_19.48.05-2024.08.12_19.49.05.mp3\n",
      "Deleted Marathi_mp4/0_2024.08.12_19.48.05-2024.08.12_19.49.05.mp4\n",
      "Preparing to download Marathi/0_2024.08.12_19.49.05-2024.08.12_19.50.05.mp4 to Marathi_mp4/0_2024.08.12_19.49.05-2024.08.12_19.50.05.mp4\n",
      "Video downloaded to: Marathi_mp4/0_2024.08.12_19.49.05-2024.08.12_19.50.05.mp4\n",
      "MoviePy - Writing audio in Marathi_mp3/0_2024.08.12_19.49.05-2024.08.12_19.50.05.mp3\n"
     ]
    },
    {
     "name": "stderr",
     "output_type": "stream",
     "text": [
      "                                                                                                                        \r"
     ]
    },
    {
     "name": "stdout",
     "output_type": "stream",
     "text": [
      "MoviePy - Done.\n",
      "Converted Marathi_mp4/0_2024.08.12_19.49.05-2024.08.12_19.50.05.mp4 to Marathi_mp3/0_2024.08.12_19.49.05-2024.08.12_19.50.05.mp3\n",
      "Deleted Marathi_mp4/0_2024.08.12_19.49.05-2024.08.12_19.50.05.mp4\n",
      "Preparing to download Marathi/0_2024.08.12_19.50.05-2024.08.12_19.51.05.mp4 to Marathi_mp4/0_2024.08.12_19.50.05-2024.08.12_19.51.05.mp4\n",
      "Video downloaded to: Marathi_mp4/0_2024.08.12_19.50.05-2024.08.12_19.51.05.mp4\n",
      "MoviePy - Writing audio in Marathi_mp3/0_2024.08.12_19.50.05-2024.08.12_19.51.05.mp3\n"
     ]
    },
    {
     "name": "stderr",
     "output_type": "stream",
     "text": [
      "                                                                                                                        \r"
     ]
    },
    {
     "name": "stdout",
     "output_type": "stream",
     "text": [
      "MoviePy - Done.\n",
      "Converted Marathi_mp4/0_2024.08.12_19.50.05-2024.08.12_19.51.05.mp4 to Marathi_mp3/0_2024.08.12_19.50.05-2024.08.12_19.51.05.mp3\n",
      "Deleted Marathi_mp4/0_2024.08.12_19.50.05-2024.08.12_19.51.05.mp4\n",
      "Preparing to download Marathi/0_2024.08.12_19.51.05-2024.08.12_19.52.05.mp4 to Marathi_mp4/0_2024.08.12_19.51.05-2024.08.12_19.52.05.mp4\n",
      "Video downloaded to: Marathi_mp4/0_2024.08.12_19.51.05-2024.08.12_19.52.05.mp4\n",
      "MoviePy - Writing audio in Marathi_mp3/0_2024.08.12_19.51.05-2024.08.12_19.52.05.mp3\n"
     ]
    },
    {
     "name": "stderr",
     "output_type": "stream",
     "text": [
      "                                                                                                                        \r"
     ]
    },
    {
     "name": "stdout",
     "output_type": "stream",
     "text": [
      "MoviePy - Done.\n",
      "Converted Marathi_mp4/0_2024.08.12_19.51.05-2024.08.12_19.52.05.mp4 to Marathi_mp3/0_2024.08.12_19.51.05-2024.08.12_19.52.05.mp3\n",
      "Deleted Marathi_mp4/0_2024.08.12_19.51.05-2024.08.12_19.52.05.mp4\n",
      "Preparing to download Marathi/0_2024.08.12_19.52.05-2024.08.12_19.53.05.mp4 to Marathi_mp4/0_2024.08.12_19.52.05-2024.08.12_19.53.05.mp4\n",
      "Video downloaded to: Marathi_mp4/0_2024.08.12_19.52.05-2024.08.12_19.53.05.mp4\n",
      "MoviePy - Writing audio in Marathi_mp3/0_2024.08.12_19.52.05-2024.08.12_19.53.05.mp3\n"
     ]
    },
    {
     "name": "stderr",
     "output_type": "stream",
     "text": [
      "                                                                                                                        \r"
     ]
    },
    {
     "name": "stdout",
     "output_type": "stream",
     "text": [
      "MoviePy - Done.\n",
      "Converted Marathi_mp4/0_2024.08.12_19.52.05-2024.08.12_19.53.05.mp4 to Marathi_mp3/0_2024.08.12_19.52.05-2024.08.12_19.53.05.mp3\n",
      "Deleted Marathi_mp4/0_2024.08.12_19.52.05-2024.08.12_19.53.05.mp4\n",
      "Preparing to download Marathi/0_2024.08.12_19.53.05-2024.08.12_19.54.05.mp4 to Marathi_mp4/0_2024.08.12_19.53.05-2024.08.12_19.54.05.mp4\n",
      "Video downloaded to: Marathi_mp4/0_2024.08.12_19.53.05-2024.08.12_19.54.05.mp4\n",
      "MoviePy - Writing audio in Marathi_mp3/0_2024.08.12_19.53.05-2024.08.12_19.54.05.mp3\n"
     ]
    },
    {
     "name": "stderr",
     "output_type": "stream",
     "text": [
      "                                                                                                                        \r"
     ]
    },
    {
     "name": "stdout",
     "output_type": "stream",
     "text": [
      "MoviePy - Done.\n",
      "Converted Marathi_mp4/0_2024.08.12_19.53.05-2024.08.12_19.54.05.mp4 to Marathi_mp3/0_2024.08.12_19.53.05-2024.08.12_19.54.05.mp3\n",
      "Deleted Marathi_mp4/0_2024.08.12_19.53.05-2024.08.12_19.54.05.mp4\n",
      "Preparing to download Marathi/0_2024.08.12_19.54.05-2024.08.12_19.55.05.mp4 to Marathi_mp4/0_2024.08.12_19.54.05-2024.08.12_19.55.05.mp4\n",
      "Video downloaded to: Marathi_mp4/0_2024.08.12_19.54.05-2024.08.12_19.55.05.mp4\n",
      "MoviePy - Writing audio in Marathi_mp3/0_2024.08.12_19.54.05-2024.08.12_19.55.05.mp3\n"
     ]
    },
    {
     "name": "stderr",
     "output_type": "stream",
     "text": [
      "                                                                                                                        \r"
     ]
    },
    {
     "name": "stdout",
     "output_type": "stream",
     "text": [
      "MoviePy - Done.\n",
      "Converted Marathi_mp4/0_2024.08.12_19.54.05-2024.08.12_19.55.05.mp4 to Marathi_mp3/0_2024.08.12_19.54.05-2024.08.12_19.55.05.mp3\n",
      "Deleted Marathi_mp4/0_2024.08.12_19.54.05-2024.08.12_19.55.05.mp4\n",
      "Preparing to download Marathi/0_2024.08.12_19.55.06-2024.08.12_19.56.06.mp4 to Marathi_mp4/0_2024.08.12_19.55.06-2024.08.12_19.56.06.mp4\n",
      "Video downloaded to: Marathi_mp4/0_2024.08.12_19.55.06-2024.08.12_19.56.06.mp4\n",
      "MoviePy - Writing audio in Marathi_mp3/0_2024.08.12_19.55.06-2024.08.12_19.56.06.mp3\n"
     ]
    },
    {
     "name": "stderr",
     "output_type": "stream",
     "text": [
      "                                                                                                                        \r"
     ]
    },
    {
     "name": "stdout",
     "output_type": "stream",
     "text": [
      "MoviePy - Done.\n",
      "Converted Marathi_mp4/0_2024.08.12_19.55.06-2024.08.12_19.56.06.mp4 to Marathi_mp3/0_2024.08.12_19.55.06-2024.08.12_19.56.06.mp3\n",
      "Deleted Marathi_mp4/0_2024.08.12_19.55.06-2024.08.12_19.56.06.mp4\n",
      "Preparing to download Marathi/0_2024.08.12_19.56.06-2024.08.12_19.57.06.mp4 to Marathi_mp4/0_2024.08.12_19.56.06-2024.08.12_19.57.06.mp4\n",
      "Video downloaded to: Marathi_mp4/0_2024.08.12_19.56.06-2024.08.12_19.57.06.mp4\n",
      "MoviePy - Writing audio in Marathi_mp3/0_2024.08.12_19.56.06-2024.08.12_19.57.06.mp3\n"
     ]
    },
    {
     "name": "stderr",
     "output_type": "stream",
     "text": [
      "                                                                                                                        \r"
     ]
    },
    {
     "name": "stdout",
     "output_type": "stream",
     "text": [
      "MoviePy - Done.\n",
      "Converted Marathi_mp4/0_2024.08.12_19.56.06-2024.08.12_19.57.06.mp4 to Marathi_mp3/0_2024.08.12_19.56.06-2024.08.12_19.57.06.mp3\n",
      "Deleted Marathi_mp4/0_2024.08.12_19.56.06-2024.08.12_19.57.06.mp4\n",
      "Preparing to download Marathi/0_2024.08.12_19.57.06-2024.08.12_19.58.06.mp4 to Marathi_mp4/0_2024.08.12_19.57.06-2024.08.12_19.58.06.mp4\n",
      "Video downloaded to: Marathi_mp4/0_2024.08.12_19.57.06-2024.08.12_19.58.06.mp4\n",
      "MoviePy - Writing audio in Marathi_mp3/0_2024.08.12_19.57.06-2024.08.12_19.58.06.mp3\n"
     ]
    },
    {
     "name": "stderr",
     "output_type": "stream",
     "text": [
      "                                                                                                                        \r"
     ]
    },
    {
     "name": "stdout",
     "output_type": "stream",
     "text": [
      "MoviePy - Done.\n",
      "Converted Marathi_mp4/0_2024.08.12_19.57.06-2024.08.12_19.58.06.mp4 to Marathi_mp3/0_2024.08.12_19.57.06-2024.08.12_19.58.06.mp3\n",
      "Deleted Marathi_mp4/0_2024.08.12_19.57.06-2024.08.12_19.58.06.mp4\n",
      "Preparing to download Marathi/0_2024.08.12_19.58.06-2024.08.12_19.59.06.mp4 to Marathi_mp4/0_2024.08.12_19.58.06-2024.08.12_19.59.06.mp4\n",
      "Video downloaded to: Marathi_mp4/0_2024.08.12_19.58.06-2024.08.12_19.59.06.mp4\n",
      "MoviePy - Writing audio in Marathi_mp3/0_2024.08.12_19.58.06-2024.08.12_19.59.06.mp3\n"
     ]
    },
    {
     "name": "stderr",
     "output_type": "stream",
     "text": [
      "                                                                                                                        \r"
     ]
    },
    {
     "name": "stdout",
     "output_type": "stream",
     "text": [
      "MoviePy - Done.\n",
      "Converted Marathi_mp4/0_2024.08.12_19.58.06-2024.08.12_19.59.06.mp4 to Marathi_mp3/0_2024.08.12_19.58.06-2024.08.12_19.59.06.mp3\n",
      "Deleted Marathi_mp4/0_2024.08.12_19.58.06-2024.08.12_19.59.06.mp4\n",
      "Preparing to download Marathi/0_2024.08.12_19.59.06-2024.08.12_20.00.06.mp4 to Marathi_mp4/0_2024.08.12_19.59.06-2024.08.12_20.00.06.mp4\n",
      "Video downloaded to: Marathi_mp4/0_2024.08.12_19.59.06-2024.08.12_20.00.06.mp4\n",
      "MoviePy - Writing audio in Marathi_mp3/0_2024.08.12_19.59.06-2024.08.12_20.00.06.mp3\n"
     ]
    },
    {
     "name": "stderr",
     "output_type": "stream",
     "text": [
      "                                                                                                                        \r"
     ]
    },
    {
     "name": "stdout",
     "output_type": "stream",
     "text": [
      "MoviePy - Done.\n",
      "Converted Marathi_mp4/0_2024.08.12_19.59.06-2024.08.12_20.00.06.mp4 to Marathi_mp3/0_2024.08.12_19.59.06-2024.08.12_20.00.06.mp3\n",
      "Deleted Marathi_mp4/0_2024.08.12_19.59.06-2024.08.12_20.00.06.mp4\n",
      "Preparing to download Marathi/0_2024.08.12_20.00.06-2024.08.12_20.01.06.mp4 to Marathi_mp4/0_2024.08.12_20.00.06-2024.08.12_20.01.06.mp4\n",
      "Video downloaded to: Marathi_mp4/0_2024.08.12_20.00.06-2024.08.12_20.01.06.mp4\n",
      "MoviePy - Writing audio in Marathi_mp3/0_2024.08.12_20.00.06-2024.08.12_20.01.06.mp3\n"
     ]
    },
    {
     "name": "stderr",
     "output_type": "stream",
     "text": [
      "                                                                                                                        \r"
     ]
    },
    {
     "name": "stdout",
     "output_type": "stream",
     "text": [
      "MoviePy - Done.\n",
      "Converted Marathi_mp4/0_2024.08.12_20.00.06-2024.08.12_20.01.06.mp4 to Marathi_mp3/0_2024.08.12_20.00.06-2024.08.12_20.01.06.mp3\n",
      "Deleted Marathi_mp4/0_2024.08.12_20.00.06-2024.08.12_20.01.06.mp4\n",
      "Preparing to download Marathi/0_2024.08.12_20.01.06-2024.08.12_20.02.06.mp4 to Marathi_mp4/0_2024.08.12_20.01.06-2024.08.12_20.02.06.mp4\n",
      "Video downloaded to: Marathi_mp4/0_2024.08.12_20.01.06-2024.08.12_20.02.06.mp4\n",
      "MoviePy - Writing audio in Marathi_mp3/0_2024.08.12_20.01.06-2024.08.12_20.02.06.mp3\n"
     ]
    },
    {
     "name": "stderr",
     "output_type": "stream",
     "text": [
      "                                                                                                                        \r"
     ]
    },
    {
     "name": "stdout",
     "output_type": "stream",
     "text": [
      "MoviePy - Done.\n",
      "Converted Marathi_mp4/0_2024.08.12_20.01.06-2024.08.12_20.02.06.mp4 to Marathi_mp3/0_2024.08.12_20.01.06-2024.08.12_20.02.06.mp3\n",
      "Deleted Marathi_mp4/0_2024.08.12_20.01.06-2024.08.12_20.02.06.mp4\n",
      "Preparing to download Marathi/0_2024.08.12_20.02.06-2024.08.12_20.03.06.mp4 to Marathi_mp4/0_2024.08.12_20.02.06-2024.08.12_20.03.06.mp4\n",
      "Video downloaded to: Marathi_mp4/0_2024.08.12_20.02.06-2024.08.12_20.03.06.mp4\n",
      "MoviePy - Writing audio in Marathi_mp3/0_2024.08.12_20.02.06-2024.08.12_20.03.06.mp3\n"
     ]
    },
    {
     "name": "stderr",
     "output_type": "stream",
     "text": [
      "                                                                                                                        \r"
     ]
    },
    {
     "name": "stdout",
     "output_type": "stream",
     "text": [
      "MoviePy - Done.\n",
      "Converted Marathi_mp4/0_2024.08.12_20.02.06-2024.08.12_20.03.06.mp4 to Marathi_mp3/0_2024.08.12_20.02.06-2024.08.12_20.03.06.mp3\n",
      "Deleted Marathi_mp4/0_2024.08.12_20.02.06-2024.08.12_20.03.06.mp4\n",
      "Preparing to download Marathi/0_2024.08.12_20.03.07-2024.08.12_20.04.07.mp4 to Marathi_mp4/0_2024.08.12_20.03.07-2024.08.12_20.04.07.mp4\n",
      "Video downloaded to: Marathi_mp4/0_2024.08.12_20.03.07-2024.08.12_20.04.07.mp4\n",
      "MoviePy - Writing audio in Marathi_mp3/0_2024.08.12_20.03.07-2024.08.12_20.04.07.mp3\n"
     ]
    },
    {
     "name": "stderr",
     "output_type": "stream",
     "text": [
      "                                                                                                                        \r"
     ]
    },
    {
     "name": "stdout",
     "output_type": "stream",
     "text": [
      "MoviePy - Done.\n",
      "Converted Marathi_mp4/0_2024.08.12_20.03.07-2024.08.12_20.04.07.mp4 to Marathi_mp3/0_2024.08.12_20.03.07-2024.08.12_20.04.07.mp3\n",
      "Deleted Marathi_mp4/0_2024.08.12_20.03.07-2024.08.12_20.04.07.mp4\n",
      "Preparing to download Marathi/0_2024.08.12_20.04.07-2024.08.12_20.05.07.mp4 to Marathi_mp4/0_2024.08.12_20.04.07-2024.08.12_20.05.07.mp4\n",
      "Video downloaded to: Marathi_mp4/0_2024.08.12_20.04.07-2024.08.12_20.05.07.mp4\n",
      "MoviePy - Writing audio in Marathi_mp3/0_2024.08.12_20.04.07-2024.08.12_20.05.07.mp3\n"
     ]
    },
    {
     "name": "stderr",
     "output_type": "stream",
     "text": [
      "                                                                                                                        \r"
     ]
    },
    {
     "name": "stdout",
     "output_type": "stream",
     "text": [
      "MoviePy - Done.\n",
      "Converted Marathi_mp4/0_2024.08.12_20.04.07-2024.08.12_20.05.07.mp4 to Marathi_mp3/0_2024.08.12_20.04.07-2024.08.12_20.05.07.mp3\n",
      "Deleted Marathi_mp4/0_2024.08.12_20.04.07-2024.08.12_20.05.07.mp4\n",
      "Preparing to download Marathi/0_2024.08.12_20.05.07-2024.08.12_20.06.07.mp4 to Marathi_mp4/0_2024.08.12_20.05.07-2024.08.12_20.06.07.mp4\n",
      "Video downloaded to: Marathi_mp4/0_2024.08.12_20.05.07-2024.08.12_20.06.07.mp4\n",
      "MoviePy - Writing audio in Marathi_mp3/0_2024.08.12_20.05.07-2024.08.12_20.06.07.mp3\n"
     ]
    },
    {
     "name": "stderr",
     "output_type": "stream",
     "text": [
      "                                                                                                                        \r"
     ]
    },
    {
     "name": "stdout",
     "output_type": "stream",
     "text": [
      "MoviePy - Done.\n",
      "Converted Marathi_mp4/0_2024.08.12_20.05.07-2024.08.12_20.06.07.mp4 to Marathi_mp3/0_2024.08.12_20.05.07-2024.08.12_20.06.07.mp3\n",
      "Deleted Marathi_mp4/0_2024.08.12_20.05.07-2024.08.12_20.06.07.mp4\n",
      "Preparing to download Marathi/0_2024.08.12_20.06.07-2024.08.12_20.07.07.mp4 to Marathi_mp4/0_2024.08.12_20.06.07-2024.08.12_20.07.07.mp4\n",
      "Video downloaded to: Marathi_mp4/0_2024.08.12_20.06.07-2024.08.12_20.07.07.mp4\n",
      "MoviePy - Writing audio in Marathi_mp3/0_2024.08.12_20.06.07-2024.08.12_20.07.07.mp3\n"
     ]
    },
    {
     "name": "stderr",
     "output_type": "stream",
     "text": [
      "                                                                                                                        \r"
     ]
    },
    {
     "name": "stdout",
     "output_type": "stream",
     "text": [
      "MoviePy - Done.\n",
      "Converted Marathi_mp4/0_2024.08.12_20.06.07-2024.08.12_20.07.07.mp4 to Marathi_mp3/0_2024.08.12_20.06.07-2024.08.12_20.07.07.mp3\n",
      "Deleted Marathi_mp4/0_2024.08.12_20.06.07-2024.08.12_20.07.07.mp4\n",
      "Preparing to download Marathi/0_2024.08.12_20.07.07-2024.08.12_20.08.07.mp4 to Marathi_mp4/0_2024.08.12_20.07.07-2024.08.12_20.08.07.mp4\n",
      "Video downloaded to: Marathi_mp4/0_2024.08.12_20.07.07-2024.08.12_20.08.07.mp4\n",
      "MoviePy - Writing audio in Marathi_mp3/0_2024.08.12_20.07.07-2024.08.12_20.08.07.mp3\n"
     ]
    },
    {
     "name": "stderr",
     "output_type": "stream",
     "text": [
      "                                                                                                                        \r"
     ]
    },
    {
     "name": "stdout",
     "output_type": "stream",
     "text": [
      "MoviePy - Done.\n",
      "Converted Marathi_mp4/0_2024.08.12_20.07.07-2024.08.12_20.08.07.mp4 to Marathi_mp3/0_2024.08.12_20.07.07-2024.08.12_20.08.07.mp3\n",
      "Deleted Marathi_mp4/0_2024.08.12_20.07.07-2024.08.12_20.08.07.mp4\n",
      "Preparing to download Marathi/0_2024.08.12_20.08.07-2024.08.12_20.09.07.mp4 to Marathi_mp4/0_2024.08.12_20.08.07-2024.08.12_20.09.07.mp4\n",
      "Video downloaded to: Marathi_mp4/0_2024.08.12_20.08.07-2024.08.12_20.09.07.mp4\n",
      "MoviePy - Writing audio in Marathi_mp3/0_2024.08.12_20.08.07-2024.08.12_20.09.07.mp3\n"
     ]
    },
    {
     "name": "stderr",
     "output_type": "stream",
     "text": [
      "                                                                                                                        \r"
     ]
    },
    {
     "name": "stdout",
     "output_type": "stream",
     "text": [
      "MoviePy - Done.\n",
      "Converted Marathi_mp4/0_2024.08.12_20.08.07-2024.08.12_20.09.07.mp4 to Marathi_mp3/0_2024.08.12_20.08.07-2024.08.12_20.09.07.mp3\n",
      "Deleted Marathi_mp4/0_2024.08.12_20.08.07-2024.08.12_20.09.07.mp4\n",
      "Preparing to download Marathi/0_2024.08.12_20.09.07-2024.08.12_20.10.07.mp4 to Marathi_mp4/0_2024.08.12_20.09.07-2024.08.12_20.10.07.mp4\n",
      "Video downloaded to: Marathi_mp4/0_2024.08.12_20.09.07-2024.08.12_20.10.07.mp4\n",
      "MoviePy - Writing audio in Marathi_mp3/0_2024.08.12_20.09.07-2024.08.12_20.10.07.mp3\n"
     ]
    },
    {
     "name": "stderr",
     "output_type": "stream",
     "text": [
      "                                                                                                                        \r"
     ]
    },
    {
     "name": "stdout",
     "output_type": "stream",
     "text": [
      "MoviePy - Done.\n",
      "Converted Marathi_mp4/0_2024.08.12_20.09.07-2024.08.12_20.10.07.mp4 to Marathi_mp3/0_2024.08.12_20.09.07-2024.08.12_20.10.07.mp3\n",
      "Deleted Marathi_mp4/0_2024.08.12_20.09.07-2024.08.12_20.10.07.mp4\n",
      "Preparing to download Marathi/0_2024.08.12_20.10.07-2024.08.12_20.11.07.mp4 to Marathi_mp4/0_2024.08.12_20.10.07-2024.08.12_20.11.07.mp4\n",
      "Video downloaded to: Marathi_mp4/0_2024.08.12_20.10.07-2024.08.12_20.11.07.mp4\n",
      "MoviePy - Writing audio in Marathi_mp3/0_2024.08.12_20.10.07-2024.08.12_20.11.07.mp3\n"
     ]
    },
    {
     "name": "stderr",
     "output_type": "stream",
     "text": [
      "                                                                                                                        \r"
     ]
    },
    {
     "name": "stdout",
     "output_type": "stream",
     "text": [
      "MoviePy - Done.\n",
      "Converted Marathi_mp4/0_2024.08.12_20.10.07-2024.08.12_20.11.07.mp4 to Marathi_mp3/0_2024.08.12_20.10.07-2024.08.12_20.11.07.mp3\n",
      "Deleted Marathi_mp4/0_2024.08.12_20.10.07-2024.08.12_20.11.07.mp4\n",
      "Preparing to download Marathi/0_2024.08.12_20.11.08-2024.08.12_20.12.08.mp4 to Marathi_mp4/0_2024.08.12_20.11.08-2024.08.12_20.12.08.mp4\n",
      "Video downloaded to: Marathi_mp4/0_2024.08.12_20.11.08-2024.08.12_20.12.08.mp4\n",
      "MoviePy - Writing audio in Marathi_mp3/0_2024.08.12_20.11.08-2024.08.12_20.12.08.mp3\n"
     ]
    },
    {
     "name": "stderr",
     "output_type": "stream",
     "text": [
      "                                                                                                                        \r"
     ]
    },
    {
     "name": "stdout",
     "output_type": "stream",
     "text": [
      "MoviePy - Done.\n",
      "Converted Marathi_mp4/0_2024.08.12_20.11.08-2024.08.12_20.12.08.mp4 to Marathi_mp3/0_2024.08.12_20.11.08-2024.08.12_20.12.08.mp3\n",
      "Deleted Marathi_mp4/0_2024.08.12_20.11.08-2024.08.12_20.12.08.mp4\n",
      "Preparing to download Marathi/0_2024.08.12_20.12.08-2024.08.12_20.13.08.mp4 to Marathi_mp4/0_2024.08.12_20.12.08-2024.08.12_20.13.08.mp4\n",
      "Video downloaded to: Marathi_mp4/0_2024.08.12_20.12.08-2024.08.12_20.13.08.mp4\n",
      "MoviePy - Writing audio in Marathi_mp3/0_2024.08.12_20.12.08-2024.08.12_20.13.08.mp3\n"
     ]
    },
    {
     "name": "stderr",
     "output_type": "stream",
     "text": [
      "                                                                                                                        \r"
     ]
    },
    {
     "name": "stdout",
     "output_type": "stream",
     "text": [
      "MoviePy - Done.\n",
      "Converted Marathi_mp4/0_2024.08.12_20.12.08-2024.08.12_20.13.08.mp4 to Marathi_mp3/0_2024.08.12_20.12.08-2024.08.12_20.13.08.mp3\n",
      "Deleted Marathi_mp4/0_2024.08.12_20.12.08-2024.08.12_20.13.08.mp4\n",
      "Preparing to download Marathi/0_2024.08.12_20.13.08-2024.08.12_20.14.08.mp4 to Marathi_mp4/0_2024.08.12_20.13.08-2024.08.12_20.14.08.mp4\n",
      "Video downloaded to: Marathi_mp4/0_2024.08.12_20.13.08-2024.08.12_20.14.08.mp4\n",
      "MoviePy - Writing audio in Marathi_mp3/0_2024.08.12_20.13.08-2024.08.12_20.14.08.mp3\n"
     ]
    },
    {
     "name": "stderr",
     "output_type": "stream",
     "text": [
      "                                                                                                                        \r"
     ]
    },
    {
     "name": "stdout",
     "output_type": "stream",
     "text": [
      "MoviePy - Done.\n",
      "Converted Marathi_mp4/0_2024.08.12_20.13.08-2024.08.12_20.14.08.mp4 to Marathi_mp3/0_2024.08.12_20.13.08-2024.08.12_20.14.08.mp3\n",
      "Deleted Marathi_mp4/0_2024.08.12_20.13.08-2024.08.12_20.14.08.mp4\n",
      "Preparing to download Marathi/0_2024.08.12_20.14.08-2024.08.12_20.15.08.mp4 to Marathi_mp4/0_2024.08.12_20.14.08-2024.08.12_20.15.08.mp4\n",
      "Video downloaded to: Marathi_mp4/0_2024.08.12_20.14.08-2024.08.12_20.15.08.mp4\n",
      "MoviePy - Writing audio in Marathi_mp3/0_2024.08.12_20.14.08-2024.08.12_20.15.08.mp3\n"
     ]
    },
    {
     "name": "stderr",
     "output_type": "stream",
     "text": [
      "                                                                                                                        \r"
     ]
    },
    {
     "name": "stdout",
     "output_type": "stream",
     "text": [
      "MoviePy - Done.\n",
      "Converted Marathi_mp4/0_2024.08.12_20.14.08-2024.08.12_20.15.08.mp4 to Marathi_mp3/0_2024.08.12_20.14.08-2024.08.12_20.15.08.mp3\n",
      "Deleted Marathi_mp4/0_2024.08.12_20.14.08-2024.08.12_20.15.08.mp4\n",
      "Preparing to download Marathi/0_2024.08.12_20.15.08-2024.08.12_20.16.08.mp4 to Marathi_mp4/0_2024.08.12_20.15.08-2024.08.12_20.16.08.mp4\n",
      "Video downloaded to: Marathi_mp4/0_2024.08.12_20.15.08-2024.08.12_20.16.08.mp4\n",
      "MoviePy - Writing audio in Marathi_mp3/0_2024.08.12_20.15.08-2024.08.12_20.16.08.mp3\n"
     ]
    },
    {
     "name": "stderr",
     "output_type": "stream",
     "text": [
      "                                                                                                                        \r"
     ]
    },
    {
     "name": "stdout",
     "output_type": "stream",
     "text": [
      "MoviePy - Done.\n",
      "Converted Marathi_mp4/0_2024.08.12_20.15.08-2024.08.12_20.16.08.mp4 to Marathi_mp3/0_2024.08.12_20.15.08-2024.08.12_20.16.08.mp3\n",
      "Deleted Marathi_mp4/0_2024.08.12_20.15.08-2024.08.12_20.16.08.mp4\n",
      "Preparing to download Marathi/0_2024.08.12_20.16.08-2024.08.12_20.17.08.mp4 to Marathi_mp4/0_2024.08.12_20.16.08-2024.08.12_20.17.08.mp4\n",
      "Video downloaded to: Marathi_mp4/0_2024.08.12_20.16.08-2024.08.12_20.17.08.mp4\n",
      "MoviePy - Writing audio in Marathi_mp3/0_2024.08.12_20.16.08-2024.08.12_20.17.08.mp3\n"
     ]
    },
    {
     "name": "stderr",
     "output_type": "stream",
     "text": [
      "                                                                                                                        \r"
     ]
    },
    {
     "name": "stdout",
     "output_type": "stream",
     "text": [
      "MoviePy - Done.\n",
      "Converted Marathi_mp4/0_2024.08.12_20.16.08-2024.08.12_20.17.08.mp4 to Marathi_mp3/0_2024.08.12_20.16.08-2024.08.12_20.17.08.mp3\n",
      "Deleted Marathi_mp4/0_2024.08.12_20.16.08-2024.08.12_20.17.08.mp4\n",
      "Preparing to download Marathi/0_2024.08.12_20.17.08-2024.08.12_20.18.08.mp4 to Marathi_mp4/0_2024.08.12_20.17.08-2024.08.12_20.18.08.mp4\n",
      "Video downloaded to: Marathi_mp4/0_2024.08.12_20.17.08-2024.08.12_20.18.08.mp4\n",
      "MoviePy - Writing audio in Marathi_mp3/0_2024.08.12_20.17.08-2024.08.12_20.18.08.mp3\n"
     ]
    },
    {
     "name": "stderr",
     "output_type": "stream",
     "text": [
      "                                                                                                                        \r"
     ]
    },
    {
     "name": "stdout",
     "output_type": "stream",
     "text": [
      "MoviePy - Done.\n",
      "Converted Marathi_mp4/0_2024.08.12_20.17.08-2024.08.12_20.18.08.mp4 to Marathi_mp3/0_2024.08.12_20.17.08-2024.08.12_20.18.08.mp3\n",
      "Deleted Marathi_mp4/0_2024.08.12_20.17.08-2024.08.12_20.18.08.mp4\n",
      "Preparing to download Marathi/0_2024.08.12_20.18.08-2024.08.12_20.19.08.mp4 to Marathi_mp4/0_2024.08.12_20.18.08-2024.08.12_20.19.08.mp4\n",
      "Video downloaded to: Marathi_mp4/0_2024.08.12_20.18.08-2024.08.12_20.19.08.mp4\n",
      "MoviePy - Writing audio in Marathi_mp3/0_2024.08.12_20.18.08-2024.08.12_20.19.08.mp3\n"
     ]
    },
    {
     "name": "stderr",
     "output_type": "stream",
     "text": [
      "                                                                                                                        \r"
     ]
    },
    {
     "name": "stdout",
     "output_type": "stream",
     "text": [
      "MoviePy - Done.\n",
      "Converted Marathi_mp4/0_2024.08.12_20.18.08-2024.08.12_20.19.08.mp4 to Marathi_mp3/0_2024.08.12_20.18.08-2024.08.12_20.19.08.mp3\n",
      "Deleted Marathi_mp4/0_2024.08.12_20.18.08-2024.08.12_20.19.08.mp4\n",
      "Preparing to download Marathi/0_2024.08.12_20.19.08-2024.08.12_20.20.08.mp4 to Marathi_mp4/0_2024.08.12_20.19.08-2024.08.12_20.20.08.mp4\n",
      "Video downloaded to: Marathi_mp4/0_2024.08.12_20.19.08-2024.08.12_20.20.08.mp4\n",
      "MoviePy - Writing audio in Marathi_mp3/0_2024.08.12_20.19.08-2024.08.12_20.20.08.mp3\n"
     ]
    },
    {
     "name": "stderr",
     "output_type": "stream",
     "text": [
      "                                                                                                                        \r"
     ]
    },
    {
     "name": "stdout",
     "output_type": "stream",
     "text": [
      "MoviePy - Done.\n",
      "Converted Marathi_mp4/0_2024.08.12_20.19.08-2024.08.12_20.20.08.mp4 to Marathi_mp3/0_2024.08.12_20.19.08-2024.08.12_20.20.08.mp3\n",
      "Deleted Marathi_mp4/0_2024.08.12_20.19.08-2024.08.12_20.20.08.mp4\n",
      "Preparing to download Marathi/0_2024.08.12_20.20.09-2024.08.12_20.21.09.mp4 to Marathi_mp4/0_2024.08.12_20.20.09-2024.08.12_20.21.09.mp4\n",
      "Video downloaded to: Marathi_mp4/0_2024.08.12_20.20.09-2024.08.12_20.21.09.mp4\n",
      "MoviePy - Writing audio in Marathi_mp3/0_2024.08.12_20.20.09-2024.08.12_20.21.09.mp3\n"
     ]
    },
    {
     "name": "stderr",
     "output_type": "stream",
     "text": [
      "                                                                                                                        \r"
     ]
    },
    {
     "name": "stdout",
     "output_type": "stream",
     "text": [
      "MoviePy - Done.\n",
      "Converted Marathi_mp4/0_2024.08.12_20.20.09-2024.08.12_20.21.09.mp4 to Marathi_mp3/0_2024.08.12_20.20.09-2024.08.12_20.21.09.mp3\n",
      "Deleted Marathi_mp4/0_2024.08.12_20.20.09-2024.08.12_20.21.09.mp4\n",
      "Preparing to download Marathi/0_2024.08.12_20.21.09-2024.08.12_20.22.09.mp4 to Marathi_mp4/0_2024.08.12_20.21.09-2024.08.12_20.22.09.mp4\n",
      "Video downloaded to: Marathi_mp4/0_2024.08.12_20.21.09-2024.08.12_20.22.09.mp4\n",
      "MoviePy - Writing audio in Marathi_mp3/0_2024.08.12_20.21.09-2024.08.12_20.22.09.mp3\n"
     ]
    },
    {
     "name": "stderr",
     "output_type": "stream",
     "text": [
      "                                                                                                                        \r"
     ]
    },
    {
     "name": "stdout",
     "output_type": "stream",
     "text": [
      "MoviePy - Done.\n",
      "Converted Marathi_mp4/0_2024.08.12_20.21.09-2024.08.12_20.22.09.mp4 to Marathi_mp3/0_2024.08.12_20.21.09-2024.08.12_20.22.09.mp3\n",
      "Deleted Marathi_mp4/0_2024.08.12_20.21.09-2024.08.12_20.22.09.mp4\n",
      "Preparing to download Marathi/0_2024.08.12_20.22.09-2024.08.12_20.23.09.mp4 to Marathi_mp4/0_2024.08.12_20.22.09-2024.08.12_20.23.09.mp4\n",
      "Video downloaded to: Marathi_mp4/0_2024.08.12_20.22.09-2024.08.12_20.23.09.mp4\n",
      "MoviePy - Writing audio in Marathi_mp3/0_2024.08.12_20.22.09-2024.08.12_20.23.09.mp3\n"
     ]
    },
    {
     "name": "stderr",
     "output_type": "stream",
     "text": [
      "                                                                                                                        \r"
     ]
    },
    {
     "name": "stdout",
     "output_type": "stream",
     "text": [
      "MoviePy - Done.\n",
      "Converted Marathi_mp4/0_2024.08.12_20.22.09-2024.08.12_20.23.09.mp4 to Marathi_mp3/0_2024.08.12_20.22.09-2024.08.12_20.23.09.mp3\n",
      "Deleted Marathi_mp4/0_2024.08.12_20.22.09-2024.08.12_20.23.09.mp4\n",
      "Preparing to download Marathi/0_2024.08.12_20.23.09-2024.08.12_20.24.09.mp4 to Marathi_mp4/0_2024.08.12_20.23.09-2024.08.12_20.24.09.mp4\n",
      "Video downloaded to: Marathi_mp4/0_2024.08.12_20.23.09-2024.08.12_20.24.09.mp4\n",
      "MoviePy - Writing audio in Marathi_mp3/0_2024.08.12_20.23.09-2024.08.12_20.24.09.mp3\n"
     ]
    },
    {
     "name": "stderr",
     "output_type": "stream",
     "text": [
      "                                                                                                                        \r"
     ]
    },
    {
     "name": "stdout",
     "output_type": "stream",
     "text": [
      "MoviePy - Done.\n",
      "Converted Marathi_mp4/0_2024.08.12_20.23.09-2024.08.12_20.24.09.mp4 to Marathi_mp3/0_2024.08.12_20.23.09-2024.08.12_20.24.09.mp3\n",
      "Deleted Marathi_mp4/0_2024.08.12_20.23.09-2024.08.12_20.24.09.mp4\n",
      "Preparing to download Marathi/0_2024.08.12_20.24.09-2024.08.12_20.25.09.mp4 to Marathi_mp4/0_2024.08.12_20.24.09-2024.08.12_20.25.09.mp4\n",
      "Video downloaded to: Marathi_mp4/0_2024.08.12_20.24.09-2024.08.12_20.25.09.mp4\n",
      "MoviePy - Writing audio in Marathi_mp3/0_2024.08.12_20.24.09-2024.08.12_20.25.09.mp3\n"
     ]
    },
    {
     "name": "stderr",
     "output_type": "stream",
     "text": [
      "                                                                                                                        \r"
     ]
    },
    {
     "name": "stdout",
     "output_type": "stream",
     "text": [
      "MoviePy - Done.\n",
      "Converted Marathi_mp4/0_2024.08.12_20.24.09-2024.08.12_20.25.09.mp4 to Marathi_mp3/0_2024.08.12_20.24.09-2024.08.12_20.25.09.mp3\n",
      "Deleted Marathi_mp4/0_2024.08.12_20.24.09-2024.08.12_20.25.09.mp4\n",
      "Preparing to download Marathi/0_2024.08.12_20.25.09-2024.08.12_20.26.09.mp4 to Marathi_mp4/0_2024.08.12_20.25.09-2024.08.12_20.26.09.mp4\n",
      "Video downloaded to: Marathi_mp4/0_2024.08.12_20.25.09-2024.08.12_20.26.09.mp4\n",
      "MoviePy - Writing audio in Marathi_mp3/0_2024.08.12_20.25.09-2024.08.12_20.26.09.mp3\n"
     ]
    },
    {
     "name": "stderr",
     "output_type": "stream",
     "text": [
      "                                                                                                                        \r"
     ]
    },
    {
     "name": "stdout",
     "output_type": "stream",
     "text": [
      "MoviePy - Done.\n",
      "Converted Marathi_mp4/0_2024.08.12_20.25.09-2024.08.12_20.26.09.mp4 to Marathi_mp3/0_2024.08.12_20.25.09-2024.08.12_20.26.09.mp3\n",
      "Deleted Marathi_mp4/0_2024.08.12_20.25.09-2024.08.12_20.26.09.mp4\n",
      "Preparing to download Marathi/0_2024.08.12_20.26.09-2024.08.12_20.27.09.mp4 to Marathi_mp4/0_2024.08.12_20.26.09-2024.08.12_20.27.09.mp4\n",
      "Video downloaded to: Marathi_mp4/0_2024.08.12_20.26.09-2024.08.12_20.27.09.mp4\n",
      "MoviePy - Writing audio in Marathi_mp3/0_2024.08.12_20.26.09-2024.08.12_20.27.09.mp3\n"
     ]
    },
    {
     "name": "stderr",
     "output_type": "stream",
     "text": [
      "                                                                                                                        \r"
     ]
    },
    {
     "name": "stdout",
     "output_type": "stream",
     "text": [
      "MoviePy - Done.\n",
      "Converted Marathi_mp4/0_2024.08.12_20.26.09-2024.08.12_20.27.09.mp4 to Marathi_mp3/0_2024.08.12_20.26.09-2024.08.12_20.27.09.mp3\n",
      "Deleted Marathi_mp4/0_2024.08.12_20.26.09-2024.08.12_20.27.09.mp4\n",
      "Preparing to download Marathi/0_2024.08.12_20.27.09-2024.08.12_20.28.09.mp4 to Marathi_mp4/0_2024.08.12_20.27.09-2024.08.12_20.28.09.mp4\n",
      "Video downloaded to: Marathi_mp4/0_2024.08.12_20.27.09-2024.08.12_20.28.09.mp4\n",
      "MoviePy - Writing audio in Marathi_mp3/0_2024.08.12_20.27.09-2024.08.12_20.28.09.mp3\n"
     ]
    },
    {
     "name": "stderr",
     "output_type": "stream",
     "text": [
      "                                                                                                                        \r"
     ]
    },
    {
     "name": "stdout",
     "output_type": "stream",
     "text": [
      "MoviePy - Done.\n",
      "Converted Marathi_mp4/0_2024.08.12_20.27.09-2024.08.12_20.28.09.mp4 to Marathi_mp3/0_2024.08.12_20.27.09-2024.08.12_20.28.09.mp3\n",
      "Deleted Marathi_mp4/0_2024.08.12_20.27.09-2024.08.12_20.28.09.mp4\n",
      "Preparing to download Marathi/0_2024.08.12_20.28.10-2024.08.12_20.29.10.mp4 to Marathi_mp4/0_2024.08.12_20.28.10-2024.08.12_20.29.10.mp4\n",
      "Video downloaded to: Marathi_mp4/0_2024.08.12_20.28.10-2024.08.12_20.29.10.mp4\n",
      "MoviePy - Writing audio in Marathi_mp3/0_2024.08.12_20.28.10-2024.08.12_20.29.10.mp3\n"
     ]
    },
    {
     "name": "stderr",
     "output_type": "stream",
     "text": [
      "                                                                                                                        \r"
     ]
    },
    {
     "name": "stdout",
     "output_type": "stream",
     "text": [
      "MoviePy - Done.\n",
      "Converted Marathi_mp4/0_2024.08.12_20.28.10-2024.08.12_20.29.10.mp4 to Marathi_mp3/0_2024.08.12_20.28.10-2024.08.12_20.29.10.mp3\n",
      "Deleted Marathi_mp4/0_2024.08.12_20.28.10-2024.08.12_20.29.10.mp4\n",
      "Preparing to download Marathi/0_2024.08.12_20.29.10-2024.08.12_20.30.10.mp4 to Marathi_mp4/0_2024.08.12_20.29.10-2024.08.12_20.30.10.mp4\n",
      "Video downloaded to: Marathi_mp4/0_2024.08.12_20.29.10-2024.08.12_20.30.10.mp4\n",
      "MoviePy - Writing audio in Marathi_mp3/0_2024.08.12_20.29.10-2024.08.12_20.30.10.mp3\n"
     ]
    },
    {
     "name": "stderr",
     "output_type": "stream",
     "text": [
      "                                                                                                                        \r"
     ]
    },
    {
     "name": "stdout",
     "output_type": "stream",
     "text": [
      "MoviePy - Done.\n",
      "Converted Marathi_mp4/0_2024.08.12_20.29.10-2024.08.12_20.30.10.mp4 to Marathi_mp3/0_2024.08.12_20.29.10-2024.08.12_20.30.10.mp3\n",
      "Deleted Marathi_mp4/0_2024.08.12_20.29.10-2024.08.12_20.30.10.mp4\n",
      "Preparing to download Marathi/0_2024.08.12_20.30.10-2024.08.12_20.31.10.mp4 to Marathi_mp4/0_2024.08.12_20.30.10-2024.08.12_20.31.10.mp4\n",
      "Video downloaded to: Marathi_mp4/0_2024.08.12_20.30.10-2024.08.12_20.31.10.mp4\n",
      "MoviePy - Writing audio in Marathi_mp3/0_2024.08.12_20.30.10-2024.08.12_20.31.10.mp3\n"
     ]
    },
    {
     "name": "stderr",
     "output_type": "stream",
     "text": [
      "                                                                                                                        \r"
     ]
    },
    {
     "name": "stdout",
     "output_type": "stream",
     "text": [
      "MoviePy - Done.\n",
      "Converted Marathi_mp4/0_2024.08.12_20.30.10-2024.08.12_20.31.10.mp4 to Marathi_mp3/0_2024.08.12_20.30.10-2024.08.12_20.31.10.mp3\n",
      "Deleted Marathi_mp4/0_2024.08.12_20.30.10-2024.08.12_20.31.10.mp4\n",
      "Preparing to download Marathi/0_2024.08.12_20.31.10-2024.08.12_20.32.10.mp4 to Marathi_mp4/0_2024.08.12_20.31.10-2024.08.12_20.32.10.mp4\n",
      "Video downloaded to: Marathi_mp4/0_2024.08.12_20.31.10-2024.08.12_20.32.10.mp4\n",
      "MoviePy - Writing audio in Marathi_mp3/0_2024.08.12_20.31.10-2024.08.12_20.32.10.mp3\n"
     ]
    },
    {
     "name": "stderr",
     "output_type": "stream",
     "text": [
      "                                                                                                                        \r"
     ]
    },
    {
     "name": "stdout",
     "output_type": "stream",
     "text": [
      "MoviePy - Done.\n",
      "Converted Marathi_mp4/0_2024.08.12_20.31.10-2024.08.12_20.32.10.mp4 to Marathi_mp3/0_2024.08.12_20.31.10-2024.08.12_20.32.10.mp3\n",
      "Deleted Marathi_mp4/0_2024.08.12_20.31.10-2024.08.12_20.32.10.mp4\n",
      "Preparing to download Marathi/0_2024.08.12_20.32.10-2024.08.12_20.33.10.mp4 to Marathi_mp4/0_2024.08.12_20.32.10-2024.08.12_20.33.10.mp4\n",
      "Video downloaded to: Marathi_mp4/0_2024.08.12_20.32.10-2024.08.12_20.33.10.mp4\n",
      "MoviePy - Writing audio in Marathi_mp3/0_2024.08.12_20.32.10-2024.08.12_20.33.10.mp3\n"
     ]
    },
    {
     "name": "stderr",
     "output_type": "stream",
     "text": [
      "                                                                                                                        \r"
     ]
    },
    {
     "name": "stdout",
     "output_type": "stream",
     "text": [
      "MoviePy - Done.\n",
      "Converted Marathi_mp4/0_2024.08.12_20.32.10-2024.08.12_20.33.10.mp4 to Marathi_mp3/0_2024.08.12_20.32.10-2024.08.12_20.33.10.mp3\n",
      "Deleted Marathi_mp4/0_2024.08.12_20.32.10-2024.08.12_20.33.10.mp4\n",
      "Preparing to download Marathi/0_2024.08.12_20.33.10-2024.08.12_20.34.10.mp4 to Marathi_mp4/0_2024.08.12_20.33.10-2024.08.12_20.34.10.mp4\n",
      "Video downloaded to: Marathi_mp4/0_2024.08.12_20.33.10-2024.08.12_20.34.10.mp4\n",
      "MoviePy - Writing audio in Marathi_mp3/0_2024.08.12_20.33.10-2024.08.12_20.34.10.mp3\n"
     ]
    },
    {
     "name": "stderr",
     "output_type": "stream",
     "text": [
      "                                                                                                                        \r"
     ]
    },
    {
     "name": "stdout",
     "output_type": "stream",
     "text": [
      "MoviePy - Done.\n",
      "Converted Marathi_mp4/0_2024.08.12_20.33.10-2024.08.12_20.34.10.mp4 to Marathi_mp3/0_2024.08.12_20.33.10-2024.08.12_20.34.10.mp3\n",
      "Deleted Marathi_mp4/0_2024.08.12_20.33.10-2024.08.12_20.34.10.mp4\n",
      "Preparing to download Marathi/0_2024.08.12_20.34.10-2024.08.12_20.35.10.mp4 to Marathi_mp4/0_2024.08.12_20.34.10-2024.08.12_20.35.10.mp4\n",
      "Video downloaded to: Marathi_mp4/0_2024.08.12_20.34.10-2024.08.12_20.35.10.mp4\n",
      "MoviePy - Writing audio in Marathi_mp3/0_2024.08.12_20.34.10-2024.08.12_20.35.10.mp3\n"
     ]
    },
    {
     "name": "stderr",
     "output_type": "stream",
     "text": [
      "                                                                                                                        \r"
     ]
    },
    {
     "name": "stdout",
     "output_type": "stream",
     "text": [
      "MoviePy - Done.\n",
      "Converted Marathi_mp4/0_2024.08.12_20.34.10-2024.08.12_20.35.10.mp4 to Marathi_mp3/0_2024.08.12_20.34.10-2024.08.12_20.35.10.mp3\n",
      "Deleted Marathi_mp4/0_2024.08.12_20.34.10-2024.08.12_20.35.10.mp4\n",
      "Preparing to download Marathi/0_2024.08.12_20.35.10-2024.08.12_20.36.10.mp4 to Marathi_mp4/0_2024.08.12_20.35.10-2024.08.12_20.36.10.mp4\n",
      "Video downloaded to: Marathi_mp4/0_2024.08.12_20.35.10-2024.08.12_20.36.10.mp4\n",
      "MoviePy - Writing audio in Marathi_mp3/0_2024.08.12_20.35.10-2024.08.12_20.36.10.mp3\n"
     ]
    },
    {
     "name": "stderr",
     "output_type": "stream",
     "text": [
      "                                                                                                                        \r"
     ]
    },
    {
     "name": "stdout",
     "output_type": "stream",
     "text": [
      "MoviePy - Done.\n",
      "Converted Marathi_mp4/0_2024.08.12_20.35.10-2024.08.12_20.36.10.mp4 to Marathi_mp3/0_2024.08.12_20.35.10-2024.08.12_20.36.10.mp3\n",
      "Deleted Marathi_mp4/0_2024.08.12_20.35.10-2024.08.12_20.36.10.mp4\n",
      "Preparing to download Marathi/0_2024.08.12_20.36.11-2024.08.12_20.37.11.mp4 to Marathi_mp4/0_2024.08.12_20.36.11-2024.08.12_20.37.11.mp4\n",
      "Video downloaded to: Marathi_mp4/0_2024.08.12_20.36.11-2024.08.12_20.37.11.mp4\n",
      "MoviePy - Writing audio in Marathi_mp3/0_2024.08.12_20.36.11-2024.08.12_20.37.11.mp3\n"
     ]
    },
    {
     "name": "stderr",
     "output_type": "stream",
     "text": [
      "                                                                                                                        \r"
     ]
    },
    {
     "name": "stdout",
     "output_type": "stream",
     "text": [
      "MoviePy - Done.\n",
      "Converted Marathi_mp4/0_2024.08.12_20.36.11-2024.08.12_20.37.11.mp4 to Marathi_mp3/0_2024.08.12_20.36.11-2024.08.12_20.37.11.mp3\n",
      "Deleted Marathi_mp4/0_2024.08.12_20.36.11-2024.08.12_20.37.11.mp4\n",
      "Preparing to download Marathi/0_2024.08.12_20.37.11-2024.08.12_20.38.11.mp4 to Marathi_mp4/0_2024.08.12_20.37.11-2024.08.12_20.38.11.mp4\n",
      "Video downloaded to: Marathi_mp4/0_2024.08.12_20.37.11-2024.08.12_20.38.11.mp4\n",
      "MoviePy - Writing audio in Marathi_mp3/0_2024.08.12_20.37.11-2024.08.12_20.38.11.mp3\n"
     ]
    },
    {
     "name": "stderr",
     "output_type": "stream",
     "text": [
      "                                                                                                                        \r"
     ]
    },
    {
     "name": "stdout",
     "output_type": "stream",
     "text": [
      "MoviePy - Done.\n",
      "Converted Marathi_mp4/0_2024.08.12_20.37.11-2024.08.12_20.38.11.mp4 to Marathi_mp3/0_2024.08.12_20.37.11-2024.08.12_20.38.11.mp3\n",
      "Deleted Marathi_mp4/0_2024.08.12_20.37.11-2024.08.12_20.38.11.mp4\n",
      "Preparing to download Marathi/0_2024.08.12_20.38.11-2024.08.12_20.39.11.mp4 to Marathi_mp4/0_2024.08.12_20.38.11-2024.08.12_20.39.11.mp4\n",
      "Video downloaded to: Marathi_mp4/0_2024.08.12_20.38.11-2024.08.12_20.39.11.mp4\n",
      "MoviePy - Writing audio in Marathi_mp3/0_2024.08.12_20.38.11-2024.08.12_20.39.11.mp3\n"
     ]
    },
    {
     "name": "stderr",
     "output_type": "stream",
     "text": [
      "                                                                                                                        \r"
     ]
    },
    {
     "name": "stdout",
     "output_type": "stream",
     "text": [
      "MoviePy - Done.\n",
      "Converted Marathi_mp4/0_2024.08.12_20.38.11-2024.08.12_20.39.11.mp4 to Marathi_mp3/0_2024.08.12_20.38.11-2024.08.12_20.39.11.mp3\n",
      "Deleted Marathi_mp4/0_2024.08.12_20.38.11-2024.08.12_20.39.11.mp4\n",
      "Preparing to download Marathi/0_2024.08.12_20.39.11-2024.08.12_20.40.11.mp4 to Marathi_mp4/0_2024.08.12_20.39.11-2024.08.12_20.40.11.mp4\n",
      "Video downloaded to: Marathi_mp4/0_2024.08.12_20.39.11-2024.08.12_20.40.11.mp4\n",
      "MoviePy - Writing audio in Marathi_mp3/0_2024.08.12_20.39.11-2024.08.12_20.40.11.mp3\n"
     ]
    },
    {
     "name": "stderr",
     "output_type": "stream",
     "text": [
      "                                                                                                                        \r"
     ]
    },
    {
     "name": "stdout",
     "output_type": "stream",
     "text": [
      "MoviePy - Done.\n",
      "Converted Marathi_mp4/0_2024.08.12_20.39.11-2024.08.12_20.40.11.mp4 to Marathi_mp3/0_2024.08.12_20.39.11-2024.08.12_20.40.11.mp3\n",
      "Deleted Marathi_mp4/0_2024.08.12_20.39.11-2024.08.12_20.40.11.mp4\n",
      "Preparing to download Marathi/0_2024.08.12_20.40.11-2024.08.12_20.41.11.mp4 to Marathi_mp4/0_2024.08.12_20.40.11-2024.08.12_20.41.11.mp4\n",
      "Video downloaded to: Marathi_mp4/0_2024.08.12_20.40.11-2024.08.12_20.41.11.mp4\n",
      "MoviePy - Writing audio in Marathi_mp3/0_2024.08.12_20.40.11-2024.08.12_20.41.11.mp3\n"
     ]
    },
    {
     "name": "stderr",
     "output_type": "stream",
     "text": [
      "                                                                                                                        \r"
     ]
    },
    {
     "name": "stdout",
     "output_type": "stream",
     "text": [
      "MoviePy - Done.\n",
      "Converted Marathi_mp4/0_2024.08.12_20.40.11-2024.08.12_20.41.11.mp4 to Marathi_mp3/0_2024.08.12_20.40.11-2024.08.12_20.41.11.mp3\n",
      "Deleted Marathi_mp4/0_2024.08.12_20.40.11-2024.08.12_20.41.11.mp4\n",
      "Preparing to download Marathi/0_2024.08.12_20.41.11-2024.08.12_20.42.11.mp4 to Marathi_mp4/0_2024.08.12_20.41.11-2024.08.12_20.42.11.mp4\n",
      "Video downloaded to: Marathi_mp4/0_2024.08.12_20.41.11-2024.08.12_20.42.11.mp4\n",
      "MoviePy - Writing audio in Marathi_mp3/0_2024.08.12_20.41.11-2024.08.12_20.42.11.mp3\n"
     ]
    },
    {
     "name": "stderr",
     "output_type": "stream",
     "text": [
      "                                                                                                                        \r"
     ]
    },
    {
     "name": "stdout",
     "output_type": "stream",
     "text": [
      "MoviePy - Done.\n",
      "Converted Marathi_mp4/0_2024.08.12_20.41.11-2024.08.12_20.42.11.mp4 to Marathi_mp3/0_2024.08.12_20.41.11-2024.08.12_20.42.11.mp3\n",
      "Deleted Marathi_mp4/0_2024.08.12_20.41.11-2024.08.12_20.42.11.mp4\n",
      "Preparing to download Marathi/0_2024.08.12_20.42.11-2024.08.12_20.43.11.mp4 to Marathi_mp4/0_2024.08.12_20.42.11-2024.08.12_20.43.11.mp4\n",
      "Video downloaded to: Marathi_mp4/0_2024.08.12_20.42.11-2024.08.12_20.43.11.mp4\n",
      "MoviePy - Writing audio in Marathi_mp3/0_2024.08.12_20.42.11-2024.08.12_20.43.11.mp3\n"
     ]
    },
    {
     "name": "stderr",
     "output_type": "stream",
     "text": [
      "                                                                                                                        \r"
     ]
    },
    {
     "name": "stdout",
     "output_type": "stream",
     "text": [
      "MoviePy - Done.\n",
      "Converted Marathi_mp4/0_2024.08.12_20.42.11-2024.08.12_20.43.11.mp4 to Marathi_mp3/0_2024.08.12_20.42.11-2024.08.12_20.43.11.mp3\n",
      "Deleted Marathi_mp4/0_2024.08.12_20.42.11-2024.08.12_20.43.11.mp4\n",
      "Preparing to download Marathi/0_2024.08.12_20.43.11-2024.08.12_20.44.11.mp4 to Marathi_mp4/0_2024.08.12_20.43.11-2024.08.12_20.44.11.mp4\n",
      "Video downloaded to: Marathi_mp4/0_2024.08.12_20.43.11-2024.08.12_20.44.11.mp4\n",
      "MoviePy - Writing audio in Marathi_mp3/0_2024.08.12_20.43.11-2024.08.12_20.44.11.mp3\n"
     ]
    },
    {
     "name": "stderr",
     "output_type": "stream",
     "text": [
      "                                                                                                                        \r"
     ]
    },
    {
     "name": "stdout",
     "output_type": "stream",
     "text": [
      "MoviePy - Done.\n",
      "Converted Marathi_mp4/0_2024.08.12_20.43.11-2024.08.12_20.44.11.mp4 to Marathi_mp3/0_2024.08.12_20.43.11-2024.08.12_20.44.11.mp3\n",
      "Deleted Marathi_mp4/0_2024.08.12_20.43.11-2024.08.12_20.44.11.mp4\n",
      "Preparing to download Marathi/0_2024.08.12_20.44.12-2024.08.12_20.45.12.mp4 to Marathi_mp4/0_2024.08.12_20.44.12-2024.08.12_20.45.12.mp4\n",
      "Video downloaded to: Marathi_mp4/0_2024.08.12_20.44.12-2024.08.12_20.45.12.mp4\n",
      "MoviePy - Writing audio in Marathi_mp3/0_2024.08.12_20.44.12-2024.08.12_20.45.12.mp3\n"
     ]
    },
    {
     "name": "stderr",
     "output_type": "stream",
     "text": [
      "                                                                                                                        \r"
     ]
    },
    {
     "name": "stdout",
     "output_type": "stream",
     "text": [
      "MoviePy - Done.\n",
      "Converted Marathi_mp4/0_2024.08.12_20.44.12-2024.08.12_20.45.12.mp4 to Marathi_mp3/0_2024.08.12_20.44.12-2024.08.12_20.45.12.mp3\n",
      "Deleted Marathi_mp4/0_2024.08.12_20.44.12-2024.08.12_20.45.12.mp4\n",
      "Preparing to download Marathi/0_2024.08.12_20.45.12-2024.08.12_20.46.12.mp4 to Marathi_mp4/0_2024.08.12_20.45.12-2024.08.12_20.46.12.mp4\n",
      "Video downloaded to: Marathi_mp4/0_2024.08.12_20.45.12-2024.08.12_20.46.12.mp4\n",
      "MoviePy - Writing audio in Marathi_mp3/0_2024.08.12_20.45.12-2024.08.12_20.46.12.mp3\n"
     ]
    },
    {
     "name": "stderr",
     "output_type": "stream",
     "text": [
      "                                                                                                                        \r"
     ]
    },
    {
     "name": "stdout",
     "output_type": "stream",
     "text": [
      "MoviePy - Done.\n",
      "Converted Marathi_mp4/0_2024.08.12_20.45.12-2024.08.12_20.46.12.mp4 to Marathi_mp3/0_2024.08.12_20.45.12-2024.08.12_20.46.12.mp3\n",
      "Deleted Marathi_mp4/0_2024.08.12_20.45.12-2024.08.12_20.46.12.mp4\n",
      "Preparing to download Marathi/0_2024.08.12_20.46.12-2024.08.12_20.47.12.mp4 to Marathi_mp4/0_2024.08.12_20.46.12-2024.08.12_20.47.12.mp4\n",
      "Video downloaded to: Marathi_mp4/0_2024.08.12_20.46.12-2024.08.12_20.47.12.mp4\n",
      "MoviePy - Writing audio in Marathi_mp3/0_2024.08.12_20.46.12-2024.08.12_20.47.12.mp3\n"
     ]
    },
    {
     "name": "stderr",
     "output_type": "stream",
     "text": [
      "                                                                                                                        \r"
     ]
    },
    {
     "name": "stdout",
     "output_type": "stream",
     "text": [
      "MoviePy - Done.\n",
      "Converted Marathi_mp4/0_2024.08.12_20.46.12-2024.08.12_20.47.12.mp4 to Marathi_mp3/0_2024.08.12_20.46.12-2024.08.12_20.47.12.mp3\n",
      "Deleted Marathi_mp4/0_2024.08.12_20.46.12-2024.08.12_20.47.12.mp4\n",
      "Preparing to download Marathi/0_2024.08.12_20.47.12-2024.08.12_20.48.12.mp4 to Marathi_mp4/0_2024.08.12_20.47.12-2024.08.12_20.48.12.mp4\n",
      "Video downloaded to: Marathi_mp4/0_2024.08.12_20.47.12-2024.08.12_20.48.12.mp4\n",
      "MoviePy - Writing audio in Marathi_mp3/0_2024.08.12_20.47.12-2024.08.12_20.48.12.mp3\n"
     ]
    },
    {
     "name": "stderr",
     "output_type": "stream",
     "text": [
      "                                                                                                                        \r"
     ]
    },
    {
     "name": "stdout",
     "output_type": "stream",
     "text": [
      "MoviePy - Done.\n",
      "Converted Marathi_mp4/0_2024.08.12_20.47.12-2024.08.12_20.48.12.mp4 to Marathi_mp3/0_2024.08.12_20.47.12-2024.08.12_20.48.12.mp3\n",
      "Deleted Marathi_mp4/0_2024.08.12_20.47.12-2024.08.12_20.48.12.mp4\n",
      "Preparing to download Marathi/0_2024.08.12_20.48.12-2024.08.12_20.49.12.mp4 to Marathi_mp4/0_2024.08.12_20.48.12-2024.08.12_20.49.12.mp4\n",
      "Video downloaded to: Marathi_mp4/0_2024.08.12_20.48.12-2024.08.12_20.49.12.mp4\n",
      "MoviePy - Writing audio in Marathi_mp3/0_2024.08.12_20.48.12-2024.08.12_20.49.12.mp3\n"
     ]
    },
    {
     "name": "stderr",
     "output_type": "stream",
     "text": [
      "                                                                                                                        \r"
     ]
    },
    {
     "name": "stdout",
     "output_type": "stream",
     "text": [
      "MoviePy - Done.\n",
      "Converted Marathi_mp4/0_2024.08.12_20.48.12-2024.08.12_20.49.12.mp4 to Marathi_mp3/0_2024.08.12_20.48.12-2024.08.12_20.49.12.mp3\n",
      "Deleted Marathi_mp4/0_2024.08.12_20.48.12-2024.08.12_20.49.12.mp4\n",
      "Preparing to download Marathi/0_2024.08.12_20.49.12-2024.08.12_20.50.12.mp4 to Marathi_mp4/0_2024.08.12_20.49.12-2024.08.12_20.50.12.mp4\n",
      "Video downloaded to: Marathi_mp4/0_2024.08.12_20.49.12-2024.08.12_20.50.12.mp4\n",
      "MoviePy - Writing audio in Marathi_mp3/0_2024.08.12_20.49.12-2024.08.12_20.50.12.mp3\n"
     ]
    },
    {
     "name": "stderr",
     "output_type": "stream",
     "text": [
      "                                                                                                                        \r"
     ]
    },
    {
     "name": "stdout",
     "output_type": "stream",
     "text": [
      "MoviePy - Done.\n",
      "Converted Marathi_mp4/0_2024.08.12_20.49.12-2024.08.12_20.50.12.mp4 to Marathi_mp3/0_2024.08.12_20.49.12-2024.08.12_20.50.12.mp3\n",
      "Deleted Marathi_mp4/0_2024.08.12_20.49.12-2024.08.12_20.50.12.mp4\n",
      "Preparing to download Marathi/0_2024.08.12_20.50.12-2024.08.12_20.51.12.mp4 to Marathi_mp4/0_2024.08.12_20.50.12-2024.08.12_20.51.12.mp4\n",
      "Video downloaded to: Marathi_mp4/0_2024.08.12_20.50.12-2024.08.12_20.51.12.mp4\n",
      "MoviePy - Writing audio in Marathi_mp3/0_2024.08.12_20.50.12-2024.08.12_20.51.12.mp3\n"
     ]
    },
    {
     "name": "stderr",
     "output_type": "stream",
     "text": [
      "                                                                                                                        \r"
     ]
    },
    {
     "name": "stdout",
     "output_type": "stream",
     "text": [
      "MoviePy - Done.\n",
      "Converted Marathi_mp4/0_2024.08.12_20.50.12-2024.08.12_20.51.12.mp4 to Marathi_mp3/0_2024.08.12_20.50.12-2024.08.12_20.51.12.mp3\n",
      "Deleted Marathi_mp4/0_2024.08.12_20.50.12-2024.08.12_20.51.12.mp4\n",
      "Preparing to download Marathi/0_2024.08.12_20.51.12-2024.08.12_20.52.12.mp4 to Marathi_mp4/0_2024.08.12_20.51.12-2024.08.12_20.52.12.mp4\n",
      "Video downloaded to: Marathi_mp4/0_2024.08.12_20.51.12-2024.08.12_20.52.12.mp4\n",
      "MoviePy - Writing audio in Marathi_mp3/0_2024.08.12_20.51.12-2024.08.12_20.52.12.mp3\n"
     ]
    },
    {
     "name": "stderr",
     "output_type": "stream",
     "text": [
      "                                                                                                                        \r"
     ]
    },
    {
     "name": "stdout",
     "output_type": "stream",
     "text": [
      "MoviePy - Done.\n",
      "Converted Marathi_mp4/0_2024.08.12_20.51.12-2024.08.12_20.52.12.mp4 to Marathi_mp3/0_2024.08.12_20.51.12-2024.08.12_20.52.12.mp3\n",
      "Deleted Marathi_mp4/0_2024.08.12_20.51.12-2024.08.12_20.52.12.mp4\n",
      "Preparing to download Marathi/0_2024.08.12_20.52.12-2024.08.12_20.53.12.mp4 to Marathi_mp4/0_2024.08.12_20.52.12-2024.08.12_20.53.12.mp4\n",
      "Video downloaded to: Marathi_mp4/0_2024.08.12_20.52.12-2024.08.12_20.53.12.mp4\n",
      "MoviePy - Writing audio in Marathi_mp3/0_2024.08.12_20.52.12-2024.08.12_20.53.12.mp3\n"
     ]
    },
    {
     "name": "stderr",
     "output_type": "stream",
     "text": [
      "                                                                                                                        \r"
     ]
    },
    {
     "name": "stdout",
     "output_type": "stream",
     "text": [
      "MoviePy - Done.\n",
      "Converted Marathi_mp4/0_2024.08.12_20.52.12-2024.08.12_20.53.12.mp4 to Marathi_mp3/0_2024.08.12_20.52.12-2024.08.12_20.53.12.mp3\n",
      "Deleted Marathi_mp4/0_2024.08.12_20.52.12-2024.08.12_20.53.12.mp4\n",
      "Preparing to download Marathi/0_2024.08.12_20.53.13-2024.08.12_20.54.13.mp4 to Marathi_mp4/0_2024.08.12_20.53.13-2024.08.12_20.54.13.mp4\n",
      "Video downloaded to: Marathi_mp4/0_2024.08.12_20.53.13-2024.08.12_20.54.13.mp4\n",
      "MoviePy - Writing audio in Marathi_mp3/0_2024.08.12_20.53.13-2024.08.12_20.54.13.mp3\n"
     ]
    },
    {
     "name": "stderr",
     "output_type": "stream",
     "text": [
      "                                                                                                                        \r"
     ]
    },
    {
     "name": "stdout",
     "output_type": "stream",
     "text": [
      "MoviePy - Done.\n",
      "Converted Marathi_mp4/0_2024.08.12_20.53.13-2024.08.12_20.54.13.mp4 to Marathi_mp3/0_2024.08.12_20.53.13-2024.08.12_20.54.13.mp3\n",
      "Deleted Marathi_mp4/0_2024.08.12_20.53.13-2024.08.12_20.54.13.mp4\n",
      "Preparing to download Marathi/0_2024.08.12_20.54.13-2024.08.12_20.55.13.mp4 to Marathi_mp4/0_2024.08.12_20.54.13-2024.08.12_20.55.13.mp4\n",
      "Video downloaded to: Marathi_mp4/0_2024.08.12_20.54.13-2024.08.12_20.55.13.mp4\n",
      "MoviePy - Writing audio in Marathi_mp3/0_2024.08.12_20.54.13-2024.08.12_20.55.13.mp3\n"
     ]
    },
    {
     "name": "stderr",
     "output_type": "stream",
     "text": [
      "                                                                                                                        \r"
     ]
    },
    {
     "name": "stdout",
     "output_type": "stream",
     "text": [
      "MoviePy - Done.\n",
      "Converted Marathi_mp4/0_2024.08.12_20.54.13-2024.08.12_20.55.13.mp4 to Marathi_mp3/0_2024.08.12_20.54.13-2024.08.12_20.55.13.mp3\n",
      "Deleted Marathi_mp4/0_2024.08.12_20.54.13-2024.08.12_20.55.13.mp4\n",
      "Preparing to download Marathi/0_2024.08.12_20.55.13-2024.08.12_20.56.13.mp4 to Marathi_mp4/0_2024.08.12_20.55.13-2024.08.12_20.56.13.mp4\n",
      "Video downloaded to: Marathi_mp4/0_2024.08.12_20.55.13-2024.08.12_20.56.13.mp4\n",
      "MoviePy - Writing audio in Marathi_mp3/0_2024.08.12_20.55.13-2024.08.12_20.56.13.mp3\n"
     ]
    },
    {
     "name": "stderr",
     "output_type": "stream",
     "text": [
      "                                                                                                                        \r"
     ]
    },
    {
     "name": "stdout",
     "output_type": "stream",
     "text": [
      "MoviePy - Done.\n",
      "Converted Marathi_mp4/0_2024.08.12_20.55.13-2024.08.12_20.56.13.mp4 to Marathi_mp3/0_2024.08.12_20.55.13-2024.08.12_20.56.13.mp3\n",
      "Deleted Marathi_mp4/0_2024.08.12_20.55.13-2024.08.12_20.56.13.mp4\n",
      "Preparing to download Marathi/0_2024.08.12_20.56.13-2024.08.12_20.57.13.mp4 to Marathi_mp4/0_2024.08.12_20.56.13-2024.08.12_20.57.13.mp4\n",
      "Video downloaded to: Marathi_mp4/0_2024.08.12_20.56.13-2024.08.12_20.57.13.mp4\n",
      "MoviePy - Writing audio in Marathi_mp3/0_2024.08.12_20.56.13-2024.08.12_20.57.13.mp3\n"
     ]
    },
    {
     "name": "stderr",
     "output_type": "stream",
     "text": [
      "                                                                                                                        \r"
     ]
    },
    {
     "name": "stdout",
     "output_type": "stream",
     "text": [
      "MoviePy - Done.\n",
      "Converted Marathi_mp4/0_2024.08.12_20.56.13-2024.08.12_20.57.13.mp4 to Marathi_mp3/0_2024.08.12_20.56.13-2024.08.12_20.57.13.mp3\n",
      "Deleted Marathi_mp4/0_2024.08.12_20.56.13-2024.08.12_20.57.13.mp4\n",
      "Preparing to download Marathi/0_2024.08.12_20.57.13-2024.08.12_20.58.13.mp4 to Marathi_mp4/0_2024.08.12_20.57.13-2024.08.12_20.58.13.mp4\n",
      "Video downloaded to: Marathi_mp4/0_2024.08.12_20.57.13-2024.08.12_20.58.13.mp4\n",
      "MoviePy - Writing audio in Marathi_mp3/0_2024.08.12_20.57.13-2024.08.12_20.58.13.mp3\n"
     ]
    },
    {
     "name": "stderr",
     "output_type": "stream",
     "text": [
      "                                                                                                                        \r"
     ]
    },
    {
     "name": "stdout",
     "output_type": "stream",
     "text": [
      "MoviePy - Done.\n",
      "Converted Marathi_mp4/0_2024.08.12_20.57.13-2024.08.12_20.58.13.mp4 to Marathi_mp3/0_2024.08.12_20.57.13-2024.08.12_20.58.13.mp3\n",
      "Deleted Marathi_mp4/0_2024.08.12_20.57.13-2024.08.12_20.58.13.mp4\n",
      "Preparing to download Marathi/0_2024.08.12_20.58.13-2024.08.12_20.59.13.mp4 to Marathi_mp4/0_2024.08.12_20.58.13-2024.08.12_20.59.13.mp4\n",
      "Video downloaded to: Marathi_mp4/0_2024.08.12_20.58.13-2024.08.12_20.59.13.mp4\n",
      "MoviePy - Writing audio in Marathi_mp3/0_2024.08.12_20.58.13-2024.08.12_20.59.13.mp3\n"
     ]
    },
    {
     "name": "stderr",
     "output_type": "stream",
     "text": [
      "                                                                                                                        \r"
     ]
    },
    {
     "name": "stdout",
     "output_type": "stream",
     "text": [
      "MoviePy - Done.\n",
      "Converted Marathi_mp4/0_2024.08.12_20.58.13-2024.08.12_20.59.13.mp4 to Marathi_mp3/0_2024.08.12_20.58.13-2024.08.12_20.59.13.mp3\n",
      "Deleted Marathi_mp4/0_2024.08.12_20.58.13-2024.08.12_20.59.13.mp4\n",
      "Preparing to download Marathi/0_2024.08.12_20.59.13-2024.08.12_21.00.13.mp4 to Marathi_mp4/0_2024.08.12_20.59.13-2024.08.12_21.00.13.mp4\n",
      "Video downloaded to: Marathi_mp4/0_2024.08.12_20.59.13-2024.08.12_21.00.13.mp4\n",
      "MoviePy - Writing audio in Marathi_mp3/0_2024.08.12_20.59.13-2024.08.12_21.00.13.mp3\n"
     ]
    },
    {
     "name": "stderr",
     "output_type": "stream",
     "text": [
      "                                                                                                                        \r"
     ]
    },
    {
     "name": "stdout",
     "output_type": "stream",
     "text": [
      "MoviePy - Done.\n",
      "Converted Marathi_mp4/0_2024.08.12_20.59.13-2024.08.12_21.00.13.mp4 to Marathi_mp3/0_2024.08.12_20.59.13-2024.08.12_21.00.13.mp3\n",
      "Deleted Marathi_mp4/0_2024.08.12_20.59.13-2024.08.12_21.00.13.mp4\n",
      "Preparing to download Marathi/0_2024.08.12_21.00.13-2024.08.12_21.01.13.mp4 to Marathi_mp4/0_2024.08.12_21.00.13-2024.08.12_21.01.13.mp4\n",
      "Video downloaded to: Marathi_mp4/0_2024.08.12_21.00.13-2024.08.12_21.01.13.mp4\n",
      "MoviePy - Writing audio in Marathi_mp3/0_2024.08.12_21.00.13-2024.08.12_21.01.13.mp3\n"
     ]
    },
    {
     "name": "stderr",
     "output_type": "stream",
     "text": [
      "                                                                                                                        \r"
     ]
    },
    {
     "name": "stdout",
     "output_type": "stream",
     "text": [
      "MoviePy - Done.\n",
      "Converted Marathi_mp4/0_2024.08.12_21.00.13-2024.08.12_21.01.13.mp4 to Marathi_mp3/0_2024.08.12_21.00.13-2024.08.12_21.01.13.mp3\n",
      "Deleted Marathi_mp4/0_2024.08.12_21.00.13-2024.08.12_21.01.13.mp4\n",
      "Preparing to download Marathi/0_2024.08.12_21.01.14-2024.08.12_21.02.14.mp4 to Marathi_mp4/0_2024.08.12_21.01.14-2024.08.12_21.02.14.mp4\n",
      "Video downloaded to: Marathi_mp4/0_2024.08.12_21.01.14-2024.08.12_21.02.14.mp4\n",
      "MoviePy - Writing audio in Marathi_mp3/0_2024.08.12_21.01.14-2024.08.12_21.02.14.mp3\n"
     ]
    },
    {
     "name": "stderr",
     "output_type": "stream",
     "text": [
      "                                                                                                                        \r"
     ]
    },
    {
     "name": "stdout",
     "output_type": "stream",
     "text": [
      "MoviePy - Done.\n",
      "Converted Marathi_mp4/0_2024.08.12_21.01.14-2024.08.12_21.02.14.mp4 to Marathi_mp3/0_2024.08.12_21.01.14-2024.08.12_21.02.14.mp3\n",
      "Deleted Marathi_mp4/0_2024.08.12_21.01.14-2024.08.12_21.02.14.mp4\n",
      "Preparing to download Marathi/0_2024.08.12_21.02.14-2024.08.12_21.03.14.mp4 to Marathi_mp4/0_2024.08.12_21.02.14-2024.08.12_21.03.14.mp4\n",
      "Video downloaded to: Marathi_mp4/0_2024.08.12_21.02.14-2024.08.12_21.03.14.mp4\n",
      "MoviePy - Writing audio in Marathi_mp3/0_2024.08.12_21.02.14-2024.08.12_21.03.14.mp3\n"
     ]
    },
    {
     "name": "stderr",
     "output_type": "stream",
     "text": [
      "                                                                                                                        \r"
     ]
    },
    {
     "name": "stdout",
     "output_type": "stream",
     "text": [
      "MoviePy - Done.\n",
      "Converted Marathi_mp4/0_2024.08.12_21.02.14-2024.08.12_21.03.14.mp4 to Marathi_mp3/0_2024.08.12_21.02.14-2024.08.12_21.03.14.mp3\n",
      "Deleted Marathi_mp4/0_2024.08.12_21.02.14-2024.08.12_21.03.14.mp4\n",
      "Preparing to download Marathi/0_2024.08.12_21.03.14-2024.08.12_21.04.14.mp4 to Marathi_mp4/0_2024.08.12_21.03.14-2024.08.12_21.04.14.mp4\n",
      "Video downloaded to: Marathi_mp4/0_2024.08.12_21.03.14-2024.08.12_21.04.14.mp4\n",
      "MoviePy - Writing audio in Marathi_mp3/0_2024.08.12_21.03.14-2024.08.12_21.04.14.mp3\n"
     ]
    },
    {
     "name": "stderr",
     "output_type": "stream",
     "text": [
      "                                                                                                                        \r"
     ]
    },
    {
     "name": "stdout",
     "output_type": "stream",
     "text": [
      "MoviePy - Done.\n",
      "Converted Marathi_mp4/0_2024.08.12_21.03.14-2024.08.12_21.04.14.mp4 to Marathi_mp3/0_2024.08.12_21.03.14-2024.08.12_21.04.14.mp3\n",
      "Deleted Marathi_mp4/0_2024.08.12_21.03.14-2024.08.12_21.04.14.mp4\n",
      "Preparing to download Marathi/0_2024.08.12_21.04.14-2024.08.12_21.05.14.mp4 to Marathi_mp4/0_2024.08.12_21.04.14-2024.08.12_21.05.14.mp4\n",
      "Video downloaded to: Marathi_mp4/0_2024.08.12_21.04.14-2024.08.12_21.05.14.mp4\n",
      "MoviePy - Writing audio in Marathi_mp3/0_2024.08.12_21.04.14-2024.08.12_21.05.14.mp3\n"
     ]
    },
    {
     "name": "stderr",
     "output_type": "stream",
     "text": [
      "                                                                                                                        \r"
     ]
    },
    {
     "name": "stdout",
     "output_type": "stream",
     "text": [
      "MoviePy - Done.\n",
      "Converted Marathi_mp4/0_2024.08.12_21.04.14-2024.08.12_21.05.14.mp4 to Marathi_mp3/0_2024.08.12_21.04.14-2024.08.12_21.05.14.mp3\n",
      "Deleted Marathi_mp4/0_2024.08.12_21.04.14-2024.08.12_21.05.14.mp4\n",
      "Preparing to download Marathi/0_2024.08.12_21.05.14-2024.08.12_21.06.14.mp4 to Marathi_mp4/0_2024.08.12_21.05.14-2024.08.12_21.06.14.mp4\n",
      "Video downloaded to: Marathi_mp4/0_2024.08.12_21.05.14-2024.08.12_21.06.14.mp4\n",
      "MoviePy - Writing audio in Marathi_mp3/0_2024.08.12_21.05.14-2024.08.12_21.06.14.mp3\n"
     ]
    },
    {
     "name": "stderr",
     "output_type": "stream",
     "text": [
      "                                                                                                                        \r"
     ]
    },
    {
     "name": "stdout",
     "output_type": "stream",
     "text": [
      "MoviePy - Done.\n",
      "Converted Marathi_mp4/0_2024.08.12_21.05.14-2024.08.12_21.06.14.mp4 to Marathi_mp3/0_2024.08.12_21.05.14-2024.08.12_21.06.14.mp3\n",
      "Deleted Marathi_mp4/0_2024.08.12_21.05.14-2024.08.12_21.06.14.mp4\n",
      "Preparing to download Marathi/0_2024.08.12_21.06.14-2024.08.12_21.07.14.mp4 to Marathi_mp4/0_2024.08.12_21.06.14-2024.08.12_21.07.14.mp4\n",
      "Video downloaded to: Marathi_mp4/0_2024.08.12_21.06.14-2024.08.12_21.07.14.mp4\n",
      "MoviePy - Writing audio in Marathi_mp3/0_2024.08.12_21.06.14-2024.08.12_21.07.14.mp3\n"
     ]
    },
    {
     "name": "stderr",
     "output_type": "stream",
     "text": [
      "                                                                                                                        \r"
     ]
    },
    {
     "name": "stdout",
     "output_type": "stream",
     "text": [
      "MoviePy - Done.\n",
      "Converted Marathi_mp4/0_2024.08.12_21.06.14-2024.08.12_21.07.14.mp4 to Marathi_mp3/0_2024.08.12_21.06.14-2024.08.12_21.07.14.mp3\n",
      "Deleted Marathi_mp4/0_2024.08.12_21.06.14-2024.08.12_21.07.14.mp4\n",
      "Preparing to download Marathi/0_2024.08.12_21.07.14-2024.08.12_21.08.14.mp4 to Marathi_mp4/0_2024.08.12_21.07.14-2024.08.12_21.08.14.mp4\n",
      "Video downloaded to: Marathi_mp4/0_2024.08.12_21.07.14-2024.08.12_21.08.14.mp4\n",
      "MoviePy - Writing audio in Marathi_mp3/0_2024.08.12_21.07.14-2024.08.12_21.08.14.mp3\n"
     ]
    },
    {
     "name": "stderr",
     "output_type": "stream",
     "text": [
      "                                                                                                                        \r"
     ]
    },
    {
     "name": "stdout",
     "output_type": "stream",
     "text": [
      "MoviePy - Done.\n",
      "Converted Marathi_mp4/0_2024.08.12_21.07.14-2024.08.12_21.08.14.mp4 to Marathi_mp3/0_2024.08.12_21.07.14-2024.08.12_21.08.14.mp3\n",
      "Deleted Marathi_mp4/0_2024.08.12_21.07.14-2024.08.12_21.08.14.mp4\n",
      "Preparing to download Marathi/0_2024.08.12_21.08.14-2024.08.12_21.09.14.mp4 to Marathi_mp4/0_2024.08.12_21.08.14-2024.08.12_21.09.14.mp4\n",
      "Video downloaded to: Marathi_mp4/0_2024.08.12_21.08.14-2024.08.12_21.09.14.mp4\n",
      "MoviePy - Writing audio in Marathi_mp3/0_2024.08.12_21.08.14-2024.08.12_21.09.14.mp3\n"
     ]
    },
    {
     "name": "stderr",
     "output_type": "stream",
     "text": [
      "                                                                                                                        \r"
     ]
    },
    {
     "name": "stdout",
     "output_type": "stream",
     "text": [
      "MoviePy - Done.\n",
      "Converted Marathi_mp4/0_2024.08.12_21.08.14-2024.08.12_21.09.14.mp4 to Marathi_mp3/0_2024.08.12_21.08.14-2024.08.12_21.09.14.mp3\n",
      "Deleted Marathi_mp4/0_2024.08.12_21.08.14-2024.08.12_21.09.14.mp4\n",
      "Preparing to download Marathi/0_2024.08.12_21.09.15-2024.08.12_21.10.15.mp4 to Marathi_mp4/0_2024.08.12_21.09.15-2024.08.12_21.10.15.mp4\n",
      "Video downloaded to: Marathi_mp4/0_2024.08.12_21.09.15-2024.08.12_21.10.15.mp4\n",
      "MoviePy - Writing audio in Marathi_mp3/0_2024.08.12_21.09.15-2024.08.12_21.10.15.mp3\n"
     ]
    },
    {
     "name": "stderr",
     "output_type": "stream",
     "text": [
      "                                                                                                                        \r"
     ]
    },
    {
     "name": "stdout",
     "output_type": "stream",
     "text": [
      "MoviePy - Done.\n",
      "Converted Marathi_mp4/0_2024.08.12_21.09.15-2024.08.12_21.10.15.mp4 to Marathi_mp3/0_2024.08.12_21.09.15-2024.08.12_21.10.15.mp3\n",
      "Deleted Marathi_mp4/0_2024.08.12_21.09.15-2024.08.12_21.10.15.mp4\n",
      "Preparing to download Marathi/0_2024.08.12_21.10.15-2024.08.12_21.11.15.mp4 to Marathi_mp4/0_2024.08.12_21.10.15-2024.08.12_21.11.15.mp4\n",
      "Video downloaded to: Marathi_mp4/0_2024.08.12_21.10.15-2024.08.12_21.11.15.mp4\n",
      "MoviePy - Writing audio in Marathi_mp3/0_2024.08.12_21.10.15-2024.08.12_21.11.15.mp3\n"
     ]
    },
    {
     "name": "stderr",
     "output_type": "stream",
     "text": [
      "                                                                                                                        \r"
     ]
    },
    {
     "name": "stdout",
     "output_type": "stream",
     "text": [
      "MoviePy - Done.\n",
      "Converted Marathi_mp4/0_2024.08.12_21.10.15-2024.08.12_21.11.15.mp4 to Marathi_mp3/0_2024.08.12_21.10.15-2024.08.12_21.11.15.mp3\n",
      "Deleted Marathi_mp4/0_2024.08.12_21.10.15-2024.08.12_21.11.15.mp4\n",
      "Preparing to download Marathi/0_2024.08.12_21.11.15-2024.08.12_21.12.15.mp4 to Marathi_mp4/0_2024.08.12_21.11.15-2024.08.12_21.12.15.mp4\n",
      "Video downloaded to: Marathi_mp4/0_2024.08.12_21.11.15-2024.08.12_21.12.15.mp4\n",
      "MoviePy - Writing audio in Marathi_mp3/0_2024.08.12_21.11.15-2024.08.12_21.12.15.mp3\n"
     ]
    },
    {
     "name": "stderr",
     "output_type": "stream",
     "text": [
      "                                                                                                                        \r"
     ]
    },
    {
     "name": "stdout",
     "output_type": "stream",
     "text": [
      "MoviePy - Done.\n",
      "Converted Marathi_mp4/0_2024.08.12_21.11.15-2024.08.12_21.12.15.mp4 to Marathi_mp3/0_2024.08.12_21.11.15-2024.08.12_21.12.15.mp3\n",
      "Deleted Marathi_mp4/0_2024.08.12_21.11.15-2024.08.12_21.12.15.mp4\n",
      "Preparing to download Marathi/0_2024.08.12_21.12.15-2024.08.12_21.13.15.mp4 to Marathi_mp4/0_2024.08.12_21.12.15-2024.08.12_21.13.15.mp4\n",
      "Video downloaded to: Marathi_mp4/0_2024.08.12_21.12.15-2024.08.12_21.13.15.mp4\n",
      "MoviePy - Writing audio in Marathi_mp3/0_2024.08.12_21.12.15-2024.08.12_21.13.15.mp3\n"
     ]
    },
    {
     "name": "stderr",
     "output_type": "stream",
     "text": [
      "                                                                                                                        \r"
     ]
    },
    {
     "name": "stdout",
     "output_type": "stream",
     "text": [
      "MoviePy - Done.\n",
      "Converted Marathi_mp4/0_2024.08.12_21.12.15-2024.08.12_21.13.15.mp4 to Marathi_mp3/0_2024.08.12_21.12.15-2024.08.12_21.13.15.mp3\n",
      "Deleted Marathi_mp4/0_2024.08.12_21.12.15-2024.08.12_21.13.15.mp4\n",
      "Preparing to download Marathi/0_2024.08.12_21.13.15-2024.08.12_21.14.15.mp4 to Marathi_mp4/0_2024.08.12_21.13.15-2024.08.12_21.14.15.mp4\n",
      "Video downloaded to: Marathi_mp4/0_2024.08.12_21.13.15-2024.08.12_21.14.15.mp4\n",
      "MoviePy - Writing audio in Marathi_mp3/0_2024.08.12_21.13.15-2024.08.12_21.14.15.mp3\n"
     ]
    },
    {
     "name": "stderr",
     "output_type": "stream",
     "text": [
      "                                                                                                                        \r"
     ]
    },
    {
     "name": "stdout",
     "output_type": "stream",
     "text": [
      "MoviePy - Done.\n",
      "Converted Marathi_mp4/0_2024.08.12_21.13.15-2024.08.12_21.14.15.mp4 to Marathi_mp3/0_2024.08.12_21.13.15-2024.08.12_21.14.15.mp3\n",
      "Deleted Marathi_mp4/0_2024.08.12_21.13.15-2024.08.12_21.14.15.mp4\n",
      "Preparing to download Marathi/0_2024.08.12_21.14.15-2024.08.12_21.15.15.mp4 to Marathi_mp4/0_2024.08.12_21.14.15-2024.08.12_21.15.15.mp4\n",
      "Video downloaded to: Marathi_mp4/0_2024.08.12_21.14.15-2024.08.12_21.15.15.mp4\n",
      "MoviePy - Writing audio in Marathi_mp3/0_2024.08.12_21.14.15-2024.08.12_21.15.15.mp3\n"
     ]
    },
    {
     "name": "stderr",
     "output_type": "stream",
     "text": [
      "                                                                                                                        \r"
     ]
    },
    {
     "name": "stdout",
     "output_type": "stream",
     "text": [
      "MoviePy - Done.\n",
      "Converted Marathi_mp4/0_2024.08.12_21.14.15-2024.08.12_21.15.15.mp4 to Marathi_mp3/0_2024.08.12_21.14.15-2024.08.12_21.15.15.mp3\n",
      "Deleted Marathi_mp4/0_2024.08.12_21.14.15-2024.08.12_21.15.15.mp4\n",
      "Preparing to download Marathi/0_2024.08.12_21.15.15-2024.08.12_21.16.15.mp4 to Marathi_mp4/0_2024.08.12_21.15.15-2024.08.12_21.16.15.mp4\n",
      "Video downloaded to: Marathi_mp4/0_2024.08.12_21.15.15-2024.08.12_21.16.15.mp4\n",
      "MoviePy - Writing audio in Marathi_mp3/0_2024.08.12_21.15.15-2024.08.12_21.16.15.mp3\n"
     ]
    },
    {
     "name": "stderr",
     "output_type": "stream",
     "text": [
      "                                                                                                                        \r"
     ]
    },
    {
     "name": "stdout",
     "output_type": "stream",
     "text": [
      "MoviePy - Done.\n",
      "Converted Marathi_mp4/0_2024.08.12_21.15.15-2024.08.12_21.16.15.mp4 to Marathi_mp3/0_2024.08.12_21.15.15-2024.08.12_21.16.15.mp3\n",
      "Deleted Marathi_mp4/0_2024.08.12_21.15.15-2024.08.12_21.16.15.mp4\n",
      "Preparing to download Marathi/0_2024.08.12_21.16.15-2024.08.12_21.17.15.mp4 to Marathi_mp4/0_2024.08.12_21.16.15-2024.08.12_21.17.15.mp4\n",
      "Video downloaded to: Marathi_mp4/0_2024.08.12_21.16.15-2024.08.12_21.17.15.mp4\n",
      "MoviePy - Writing audio in Marathi_mp3/0_2024.08.12_21.16.15-2024.08.12_21.17.15.mp3\n"
     ]
    },
    {
     "name": "stderr",
     "output_type": "stream",
     "text": [
      "                                                                                                                        \r"
     ]
    },
    {
     "name": "stdout",
     "output_type": "stream",
     "text": [
      "MoviePy - Done.\n",
      "Converted Marathi_mp4/0_2024.08.12_21.16.15-2024.08.12_21.17.15.mp4 to Marathi_mp3/0_2024.08.12_21.16.15-2024.08.12_21.17.15.mp3\n",
      "Deleted Marathi_mp4/0_2024.08.12_21.16.15-2024.08.12_21.17.15.mp4\n",
      "Preparing to download Marathi/0_2024.08.12_21.17.16-2024.08.12_21.18.16.mp4 to Marathi_mp4/0_2024.08.12_21.17.16-2024.08.12_21.18.16.mp4\n",
      "Video downloaded to: Marathi_mp4/0_2024.08.12_21.17.16-2024.08.12_21.18.16.mp4\n",
      "MoviePy - Writing audio in Marathi_mp3/0_2024.08.12_21.17.16-2024.08.12_21.18.16.mp3\n"
     ]
    },
    {
     "name": "stderr",
     "output_type": "stream",
     "text": [
      "                                                                                                                        \r"
     ]
    },
    {
     "name": "stdout",
     "output_type": "stream",
     "text": [
      "MoviePy - Done.\n",
      "Converted Marathi_mp4/0_2024.08.12_21.17.16-2024.08.12_21.18.16.mp4 to Marathi_mp3/0_2024.08.12_21.17.16-2024.08.12_21.18.16.mp3\n",
      "Deleted Marathi_mp4/0_2024.08.12_21.17.16-2024.08.12_21.18.16.mp4\n",
      "Preparing to download Marathi/0_2024.08.12_21.18.16-2024.08.12_21.19.16.mp4 to Marathi_mp4/0_2024.08.12_21.18.16-2024.08.12_21.19.16.mp4\n",
      "Video downloaded to: Marathi_mp4/0_2024.08.12_21.18.16-2024.08.12_21.19.16.mp4\n",
      "MoviePy - Writing audio in Marathi_mp3/0_2024.08.12_21.18.16-2024.08.12_21.19.16.mp3\n"
     ]
    },
    {
     "name": "stderr",
     "output_type": "stream",
     "text": [
      "                                                                                                                        \r"
     ]
    },
    {
     "name": "stdout",
     "output_type": "stream",
     "text": [
      "MoviePy - Done.\n",
      "Converted Marathi_mp4/0_2024.08.12_21.18.16-2024.08.12_21.19.16.mp4 to Marathi_mp3/0_2024.08.12_21.18.16-2024.08.12_21.19.16.mp3\n",
      "Deleted Marathi_mp4/0_2024.08.12_21.18.16-2024.08.12_21.19.16.mp4\n",
      "Preparing to download Marathi/0_2024.08.12_21.19.16-2024.08.12_21.20.16.mp4 to Marathi_mp4/0_2024.08.12_21.19.16-2024.08.12_21.20.16.mp4\n",
      "Video downloaded to: Marathi_mp4/0_2024.08.12_21.19.16-2024.08.12_21.20.16.mp4\n",
      "MoviePy - Writing audio in Marathi_mp3/0_2024.08.12_21.19.16-2024.08.12_21.20.16.mp3\n"
     ]
    },
    {
     "name": "stderr",
     "output_type": "stream",
     "text": [
      "                                                                                                                        \r"
     ]
    },
    {
     "name": "stdout",
     "output_type": "stream",
     "text": [
      "MoviePy - Done.\n",
      "Converted Marathi_mp4/0_2024.08.12_21.19.16-2024.08.12_21.20.16.mp4 to Marathi_mp3/0_2024.08.12_21.19.16-2024.08.12_21.20.16.mp3\n",
      "Deleted Marathi_mp4/0_2024.08.12_21.19.16-2024.08.12_21.20.16.mp4\n",
      "Preparing to download Marathi/0_2024.08.12_21.20.16-2024.08.12_21.21.16.mp4 to Marathi_mp4/0_2024.08.12_21.20.16-2024.08.12_21.21.16.mp4\n",
      "Video downloaded to: Marathi_mp4/0_2024.08.12_21.20.16-2024.08.12_21.21.16.mp4\n",
      "MoviePy - Writing audio in Marathi_mp3/0_2024.08.12_21.20.16-2024.08.12_21.21.16.mp3\n"
     ]
    },
    {
     "name": "stderr",
     "output_type": "stream",
     "text": [
      "                                                                                                                        \r"
     ]
    },
    {
     "name": "stdout",
     "output_type": "stream",
     "text": [
      "MoviePy - Done.\n",
      "Converted Marathi_mp4/0_2024.08.12_21.20.16-2024.08.12_21.21.16.mp4 to Marathi_mp3/0_2024.08.12_21.20.16-2024.08.12_21.21.16.mp3\n",
      "Deleted Marathi_mp4/0_2024.08.12_21.20.16-2024.08.12_21.21.16.mp4\n",
      "Preparing to download Marathi/0_2024.08.12_21.21.16-2024.08.12_21.22.16.mp4 to Marathi_mp4/0_2024.08.12_21.21.16-2024.08.12_21.22.16.mp4\n",
      "Video downloaded to: Marathi_mp4/0_2024.08.12_21.21.16-2024.08.12_21.22.16.mp4\n",
      "MoviePy - Writing audio in Marathi_mp3/0_2024.08.12_21.21.16-2024.08.12_21.22.16.mp3\n"
     ]
    },
    {
     "name": "stderr",
     "output_type": "stream",
     "text": [
      "                                                                                                                        \r"
     ]
    },
    {
     "name": "stdout",
     "output_type": "stream",
     "text": [
      "MoviePy - Done.\n",
      "Converted Marathi_mp4/0_2024.08.12_21.21.16-2024.08.12_21.22.16.mp4 to Marathi_mp3/0_2024.08.12_21.21.16-2024.08.12_21.22.16.mp3\n",
      "Deleted Marathi_mp4/0_2024.08.12_21.21.16-2024.08.12_21.22.16.mp4\n",
      "Preparing to download Marathi/0_2024.08.12_21.22.16-2024.08.12_21.23.16.mp4 to Marathi_mp4/0_2024.08.12_21.22.16-2024.08.12_21.23.16.mp4\n",
      "Video downloaded to: Marathi_mp4/0_2024.08.12_21.22.16-2024.08.12_21.23.16.mp4\n",
      "MoviePy - Writing audio in Marathi_mp3/0_2024.08.12_21.22.16-2024.08.12_21.23.16.mp3\n"
     ]
    },
    {
     "name": "stderr",
     "output_type": "stream",
     "text": [
      "                                                                                                                        \r"
     ]
    },
    {
     "name": "stdout",
     "output_type": "stream",
     "text": [
      "MoviePy - Done.\n",
      "Converted Marathi_mp4/0_2024.08.12_21.22.16-2024.08.12_21.23.16.mp4 to Marathi_mp3/0_2024.08.12_21.22.16-2024.08.12_21.23.16.mp3\n",
      "Deleted Marathi_mp4/0_2024.08.12_21.22.16-2024.08.12_21.23.16.mp4\n",
      "Preparing to download Marathi/0_2024.08.12_21.23.16-2024.08.12_21.24.16.mp4 to Marathi_mp4/0_2024.08.12_21.23.16-2024.08.12_21.24.16.mp4\n",
      "Video downloaded to: Marathi_mp4/0_2024.08.12_21.23.16-2024.08.12_21.24.16.mp4\n",
      "MoviePy - Writing audio in Marathi_mp3/0_2024.08.12_21.23.16-2024.08.12_21.24.16.mp3\n"
     ]
    },
    {
     "name": "stderr",
     "output_type": "stream",
     "text": [
      "                                                                                                                        \r"
     ]
    },
    {
     "name": "stdout",
     "output_type": "stream",
     "text": [
      "MoviePy - Done.\n",
      "Converted Marathi_mp4/0_2024.08.12_21.23.16-2024.08.12_21.24.16.mp4 to Marathi_mp3/0_2024.08.12_21.23.16-2024.08.12_21.24.16.mp3\n",
      "Deleted Marathi_mp4/0_2024.08.12_21.23.16-2024.08.12_21.24.16.mp4\n",
      "Preparing to download Marathi/0_2024.08.12_21.24.16-2024.08.12_21.25.16.mp4 to Marathi_mp4/0_2024.08.12_21.24.16-2024.08.12_21.25.16.mp4\n",
      "Video downloaded to: Marathi_mp4/0_2024.08.12_21.24.16-2024.08.12_21.25.16.mp4\n",
      "MoviePy - Writing audio in Marathi_mp3/0_2024.08.12_21.24.16-2024.08.12_21.25.16.mp3\n"
     ]
    },
    {
     "name": "stderr",
     "output_type": "stream",
     "text": [
      "                                                                                                                        \r"
     ]
    },
    {
     "name": "stdout",
     "output_type": "stream",
     "text": [
      "MoviePy - Done.\n",
      "Converted Marathi_mp4/0_2024.08.12_21.24.16-2024.08.12_21.25.16.mp4 to Marathi_mp3/0_2024.08.12_21.24.16-2024.08.12_21.25.16.mp3\n",
      "Deleted Marathi_mp4/0_2024.08.12_21.24.16-2024.08.12_21.25.16.mp4\n",
      "Preparing to download Marathi/0_2024.08.12_21.25.16-2024.08.12_21.26.16.mp4 to Marathi_mp4/0_2024.08.12_21.25.16-2024.08.12_21.26.16.mp4\n",
      "Video downloaded to: Marathi_mp4/0_2024.08.12_21.25.16-2024.08.12_21.26.16.mp4\n",
      "MoviePy - Writing audio in Marathi_mp3/0_2024.08.12_21.25.16-2024.08.12_21.26.16.mp3\n"
     ]
    },
    {
     "name": "stderr",
     "output_type": "stream",
     "text": [
      "                                                                                                                        \r"
     ]
    },
    {
     "name": "stdout",
     "output_type": "stream",
     "text": [
      "MoviePy - Done.\n",
      "Converted Marathi_mp4/0_2024.08.12_21.25.16-2024.08.12_21.26.16.mp4 to Marathi_mp3/0_2024.08.12_21.25.16-2024.08.12_21.26.16.mp3\n",
      "Deleted Marathi_mp4/0_2024.08.12_21.25.16-2024.08.12_21.26.16.mp4\n",
      "Preparing to download Marathi/0_2024.08.12_21.26.17-2024.08.12_21.27.17.mp4 to Marathi_mp4/0_2024.08.12_21.26.17-2024.08.12_21.27.17.mp4\n",
      "Video downloaded to: Marathi_mp4/0_2024.08.12_21.26.17-2024.08.12_21.27.17.mp4\n",
      "MoviePy - Writing audio in Marathi_mp3/0_2024.08.12_21.26.17-2024.08.12_21.27.17.mp3\n"
     ]
    },
    {
     "name": "stderr",
     "output_type": "stream",
     "text": [
      "                                                                                                                        \r"
     ]
    },
    {
     "name": "stdout",
     "output_type": "stream",
     "text": [
      "MoviePy - Done.\n",
      "Converted Marathi_mp4/0_2024.08.12_21.26.17-2024.08.12_21.27.17.mp4 to Marathi_mp3/0_2024.08.12_21.26.17-2024.08.12_21.27.17.mp3\n",
      "Deleted Marathi_mp4/0_2024.08.12_21.26.17-2024.08.12_21.27.17.mp4\n",
      "Preparing to download Marathi/0_2024.08.12_21.27.17-2024.08.12_21.28.17.mp4 to Marathi_mp4/0_2024.08.12_21.27.17-2024.08.12_21.28.17.mp4\n",
      "Video downloaded to: Marathi_mp4/0_2024.08.12_21.27.17-2024.08.12_21.28.17.mp4\n",
      "MoviePy - Writing audio in Marathi_mp3/0_2024.08.12_21.27.17-2024.08.12_21.28.17.mp3\n"
     ]
    },
    {
     "name": "stderr",
     "output_type": "stream",
     "text": [
      "                                                                                                                        \r"
     ]
    },
    {
     "name": "stdout",
     "output_type": "stream",
     "text": [
      "MoviePy - Done.\n",
      "Converted Marathi_mp4/0_2024.08.12_21.27.17-2024.08.12_21.28.17.mp4 to Marathi_mp3/0_2024.08.12_21.27.17-2024.08.12_21.28.17.mp3\n",
      "Deleted Marathi_mp4/0_2024.08.12_21.27.17-2024.08.12_21.28.17.mp4\n",
      "Preparing to download Marathi/0_2024.08.12_21.28.17-2024.08.12_21.29.17.mp4 to Marathi_mp4/0_2024.08.12_21.28.17-2024.08.12_21.29.17.mp4\n",
      "Video downloaded to: Marathi_mp4/0_2024.08.12_21.28.17-2024.08.12_21.29.17.mp4\n",
      "MoviePy - Writing audio in Marathi_mp3/0_2024.08.12_21.28.17-2024.08.12_21.29.17.mp3\n"
     ]
    },
    {
     "name": "stderr",
     "output_type": "stream",
     "text": [
      "                                                                                                                        \r"
     ]
    },
    {
     "name": "stdout",
     "output_type": "stream",
     "text": [
      "MoviePy - Done.\n",
      "Converted Marathi_mp4/0_2024.08.12_21.28.17-2024.08.12_21.29.17.mp4 to Marathi_mp3/0_2024.08.12_21.28.17-2024.08.12_21.29.17.mp3\n",
      "Deleted Marathi_mp4/0_2024.08.12_21.28.17-2024.08.12_21.29.17.mp4\n",
      "Preparing to download Marathi/0_2024.08.12_21.29.17-2024.08.12_21.30.17.mp4 to Marathi_mp4/0_2024.08.12_21.29.17-2024.08.12_21.30.17.mp4\n",
      "Video downloaded to: Marathi_mp4/0_2024.08.12_21.29.17-2024.08.12_21.30.17.mp4\n",
      "MoviePy - Writing audio in Marathi_mp3/0_2024.08.12_21.29.17-2024.08.12_21.30.17.mp3\n"
     ]
    },
    {
     "name": "stderr",
     "output_type": "stream",
     "text": [
      "                                                                                                                        \r"
     ]
    },
    {
     "name": "stdout",
     "output_type": "stream",
     "text": [
      "MoviePy - Done.\n",
      "Converted Marathi_mp4/0_2024.08.12_21.29.17-2024.08.12_21.30.17.mp4 to Marathi_mp3/0_2024.08.12_21.29.17-2024.08.12_21.30.17.mp3\n",
      "Deleted Marathi_mp4/0_2024.08.12_21.29.17-2024.08.12_21.30.17.mp4\n",
      "Preparing to download Marathi/0_2024.08.12_21.30.17-2024.08.12_21.31.17.mp4 to Marathi_mp4/0_2024.08.12_21.30.17-2024.08.12_21.31.17.mp4\n",
      "Video downloaded to: Marathi_mp4/0_2024.08.12_21.30.17-2024.08.12_21.31.17.mp4\n",
      "MoviePy - Writing audio in Marathi_mp3/0_2024.08.12_21.30.17-2024.08.12_21.31.17.mp3\n"
     ]
    },
    {
     "name": "stderr",
     "output_type": "stream",
     "text": [
      "                                                                                                                        \r"
     ]
    },
    {
     "name": "stdout",
     "output_type": "stream",
     "text": [
      "MoviePy - Done.\n",
      "Converted Marathi_mp4/0_2024.08.12_21.30.17-2024.08.12_21.31.17.mp4 to Marathi_mp3/0_2024.08.12_21.30.17-2024.08.12_21.31.17.mp3\n",
      "Deleted Marathi_mp4/0_2024.08.12_21.30.17-2024.08.12_21.31.17.mp4\n",
      "Preparing to download Marathi/0_2024.08.12_21.31.17-2024.08.12_21.32.17.mp4 to Marathi_mp4/0_2024.08.12_21.31.17-2024.08.12_21.32.17.mp4\n",
      "Video downloaded to: Marathi_mp4/0_2024.08.12_21.31.17-2024.08.12_21.32.17.mp4\n",
      "MoviePy - Writing audio in Marathi_mp3/0_2024.08.12_21.31.17-2024.08.12_21.32.17.mp3\n"
     ]
    },
    {
     "name": "stderr",
     "output_type": "stream",
     "text": [
      "                                                                                                                        \r"
     ]
    },
    {
     "name": "stdout",
     "output_type": "stream",
     "text": [
      "MoviePy - Done.\n",
      "Converted Marathi_mp4/0_2024.08.12_21.31.17-2024.08.12_21.32.17.mp4 to Marathi_mp3/0_2024.08.12_21.31.17-2024.08.12_21.32.17.mp3\n",
      "Deleted Marathi_mp4/0_2024.08.12_21.31.17-2024.08.12_21.32.17.mp4\n",
      "Preparing to download Marathi/0_2024.08.12_21.32.17-2024.08.12_21.33.17.mp4 to Marathi_mp4/0_2024.08.12_21.32.17-2024.08.12_21.33.17.mp4\n",
      "Video downloaded to: Marathi_mp4/0_2024.08.12_21.32.17-2024.08.12_21.33.17.mp4\n",
      "MoviePy - Writing audio in Marathi_mp3/0_2024.08.12_21.32.17-2024.08.12_21.33.17.mp3\n"
     ]
    },
    {
     "name": "stderr",
     "output_type": "stream",
     "text": [
      "                                                                                                                        \r"
     ]
    },
    {
     "name": "stdout",
     "output_type": "stream",
     "text": [
      "MoviePy - Done.\n",
      "Converted Marathi_mp4/0_2024.08.12_21.32.17-2024.08.12_21.33.17.mp4 to Marathi_mp3/0_2024.08.12_21.32.17-2024.08.12_21.33.17.mp3\n",
      "Deleted Marathi_mp4/0_2024.08.12_21.32.17-2024.08.12_21.33.17.mp4\n",
      "Preparing to download Marathi/0_2024.08.12_21.33.17-2024.08.12_21.34.17.mp4 to Marathi_mp4/0_2024.08.12_21.33.17-2024.08.12_21.34.17.mp4\n",
      "Video downloaded to: Marathi_mp4/0_2024.08.12_21.33.17-2024.08.12_21.34.17.mp4\n",
      "MoviePy - Writing audio in Marathi_mp3/0_2024.08.12_21.33.17-2024.08.12_21.34.17.mp3\n"
     ]
    },
    {
     "name": "stderr",
     "output_type": "stream",
     "text": [
      "                                                                                                                        \r"
     ]
    },
    {
     "name": "stdout",
     "output_type": "stream",
     "text": [
      "MoviePy - Done.\n",
      "Converted Marathi_mp4/0_2024.08.12_21.33.17-2024.08.12_21.34.17.mp4 to Marathi_mp3/0_2024.08.12_21.33.17-2024.08.12_21.34.17.mp3\n",
      "Deleted Marathi_mp4/0_2024.08.12_21.33.17-2024.08.12_21.34.17.mp4\n",
      "Preparing to download Marathi/0_2024.08.12_21.34.18-2024.08.12_21.35.18.mp4 to Marathi_mp4/0_2024.08.12_21.34.18-2024.08.12_21.35.18.mp4\n",
      "Video downloaded to: Marathi_mp4/0_2024.08.12_21.34.18-2024.08.12_21.35.18.mp4\n",
      "MoviePy - Writing audio in Marathi_mp3/0_2024.08.12_21.34.18-2024.08.12_21.35.18.mp3\n"
     ]
    },
    {
     "name": "stderr",
     "output_type": "stream",
     "text": [
      "                                                                                                                        \r"
     ]
    },
    {
     "name": "stdout",
     "output_type": "stream",
     "text": [
      "MoviePy - Done.\n",
      "Converted Marathi_mp4/0_2024.08.12_21.34.18-2024.08.12_21.35.18.mp4 to Marathi_mp3/0_2024.08.12_21.34.18-2024.08.12_21.35.18.mp3\n",
      "Deleted Marathi_mp4/0_2024.08.12_21.34.18-2024.08.12_21.35.18.mp4\n",
      "Preparing to download Marathi/0_2024.08.12_21.35.18-2024.08.12_21.36.18.mp4 to Marathi_mp4/0_2024.08.12_21.35.18-2024.08.12_21.36.18.mp4\n",
      "Video downloaded to: Marathi_mp4/0_2024.08.12_21.35.18-2024.08.12_21.36.18.mp4\n",
      "MoviePy - Writing audio in Marathi_mp3/0_2024.08.12_21.35.18-2024.08.12_21.36.18.mp3\n"
     ]
    },
    {
     "name": "stderr",
     "output_type": "stream",
     "text": [
      "                                                                                                                        \r"
     ]
    },
    {
     "name": "stdout",
     "output_type": "stream",
     "text": [
      "MoviePy - Done.\n",
      "Converted Marathi_mp4/0_2024.08.12_21.35.18-2024.08.12_21.36.18.mp4 to Marathi_mp3/0_2024.08.12_21.35.18-2024.08.12_21.36.18.mp3\n",
      "Deleted Marathi_mp4/0_2024.08.12_21.35.18-2024.08.12_21.36.18.mp4\n",
      "Preparing to download Marathi/0_2024.08.12_21.36.18-2024.08.12_21.37.18.mp4 to Marathi_mp4/0_2024.08.12_21.36.18-2024.08.12_21.37.18.mp4\n",
      "Video downloaded to: Marathi_mp4/0_2024.08.12_21.36.18-2024.08.12_21.37.18.mp4\n",
      "MoviePy - Writing audio in Marathi_mp3/0_2024.08.12_21.36.18-2024.08.12_21.37.18.mp3\n"
     ]
    },
    {
     "name": "stderr",
     "output_type": "stream",
     "text": [
      "                                                                                                                        \r"
     ]
    },
    {
     "name": "stdout",
     "output_type": "stream",
     "text": [
      "MoviePy - Done.\n",
      "Converted Marathi_mp4/0_2024.08.12_21.36.18-2024.08.12_21.37.18.mp4 to Marathi_mp3/0_2024.08.12_21.36.18-2024.08.12_21.37.18.mp3\n",
      "Deleted Marathi_mp4/0_2024.08.12_21.36.18-2024.08.12_21.37.18.mp4\n",
      "Preparing to download Marathi/0_2024.08.12_21.37.18-2024.08.12_21.38.18.mp4 to Marathi_mp4/0_2024.08.12_21.37.18-2024.08.12_21.38.18.mp4\n",
      "Video downloaded to: Marathi_mp4/0_2024.08.12_21.37.18-2024.08.12_21.38.18.mp4\n",
      "MoviePy - Writing audio in Marathi_mp3/0_2024.08.12_21.37.18-2024.08.12_21.38.18.mp3\n"
     ]
    },
    {
     "name": "stderr",
     "output_type": "stream",
     "text": [
      "                                                                                                                        \r"
     ]
    },
    {
     "name": "stdout",
     "output_type": "stream",
     "text": [
      "MoviePy - Done.\n",
      "Converted Marathi_mp4/0_2024.08.12_21.37.18-2024.08.12_21.38.18.mp4 to Marathi_mp3/0_2024.08.12_21.37.18-2024.08.12_21.38.18.mp3\n",
      "Deleted Marathi_mp4/0_2024.08.12_21.37.18-2024.08.12_21.38.18.mp4\n",
      "Preparing to download Marathi/0_2024.08.12_21.38.18-2024.08.12_21.39.18.mp4 to Marathi_mp4/0_2024.08.12_21.38.18-2024.08.12_21.39.18.mp4\n",
      "Video downloaded to: Marathi_mp4/0_2024.08.12_21.38.18-2024.08.12_21.39.18.mp4\n",
      "MoviePy - Writing audio in Marathi_mp3/0_2024.08.12_21.38.18-2024.08.12_21.39.18.mp3\n"
     ]
    },
    {
     "name": "stderr",
     "output_type": "stream",
     "text": [
      "                                                                                                                        \r"
     ]
    },
    {
     "name": "stdout",
     "output_type": "stream",
     "text": [
      "MoviePy - Done.\n",
      "Converted Marathi_mp4/0_2024.08.12_21.38.18-2024.08.12_21.39.18.mp4 to Marathi_mp3/0_2024.08.12_21.38.18-2024.08.12_21.39.18.mp3\n",
      "Deleted Marathi_mp4/0_2024.08.12_21.38.18-2024.08.12_21.39.18.mp4\n",
      "Preparing to download Marathi/0_2024.08.12_21.39.18-2024.08.12_21.40.18.mp4 to Marathi_mp4/0_2024.08.12_21.39.18-2024.08.12_21.40.18.mp4\n",
      "Video downloaded to: Marathi_mp4/0_2024.08.12_21.39.18-2024.08.12_21.40.18.mp4\n",
      "MoviePy - Writing audio in Marathi_mp3/0_2024.08.12_21.39.18-2024.08.12_21.40.18.mp3\n"
     ]
    },
    {
     "name": "stderr",
     "output_type": "stream",
     "text": [
      "                                                                                                                        \r"
     ]
    },
    {
     "name": "stdout",
     "output_type": "stream",
     "text": [
      "MoviePy - Done.\n",
      "Converted Marathi_mp4/0_2024.08.12_21.39.18-2024.08.12_21.40.18.mp4 to Marathi_mp3/0_2024.08.12_21.39.18-2024.08.12_21.40.18.mp3\n",
      "Deleted Marathi_mp4/0_2024.08.12_21.39.18-2024.08.12_21.40.18.mp4\n",
      "Preparing to download Marathi/0_2024.08.12_21.40.18-2024.08.12_21.41.18.mp4 to Marathi_mp4/0_2024.08.12_21.40.18-2024.08.12_21.41.18.mp4\n",
      "Video downloaded to: Marathi_mp4/0_2024.08.12_21.40.18-2024.08.12_21.41.18.mp4\n",
      "MoviePy - Writing audio in Marathi_mp3/0_2024.08.12_21.40.18-2024.08.12_21.41.18.mp3\n"
     ]
    },
    {
     "name": "stderr",
     "output_type": "stream",
     "text": [
      "                                                                                                                        \r"
     ]
    },
    {
     "name": "stdout",
     "output_type": "stream",
     "text": [
      "MoviePy - Done.\n",
      "Converted Marathi_mp4/0_2024.08.12_21.40.18-2024.08.12_21.41.18.mp4 to Marathi_mp3/0_2024.08.12_21.40.18-2024.08.12_21.41.18.mp3\n",
      "Deleted Marathi_mp4/0_2024.08.12_21.40.18-2024.08.12_21.41.18.mp4\n",
      "Preparing to download Marathi/0_2024.08.12_21.41.18-2024.08.12_21.42.18.mp4 to Marathi_mp4/0_2024.08.12_21.41.18-2024.08.12_21.42.18.mp4\n",
      "Video downloaded to: Marathi_mp4/0_2024.08.12_21.41.18-2024.08.12_21.42.18.mp4\n",
      "MoviePy - Writing audio in Marathi_mp3/0_2024.08.12_21.41.18-2024.08.12_21.42.18.mp3\n"
     ]
    },
    {
     "name": "stderr",
     "output_type": "stream",
     "text": [
      "                                                                                                                        \r"
     ]
    },
    {
     "name": "stdout",
     "output_type": "stream",
     "text": [
      "MoviePy - Done.\n",
      "Converted Marathi_mp4/0_2024.08.12_21.41.18-2024.08.12_21.42.18.mp4 to Marathi_mp3/0_2024.08.12_21.41.18-2024.08.12_21.42.18.mp3\n",
      "Deleted Marathi_mp4/0_2024.08.12_21.41.18-2024.08.12_21.42.18.mp4\n",
      "Preparing to download Marathi/0_2024.08.12_21.42.19-2024.08.12_21.43.19.mp4 to Marathi_mp4/0_2024.08.12_21.42.19-2024.08.12_21.43.19.mp4\n",
      "Video downloaded to: Marathi_mp4/0_2024.08.12_21.42.19-2024.08.12_21.43.19.mp4\n",
      "MoviePy - Writing audio in Marathi_mp3/0_2024.08.12_21.42.19-2024.08.12_21.43.19.mp3\n"
     ]
    },
    {
     "name": "stderr",
     "output_type": "stream",
     "text": [
      "                                                                                                                        \r"
     ]
    },
    {
     "name": "stdout",
     "output_type": "stream",
     "text": [
      "MoviePy - Done.\n",
      "Converted Marathi_mp4/0_2024.08.12_21.42.19-2024.08.12_21.43.19.mp4 to Marathi_mp3/0_2024.08.12_21.42.19-2024.08.12_21.43.19.mp3\n",
      "Deleted Marathi_mp4/0_2024.08.12_21.42.19-2024.08.12_21.43.19.mp4\n",
      "Preparing to download Marathi/0_2024.08.12_21.43.19-2024.08.12_21.44.19.mp4 to Marathi_mp4/0_2024.08.12_21.43.19-2024.08.12_21.44.19.mp4\n",
      "Video downloaded to: Marathi_mp4/0_2024.08.12_21.43.19-2024.08.12_21.44.19.mp4\n",
      "MoviePy - Writing audio in Marathi_mp3/0_2024.08.12_21.43.19-2024.08.12_21.44.19.mp3\n"
     ]
    },
    {
     "name": "stderr",
     "output_type": "stream",
     "text": [
      "                                                                                                                        \r"
     ]
    },
    {
     "name": "stdout",
     "output_type": "stream",
     "text": [
      "MoviePy - Done.\n",
      "Converted Marathi_mp4/0_2024.08.12_21.43.19-2024.08.12_21.44.19.mp4 to Marathi_mp3/0_2024.08.12_21.43.19-2024.08.12_21.44.19.mp3\n",
      "Deleted Marathi_mp4/0_2024.08.12_21.43.19-2024.08.12_21.44.19.mp4\n",
      "Preparing to download Marathi/0_2024.08.12_21.44.19-2024.08.12_21.45.19.mp4 to Marathi_mp4/0_2024.08.12_21.44.19-2024.08.12_21.45.19.mp4\n",
      "Video downloaded to: Marathi_mp4/0_2024.08.12_21.44.19-2024.08.12_21.45.19.mp4\n",
      "MoviePy - Writing audio in Marathi_mp3/0_2024.08.12_21.44.19-2024.08.12_21.45.19.mp3\n"
     ]
    },
    {
     "name": "stderr",
     "output_type": "stream",
     "text": [
      "                                                                                                                        \r"
     ]
    },
    {
     "name": "stdout",
     "output_type": "stream",
     "text": [
      "MoviePy - Done.\n",
      "Converted Marathi_mp4/0_2024.08.12_21.44.19-2024.08.12_21.45.19.mp4 to Marathi_mp3/0_2024.08.12_21.44.19-2024.08.12_21.45.19.mp3\n",
      "Deleted Marathi_mp4/0_2024.08.12_21.44.19-2024.08.12_21.45.19.mp4\n",
      "Preparing to download Marathi/0_2024.08.12_21.45.19-2024.08.12_21.46.19.mp4 to Marathi_mp4/0_2024.08.12_21.45.19-2024.08.12_21.46.19.mp4\n",
      "Video downloaded to: Marathi_mp4/0_2024.08.12_21.45.19-2024.08.12_21.46.19.mp4\n",
      "MoviePy - Writing audio in Marathi_mp3/0_2024.08.12_21.45.19-2024.08.12_21.46.19.mp3\n"
     ]
    },
    {
     "name": "stderr",
     "output_type": "stream",
     "text": [
      "                                                                                                                        \r"
     ]
    },
    {
     "name": "stdout",
     "output_type": "stream",
     "text": [
      "MoviePy - Done.\n",
      "Converted Marathi_mp4/0_2024.08.12_21.45.19-2024.08.12_21.46.19.mp4 to Marathi_mp3/0_2024.08.12_21.45.19-2024.08.12_21.46.19.mp3\n",
      "Deleted Marathi_mp4/0_2024.08.12_21.45.19-2024.08.12_21.46.19.mp4\n",
      "Preparing to download Marathi/0_2024.08.12_21.46.19-2024.08.12_21.47.19.mp4 to Marathi_mp4/0_2024.08.12_21.46.19-2024.08.12_21.47.19.mp4\n",
      "Video downloaded to: Marathi_mp4/0_2024.08.12_21.46.19-2024.08.12_21.47.19.mp4\n",
      "MoviePy - Writing audio in Marathi_mp3/0_2024.08.12_21.46.19-2024.08.12_21.47.19.mp3\n"
     ]
    },
    {
     "name": "stderr",
     "output_type": "stream",
     "text": [
      "                                                                                                                        \r"
     ]
    },
    {
     "name": "stdout",
     "output_type": "stream",
     "text": [
      "MoviePy - Done.\n",
      "Converted Marathi_mp4/0_2024.08.12_21.46.19-2024.08.12_21.47.19.mp4 to Marathi_mp3/0_2024.08.12_21.46.19-2024.08.12_21.47.19.mp3\n",
      "Deleted Marathi_mp4/0_2024.08.12_21.46.19-2024.08.12_21.47.19.mp4\n",
      "Preparing to download Marathi/0_2024.08.12_21.47.19-2024.08.12_21.48.19.mp4 to Marathi_mp4/0_2024.08.12_21.47.19-2024.08.12_21.48.19.mp4\n",
      "Video downloaded to: Marathi_mp4/0_2024.08.12_21.47.19-2024.08.12_21.48.19.mp4\n",
      "MoviePy - Writing audio in Marathi_mp3/0_2024.08.12_21.47.19-2024.08.12_21.48.19.mp3\n"
     ]
    },
    {
     "name": "stderr",
     "output_type": "stream",
     "text": [
      "                                                                                                                        \r"
     ]
    },
    {
     "name": "stdout",
     "output_type": "stream",
     "text": [
      "MoviePy - Done.\n",
      "Converted Marathi_mp4/0_2024.08.12_21.47.19-2024.08.12_21.48.19.mp4 to Marathi_mp3/0_2024.08.12_21.47.19-2024.08.12_21.48.19.mp3\n",
      "Deleted Marathi_mp4/0_2024.08.12_21.47.19-2024.08.12_21.48.19.mp4\n",
      "Preparing to download Marathi/0_2024.08.12_21.48.19-2024.08.12_21.49.19.mp4 to Marathi_mp4/0_2024.08.12_21.48.19-2024.08.12_21.49.19.mp4\n",
      "Video downloaded to: Marathi_mp4/0_2024.08.12_21.48.19-2024.08.12_21.49.19.mp4\n",
      "MoviePy - Writing audio in Marathi_mp3/0_2024.08.12_21.48.19-2024.08.12_21.49.19.mp3\n"
     ]
    },
    {
     "name": "stderr",
     "output_type": "stream",
     "text": [
      "                                                                                                                        \r"
     ]
    },
    {
     "name": "stdout",
     "output_type": "stream",
     "text": [
      "MoviePy - Done.\n",
      "Converted Marathi_mp4/0_2024.08.12_21.48.19-2024.08.12_21.49.19.mp4 to Marathi_mp3/0_2024.08.12_21.48.19-2024.08.12_21.49.19.mp3\n",
      "Deleted Marathi_mp4/0_2024.08.12_21.48.19-2024.08.12_21.49.19.mp4\n",
      "Preparing to download Marathi/0_2024.08.12_21.49.19-2024.08.12_21.50.19.mp4 to Marathi_mp4/0_2024.08.12_21.49.19-2024.08.12_21.50.19.mp4\n",
      "Video downloaded to: Marathi_mp4/0_2024.08.12_21.49.19-2024.08.12_21.50.19.mp4\n",
      "MoviePy - Writing audio in Marathi_mp3/0_2024.08.12_21.49.19-2024.08.12_21.50.19.mp3\n"
     ]
    },
    {
     "name": "stderr",
     "output_type": "stream",
     "text": [
      "                                                                                                                        \r"
     ]
    },
    {
     "name": "stdout",
     "output_type": "stream",
     "text": [
      "MoviePy - Done.\n",
      "Converted Marathi_mp4/0_2024.08.12_21.49.19-2024.08.12_21.50.19.mp4 to Marathi_mp3/0_2024.08.12_21.49.19-2024.08.12_21.50.19.mp3\n",
      "Deleted Marathi_mp4/0_2024.08.12_21.49.19-2024.08.12_21.50.19.mp4\n",
      "Preparing to download Marathi/0_2024.08.12_21.50.20-2024.08.12_21.51.20.mp4 to Marathi_mp4/0_2024.08.12_21.50.20-2024.08.12_21.51.20.mp4\n",
      "Video downloaded to: Marathi_mp4/0_2024.08.12_21.50.20-2024.08.12_21.51.20.mp4\n",
      "MoviePy - Writing audio in Marathi_mp3/0_2024.08.12_21.50.20-2024.08.12_21.51.20.mp3\n"
     ]
    },
    {
     "name": "stderr",
     "output_type": "stream",
     "text": [
      "                                                                                                                        \r"
     ]
    },
    {
     "name": "stdout",
     "output_type": "stream",
     "text": [
      "MoviePy - Done.\n",
      "Converted Marathi_mp4/0_2024.08.12_21.50.20-2024.08.12_21.51.20.mp4 to Marathi_mp3/0_2024.08.12_21.50.20-2024.08.12_21.51.20.mp3\n",
      "Deleted Marathi_mp4/0_2024.08.12_21.50.20-2024.08.12_21.51.20.mp4\n",
      "Preparing to download Marathi/0_2024.08.12_21.51.20-2024.08.12_21.52.20.mp4 to Marathi_mp4/0_2024.08.12_21.51.20-2024.08.12_21.52.20.mp4\n",
      "Video downloaded to: Marathi_mp4/0_2024.08.12_21.51.20-2024.08.12_21.52.20.mp4\n",
      "MoviePy - Writing audio in Marathi_mp3/0_2024.08.12_21.51.20-2024.08.12_21.52.20.mp3\n"
     ]
    },
    {
     "name": "stderr",
     "output_type": "stream",
     "text": [
      "                                                                                                                        \r"
     ]
    },
    {
     "name": "stdout",
     "output_type": "stream",
     "text": [
      "MoviePy - Done.\n",
      "Converted Marathi_mp4/0_2024.08.12_21.51.20-2024.08.12_21.52.20.mp4 to Marathi_mp3/0_2024.08.12_21.51.20-2024.08.12_21.52.20.mp3\n",
      "Deleted Marathi_mp4/0_2024.08.12_21.51.20-2024.08.12_21.52.20.mp4\n",
      "Preparing to download Marathi/0_2024.08.12_21.52.20-2024.08.12_21.53.20.mp4 to Marathi_mp4/0_2024.08.12_21.52.20-2024.08.12_21.53.20.mp4\n",
      "Video downloaded to: Marathi_mp4/0_2024.08.12_21.52.20-2024.08.12_21.53.20.mp4\n",
      "MoviePy - Writing audio in Marathi_mp3/0_2024.08.12_21.52.20-2024.08.12_21.53.20.mp3\n"
     ]
    },
    {
     "name": "stderr",
     "output_type": "stream",
     "text": [
      "                                                                                                                        \r"
     ]
    },
    {
     "name": "stdout",
     "output_type": "stream",
     "text": [
      "MoviePy - Done.\n",
      "Converted Marathi_mp4/0_2024.08.12_21.52.20-2024.08.12_21.53.20.mp4 to Marathi_mp3/0_2024.08.12_21.52.20-2024.08.12_21.53.20.mp3\n",
      "Deleted Marathi_mp4/0_2024.08.12_21.52.20-2024.08.12_21.53.20.mp4\n",
      "Preparing to download Marathi/0_2024.08.12_21.53.20-2024.08.12_21.54.20.mp4 to Marathi_mp4/0_2024.08.12_21.53.20-2024.08.12_21.54.20.mp4\n",
      "Video downloaded to: Marathi_mp4/0_2024.08.12_21.53.20-2024.08.12_21.54.20.mp4\n",
      "MoviePy - Writing audio in Marathi_mp3/0_2024.08.12_21.53.20-2024.08.12_21.54.20.mp3\n"
     ]
    },
    {
     "name": "stderr",
     "output_type": "stream",
     "text": [
      "                                                                                                                        \r"
     ]
    },
    {
     "name": "stdout",
     "output_type": "stream",
     "text": [
      "MoviePy - Done.\n",
      "Converted Marathi_mp4/0_2024.08.12_21.53.20-2024.08.12_21.54.20.mp4 to Marathi_mp3/0_2024.08.12_21.53.20-2024.08.12_21.54.20.mp3\n",
      "Deleted Marathi_mp4/0_2024.08.12_21.53.20-2024.08.12_21.54.20.mp4\n",
      "Preparing to download Marathi/0_2024.08.12_21.54.20-2024.08.12_21.55.20.mp4 to Marathi_mp4/0_2024.08.12_21.54.20-2024.08.12_21.55.20.mp4\n",
      "Video downloaded to: Marathi_mp4/0_2024.08.12_21.54.20-2024.08.12_21.55.20.mp4\n",
      "MoviePy - Writing audio in Marathi_mp3/0_2024.08.12_21.54.20-2024.08.12_21.55.20.mp3\n"
     ]
    },
    {
     "name": "stderr",
     "output_type": "stream",
     "text": [
      "                                                                                                                        \r"
     ]
    },
    {
     "name": "stdout",
     "output_type": "stream",
     "text": [
      "MoviePy - Done.\n",
      "Converted Marathi_mp4/0_2024.08.12_21.54.20-2024.08.12_21.55.20.mp4 to Marathi_mp3/0_2024.08.12_21.54.20-2024.08.12_21.55.20.mp3\n",
      "Deleted Marathi_mp4/0_2024.08.12_21.54.20-2024.08.12_21.55.20.mp4\n",
      "Preparing to download Marathi/0_2024.08.12_21.55.20-2024.08.12_21.56.20.mp4 to Marathi_mp4/0_2024.08.12_21.55.20-2024.08.12_21.56.20.mp4\n",
      "Video downloaded to: Marathi_mp4/0_2024.08.12_21.55.20-2024.08.12_21.56.20.mp4\n",
      "MoviePy - Writing audio in Marathi_mp3/0_2024.08.12_21.55.20-2024.08.12_21.56.20.mp3\n"
     ]
    },
    {
     "name": "stderr",
     "output_type": "stream",
     "text": [
      "                                                                                                                        \r"
     ]
    },
    {
     "name": "stdout",
     "output_type": "stream",
     "text": [
      "MoviePy - Done.\n",
      "Converted Marathi_mp4/0_2024.08.12_21.55.20-2024.08.12_21.56.20.mp4 to Marathi_mp3/0_2024.08.12_21.55.20-2024.08.12_21.56.20.mp3\n",
      "Deleted Marathi_mp4/0_2024.08.12_21.55.20-2024.08.12_21.56.20.mp4\n",
      "Preparing to download Marathi/0_2024.08.12_21.56.20-2024.08.12_21.57.20.mp4 to Marathi_mp4/0_2024.08.12_21.56.20-2024.08.12_21.57.20.mp4\n",
      "Video downloaded to: Marathi_mp4/0_2024.08.12_21.56.20-2024.08.12_21.57.20.mp4\n",
      "MoviePy - Writing audio in Marathi_mp3/0_2024.08.12_21.56.20-2024.08.12_21.57.20.mp3\n"
     ]
    },
    {
     "name": "stderr",
     "output_type": "stream",
     "text": [
      "                                                                                                                        \r"
     ]
    },
    {
     "name": "stdout",
     "output_type": "stream",
     "text": [
      "MoviePy - Done.\n",
      "Converted Marathi_mp4/0_2024.08.12_21.56.20-2024.08.12_21.57.20.mp4 to Marathi_mp3/0_2024.08.12_21.56.20-2024.08.12_21.57.20.mp3\n",
      "Deleted Marathi_mp4/0_2024.08.12_21.56.20-2024.08.12_21.57.20.mp4\n",
      "Preparing to download Marathi/0_2024.08.12_21.57.20-2024.08.12_21.58.20.mp4 to Marathi_mp4/0_2024.08.12_21.57.20-2024.08.12_21.58.20.mp4\n",
      "Video downloaded to: Marathi_mp4/0_2024.08.12_21.57.20-2024.08.12_21.58.20.mp4\n",
      "MoviePy - Writing audio in Marathi_mp3/0_2024.08.12_21.57.20-2024.08.12_21.58.20.mp3\n"
     ]
    },
    {
     "name": "stderr",
     "output_type": "stream",
     "text": [
      "                                                                                                                        \r"
     ]
    },
    {
     "name": "stdout",
     "output_type": "stream",
     "text": [
      "MoviePy - Done.\n",
      "Converted Marathi_mp4/0_2024.08.12_21.57.20-2024.08.12_21.58.20.mp4 to Marathi_mp3/0_2024.08.12_21.57.20-2024.08.12_21.58.20.mp3\n",
      "Deleted Marathi_mp4/0_2024.08.12_21.57.20-2024.08.12_21.58.20.mp4\n",
      "Preparing to download Marathi/0_2024.08.12_21.58.20-2024.08.12_21.59.20.mp4 to Marathi_mp4/0_2024.08.12_21.58.20-2024.08.12_21.59.20.mp4\n",
      "Video downloaded to: Marathi_mp4/0_2024.08.12_21.58.20-2024.08.12_21.59.20.mp4\n",
      "MoviePy - Writing audio in Marathi_mp3/0_2024.08.12_21.58.20-2024.08.12_21.59.20.mp3\n"
     ]
    },
    {
     "name": "stderr",
     "output_type": "stream",
     "text": [
      "                                                                                                                        \r"
     ]
    },
    {
     "name": "stdout",
     "output_type": "stream",
     "text": [
      "MoviePy - Done.\n",
      "Converted Marathi_mp4/0_2024.08.12_21.58.20-2024.08.12_21.59.20.mp4 to Marathi_mp3/0_2024.08.12_21.58.20-2024.08.12_21.59.20.mp3\n",
      "Deleted Marathi_mp4/0_2024.08.12_21.58.20-2024.08.12_21.59.20.mp4\n",
      "Preparing to download Marathi/0_2024.08.12_21.59.21-2024.08.12_22.00.21.mp4 to Marathi_mp4/0_2024.08.12_21.59.21-2024.08.12_22.00.21.mp4\n",
      "Video downloaded to: Marathi_mp4/0_2024.08.12_21.59.21-2024.08.12_22.00.21.mp4\n",
      "MoviePy - Writing audio in Marathi_mp3/0_2024.08.12_21.59.21-2024.08.12_22.00.21.mp3\n"
     ]
    },
    {
     "name": "stderr",
     "output_type": "stream",
     "text": [
      "                                                                                                                        \r"
     ]
    },
    {
     "name": "stdout",
     "output_type": "stream",
     "text": [
      "MoviePy - Done.\n",
      "Converted Marathi_mp4/0_2024.08.12_21.59.21-2024.08.12_22.00.21.mp4 to Marathi_mp3/0_2024.08.12_21.59.21-2024.08.12_22.00.21.mp3\n",
      "Deleted Marathi_mp4/0_2024.08.12_21.59.21-2024.08.12_22.00.21.mp4\n",
      "Preparing to download Marathi/0_2024.08.12_22.00.21-2024.08.12_22.01.21.mp4 to Marathi_mp4/0_2024.08.12_22.00.21-2024.08.12_22.01.21.mp4\n",
      "Video downloaded to: Marathi_mp4/0_2024.08.12_22.00.21-2024.08.12_22.01.21.mp4\n",
      "MoviePy - Writing audio in Marathi_mp3/0_2024.08.12_22.00.21-2024.08.12_22.01.21.mp3\n"
     ]
    },
    {
     "name": "stderr",
     "output_type": "stream",
     "text": [
      "                                                                                                                        \r"
     ]
    },
    {
     "name": "stdout",
     "output_type": "stream",
     "text": [
      "MoviePy - Done.\n",
      "Converted Marathi_mp4/0_2024.08.12_22.00.21-2024.08.12_22.01.21.mp4 to Marathi_mp3/0_2024.08.12_22.00.21-2024.08.12_22.01.21.mp3\n",
      "Deleted Marathi_mp4/0_2024.08.12_22.00.21-2024.08.12_22.01.21.mp4\n",
      "Preparing to download Marathi/0_2024.08.12_22.01.21-2024.08.12_22.02.21.mp4 to Marathi_mp4/0_2024.08.12_22.01.21-2024.08.12_22.02.21.mp4\n",
      "Video downloaded to: Marathi_mp4/0_2024.08.12_22.01.21-2024.08.12_22.02.21.mp4\n",
      "MoviePy - Writing audio in Marathi_mp3/0_2024.08.12_22.01.21-2024.08.12_22.02.21.mp3\n"
     ]
    },
    {
     "name": "stderr",
     "output_type": "stream",
     "text": [
      "                                                                                                                        \r"
     ]
    },
    {
     "name": "stdout",
     "output_type": "stream",
     "text": [
      "MoviePy - Done.\n",
      "Converted Marathi_mp4/0_2024.08.12_22.01.21-2024.08.12_22.02.21.mp4 to Marathi_mp3/0_2024.08.12_22.01.21-2024.08.12_22.02.21.mp3\n",
      "Deleted Marathi_mp4/0_2024.08.12_22.01.21-2024.08.12_22.02.21.mp4\n",
      "Preparing to download Marathi/0_2024.08.12_22.02.21-2024.08.12_22.03.21.mp4 to Marathi_mp4/0_2024.08.12_22.02.21-2024.08.12_22.03.21.mp4\n",
      "Video downloaded to: Marathi_mp4/0_2024.08.12_22.02.21-2024.08.12_22.03.21.mp4\n",
      "MoviePy - Writing audio in Marathi_mp3/0_2024.08.12_22.02.21-2024.08.12_22.03.21.mp3\n"
     ]
    },
    {
     "name": "stderr",
     "output_type": "stream",
     "text": [
      "                                                                                                                        "
     ]
    },
    {
     "name": "stdout",
     "output_type": "stream",
     "text": [
      "MoviePy - Done.\n",
      "Converted Marathi_mp4/0_2024.08.12_22.02.21-2024.08.12_22.03.21.mp4 to Marathi_mp3/0_2024.08.12_22.02.21-2024.08.12_22.03.21.mp3\n",
      "Deleted Marathi_mp4/0_2024.08.12_22.02.21-2024.08.12_22.03.21.mp4\n"
     ]
    },
    {
     "name": "stderr",
     "output_type": "stream",
     "text": [
      "\r"
     ]
    }
   ],
   "source": [
    "import os\n",
    "import requests\n",
    "from google.cloud import storage\n",
    "from moviepy.editor import VideoFileClip\n",
    " \n",
    "def download_video_from_gcs(bucket_name, folder_name, local_directory):\n",
    "    # Set the environment variable for Google Cloud authentication\n",
    "    os.environ['GOOGLE_APPLICATION_CREDENTIALS'] = 'tabsons-f3426d01189d.json'\n",
    " \n",
    "    # Initialize a client\n",
    "    client = storage.Client()\n",
    " \n",
    "    # Get the bucket\n",
    "    bucket = client.bucket(bucket_name)\n",
    " \n",
    "    # List all blobs in the specified folder\n",
    "    blobs = bucket.list_blobs(prefix=folder_name + '/')\n",
    " \n",
    "    # Ensure the local directory exists\n",
    "    if not os.path.exists(local_directory):\n",
    "        os.makedirs(local_directory)\n",
    "        print(f\"Created directory: {local_directory}\")\n",
    " \n",
    "    mp3_directory = 'Marathi_mp3'\n",
    "    if not os.path.exists(mp3_directory):\n",
    "        os.makedirs(mp3_directory)\n",
    "        print(f\"Created directory: {mp3_directory}\")\n",
    " \n",
    "    for blob in blobs:\n",
    "        # Extract the file name from the blob's name\n",
    "        video_filename = os.path.basename(blob.name)\n",
    " \n",
    "        # Skip empty or directory-like blobs\n",
    "        if not video_filename:\n",
    "            continue\n",
    " \n",
    "        # Generate a signed URL\n",
    "        url = blob.generate_signed_url(version='v4', expiration=3600, method='GET')\n",
    "       \n",
    "        # Local path to save the video\n",
    "        local_video_path = os.path.join(local_directory, video_filename)\n",
    "        print(f\"Preparing to download {blob.name} to {local_video_path}\")\n",
    " \n",
    "        # Download the video\n",
    "        response = requests.get(url, stream=True)\n",
    "        with open(local_video_path, 'wb') as file:\n",
    "            for chunk in response.iter_content(chunk_size=8192):\n",
    "                file.write(chunk)\n",
    "       \n",
    "        print(f\"Video downloaded to: {local_video_path}\")\n",
    " \n",
    "        # Convert the video to MP3\n",
    "        mp3_filename = os.path.splitext(video_filename)[0] + '.mp3'\n",
    "        local_mp3_path = os.path.join(mp3_directory, mp3_filename)\n",
    " \n",
    "        try:\n",
    "            extract_audio_from_video(local_video_path, local_mp3_path)\n",
    "            print(f\"Converted {local_video_path} to {local_mp3_path}\")\n",
    "            # Delete the MP4 file after successful conversion\n",
    "            os.remove(local_video_path)\n",
    "            print(f\"Deleted {local_video_path}\")\n",
    "        except Exception as e:\n",
    "            print(f\"Failed to convert {local_video_path} to MP3: {e}\")\n",
    " \n",
    "def extract_audio_from_video(video_path, audio_path):\n",
    "    \"\"\"Extract audio from the downloaded video and save it.\"\"\"\n",
    "    try:\n",
    "        video = VideoFileClip(video_path)\n",
    "        audio = video.audio\n",
    "        audio.write_audiofile(audio_path)\n",
    "        video.close()\n",
    "    except Exception as e:\n",
    "        print(f\"Error extracting audio from {video_path}: {e}\")\n",
    " \n",
    "# Usage\n",
    "bucket_name = 'imagestg-bucket'\n",
    "folder_name = 'Marathi'\n",
    "local_directory = 'Marathi_mp4'\n",
    " \n",
    "download_video_from_gcs(bucket_name, folder_name, local_directory)"
   ]
  },
  {
   "cell_type": "code",
   "execution_count": 8,
   "id": "2d6e5803-0d3e-4894-bd8f-a610f6e6691c",
   "metadata": {},
   "outputs": [
    {
     "name": "stdout",
     "output_type": "stream",
     "text": [
      "240\n"
     ]
    }
   ],
   "source": [
    "file_list = os.listdir('Marathi_wav_mono')\n",
    "print(len(file_list))\n"
   ]
  },
  {
   "cell_type": "code",
   "execution_count": 5,
   "id": "c07a0cd8-defa-43bd-90b9-de01dd79022d",
   "metadata": {},
   "outputs": [],
   "source": [
    "import os\n",
    "from pydub import AudioSegment\n",
    "\n",
    "def convert_mp3_to_wav(mp3_file_path, wav_file_path):\n",
    "    # Load MP3 file\n",
    "    audio = AudioSegment.from_mp3(mp3_file_path)\n",
    "    \n",
    "    # Export as WAV file\n",
    "    audio.export(wav_file_path, format=\"wav\")\n",
    "\n",
    "mp3_folder_path = 'Marathi_mp3'\n",
    "wav_folder_path = 'Marathi_wav'\n",
    "\n",
    "# List all files in the folder\n",
    "file_list = os.listdir(mp3_folder_path)\n",
    "\n",
    "# Filter out directories, if needed\n",
    "file_list = [f for f in file_list if os.path.isfile(os.path.join(mp3_folder_path, f))]\n",
    "\n",
    "for file in file_list:\n",
    "    wav_file = file.replace(\".mp3\", \".wav\")\n",
    "    mp3_file_path = os.path.join(mp3_folder_path, file)\n",
    "    wav_file_path = os.path.join(wav_folder_path, wav_file)\n",
    "    convert_mp3_to_wav(mp3_file_path, wav_file_path)\n",
    "    os.remove(mp3_file_path)\n",
    "    #break"
   ]
  },
  {
   "cell_type": "code",
   "execution_count": null,
   "id": "bc55b465-ecda-432d-be85-e3e5c1467242",
   "metadata": {},
   "outputs": [],
   "source": [
    "pip install pydub"
   ]
  },
  {
   "cell_type": "code",
   "execution_count": 7,
   "id": "98cc134b-9465-433c-b57d-629b2e5e5437",
   "metadata": {},
   "outputs": [],
   "source": [
    "# Convert streo wav to mono\n",
    "from pydub import AudioSegment\n",
    "\n",
    "def convert_to_mono(input_file, output_file):\n",
    "    sound = AudioSegment.from_wav(input_file)\n",
    "    sound = sound.set_channels(1)  # Set to mono\n",
    "    sound.export(output_file, format=\"wav\")\n",
    "wav_dir = \"Marathi_wav\"\n",
    "wav_mono_dir = \"Marathi_wav_mono\"\n",
    "\n",
    "file_list = os.listdir(wav_dir)\n",
    "\n",
    "for file in file_list:\n",
    "    input_file = os.path.join(wav_dir, file)\n",
    "    output_file = os.path.join(wav_mono_dir, file)\n",
    "    convert_to_mono(input_file, output_file)"
   ]
  },
  {
   "cell_type": "code",
   "execution_count": null,
   "id": "b940cfff-85bd-46b9-bc8c-a30e5219213e",
   "metadata": {},
   "outputs": [],
   "source": [
    "# Convert Wav to text\n",
    "import os\n",
    "from google.cloud import storage\n",
    "os.environ['GOOGLE_APPLICATION_CREDENTIALS'] = 'tabsons-f3426d01189d.json'\n",
    "def upload_to_gcs(bucket_name, source_file_name, destination_blob_name):\n",
    "    \"\"\"Uploads a file to the bucket.\"\"\"\n",
    "    storage_client = storage.Client()\n",
    "    bucket = storage_client.bucket(bucket_name)\n",
    "    blob = bucket.blob(destination_blob_name)\n",
    "\n",
    "    blob.upload_from_filename(source_file_name)\n",
    "    #print(f\"File {source_file_name} uploaded to {destination_blob_name}.\")\n",
    "\n",
    "def transcribe_gcs(gcs_uri, tamil_text_path):\n",
    "    from google.cloud import speech_v1p1beta1 as speech\n",
    "\n",
    "    client = speech.SpeechClient()\n",
    "\n",
    "    audio = speech.RecognitionAudio(uri=gcs_uri)\n",
    "    config = speech.RecognitionConfig(\n",
    "        encoding=speech.RecognitionConfig.AudioEncoding.LINEAR16,\n",
    "        language_code=\"mr-IN\",  # Primary language code for Tamil\n",
    "        alternative_language_codes=[\"en-US\"],  # Additional language code for English\n",
    "        enable_automatic_punctuation=True\n",
    "    )\n",
    "\n",
    "    operation = client.long_running_recognize(config=config, audio=audio)\n",
    "    #print(\"Waiting for operation to complete...\")\n",
    "    response = operation.result(timeout=900)\n",
    "\n",
    "    full_transcript = \"\"\n",
    "    for result in response.results:\n",
    "        full_transcript += result.alternatives[0].transcript + \" \"\n",
    "\n",
    "    # Writing to a file (overwrite mode)\n",
    "    with open(tamil_text_path, 'w') as file:\n",
    "        file.write(full_transcript.strip())\n",
    "    \n",
    "\n",
    "\n",
    "# Example usage\n",
    "bucket_name = 'imagestg-bucket'\n",
    "destination_blob_name = \"destination_in_gcs.wav\"\n",
    "gcs_uri = f\"gs://{bucket_name}/{destination_blob_name}\"\n",
    "\n",
    "\n",
    "wav_mono_dir = \"Marathi_wav_mono\"\n",
    "tamil_text_dir = \"Marathi_text\"\n",
    "\n",
    "file_list = os.listdir(wav_mono_dir)\n",
    "\n",
    "transcripted_file_list = os.listdir(tamil_text_dir)\n",
    "\n",
    "transcripted_file_list = [file.replace(\".txt\", \".wav\") for file in transcripted_file_list]\n",
    "\n",
    "file_list = [file for file in file_list if file not in transcripted_file_list]\n",
    "\n",
    "for file in file_list:\n",
    "    wav_mono_path = os.path.join(wav_mono_dir, file)\n",
    "    tamil_text_path = os.path.join(tamil_text_dir, file.replace(\".wav\", \".txt\"))\n",
    "    upload_to_gcs(bucket_name, wav_mono_path, destination_blob_name)\n",
    "    transcribe_gcs(gcs_uri, tamil_text_path)\n"
   ]
  }
 ],
 "metadata": {
  "kernelspec": {
   "display_name": "Python 3 (ipykernel)",
   "language": "python",
   "name": "python3"
  },
  "language_info": {
   "codemirror_mode": {
    "name": "ipython",
    "version": 3
   },
   "file_extension": ".py",
   "mimetype": "text/x-python",
   "name": "python",
   "nbconvert_exporter": "python",
   "pygments_lexer": "ipython3",
   "version": "3.8.10"
  }
 },
 "nbformat": 4,
 "nbformat_minor": 5
}
