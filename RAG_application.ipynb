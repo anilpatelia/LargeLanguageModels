{
  "nbformat": 4,
  "nbformat_minor": 0,
  "metadata": {
    "colab": {
      "provenance": []
    },
    "kernelspec": {
      "name": "python3",
      "display_name": "Python 3"
    },
    "language_info": {
      "name": "python"
    }
  },
  "cells": [
    {
      "cell_type": "code",
      "execution_count": null,
      "metadata": {
        "id": "6CNUtrLGQL2k"
      },
      "outputs": [],
      "source": [
        "from transformers import RagTokenizer, RagRetriever, RagSequenceForGeneration\n",
        "\n",
        "# Initialize the tokenizer, retriever, and model\n",
        "tokenizer = RagTokenizer.from_pretrained(\"facebook/rag-token-nq\")\n",
        "retriever = RagRetriever.from_pretrained(\"facebook/rag-token-nq\", index_name=\"exact\", passages_path=\"path_to_passages\")\n",
        "model = RagSequenceForGeneration.from_pretrained(\"facebook/rag-token-nq\", retriever=retriever)\n",
        "\n",
        "# Example query\n",
        "query = \"What is the capital of France?\"\n",
        "input_ids = tokenizer(query, return_tensors=\"pt\").input_ids\n",
        "\n",
        "# Generate a response\n",
        "generated_ids = model.generate(input_ids)\n",
        "response = tokenizer.batch_decode(generated_ids, skip_special_tokens=True)[0]\n",
        "\n",
        "print(response)\n"
      ]
    }
  ]
}