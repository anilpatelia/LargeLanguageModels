{
  "cells": [
    {
      "cell_type": "markdown",
      "id": "53e22a15",
      "metadata": {
        "id": "53e22a15"
      },
      "source": [
        "## Problem:\n",
        "### How could we create an AI powered Chatbot to respond to questions for a specific content? (pdf, Website, etc)"
      ]
    },
    {
      "cell_type": "code",
      "source": [],
      "metadata": {
        "id": "8-TAP0vTXOir"
      },
      "id": "8-TAP0vTXOir",
      "execution_count": null,
      "outputs": []
    },
    {
      "cell_type": "markdown",
      "id": "fb499910",
      "metadata": {
        "id": "fb499910"
      },
      "source": [
        "### ⚙️ SetUp"
      ]
    },
    {
      "cell_type": "markdown",
      "id": "f156d0be",
      "metadata": {
        "id": "f156d0be"
      },
      "source": [
        "Uncomment and run the following to set up your environment. In the code that follows we will be using openai, langchain, optionally chromadb and numpy."
      ]
    },
    {
      "cell_type": "code",
      "execution_count": null,
      "id": "8991bc0b",
      "metadata": {
        "id": "8991bc0b",
        "colab": {
          "base_uri": "https://localhost:8080/"
        },
        "outputId": "02c5008c-d3db-4101-c3fa-8683f5383665"
      },
      "outputs": [
        {
          "output_type": "stream",
          "name": "stdout",
          "text": [
            "Collecting openai==0.28\n",
            "  Downloading openai-0.28.0-py3-none-any.whl (76 kB)\n",
            "\u001b[2K     \u001b[90m━━━━━━━━━━━━━━━━━━━━━━━━━━━━━━━━━━━━━━━━\u001b[0m \u001b[32m76.5/76.5 kB\u001b[0m \u001b[31m1.7 MB/s\u001b[0m eta \u001b[36m0:00:00\u001b[0m\n",
            "\u001b[?25hRequirement already satisfied: requests>=2.20 in /usr/local/lib/python3.10/dist-packages (from openai==0.28) (2.31.0)\n",
            "Requirement already satisfied: tqdm in /usr/local/lib/python3.10/dist-packages (from openai==0.28) (4.66.1)\n",
            "Requirement already satisfied: aiohttp in /usr/local/lib/python3.10/dist-packages (from openai==0.28) (3.9.1)\n",
            "Requirement already satisfied: charset-normalizer<4,>=2 in /usr/local/lib/python3.10/dist-packages (from requests>=2.20->openai==0.28) (3.3.2)\n",
            "Requirement already satisfied: idna<4,>=2.5 in /usr/local/lib/python3.10/dist-packages (from requests>=2.20->openai==0.28) (3.6)\n",
            "Requirement already satisfied: urllib3<3,>=1.21.1 in /usr/local/lib/python3.10/dist-packages (from requests>=2.20->openai==0.28) (1.26.18)\n",
            "Requirement already satisfied: certifi>=2017.4.17 in /usr/local/lib/python3.10/dist-packages (from requests>=2.20->openai==0.28) (2023.11.17)\n",
            "Requirement already satisfied: attrs>=17.3.0 in /usr/local/lib/python3.10/dist-packages (from aiohttp->openai==0.28) (23.1.0)\n",
            "Requirement already satisfied: multidict<7.0,>=4.5 in /usr/local/lib/python3.10/dist-packages (from aiohttp->openai==0.28) (6.0.4)\n",
            "Requirement already satisfied: yarl<2.0,>=1.0 in /usr/local/lib/python3.10/dist-packages (from aiohttp->openai==0.28) (1.9.3)\n",
            "Requirement already satisfied: frozenlist>=1.1.1 in /usr/local/lib/python3.10/dist-packages (from aiohttp->openai==0.28) (1.4.0)\n",
            "Requirement already satisfied: aiosignal>=1.1.2 in /usr/local/lib/python3.10/dist-packages (from aiohttp->openai==0.28) (1.3.1)\n",
            "Requirement already satisfied: async-timeout<5.0,>=4.0 in /usr/local/lib/python3.10/dist-packages (from aiohttp->openai==0.28) (4.0.3)\n",
            "Installing collected packages: openai\n",
            "  Attempting uninstall: openai\n",
            "    Found existing installation: openai 1.3.7\n",
            "    Uninstalling openai-1.3.7:\n",
            "      Successfully uninstalled openai-1.3.7\n",
            "\u001b[31mERROR: pip's dependency resolver does not currently take into account all the packages that are installed. This behaviour is the source of the following dependency conflicts.\n",
            "llmx 0.0.15a0 requires cohere, which is not installed.\u001b[0m\u001b[31m\n",
            "\u001b[0mSuccessfully installed openai-0.28.0\n",
            "Requirement already satisfied: langchain in /usr/local/lib/python3.10/dist-packages (0.0.347)\n",
            "Requirement already satisfied: PyYAML>=5.3 in /usr/local/lib/python3.10/dist-packages (from langchain) (6.0.1)\n",
            "Requirement already satisfied: SQLAlchemy<3,>=1.4 in /usr/local/lib/python3.10/dist-packages (from langchain) (2.0.23)\n",
            "Requirement already satisfied: aiohttp<4.0.0,>=3.8.3 in /usr/local/lib/python3.10/dist-packages (from langchain) (3.9.1)\n",
            "Requirement already satisfied: anyio<4.0 in /usr/local/lib/python3.10/dist-packages (from langchain) (3.7.1)\n",
            "Requirement already satisfied: async-timeout<5.0.0,>=4.0.0 in /usr/local/lib/python3.10/dist-packages (from langchain) (4.0.3)\n",
            "Requirement already satisfied: dataclasses-json<0.7,>=0.5.7 in /usr/local/lib/python3.10/dist-packages (from langchain) (0.6.3)\n",
            "Requirement already satisfied: jsonpatch<2.0,>=1.33 in /usr/local/lib/python3.10/dist-packages (from langchain) (1.33)\n",
            "Requirement already satisfied: langchain-core<0.1,>=0.0.11 in /usr/local/lib/python3.10/dist-packages (from langchain) (0.0.11)\n",
            "Requirement already satisfied: langsmith<0.1.0,>=0.0.63 in /usr/local/lib/python3.10/dist-packages (from langchain) (0.0.69)\n",
            "Requirement already satisfied: numpy<2,>=1 in /usr/local/lib/python3.10/dist-packages (from langchain) (1.23.5)\n",
            "Requirement already satisfied: pydantic<3,>=1 in /usr/local/lib/python3.10/dist-packages (from langchain) (1.10.13)\n",
            "Requirement already satisfied: requests<3,>=2 in /usr/local/lib/python3.10/dist-packages (from langchain) (2.31.0)\n",
            "Requirement already satisfied: tenacity<9.0.0,>=8.1.0 in /usr/local/lib/python3.10/dist-packages (from langchain) (8.2.3)\n",
            "Requirement already satisfied: attrs>=17.3.0 in /usr/local/lib/python3.10/dist-packages (from aiohttp<4.0.0,>=3.8.3->langchain) (23.1.0)\n",
            "Requirement already satisfied: multidict<7.0,>=4.5 in /usr/local/lib/python3.10/dist-packages (from aiohttp<4.0.0,>=3.8.3->langchain) (6.0.4)\n",
            "Requirement already satisfied: yarl<2.0,>=1.0 in /usr/local/lib/python3.10/dist-packages (from aiohttp<4.0.0,>=3.8.3->langchain) (1.9.3)\n",
            "Requirement already satisfied: frozenlist>=1.1.1 in /usr/local/lib/python3.10/dist-packages (from aiohttp<4.0.0,>=3.8.3->langchain) (1.4.0)\n",
            "Requirement already satisfied: aiosignal>=1.1.2 in /usr/local/lib/python3.10/dist-packages (from aiohttp<4.0.0,>=3.8.3->langchain) (1.3.1)\n",
            "Requirement already satisfied: idna>=2.8 in /usr/local/lib/python3.10/dist-packages (from anyio<4.0->langchain) (3.6)\n",
            "Requirement already satisfied: sniffio>=1.1 in /usr/local/lib/python3.10/dist-packages (from anyio<4.0->langchain) (1.3.0)\n",
            "Requirement already satisfied: exceptiongroup in /usr/local/lib/python3.10/dist-packages (from anyio<4.0->langchain) (1.2.0)\n",
            "Requirement already satisfied: marshmallow<4.0.0,>=3.18.0 in /usr/local/lib/python3.10/dist-packages (from dataclasses-json<0.7,>=0.5.7->langchain) (3.20.1)\n",
            "Requirement already satisfied: typing-inspect<1,>=0.4.0 in /usr/local/lib/python3.10/dist-packages (from dataclasses-json<0.7,>=0.5.7->langchain) (0.9.0)\n",
            "Requirement already satisfied: jsonpointer>=1.9 in /usr/local/lib/python3.10/dist-packages (from jsonpatch<2.0,>=1.33->langchain) (2.4)\n",
            "Requirement already satisfied: typing-extensions>=4.2.0 in /usr/local/lib/python3.10/dist-packages (from pydantic<3,>=1->langchain) (4.8.0)\n",
            "Requirement already satisfied: charset-normalizer<4,>=2 in /usr/local/lib/python3.10/dist-packages (from requests<3,>=2->langchain) (3.3.2)\n",
            "Requirement already satisfied: urllib3<3,>=1.21.1 in /usr/local/lib/python3.10/dist-packages (from requests<3,>=2->langchain) (1.26.18)\n",
            "Requirement already satisfied: certifi>=2017.4.17 in /usr/local/lib/python3.10/dist-packages (from requests<3,>=2->langchain) (2023.11.17)\n",
            "Requirement already satisfied: greenlet!=0.4.17 in /usr/local/lib/python3.10/dist-packages (from SQLAlchemy<3,>=1.4->langchain) (3.0.1)\n",
            "Requirement already satisfied: packaging>=17.0 in /usr/local/lib/python3.10/dist-packages (from marshmallow<4.0.0,>=3.18.0->dataclasses-json<0.7,>=0.5.7->langchain) (23.2)\n",
            "Requirement already satisfied: mypy-extensions>=0.3.0 in /usr/local/lib/python3.10/dist-packages (from typing-inspect<1,>=0.4.0->dataclasses-json<0.7,>=0.5.7->langchain) (1.0.0)\n",
            "Requirement already satisfied: numpy in /usr/local/lib/python3.10/dist-packages (1.23.5)\n",
            "Requirement already satisfied: chromadb in /usr/local/lib/python3.10/dist-packages (0.4.18)\n",
            "Requirement already satisfied: requests>=2.28 in /usr/local/lib/python3.10/dist-packages (from chromadb) (2.31.0)\n",
            "Requirement already satisfied: pydantic>=1.9 in /usr/local/lib/python3.10/dist-packages (from chromadb) (1.10.13)\n",
            "Requirement already satisfied: chroma-hnswlib==0.7.3 in /usr/local/lib/python3.10/dist-packages (from chromadb) (0.7.3)\n",
            "Requirement already satisfied: fastapi>=0.95.2 in /usr/local/lib/python3.10/dist-packages (from chromadb) (0.104.1)\n",
            "Requirement already satisfied: uvicorn[standard]>=0.18.3 in /usr/local/lib/python3.10/dist-packages (from chromadb) (0.24.0.post1)\n",
            "Requirement already satisfied: posthog>=2.4.0 in /usr/local/lib/python3.10/dist-packages (from chromadb) (3.1.0)\n",
            "Requirement already satisfied: typing-extensions>=4.5.0 in /usr/local/lib/python3.10/dist-packages (from chromadb) (4.8.0)\n",
            "Requirement already satisfied: pulsar-client>=3.1.0 in /usr/local/lib/python3.10/dist-packages (from chromadb) (3.3.0)\n",
            "Requirement already satisfied: onnxruntime>=1.14.1 in /usr/local/lib/python3.10/dist-packages (from chromadb) (1.16.3)\n",
            "Requirement already satisfied: opentelemetry-api>=1.2.0 in /usr/local/lib/python3.10/dist-packages (from chromadb) (1.21.0)\n",
            "Requirement already satisfied: opentelemetry-exporter-otlp-proto-grpc>=1.2.0 in /usr/local/lib/python3.10/dist-packages (from chromadb) (1.21.0)\n",
            "Requirement already satisfied: opentelemetry-instrumentation-fastapi>=0.41b0 in /usr/local/lib/python3.10/dist-packages (from chromadb) (0.42b0)\n",
            "Requirement already satisfied: opentelemetry-sdk>=1.2.0 in /usr/local/lib/python3.10/dist-packages (from chromadb) (1.21.0)\n",
            "Requirement already satisfied: tokenizers>=0.13.2 in /usr/local/lib/python3.10/dist-packages (from chromadb) (0.15.0)\n",
            "Requirement already satisfied: pypika>=0.48.9 in /usr/local/lib/python3.10/dist-packages (from chromadb) (0.48.9)\n",
            "Requirement already satisfied: tqdm>=4.65.0 in /usr/local/lib/python3.10/dist-packages (from chromadb) (4.66.1)\n",
            "Requirement already satisfied: overrides>=7.3.1 in /usr/local/lib/python3.10/dist-packages (from chromadb) (7.4.0)\n",
            "Requirement already satisfied: importlib-resources in /usr/local/lib/python3.10/dist-packages (from chromadb) (6.1.1)\n",
            "Requirement already satisfied: grpcio>=1.58.0 in /usr/local/lib/python3.10/dist-packages (from chromadb) (1.59.3)\n",
            "Requirement already satisfied: bcrypt>=4.0.1 in /usr/local/lib/python3.10/dist-packages (from chromadb) (4.1.1)\n",
            "Requirement already satisfied: typer>=0.9.0 in /usr/local/lib/python3.10/dist-packages (from chromadb) (0.9.0)\n",
            "Requirement already satisfied: kubernetes>=28.1.0 in /usr/local/lib/python3.10/dist-packages (from chromadb) (28.1.0)\n",
            "Requirement already satisfied: tenacity>=8.2.3 in /usr/local/lib/python3.10/dist-packages (from chromadb) (8.2.3)\n",
            "Requirement already satisfied: PyYAML>=6.0.0 in /usr/local/lib/python3.10/dist-packages (from chromadb) (6.0.1)\n",
            "Requirement already satisfied: mmh3>=4.0.1 in /usr/local/lib/python3.10/dist-packages (from chromadb) (4.0.1)\n",
            "Requirement already satisfied: numpy>=1.22.5 in /usr/local/lib/python3.10/dist-packages (from chromadb) (1.23.5)\n",
            "Requirement already satisfied: anyio<4.0.0,>=3.7.1 in /usr/local/lib/python3.10/dist-packages (from fastapi>=0.95.2->chromadb) (3.7.1)\n",
            "Requirement already satisfied: starlette<0.28.0,>=0.27.0 in /usr/local/lib/python3.10/dist-packages (from fastapi>=0.95.2->chromadb) (0.27.0)\n",
            "Requirement already satisfied: certifi>=14.05.14 in /usr/local/lib/python3.10/dist-packages (from kubernetes>=28.1.0->chromadb) (2023.11.17)\n",
            "Requirement already satisfied: six>=1.9.0 in /usr/local/lib/python3.10/dist-packages (from kubernetes>=28.1.0->chromadb) (1.16.0)\n",
            "Requirement already satisfied: python-dateutil>=2.5.3 in /usr/local/lib/python3.10/dist-packages (from kubernetes>=28.1.0->chromadb) (2.8.2)\n",
            "Requirement already satisfied: google-auth>=1.0.1 in /usr/local/lib/python3.10/dist-packages (from kubernetes>=28.1.0->chromadb) (2.17.3)\n",
            "Requirement already satisfied: websocket-client!=0.40.0,!=0.41.*,!=0.42.*,>=0.32.0 in /usr/local/lib/python3.10/dist-packages (from kubernetes>=28.1.0->chromadb) (1.6.4)\n",
            "Requirement already satisfied: requests-oauthlib in /usr/local/lib/python3.10/dist-packages (from kubernetes>=28.1.0->chromadb) (1.3.1)\n",
            "Requirement already satisfied: oauthlib>=3.2.2 in /usr/local/lib/python3.10/dist-packages (from kubernetes>=28.1.0->chromadb) (3.2.2)\n",
            "Requirement already satisfied: urllib3<2.0,>=1.24.2 in /usr/local/lib/python3.10/dist-packages (from kubernetes>=28.1.0->chromadb) (1.26.18)\n",
            "Requirement already satisfied: coloredlogs in /usr/local/lib/python3.10/dist-packages (from onnxruntime>=1.14.1->chromadb) (15.0.1)\n",
            "Requirement already satisfied: flatbuffers in /usr/local/lib/python3.10/dist-packages (from onnxruntime>=1.14.1->chromadb) (23.5.26)\n",
            "Requirement already satisfied: packaging in /usr/local/lib/python3.10/dist-packages (from onnxruntime>=1.14.1->chromadb) (23.2)\n",
            "Requirement already satisfied: protobuf in /usr/local/lib/python3.10/dist-packages (from onnxruntime>=1.14.1->chromadb) (3.20.3)\n",
            "Requirement already satisfied: sympy in /usr/local/lib/python3.10/dist-packages (from onnxruntime>=1.14.1->chromadb) (1.12)\n",
            "Requirement already satisfied: deprecated>=1.2.6 in /usr/local/lib/python3.10/dist-packages (from opentelemetry-api>=1.2.0->chromadb) (1.2.14)\n",
            "Requirement already satisfied: importlib-metadata<7.0,>=6.0 in /usr/local/lib/python3.10/dist-packages (from opentelemetry-api>=1.2.0->chromadb) (6.8.0)\n",
            "Requirement already satisfied: backoff<3.0.0,>=1.10.0 in /usr/local/lib/python3.10/dist-packages (from opentelemetry-exporter-otlp-proto-grpc>=1.2.0->chromadb) (2.2.1)\n",
            "Requirement already satisfied: googleapis-common-protos~=1.52 in /usr/local/lib/python3.10/dist-packages (from opentelemetry-exporter-otlp-proto-grpc>=1.2.0->chromadb) (1.61.0)\n",
            "Requirement already satisfied: opentelemetry-exporter-otlp-proto-common==1.21.0 in /usr/local/lib/python3.10/dist-packages (from opentelemetry-exporter-otlp-proto-grpc>=1.2.0->chromadb) (1.21.0)\n",
            "Requirement already satisfied: opentelemetry-proto==1.21.0 in /usr/local/lib/python3.10/dist-packages (from opentelemetry-exporter-otlp-proto-grpc>=1.2.0->chromadb) (1.21.0)\n",
            "Requirement already satisfied: opentelemetry-instrumentation-asgi==0.42b0 in /usr/local/lib/python3.10/dist-packages (from opentelemetry-instrumentation-fastapi>=0.41b0->chromadb) (0.42b0)\n",
            "Requirement already satisfied: opentelemetry-instrumentation==0.42b0 in /usr/local/lib/python3.10/dist-packages (from opentelemetry-instrumentation-fastapi>=0.41b0->chromadb) (0.42b0)\n",
            "Requirement already satisfied: opentelemetry-semantic-conventions==0.42b0 in /usr/local/lib/python3.10/dist-packages (from opentelemetry-instrumentation-fastapi>=0.41b0->chromadb) (0.42b0)\n",
            "Requirement already satisfied: opentelemetry-util-http==0.42b0 in /usr/local/lib/python3.10/dist-packages (from opentelemetry-instrumentation-fastapi>=0.41b0->chromadb) (0.42b0)\n",
            "Requirement already satisfied: setuptools>=16.0 in /usr/local/lib/python3.10/dist-packages (from opentelemetry-instrumentation==0.42b0->opentelemetry-instrumentation-fastapi>=0.41b0->chromadb) (67.7.2)\n",
            "Requirement already satisfied: wrapt<2.0.0,>=1.0.0 in /usr/local/lib/python3.10/dist-packages (from opentelemetry-instrumentation==0.42b0->opentelemetry-instrumentation-fastapi>=0.41b0->chromadb) (1.14.1)\n",
            "Requirement already satisfied: asgiref~=3.0 in /usr/local/lib/python3.10/dist-packages (from opentelemetry-instrumentation-asgi==0.42b0->opentelemetry-instrumentation-fastapi>=0.41b0->chromadb) (3.7.2)\n",
            "Requirement already satisfied: monotonic>=1.5 in /usr/local/lib/python3.10/dist-packages (from posthog>=2.4.0->chromadb) (1.6)\n",
            "Requirement already satisfied: charset-normalizer<4,>=2 in /usr/local/lib/python3.10/dist-packages (from requests>=2.28->chromadb) (3.3.2)\n",
            "Requirement already satisfied: idna<4,>=2.5 in /usr/local/lib/python3.10/dist-packages (from requests>=2.28->chromadb) (3.6)\n",
            "Requirement already satisfied: huggingface_hub<1.0,>=0.16.4 in /usr/local/lib/python3.10/dist-packages (from tokenizers>=0.13.2->chromadb) (0.19.4)\n",
            "Requirement already satisfied: click<9.0.0,>=7.1.1 in /usr/local/lib/python3.10/dist-packages (from typer>=0.9.0->chromadb) (8.1.7)\n",
            "Requirement already satisfied: h11>=0.8 in /usr/local/lib/python3.10/dist-packages (from uvicorn[standard]>=0.18.3->chromadb) (0.14.0)\n",
            "Requirement already satisfied: httptools>=0.5.0 in /usr/local/lib/python3.10/dist-packages (from uvicorn[standard]>=0.18.3->chromadb) (0.6.1)\n",
            "Requirement already satisfied: python-dotenv>=0.13 in /usr/local/lib/python3.10/dist-packages (from uvicorn[standard]>=0.18.3->chromadb) (1.0.0)\n",
            "Requirement already satisfied: uvloop!=0.15.0,!=0.15.1,>=0.14.0 in /usr/local/lib/python3.10/dist-packages (from uvicorn[standard]>=0.18.3->chromadb) (0.19.0)\n",
            "Requirement already satisfied: watchfiles>=0.13 in /usr/local/lib/python3.10/dist-packages (from uvicorn[standard]>=0.18.3->chromadb) (0.21.0)\n",
            "Requirement already satisfied: websockets>=10.4 in /usr/local/lib/python3.10/dist-packages (from uvicorn[standard]>=0.18.3->chromadb) (12.0)\n",
            "Requirement already satisfied: sniffio>=1.1 in /usr/local/lib/python3.10/dist-packages (from anyio<4.0.0,>=3.7.1->fastapi>=0.95.2->chromadb) (1.3.0)\n",
            "Requirement already satisfied: exceptiongroup in /usr/local/lib/python3.10/dist-packages (from anyio<4.0.0,>=3.7.1->fastapi>=0.95.2->chromadb) (1.2.0)\n",
            "Requirement already satisfied: cachetools<6.0,>=2.0.0 in /usr/local/lib/python3.10/dist-packages (from google-auth>=1.0.1->kubernetes>=28.1.0->chromadb) (5.3.2)\n",
            "Requirement already satisfied: pyasn1-modules>=0.2.1 in /usr/local/lib/python3.10/dist-packages (from google-auth>=1.0.1->kubernetes>=28.1.0->chromadb) (0.3.0)\n",
            "Requirement already satisfied: rsa<5,>=3.1.4 in /usr/local/lib/python3.10/dist-packages (from google-auth>=1.0.1->kubernetes>=28.1.0->chromadb) (4.9)\n",
            "Requirement already satisfied: filelock in /usr/local/lib/python3.10/dist-packages (from huggingface_hub<1.0,>=0.16.4->tokenizers>=0.13.2->chromadb) (3.13.1)\n",
            "Requirement already satisfied: fsspec>=2023.5.0 in /usr/local/lib/python3.10/dist-packages (from huggingface_hub<1.0,>=0.16.4->tokenizers>=0.13.2->chromadb) (2023.6.0)\n",
            "Requirement already satisfied: zipp>=0.5 in /usr/local/lib/python3.10/dist-packages (from importlib-metadata<7.0,>=6.0->opentelemetry-api>=1.2.0->chromadb) (3.17.0)\n",
            "Requirement already satisfied: humanfriendly>=9.1 in /usr/local/lib/python3.10/dist-packages (from coloredlogs->onnxruntime>=1.14.1->chromadb) (10.0)\n",
            "Requirement already satisfied: mpmath>=0.19 in /usr/local/lib/python3.10/dist-packages (from sympy->onnxruntime>=1.14.1->chromadb) (1.3.0)\n",
            "Requirement already satisfied: pyasn1<0.6.0,>=0.4.6 in /usr/local/lib/python3.10/dist-packages (from pyasn1-modules>=0.2.1->google-auth>=1.0.1->kubernetes>=28.1.0->chromadb) (0.5.1)\n",
            "Requirement already satisfied: tiktoken in /usr/local/lib/python3.10/dist-packages (0.5.2)\n",
            "Requirement already satisfied: regex>=2022.1.18 in /usr/local/lib/python3.10/dist-packages (from tiktoken) (2023.6.3)\n",
            "Requirement already satisfied: requests>=2.26.0 in /usr/local/lib/python3.10/dist-packages (from tiktoken) (2.31.0)\n",
            "Requirement already satisfied: charset-normalizer<4,>=2 in /usr/local/lib/python3.10/dist-packages (from requests>=2.26.0->tiktoken) (3.3.2)\n",
            "Requirement already satisfied: idna<4,>=2.5 in /usr/local/lib/python3.10/dist-packages (from requests>=2.26.0->tiktoken) (3.6)\n",
            "Requirement already satisfied: urllib3<3,>=1.21.1 in /usr/local/lib/python3.10/dist-packages (from requests>=2.26.0->tiktoken) (1.26.18)\n",
            "Requirement already satisfied: certifi>=2017.4.17 in /usr/local/lib/python3.10/dist-packages (from requests>=2.26.0->tiktoken) (2023.11.17)\n"
          ]
        }
      ],
      "source": [
        "# # Uncomment this cell to get everything installed in colab.\n",
        "# # You will get a bunch of logs and errors.  Don't worry about them.  Everything will be installed properly in the end.\n",
        "\n",
        "# %pip install openai==0.28\n",
        "# %pip install langchain\n",
        "# %pip install numpy\n",
        "# %pip install chromadb\n",
        "# %pip install tiktoken"
      ]
    },
    {
      "cell_type": "markdown",
      "id": "acfe41c1",
      "metadata": {
        "id": "acfe41c1"
      },
      "source": [
        "Note that to use openai library and invoke the API you will need to\n",
        "1. Create an account\n",
        "2. Create an OPENAI_API_KEY\n",
        "3. Export this key to the system\n",
        "\n",
        "Please follow the steps in [OpenAI API Reference](https://platform.openai.com/docs/api-reference/introduction) page."
      ]
    },
    {
      "cell_type": "code",
      "execution_count": null,
      "id": "394e40b7",
      "metadata": {
        "id": "394e40b7"
      },
      "outputs": [],
      "source": [
        "# import os\n",
        "\n",
        "# os.environ['OPENAI_API_KEY'] = \"your api key here\""
      ]
    },
    {
      "cell_type": "markdown",
      "id": "10d47956",
      "metadata": {
        "id": "10d47956"
      },
      "source": [
        "### 💬 Text generation"
      ]
    },
    {
      "cell_type": "markdown",
      "id": "4c725ad8",
      "metadata": {
        "id": "4c725ad8"
      },
      "source": [
        "Before diving into our problem, we will first discuss how you can use the openai python library to generate a response to a question to understand better the idea of \"prompt before the prompt\". Suppose you have some information about the sky and you want to make an assistant that will responds to questions only about the sky."
      ]
    },
    {
      "cell_type": "code",
      "execution_count": null,
      "id": "53dc6875",
      "metadata": {
        "id": "53dc6875"
      },
      "outputs": [],
      "source": [
        "context =  \"The sky is the appearance of the atmosphere around the surface of the planet from our \\\n",
        "            point of view. We see many objects that are actually in space such as the Sun, \\\n",
        "            the Moon, and stars because they are in the sky. On a clear day the sky appears blue. \\\n",
        "            At night it appears from very dark blue to black.\"\n",
        "\n",
        "how_to_respond =  f\"Use this information to respond to the user question: {context}. \\\n",
        "                    Please stick to this context when answering the question. \""
      ]
    },
    {
      "cell_type": "code",
      "execution_count": null,
      "id": "a02e91f2",
      "metadata": {
        "id": "a02e91f2"
      },
      "outputs": [],
      "source": [
        "background =  \"You are an assistant.\"\n"
      ]
    },
    {
      "cell_type": "code",
      "execution_count": null,
      "id": "fff97113",
      "metadata": {
        "id": "fff97113",
        "colab": {
          "base_uri": "https://localhost:8080/",
          "height": 53
        },
        "outputId": "01b29a83-6a5e-49ef-b512-60b756f8aab8"
      },
      "outputs": [
        {
          "name": "stdout",
          "output_type": "stream",
          "text": [
            "Provide Question here: What color is the sky?\n"
          ]
        },
        {
          "output_type": "execute_result",
          "data": {
            "text/plain": [
              "'What color is the sky?'"
            ],
            "application/vnd.google.colaboratory.intrinsic+json": {
              "type": "string"
            }
          },
          "metadata": {},
          "execution_count": 5
        }
      ],
      "source": [
        "question = input(\"Provide Question here: \")\n",
        "question"
      ]
    },
    {
      "cell_type": "markdown",
      "id": "c9ff12ae",
      "metadata": {
        "id": "c9ff12ae"
      },
      "source": [
        "To create a response you can use the *create* function from openai's ChatCompletion object. To call it you will need to provide at least two paramters:\n",
        "* The *<span style=\"color:green\">model</span>* you want to use\n",
        "* Some *<span style=\"color:green\">messages</span>* to start the conversation"
      ]
    },
    {
      "cell_type": "code",
      "execution_count": null,
      "id": "f1e12783",
      "metadata": {
        "id": "f1e12783"
      },
      "outputs": [],
      "source": [
        "required_parameters = {\n",
        "\n",
        "    'model': \"gpt-4\",\n",
        "\n",
        "    'messages': [\n",
        "        {\"role\": \"system\", \"content\": background},\n",
        "        {\"role\": \"user\", \"content\": question},\n",
        "        {\"role\": \"assistant\", \"content\": how_to_respond}\n",
        "    ]\n",
        "\n",
        "}"
      ]
    },
    {
      "cell_type": "markdown",
      "id": "8038d6c1",
      "metadata": {
        "id": "8038d6c1"
      },
      "source": [
        "Messages should be provided in a form of a conversation (question - response). Usually a conversation starts with a system message and then multiple back and forth turns. Each message is an object with the following format:\n",
        "```json\n",
        "{ \"role\": \"...\",  \"content\": \"...\" }\n",
        "```\n",
        "The content value depends on the role and we can have three different roles:\n",
        "\n",
        "* **system**: Sets the assistant's behavior (Optional; without it, the model behaves like a generic assistant)\n",
        "* **user**: Contain requests or comments for the assistant\n",
        "* **assistant**: Store previous assistant responses. Can also be written to provide examples of desired behavior (context)"
      ]
    },
    {
      "cell_type": "code",
      "execution_count": null,
      "id": "a832c2ce",
      "metadata": {
        "id": "a832c2ce"
      },
      "outputs": [],
      "source": [
        "import openai\n",
        "\n",
        "# >>>>>>> create response\n",
        "response = openai.ChatCompletion.create(\n",
        "    model= required_parameters['model'],\n",
        "    messages= required_parameters['messages'],\n",
        "\n",
        "    # >>>>>>> other parameters that can be used for model tuning\n",
        "    max_tokens=100, # number of tokens to return\n",
        "    n=1, # how many responses to generate\n",
        "\n",
        "    # read more about model fine tuning: https://platform.openai.com/docs/api-reference/chat/create\n",
        ")"
      ]
    },
    {
      "cell_type": "code",
      "execution_count": null,
      "id": "15f0074b",
      "metadata": {
        "id": "15f0074b",
        "colab": {
          "base_uri": "https://localhost:8080/"
        },
        "outputId": "c4643eb5-056e-4e74-a3cd-e28ccc7bbaa7"
      },
      "outputs": [
        {
          "output_type": "stream",
          "name": "stdout",
          "text": [
            "Question:\n",
            "\t What color is the sky?\n",
            "Answer:\n",
            "\t The color of the sky can change depending on the time of day and weather conditions.\n",
            "\t On a clear day, the sky generally appears to be blue.\n",
            "\t At sunrise or sunset, the sky can take on hues of red, orange, pink, or purple.\n",
            "\t At night, the sky appears very dark blue or black.\n",
            "\t\n"
          ]
        }
      ],
      "source": [
        "# >>>>>>> retrieve response\n",
        "answer = response.choices[0]['message']['content']\n",
        "\n",
        "## puts each sentence (when multi-sentence responce) in separate line in the answer\n",
        "answer = answer.replace('.', '.\\n\\t')\n",
        "\n",
        "print(\"Question:\\n\\t\", question)\n",
        "print(\"Answer:\\n\\t\", answer)"
      ]
    },
    {
      "cell_type": "markdown",
      "id": "bf487966",
      "metadata": {
        "id": "bf487966"
      },
      "source": [
        "So, \"prompt before the prompt\" refers to providing additional context or information before asking a question or making a request. It helps set the stage for more informed or relevant response. In our case this would be describing the \"system\" or the way the \"assistant\" will respond. Notice that in this way you guide the model without training or fine tuning it treating it as an intelligent black box."
      ]
    },
    {
      "cell_type": "markdown",
      "id": "03b727b6",
      "metadata": {
        "id": "03b727b6"
      },
      "source": [
        "### 💡 Brainstorming"
      ]
    },
    {
      "cell_type": "markdown",
      "id": "1c350003",
      "metadata": {
        "id": "1c350003"
      },
      "source": [
        "We already know about:\n",
        " * How to <span style=\"color:purple\">create embeddings</span>\n",
        " * How to <span style=\"color:purple\">find similar embeddings</span>\n",
        " * How to <span style=\"color:purple\">generate response on a question</span>\n",
        "\n",
        "Can we combine all those to solve our problem?"
      ]
    },
    {
      "cell_type": "markdown",
      "id": "d96da0f6",
      "metadata": {
        "id": "d96da0f6"
      },
      "source": [
        "## Part 1: Create Knowledge Base"
      ]
    },
    {
      "cell_type": "markdown",
      "id": "6df2d14e",
      "metadata": {
        "id": "6df2d14e"
      },
      "source": [
        "<img src=\"https://www.donwoodlock.com/ml301-Nov2023/querytxt_demo/images/embeddings.png\" width=\"700\" height=\"400\" alt=\"Embeddings Storage Pipeline\">"
      ]
    },
    {
      "cell_type": "markdown",
      "id": "f52bf791",
      "metadata": {
        "id": "f52bf791"
      },
      "source": [
        "The first thing you need to implement when making a context base ai chat assistant is our <span style=\"color:purple\">knowledge base</span>. This can be thought of as a storage of all the information we want to use to respond to potential questions. And of course, since this information will be processed by a machine, it better be encoded and easy to search. In this section we will explore how we can create a knowledge base using text embeddings."
      ]
    },
    {
      "cell_type": "markdown",
      "id": "186c5234",
      "metadata": {
        "id": "186c5234"
      },
      "source": [
        "### STEP 1: Load context"
      ]
    },
    {
      "cell_type": "markdown",
      "id": "f8c742a3",
      "metadata": {
        "id": "f8c742a3"
      },
      "source": [
        "The first thing you might want to do is define how you will be loading your document. This includes parsers or special filetype loaders you will be using, as well as deciding which parts from the imported data you will maintain as a context. In this simple example we will be loading an ascii character txt that contains four french toast recipes."
      ]
    },
    {
      "cell_type": "code",
      "execution_count": null,
      "id": "deb860b1",
      "metadata": {
        "id": "deb860b1",
        "colab": {
          "base_uri": "https://localhost:8080/"
        },
        "outputId": "aa532ea4-8664-4fc9-db3d-acbc3ff6d3e8"
      },
      "outputs": [
        {
          "output_type": "stream",
          "name": "stdout",
          "text": [
            "RECIPE 1\r\n",
            "\r\n",
            "The Best French Toast Recipe (+VIDEO) - The Girl Who Ate Everything\r\n",
            "Christy Denney\r\n",
            "\r\n",
            "This French Toast recipe is a classic recipe made with milk, eggs, vanilla, and cinnamon. This breakfast has the perfect soft center with a crisp outside.\r\n",
            "\r\n",
            "\r\n",
            "BEST FRENCH TOAST RECIPE\r\n",
            "\r\n",
            "I know this is a basic recipe for French toast but it is the best. I tried all different versions. Some with more milk, more eggs, less eggs, and this is the winning version. Make this your staple recipe for the weekend. \r\n",
            "WHAT KIND OF BREAD TO USE FOR FRENCH TOAST\r\n",
            "\r\n",
            "The bread you use for French toast should be sturdy enough to handle a soaking in milk and eggs. Here are a few options.\r\n",
            "\r\n",
            "    BRIOCHE â Has a firm crust but a soft center.\r\n",
            "    SOURDOUGH â I love the contrast of this tangy bread to the sweet French toast.\r\n",
            "    FRENCH BREAD â This is a great  bread for soaking since it has a solid crust.\r\n",
            "    WHITE BREAD â This is what most of us have on hand and it works great. Itâs usually not precut in very thick slices so donât soak as long.\r\n",
            "    CHALLAH â Is a softer bread but also works great here.\r\n",
            "\r\n",
            "HOW TO MAKE FRENCH TOAST\r\n",
            "\r\n",
            "First, mix the eggs, milk, vanilla and cinnamon in a shallow baking dish.\r\n",
            "\r\n",
            "bread in a baking dishDip your bread in the mixture for about 3 seconds per side. \r\n",
            "\r\n",
            "soaked bread in a baking dish\r\n",
            "\r\n",
            "You donât want to oversoak them so that they are super soggy.\r\n",
            "\r\n",
            "bread in a panMelt some butter in a pan over medium heat and cook for 3-4 minutes per side.\r\n",
            "\r\n",
            "\r\n",
            "french toast on a pan\r\n",
            "\r\n",
            "If youâre making in batches, keep the toast warm on a pan in the oven at 250 degrees.\r\n",
            "SOGGY FRENCH TOAST\r\n",
            "\r\n",
            "If you have soggy French toast it means that you are letting the bread soak too long or are not cooking it long enough.french toast\r\n",
            "TOPPINGS FOR FRENCH TOAST\r\n",
            "\r\n",
            "    BUTTER\r\n",
            "    MAPLE SYRUP\r\n",
            "    FRUIT\r\n",
            "    WHIPPED CREAM\r\n",
            "    POWDERED SUGAR\r\n",
            "\r\n",
            "french toast\r\n",
            "French Toast Recipe\r\n",
            "\r\n",
            "This French Toast recipe is a classic recipe made with milk, eggs, vanilla, and cinnamon. This breakfast has the perfect soft center with a crisp outside.\r\n",
            "\r\n",
            "    4 large eggs\r\n",
            "    1 cup milk\r\n",
            "    1 tablespoon sugar\r\n",
            "    2 teaspoons vanilla extract\r\n",
            "    1/2 teaspoon ground cinnamon\r\n",
            "    pinch salt\r\n",
            "    1 lb bread cut into 3/4 inch slices (about 16 slices), (French bread, sourdough, challah, white bread or Brioche)\r\n",
            "    butter for cooking\r\n",
            "    Optional Toppings: butter, maple syrup, fruit, whipped cream, powdered sugar\r\n",
            "\r\n",
            "    In a medium bowl, whisk together the eggs, milk, sugar, vanilla, cinnamon and salt. Pour into a large casserole dish.\r\n",
            "\r\n",
            "    In a large skillet, melt about 1-2 tablespoons butter over medium heat. While butter is melting, dip a few pieces (how ever many can fit in your skillet) in the milk mixture for 3 seconds per side. Place in the skillet and cook for 3-4 minutes per side until golden brown.\r\n",
            "\r\n",
            "    Keep warm in the oven on a cookie sheet at 250 degrees F. until ready to serve. Serve warm with butter, maple syrup, fruit, whipped cream, or powdered sugar.\r\n",
            "\r\n",
            "originally published on Sep 12, 2022 (last updated May 1, 2023) \r\n",
            "\r\n",
            "RECIPE 2\r\n",
            "\r\n",
            "tastesbetterfromscratch.com\r\n",
            "French Toast\r\n",
            "Lauren Allen\r\n",
            "5â6 minutes\r\n",
            "\r\n",
            "This easy French Toast recipe is the BEST, with a thicker batter and cinnamon sugar flavors that really set it apart. Itâs one of our familyâs favorite breakfasts!\r\n",
            "\r\n",
            "Want more breakfast recipes? Try Biscuits and Gravy, Eggs Benedict and Belgian Waffles!\r\n",
            "A plate with two slices of french toast cut in half with powdered sugar and syrup drizzled on top, next to two slices of bacon.\r\n",
            "\r\n",
            "If I offered up breakfast options for a family vote, everyone would choose this classic French Toast recipe, served with fresh fruit, syrup and whipped cream! Weâve been making it for decades, and itâs truly the best french toast recipe!\r\n",
            "MY LATEST VIDEOS\r\n",
            "\r\n",
            "0 seconds of 1 minute, 33 secondsVolume 0%\r\n",
            "How to Make French Toast:\r\n",
            "\r\n",
            "Combine Ingredients: Add of the ingredients, except the bread, to a blender or shallow dish and mix to combine.\r\n",
            "Two images showing an egg based batter being blended in a small blender.\r\n",
            "\r\n",
            "Dip Bread: Dip each bread slice into the egg mixture, dredging on both sides.\r\n",
            "Two slices of bread being dipped into a batter.\r\n",
            "\r\n",
            "Cook: Place bread on hot greased griddle or large skillet. Cook for a few minutes on each side, until golden.\r\n",
            "Golden homemade French Toast on a griddle.\r\n",
            "\r\n",
            "Serve: I love to serve this easy french toast warm, with homemade syrup and a side of berries!\r\n",
            "Two stacked slices of the best French Toast with powdered sugar, syrup, and a side of bacon.\r\n",
            "Ingredients Notes:\r\n",
            "\r\n",
            "Bread: I recommend using thick sliced bread, like Sara Lee Artesano, Texas Toast, or leftover homemade bread. Itâs nice (but not necessary) if the bread is a few days old, or slightly stale. We also loving using thick slices of cinnamon bread or brioche!\r\n",
            "\r\n",
            "Flour: My Secret Ingredient! The flour helps to make more of a âbatterâ for dipping the bread, which yields extra fluffy and delicious french toast. If mixing the batter by hand, start by mixing flour and eggs, then add the milk and remaining ingredients.\r\n",
            "\r\n",
            "Milk: Any kind of milk will work (even dairy free), but the the higher fat milk, the creamier the batter will be. Whole milk works great and you could even add a little splash of cream if you want.\r\n",
            "All of the ingredients needed for the best French Toast recipe.\r\n",
            "\r\n",
            "Make Ahead and Freezing Instructions:\r\n",
            "\r\n",
            "To Make Ahead: The batter can be made 1-2 days ahead of time, depending on the freshness of your ingredients. \r\n",
            "\r\n",
            "To Freeze: Allow french toast to cool completely and store in a freezer-safe bag or container for up to 3 months. Rewarm on a skillet, in the toaster, or for a few seconds in the microwave.\r\n",
            "\r\n",
            "Follow me for more great recipes\r\n",
            "\r\n",
            "Recipe\r\n",
            "\r\n",
            "Prep 5 minutes\r\n",
            "\r\n",
            "Cook 10 minutes\r\n",
            "\r\n",
            "Total 15 minutes\r\n",
            "\r\n",
            "Save Recipe\r\n",
            "\r\n",
            "This easy French Toast recipe is simple, uses simple pantry ingredients, and has a secret ingredient that makes a thicker batter with cinnamon sugar flavors that really set it apart. It's one of our family's favorite breakfasts!\r\n",
            "\r\n",
            "0 seconds of 40 secondsVolume 90%\r\n",
            "\r\n",
            "    - 4 large eggs\r\n",
            "    - 2/3 cup milk\r\n",
            "    - 1/4 cup all-purpose flour\r\n",
            "    - 1/4 cup granulated sugar\r\n",
            "    - 1/4 teaspoon salt\r\n",
            "    - 1 teaspoon ground cinnamon\r\n",
            "    - 1 teaspoon vanilla extract\r\n",
            "    - 8 thick slices bread\r\n",
            "\r\n",
            "    Preheat griddle to 350 degrees F or or heat a skillet over medium heat.\r\n",
            "\r\n",
            "    Add all ingredients, except the bread, to a blender or to a shallow dish and whisk well to combine. If whisking by hand, mix flour and eggs together first, then add remaining ingredients.\r\n",
            "\r\n",
            "    Dip bread slices into the batter, dredging them well on both sides, and place on hot, greased griddle or skillet.\r\n",
            "\r\n",
            "    Cook for a few minutes, until the bottom of the breads starts to get golden brown. Flip and cook on the other side the same. \r\n",
            "\r\n",
            "    Remove to a plate. Serve warm with syrup and a sprinkle of powdered sugar.\r\n",
            "\r\n",
            "Bread: I like to use thick sliced bread, like Sara Lee Artesano, Texas Toast, or leftover homemade bread. Itâs nice (but not necessary) if the bread is a few days old, or slightly stale. Even try using cinnamon toast, or brioche!\r\n",
            "\r\n",
            "Flour: My Secret Ingredient! The flour helps to make more of a âbatterâ for dipping the bread, which yields extra fluffy and delicious french toast. \r\n",
            "\r\n",
            "Milk: Any kind of milk will work (even dairy free), but the the higher fat milk, the creamier the batter will be. Whole milk works great and you could even add a little splash of cream if you want.\r\n",
            "\r\n",
            "Make Ahead Instructions: The batter can be made 1-2 days ahead of time, depending on the freshness of your ingredients. \r\n",
            "\r\n",
            "Freezing Instructions: Allow french toast to cool completely and store in a freezer-safe bag or container for up to 3 months. Rewarm on a skillet, in the toaster, or for a few seconds in the microwave.\r\n",
            "\r\n",
            "Calories: 89kcalCarbohydrates: 11gProtein: 4gFat: 3gSaturated Fat: 1gPolyunsaturated Fat: 1gMonounsaturated Fat: 1gTrans Fat: 0.03gCholesterol: 95mgSodium: 122mgPotassium: 70mgFiber: 0.3gSugar: 7gVitamin A: 156IUVitamin C: 0.1mgCalcium: 42mgIron: 1mg\r\n",
            "\r\n",
            "RECIPE 3\r\n",
            "\r\n",
            "recipetineats.com\r\n",
            "French Toast\r\n",
            "Nagi\r\n",
            "6â8 minutes\r\n",
            "\r\n",
            "Wake up to an irresistible weekend breakfast thatâs super quick! This is how to make French Toast â whisk 2 eggs, 1/2 cup milk, cinnamon and vanilla. Dip bread, pan fry in butter for 2 minutes each side until golden, then douse with maple syrup!\r\n",
            "\r\n",
            "French toast will always be a staple for leisurely weekend breakfasts along with my favourite fluffy Pancakes and Pancakes bursting with Blueberries. So skip the bistro queue and make brunch at home this weekend!\r\n",
            "\r\n",
            "Pile of French Toast on a rustic white plate, doused with maple syrup and topped with a pat of melting butter and strawberries.\r\n",
            "\r\n",
            "You know when you feel like making something grand-ish for a weekend breakfast and but youâre too bleary to tackle Eggs Benedict?\r\n",
            "\r\n",
            "French toast is your answer. Always.\r\n",
            "\r\n",
            "Why? Because itâs effortless, and thereâs a plethora of topping options!\r\n",
            "How to make French Toast\r\n",
            "\r\n",
            "Whisk 2 eggs with 1/2 cup of milk, 1/2 tsp cinnamon and 1 tsp vanilla. Dunk bread of choice (stale is best), then pan fry in butter until blushing gold on the surface and crispy golden on the edges, then douse liberally with maple syrup.\r\n",
            "\r\n",
            "See? Effortless!\r\n",
            "What does French Toast taste like?\r\n",
            "\r\n",
            "Itâs sort of like Bread and Butter pudding. Custardy on the inside with buttery crispy golden edges, itâs even great to eat plain but, like pancakes, ideal for smothering in maple syrup!\r\n",
            "\r\n",
            "Maple syrup being poured over a stack of French Toast\r\n",
            "\r\n",
            "How to make French Toast: 2 eggs, 1/2 cup of milk, 1 tsp vanilla and cinnamon. Dunk bread in, pan fry in butter!\r\n",
            "The best bread for French Toast\r\n",
            "\r\n",
            "Buttery brioche is my bread of choice â pictured in the photos. Itâs a total shameless indulgence, a copycat of  trendy local bistros that charge a small fortune.\r\n",
            "\r\n",
            "So in my opinion, the best bread is:\r\n",
            "\r\n",
            "    Brioche â my first choice, hands down the most indulgent;\r\n",
            "\r\n",
            "    Challah is also excellent â similar texture to Brioche but not as buttery;\r\n",
            "\r\n",
            "    Good oleâ white sandwich bread;\r\n",
            "\r\n",
            "    Other plain white breads â even rolls and baguette cut into slices (see my Mini French Toast recipe);\r\n",
            "\r\n",
            "    Crusty artisan breads (sourdough etc). I personally donât favour the sourdough flavour in my French toast, but I know some people love it!\r\n",
            "\r\n",
            "How to make Macerated Strawberries\r\n",
            "French toast topping options\r\n",
            "\r\n",
            "From everybodyâs favourite maple syrup, to fresh fruit, caramelised fruit, compotes or fruit syrups, ice cream (for breakfast!), chocolate and caramel sauces, nuts, BACON (yes, yes, YES!!!)â¦..\r\n",
            "\r\n",
            "So many amazing possibilities, but Iâll tell you a secret:\r\n",
            "\r\n",
            "My favourite is plain French Toast with just maple syrup and a little pat of butter.\r\n",
            "\r\n",
            "The only reason I added strawberries is to make the photos look a teeny bit prettier. Because, as readers know, Iâm very conscious that my blog is so dominated by so much yellow and brown foods, and this French Toast recipe falls firmly into that bucket.\r\n",
            "\r\n",
            "So just to make myself feel a bit better, I added strawberries. Just for a bit of colour. â Nagi x\r\n",
            "Cute spins on French Toast\r\n",
            "\r\n",
            "    Cinnamon French Toast Sticks\r\n",
            "\r\n",
            "    Strawberry Nutella French Toast Roll Ups\r\n",
            "\r\n",
            "    Cinnamon French Toast bites\r\n",
            "\r\n",
            "    Bacon French Toast Roll Ups\r\n",
            "\r\n",
            "    Monte Cristo (Ham Cheese French Toast Sandwich)\r\n",
            "\r\n",
            "Close up of French Toast doused with maple syrup, a melting pat of butter and strawberries.\r\n",
            "\r\n",
            "Fork cutting into a stack of French Toast smothered in maple syrup\r\n",
            "French toast recipe\r\n",
            "Watch how to make it\r\n",
            "\r\n",
            "Subscribe to my newsletter and follow along on Facebook, Pinterest and Instagram for all of the latest updates.\r\n",
            "\r\n",
            "Servings2 - 3 people\r\n",
            "\r\n",
            "Tap or hover to scale\r\n",
            "\r\n",
            "Recipe video above. A recipe everyone should know! Made for using up leftover bread, but if you want the ultimate French Toast experience, use brioche bread (pictured in post). Thereâs no need to use sugar if youâre dousing with maple syrup â plus it burns easily. Best made with stale bread, otherwise, see Note 1. \r\n",
            "\r\n",
            "    - 6 slices brioche or white sandwich bread , slightly stale (Note 1)\r\n",
            "    - 30 â 40g / 2 â 3 tbsp butter\r\n",
            "\r\n",
            "Egg Mixture:\r\n",
            "\r\n",
            "    - 2 large eggs (~60g / 2 oz each)\r\n",
            "    - Â½ cup / 125 ml milk\r\n",
            "    - 1/2 tsp cinnamon powder\r\n",
            "    - 1 tsp vanilla extract\r\n",
            "\r\n",
            "Macerated Strawberries, optional:\r\n",
            "\r\n",
            "    - 250g / 8 oz strawberries, halved\r\n",
            "    - 1 tbsp white sugar\r\n",
            "\r\n",
            "Serving:\r\n",
            "\r\n",
            "    - Maple syrup, butter\r\n",
            "\r\n",
            "    Whisk together Egg Mixture in a bowl. Vigorous whisk = avoid cinnamon floating on top.\r\n",
            "\r\n",
            "    Melt 15g / 1 tbsp butter in a non stick skillet over medium heat.\r\n",
            "\r\n",
            "    Dunk a piece of bread quickly into the egg mixture, coating both sides. Place in pan. Repeat with more slices to fill the pan, but donât crowd it (do 2 or 3 at a time).\r\n",
            "\r\n",
            "    Cook for 2 Â½ - 3 minutes on each side until the surface is golden, then transfer to serving plates.\r\n",
            "\r\n",
            "    Add more butter into the pan and cook remaining bread.\r\n",
            "\r\n",
            "    Serve with butter and plenty of maple syrup, and Macerated Strawberries if using!\r\n",
            "\r\n",
            "Macerated Strawberries (optional):\r\n",
            "\r\n",
            "    Toss strawberries with sugar, set aside for 20 minutes+. The strawberries will soften and sweat, and create a bit of syrup.\r\n",
            "\r\n",
            "1. Best bread for French Toast: Brioche is hands down the most indulgent (typically used by trendy bistros, pictured in post), also Challah (jewish bread) is excellent. After this good oleâ sandwich bread (preferably thick cut), followed by crusty artisan breads (sourdough etc), then everything and anything else (sliced bread rolls, french stick, baguettes, even things like Hot Cross Buns and other sweet rolls).\r\n",
            "\r\n",
            "Slightly stale bread is better as fresh bread tends to soak up the mixture too quickly, causing the French Toast to be soggy inside. If your bread is super fresh, pop it in the oven at 180C/350F for 3 minutes on each side, just to dry it out slightly without colouring. Do not do this step if using crusty sourdough (doesnât need it).\r\n",
            "\r\n",
            "2. General notes:\r\n",
            "- Cinnamon and vanilla is recommended, but still absolutely delish without.\r\n",
            "- I personally donât recommend using cream in place of milk. I know it might seem like it will make it richer, but I feel like it leaves a greasy feel in the mouth.\r\n",
            "- The right egg to milk ratio is quite important â I think 2 eggs to Â½ cup of milk is perfect.\r\n",
            "- I donât use sugar in the egg mixture because a) thereâs plenty of sweet poured on top later; and b) it makes the bread prone to burning.\r\n",
            "\r\n",
            "3. Nutrition is for plain white sandwich bread, excludes topping.\r\n",
            "\r\n",
            "Calories: 314cal (16%)Carbohydrates: 37g (12%)Protein: 7g (14%)Fat: 14g (22%)Saturated Fat: 8g (50%)Cholesterol: 32mg (11%)Sodium: 475mg (21%)Potassium: 86mg (2%)Fiber: 2g (8%)Sugar: 4g (4%)Vitamin A: 375IU (8%)Calcium: 201mg (20%)Iron: 2.7mg (15%)\r\n",
            "\r\n",
            "Originally published June 2018. Updated for housekeeping matters, no change to recipe.\r\n",
            "\r\n",
            "RECIPE 4\r\n",
            "\r\n",
            "\r\n",
            "twopeasandtheirpod.com\r\n",
            "French Toast Recipe - Two Peas & Their Pod\r\n",
            "Maria Lichty\r\n",
            "8â10 minutes\r\n",
            "\r\n",
            "Quick Summary\r\n",
            "\r\n",
            "The BEST French Toast Recipe! It Is easy to make at home and the perfect breakfast for weekends or any day! Serve this light and fluffy french toast with butter, maple syrup, and powdered sugar.\r\n",
            "French Toast cut in slices on plate with powdered sugar, butter, syrup, and berries.\r\n",
            "\r\n",
            "French toast has always been my favorite breakfast. If I have a choice between pancakes, waffles, or French toast, I always pick French toast. It is the BEST and today I am sharing all of my tips for making perfect French toast. Donât worry, it is SO simple, but SO good!\r\n",
            "OTHER RECIPES\r\n",
            "\r\n",
            "0 seconds of 1 minute, 8 secondsVolume 0%\r\n",
            "\r\n",
            "And the best part? You donât have to leave your house. Sure, I love going out for breakfast, but I would much rather stay in my pjâs and eat a delicious breakfast at home. Homemade French toast is always better, trust me. After you make my recipe, you will be a fan for life.\r\n",
            "\r\n",
            "And this recipe is also great for brunch or even dinner. Our family loves breakfast for dinner!\r\n",
            "\r\n",
            "Table of Contents\r\n",
            "\r\n",
            "    The Best Bread to Use\r\n",
            "    Ingredients\r\n",
            "    Substituting Milk\r\n",
            "    How to Make French Toast\r\n",
            "    Keep It Warm\r\n",
            "    Toppings\r\n",
            "    How to Store & Reheat\r\n",
            "    Serving Suggestions\r\n",
            "    More French Toast Recipes\r\n",
            "    French Toast Recipe\r\n",
            "\r\n",
            "Stack of brioche French toast on plate with butter, syrup, and powdered sugar.\r\n",
            "The Best Bread to Use\r\n",
            "\r\n",
            "Brioche bread is hands down the best bread for French toast, in my opinion. It is rich, buttery, fluffy, and makes the most amazing French toast. It is definitely a very indulgent bread, but SO worth it! If you want the best French toast, you have to start with the best bread! You can find brioche at most bakeries and some grocery stores carry brioche too. Trader Joeâs sells sliced brioche bread and it is GOOD, our very favorite!\r\n",
            "\r\n",
            "If you canât find brioche bread, you can use Texas toast, Challah, or French bread. They are all good options. If you need the recipe to be gluten-free, make sure you use gluten-free bread.\r\n",
            "\r\n",
            "Day old bread or stale bread is actually better because it will soak up the batter better. So if you know you are going to make French toast, buy your bread a day or two in advance. And did you know that the French donât even call French toast, French toast, it is âpain perdu,â which means lost bread because they use stale, aka âlostâ bread.\r\n",
            "Ingredients\r\n",
            "\r\n",
            "You only need five ingredients and I bet you have all of these in your kitchen right now:\r\n",
            "\r\n",
            "    Eggs\r\n",
            "    Milk\r\n",
            "    Vanilla extract\r\n",
            "    Cinnamon\r\n",
            "    Pinch of salt\r\n",
            "\r\n",
            "Substituting Milk\r\n",
            "\r\n",
            "We use whole milk because the higher fat content makes the French toast nice and creamy, but you can substitute heavy cream, almond milk, or even coconut milk. The flavors will change a little, but the end result will still be delicious!\r\n",
            "\r\n",
            "    Heavy Cream-use heavy cream for an extra decadent French toast. You can also use half milk and half heavy cream.\r\n",
            "    Almond Milk-unsweetened vanilla almond milk makes great French toast. I love the extra vanilla flavor.\r\n",
            "    Coconut Milk âcoconut milk works well too! I love the rich coconut flavor.\r\n",
            "\r\n",
            "French toast slices on plate with powdered sugar, syrup, berries, and fork.\r\n",
            "How to Make French Toast\r\n",
            "\r\n",
            "    You can use an electric griddle or skillet on the stove. We like to use an electric griddle because we can cook several pieces at the same time. Make sure the griddle or skillet is nice and hot before you start cooking.\r\n",
            "    Mix the batter in a shallow pan or pie pan. I mix the batter right in the pan so I donât have to dirty another dish. You can use a whisk or fork to mix the batter together. Make sure the eggs and milk are thoroughly beaten together.\r\n",
            "    Do not skip the vanilla and cinnamon, these two ingredients are essential for making the best French toast. They add so much flavor to the bread.\r\n",
            "    Pro tip-add half of the cinnamon and mix it in. When you have cooked half of your French toast, add the rest of the cinnamon. This will make sure all of the French toast pieces have a good amount of cinnamon and not just the first few pieces.\r\n",
            "    You can use a spatula, fork, or tongs to flip the bread in the French toast batter.\r\n",
            "    Make sure you soak each side of the bread in the French toast batter. You want both sides of the bread to soak up all of the egg mixture. Donât leave the bread in the mixture too long or it will get soggy.\r\n",
            "    Cook the bread slices in butter. It will give the French toast extra flavor and create a nice golden brown crust. Place a little butter on the hot griddle or pan and let it melt. Place the soaked pieces of bread onto the hot, buttery pan.\r\n",
            "    Cook on both sides until golden brown, about 2-3 minutes per side.\r\n",
            "\r\n",
            "Keep It Warm\r\n",
            "\r\n",
            "You can keep French toast warm in a 200 degree F oven for up to 30 minutes.\r\n",
            "\r\n",
            "Place a wire rack on a large baking sheet and place the French toast slices on the rack. Donât leave it in the oven for too long or it will dry out. It is best served fresh and hot!\r\n",
            "Toppings\r\n",
            "\r\n",
            "You canât go wrong with butter, pure maple syrup, and a dusting of powdered sugar. I also like to add fresh berries when they are in season. Sometimes, for a special treat, I will make my Brown Butter Buttermilk Syrup to pour over the top. It is so good you will want to drink it:)\r\n",
            "\r\n",
            "If you want to go all out you can add:\r\n",
            "\r\n",
            "    A dollop of whipped cream\r\n",
            "    Sliced almonds\r\n",
            "    Candied pecans\r\n",
            "    A sprinkling of granola\r\n",
            "    Your favorite nut butter\r\n",
            "    Banana slices\r\n",
            "    Jam\r\n",
            "    A little Nutella\r\n",
            "\r\n",
            "How to Store & Reheat\r\n",
            "\r\n",
            "Fridge: If you have leftovers, you can store leftover pieces in the fridge in an airtight container for up to 2 days.\r\n",
            "\r\n",
            "Freeze: You can also freeze French toast. Arrange slices in a single layer on a baking sheet to freeze, and then transfer to a freezer bag and freeze for up to two months. Thaw and reheat.\r\n",
            "\r\n",
            "Reheat: You can reheat on a hot griddle, hot skillet, or place French toast slices in the toaster and toast! You can reheat the French toast in the microwave, but I think it makes the bread a little soggy.\r\n",
            "Serving Suggestions\r\n",
            "\r\n",
            "This French toast is guaranteed to be the star of any breakfast and it is good on itâs own, but if you want a full breakfast spread, you can serve the French toast with:\r\n",
            "\r\n",
            "    Bacon or Sausage\r\n",
            "    Crispy hash browns\r\n",
            "    Baked eggs\r\n",
            "    Egg casserole\r\n",
            "    Breakfast potatoes\r\n",
            "    Fruit salad\r\n",
            "\r\n",
            "large stack of brioche French toast on plate with butter, powdered sugar, and maple syrup.\r\n",
            "\r\n",
            "Breakfast/Brunch\r\n",
            "\r\n",
            "This easy, light and fluffy French toast recipe is a family favorite! Make it for breakfast today!\r\n",
            "\r\n",
            "    4 large eggs\r\n",
            "    1/2 cup whole milk\r\n",
            "    1 teaspoon vanilla extract\r\n",
            "    1 1/2 teaspoons ground cinnamon, divided\r\n",
            "    Pinch of salt\r\n",
            "    8 slices Brioche bread\r\n",
            "    Unsalted butter, for cooking\r\n",
            "    Maple syrup, powdered sugar, and berries for serving, if desired\r\n",
            "\r\n",
            "    If using an electric griddle, preheat the griddle to 350 degrees F.\r\n",
            "\r\n",
            "    In a shallow pan or pie plate, add the eggs, milk, vanilla, half of the cinnamon, and salt. Whisk until well combined.\r\n",
            "\r\n",
            "    Dip each side of the bread in the egg mixture. Note-add the other half of the cinnamon after you have dipped half of your bread slices and mix again. This will make sure all of the slices get a good amount of cinnamon.\r\n",
            "\r\n",
            "    Melt a little butter on the hot griddle or in a large skillet over medium heat. Cook the French toast until golden brown, about 2-3 minutes on each side.\r\n",
            "\r\n",
            "    Serve the French toast warm with maple syrup, powdered sugar, and berries, if desired.\r\n",
            "\r\n",
            "    Note-to keep the French toast warm, heat the oven to 200 degrees F. Place a wire rack on a large baking sheet and place the French toast on the rack. Keep warm in the oven for up to 30 minutes.\r\n",
            "\r\n",
            "You can keep the French Toast warm in a 200 degree F oven.\r\n",
            "\r\n",
            "Serving: 4slices, Calories: 237kcal, Carbohydrates: 30g, Protein: 12g, Fat: 7g, Saturated Fat: 2g, Cholesterol: 166mg, Sodium: 366mg, Potassium: 202mg, Fiber: 2g, Sugar: 5g, Vitamin A: 285IU, Calcium: 144mg, Iron: 2.8mg\r\n",
            "\r\n",
            "Keywords bread, breakfast, french toast\r\n",
            "\r\n",
            "\n"
          ]
        }
      ],
      "source": [
        "# read the text\n",
        "\n",
        "## the simple way\n",
        "\n",
        "import requests\n",
        "url = \"https://www.donwoodlock.com/ml301-Nov2023/querytxt_demo\"\n",
        "\n",
        "response = requests.get(f\"{url}/thefrenchtoast.txt\")\n",
        "\n",
        "text = response.text if response.status_code == 200 else \"\"\n",
        "\n",
        "print(text)\n",
        "\n",
        "### the Langchain way\n",
        "\n",
        "# from langchain.document_loaders import TextLoader, UnstructuredURLLoader\n",
        "\n",
        "# loader = UnstructuredURLLoader(urls=[\"http://www.donwoodlock.com/ml301-Nov2023/querytxt_demo/thefrenchtoast.txt\"])\n",
        "\n",
        "# text = loader.load()[0].page_content\n",
        "\n",
        "# text\n"
      ]
    },
    {
      "cell_type": "markdown",
      "id": "6b85a692",
      "metadata": {
        "id": "6b85a692"
      },
      "source": [
        "> **Suggestion**: Try to load a pdf of your preference using PyPDF2 library or Langchain's PyPDF loader (see [here](https://python.langchain.com/docs/modules/data_connection/document_loaders/pdf)). Replace _text_ with the pdf data."
      ]
    },
    {
      "cell_type": "markdown",
      "id": "e7d4be05",
      "metadata": {
        "id": "e7d4be05"
      },
      "source": [
        "### STEP 2: Create embeddings"
      ]
    },
    {
      "cell_type": "markdown",
      "id": "c7748a50",
      "metadata": {
        "id": "c7748a50"
      },
      "source": [
        "After you are done with the loading you can now start the process of creating embeddings. An embedding, as discussed earlier in the class, is a mathematical representation of some piece of text (which can span from a word to multiple paragraphs). This means that to create embeddings we first need to decide on the pieces of text to create embeddings for.\n",
        "\n",
        "Although possible, having one embedding for the full text wouldn't be that usefull. Imagine someone telling you \"the information you are trying to find is somewhere within this encyclopedia\" (handing you out 10 books). This is somewhat useful but also not really. Would be much better if they told you \"Look at book 3 on page 230\". To allow our chatbot to be able to reach this level of granularity we will need to create embeddings of text large enough to contain useful information but small enough to remain \"granular\". In fact we might want to allow some overlap of information within our text pieces so we can maintain the linkage between information available.\n",
        "\n",
        "For this task we will first create text chunks using the _CharacterTextSplitter_ class from _langchain.text_splitter_ library and then we will generate embeddings using the _OpenAIEmbeddings_ class from _langchain.embeddings.openai_ library"
      ]
    },
    {
      "cell_type": "code",
      "execution_count": null,
      "id": "4aac3c84",
      "metadata": {
        "id": "4aac3c84"
      },
      "outputs": [],
      "source": [
        "from langchain.text_splitter import CharacterTextSplitter\n",
        "\n",
        "# split into chunks\n",
        "text_splitter = CharacterTextSplitter(\n",
        "    separator=\"\\n\",\n",
        "    chunk_size=700, # this is amount of characters!\n",
        "    chunk_overlap=150,\n",
        "    length_function=len\n",
        ")\n",
        "\n",
        "chunks = text_splitter.split_text(text)"
      ]
    },
    {
      "cell_type": "code",
      "execution_count": null,
      "id": "f092c051",
      "metadata": {
        "id": "f092c051",
        "colab": {
          "base_uri": "https://localhost:8080/"
        },
        "outputId": "a5d84118-5ea6-44d6-8e01-5f98f1f78f98"
      },
      "outputs": [
        {
          "output_type": "stream",
          "name": "stdout",
          "text": [
            "\u001b[95m\u001b[1mCHUNK: 0\u001b[0m\n",
            "\"RECIPE 1\r\n",
            "\r\n",
            "The Best French Toast Recipe (+VIDEO) - The Girl Who Ate Everything\r\n",
            "Christy Denney\r\n",
            "\r\n",
            "This French Toast recipe is a classic recipe made with milk, eggs, vanilla, and cinnamon. This breakfast has the perfect soft center with a crisp outside.\r\n",
            "\r\n",
            "\r\n",
            "BEST FRENCH TOAST RECIPE\r\n",
            "\r\n",
            "I know this is a basic recipe for French toast but it is the best. I tried all different versions. Some with more milk, more eggs, less eggs, and this is the winning version. Make this your staple recipe for the weekend. \r\n",
            "WHAT KIND OF BREAD TO USE FOR FRENCH TOAST\r\n",
            "\r\n",
            "The bread you use for French toast should be sturdy enough to handle a soaking in milk and eggs. Here are a few options.\"\n",
            "\n",
            "\u001b[95m\u001b[1mCHUNK: 1\u001b[0m\n",
            "\"The bread you use for French toast should be sturdy enough to handle a soaking in milk and eggs. Here are a few options.\r\n",
            "\r\n",
            "    BRIOCHE â Has a firm crust but a soft center.\r\n",
            "    SOURDOUGH â I love the contrast of this tangy bread to the sweet French toast.\r\n",
            "    FRENCH BREAD â This is a great  bread for soaking since it has a solid crust.\r\n",
            "    WHITE BREAD â This is what most of us have on hand and it works great. Itâs usually not precut in very thick slices so donât soak as long.\r\n",
            "    CHALLAH â Is a softer bread but also works great here.\r\n",
            "\r\n",
            "HOW TO MAKE FRENCH TOAST\r\n",
            "\r\n",
            "First, mix the eggs, milk, vanilla and cinnamon in a shallow baking dish.\"\n",
            "\n",
            "\u001b[95m\u001b[1mCHUNK: 2\u001b[0m\n",
            "\"HOW TO MAKE FRENCH TOAST\r\n",
            "\r\n",
            "First, mix the eggs, milk, vanilla and cinnamon in a shallow baking dish.\r\n",
            "\r\n",
            "bread in a baking dishDip your bread in the mixture for about 3 seconds per side. \r\n",
            "\r\n",
            "soaked bread in a baking dish\r\n",
            "\r\n",
            "You donât want to oversoak them so that they are super soggy.\r\n",
            "\r\n",
            "bread in a panMelt some butter in a pan over medium heat and cook for 3-4 minutes per side.\r\n",
            "\r\n",
            "\r\n",
            "french toast on a pan\r\n",
            "\r\n",
            "If youâre making in batches, keep the toast warm on a pan in the oven at 250 degrees.\r\n",
            "SOGGY FRENCH TOAST\r\n",
            "\r\n",
            "If you have soggy French toast it means that you are letting the bread soak too long or are not cooking it long enough.french toast\r\n",
            "TOPPINGS FOR FRENCH TOAST\r\n",
            "\r\n",
            "    BUTTER\"\n",
            "\n",
            "\u001b[95m\u001b[1mCHUNK: 3\u001b[0m\n",
            "\"TOPPINGS FOR FRENCH TOAST\r\n",
            "\r\n",
            "    BUTTER\r\n",
            "    MAPLE SYRUP\r\n",
            "    FRUIT\r\n",
            "    WHIPPED CREAM\r\n",
            "    POWDERED SUGAR\r\n",
            "\r\n",
            "french toast\r\n",
            "French Toast Recipe\r\n",
            "\r\n",
            "This French Toast recipe is a classic recipe made with milk, eggs, vanilla, and cinnamon. This breakfast has the perfect soft center with a crisp outside.\r\n",
            "\r\n",
            "    4 large eggs\r\n",
            "    1 cup milk\r\n",
            "    1 tablespoon sugar\r\n",
            "    2 teaspoons vanilla extract\r\n",
            "    1/2 teaspoon ground cinnamon\r\n",
            "    pinch salt\r\n",
            "    1 lb bread cut into 3/4 inch slices (about 16 slices), (French bread, sourdough, challah, white bread or Brioche)\r\n",
            "    butter for cooking\r\n",
            "    Optional Toppings: butter, maple syrup, fruit, whipped cream, powdered sugar\"\n",
            "\n",
            "\u001b[95m\u001b[1mCHUNK: 4\u001b[0m\n",
            "\"butter for cooking\r\n",
            "    Optional Toppings: butter, maple syrup, fruit, whipped cream, powdered sugar\r\n",
            "\r\n",
            "    In a medium bowl, whisk together the eggs, milk, sugar, vanilla, cinnamon and salt. Pour into a large casserole dish.\r\n",
            "\r\n",
            "    In a large skillet, melt about 1-2 tablespoons butter over medium heat. While butter is melting, dip a few pieces (how ever many can fit in your skillet) in the milk mixture for 3 seconds per side. Place in the skillet and cook for 3-4 minutes per side until golden brown.\r\n",
            "\r\n",
            "    Keep warm in the oven on a cookie sheet at 250 degrees F. until ready to serve. Serve warm with butter, maple syrup, fruit, whipped cream, or powdered sugar.\"\n",
            "\n",
            "\u001b[95m\u001b[1mCHUNK: 5\u001b[0m\n",
            "\"originally published on Sep 12, 2022 (last updated May 1, 2023) \r\n",
            "\r\n",
            "RECIPE 2\r\n",
            "\r\n",
            "tastesbetterfromscratch.com\r\n",
            "French Toast\r\n",
            "Lauren Allen\r\n",
            "5â6 minutes\r\n",
            "\r\n",
            "This easy French Toast recipe is the BEST, with a thicker batter and cinnamon sugar flavors that really set it apart. Itâs one of our familyâs favorite breakfasts!\r\n",
            "\r\n",
            "Want more breakfast recipes? Try Biscuits and Gravy, Eggs Benedict and Belgian Waffles!\r\n",
            "A plate with two slices of french toast cut in half with powdered sugar and syrup drizzled on top, next to two slices of bacon.\"\n",
            "\n",
            "\u001b[95m\u001b[1mCHUNK: 6\u001b[0m\n",
            "\"A plate with two slices of french toast cut in half with powdered sugar and syrup drizzled on top, next to two slices of bacon.\r\n",
            "\r\n",
            "If I offered up breakfast options for a family vote, everyone would choose this classic French Toast recipe, served with fresh fruit, syrup and whipped cream! Weâve been making it for decades, and itâs truly the best french toast recipe!\r\n",
            "MY LATEST VIDEOS\r\n",
            "\r\n",
            "0 seconds of 1 minute, 33 secondsVolume 0%\r\n",
            "How to Make French Toast:\r\n",
            "\r\n",
            "Combine Ingredients: Add of the ingredients, except the bread, to a blender or shallow dish and mix to combine.\r\n",
            "Two images showing an egg based batter being blended in a small blender.\"\n",
            "\n",
            "\u001b[95m\u001b[1mCHUNK: 7\u001b[0m\n",
            "\"Two images showing an egg based batter being blended in a small blender.\r\n",
            "\r\n",
            "Dip Bread: Dip each bread slice into the egg mixture, dredging on both sides.\r\n",
            "Two slices of bread being dipped into a batter.\r\n",
            "\r\n",
            "Cook: Place bread on hot greased griddle or large skillet. Cook for a few minutes on each side, until golden.\r\n",
            "Golden homemade French Toast on a griddle.\r\n",
            "\r\n",
            "Serve: I love to serve this easy french toast warm, with homemade syrup and a side of berries!\r\n",
            "Two stacked slices of the best French Toast with powdered sugar, syrup, and a side of bacon.\r\n",
            "Ingredients Notes:\"\n",
            "\n",
            "\u001b[95m\u001b[1mCHUNK: 8\u001b[0m\n",
            "\"Two stacked slices of the best French Toast with powdered sugar, syrup, and a side of bacon.\r\n",
            "Ingredients Notes:\r\n",
            "\r\n",
            "Bread: I recommend using thick sliced bread, like Sara Lee Artesano, Texas Toast, or leftover homemade bread. Itâs nice (but not necessary) if the bread is a few days old, or slightly stale. We also loving using thick slices of cinnamon bread or brioche!\r\n",
            "\r\n",
            "Flour: My Secret Ingredient! The flour helps to make more of a âbatterâ for dipping the bread, which yields extra fluffy and delicious french toast. If mixing the batter by hand, start by mixing flour and eggs, then add the milk and remaining ingredients.\"\n",
            "\n",
            "\u001b[95m\u001b[1mCHUNK: 9\u001b[0m\n",
            "\"Milk: Any kind of milk will work (even dairy free), but the the higher fat milk, the creamier the batter will be. Whole milk works great and you could even add a little splash of cream if you want.\r\n",
            "All of the ingredients needed for the best French Toast recipe.\r\n",
            "\r\n",
            "Make Ahead and Freezing Instructions:\r\n",
            "\r\n",
            "To Make Ahead: The batter can be made 1-2 days ahead of time, depending on the freshness of your ingredients. \r\n",
            "\r\n",
            "To Freeze: Allow french toast to cool completely and store in a freezer-safe bag or container for up to 3 months. Rewarm on a skillet, in the toaster, or for a few seconds in the microwave.\r\n",
            "\r\n",
            "Follow me for more great recipes\r\n",
            "\r\n",
            "Recipe\r\n",
            "\r\n",
            "Prep 5 minutes\r\n",
            "\r\n",
            "Cook 10 minutes\"\n",
            "\n",
            "\u001b[95m\u001b[1mCHUNK: 10\u001b[0m\n",
            "\"Follow me for more great recipes\r\n",
            "\r\n",
            "Recipe\r\n",
            "\r\n",
            "Prep 5 minutes\r\n",
            "\r\n",
            "Cook 10 minutes\r\n",
            "\r\n",
            "Total 15 minutes\r\n",
            "\r\n",
            "Save Recipe\r\n",
            "\r\n",
            "This easy French Toast recipe is simple, uses simple pantry ingredients, and has a secret ingredient that makes a thicker batter with cinnamon sugar flavors that really set it apart. It's one of our family's favorite breakfasts!\r\n",
            "\r\n",
            "0 seconds of 40 secondsVolume 90%\r\n",
            "\r\n",
            "    - 4 large eggs\r\n",
            "    - 2/3 cup milk\r\n",
            "    - 1/4 cup all-purpose flour\r\n",
            "    - 1/4 cup granulated sugar\r\n",
            "    - 1/4 teaspoon salt\r\n",
            "    - 1 teaspoon ground cinnamon\r\n",
            "    - 1 teaspoon vanilla extract\r\n",
            "    - 8 thick slices bread\r\n",
            "\r\n",
            "    Preheat griddle to 350 degrees F or or heat a skillet over medium heat.\"\n",
            "\n",
            "\u001b[95m\u001b[1mCHUNK: 11\u001b[0m\n",
            "\"- 1 teaspoon vanilla extract\r\n",
            "    - 8 thick slices bread\r\n",
            "\r\n",
            "    Preheat griddle to 350 degrees F or or heat a skillet over medium heat.\r\n",
            "\r\n",
            "    Add all ingredients, except the bread, to a blender or to a shallow dish and whisk well to combine. If whisking by hand, mix flour and eggs together first, then add remaining ingredients.\r\n",
            "\r\n",
            "    Dip bread slices into the batter, dredging them well on both sides, and place on hot, greased griddle or skillet.\r\n",
            "\r\n",
            "    Cook for a few minutes, until the bottom of the breads starts to get golden brown. Flip and cook on the other side the same. \r\n",
            "\r\n",
            "    Remove to a plate. Serve warm with syrup and a sprinkle of powdered sugar.\"\n",
            "\n",
            "\u001b[95m\u001b[1mCHUNK: 12\u001b[0m\n",
            "\"Remove to a plate. Serve warm with syrup and a sprinkle of powdered sugar.\r\n",
            "\r\n",
            "Bread: I like to use thick sliced bread, like Sara Lee Artesano, Texas Toast, or leftover homemade bread. Itâs nice (but not necessary) if the bread is a few days old, or slightly stale. Even try using cinnamon toast, or brioche!\r\n",
            "\r\n",
            "Flour: My Secret Ingredient! The flour helps to make more of a âbatterâ for dipping the bread, which yields extra fluffy and delicious french toast. \r\n",
            "\r\n",
            "Milk: Any kind of milk will work (even dairy free), but the the higher fat milk, the creamier the batter will be. Whole milk works great and you could even add a little splash of cream if you want.\"\n",
            "\n",
            "\u001b[95m\u001b[1mCHUNK: 13\u001b[0m\n",
            "\"Make Ahead Instructions: The batter can be made 1-2 days ahead of time, depending on the freshness of your ingredients. \r\n",
            "\r\n",
            "Freezing Instructions: Allow french toast to cool completely and store in a freezer-safe bag or container for up to 3 months. Rewarm on a skillet, in the toaster, or for a few seconds in the microwave.\r\n",
            "\r\n",
            "Calories: 89kcalCarbohydrates: 11gProtein: 4gFat: 3gSaturated Fat: 1gPolyunsaturated Fat: 1gMonounsaturated Fat: 1gTrans Fat: 0.03gCholesterol: 95mgSodium: 122mgPotassium: 70mgFiber: 0.3gSugar: 7gVitamin A: 156IUVitamin C: 0.1mgCalcium: 42mgIron: 1mg\r\n",
            "\r\n",
            "RECIPE 3\r\n",
            "\r\n",
            "recipetineats.com\r\n",
            "French Toast\r\n",
            "Nagi\r\n",
            "6â8 minutes\"\n",
            "\n",
            "\u001b[95m\u001b[1mCHUNK: 14\u001b[0m\n",
            "\"RECIPE 3\r\n",
            "\r\n",
            "recipetineats.com\r\n",
            "French Toast\r\n",
            "Nagi\r\n",
            "6â8 minutes\r\n",
            "\r\n",
            "Wake up to an irresistible weekend breakfast thatâs super quick! This is how to make French Toast â whisk 2 eggs, 1/2 cup milk, cinnamon and vanilla. Dip bread, pan fry in butter for 2 minutes each side until golden, then douse with maple syrup!\r\n",
            "\r\n",
            "French toast will always be a staple for leisurely weekend breakfasts along with my favourite fluffy Pancakes and Pancakes bursting with Blueberries. So skip the bistro queue and make brunch at home this weekend!\r\n",
            "\r\n",
            "Pile of French Toast on a rustic white plate, doused with maple syrup and topped with a pat of melting butter and strawberries.\"\n",
            "\n",
            "\u001b[95m\u001b[1mCHUNK: 15\u001b[0m\n",
            "\"Pile of French Toast on a rustic white plate, doused with maple syrup and topped with a pat of melting butter and strawberries.\r\n",
            "\r\n",
            "You know when you feel like making something grand-ish for a weekend breakfast and but youâre too bleary to tackle Eggs Benedict?\r\n",
            "\r\n",
            "French toast is your answer. Always.\r\n",
            "\r\n",
            "Why? Because itâs effortless, and thereâs a plethora of topping options!\r\n",
            "How to make French Toast\r\n",
            "\r\n",
            "Whisk 2 eggs with 1/2 cup of milk, 1/2 tsp cinnamon and 1 tsp vanilla. Dunk bread of choice (stale is best), then pan fry in butter until blushing gold on the surface and crispy golden on the edges, then douse liberally with maple syrup.\r\n",
            "\r\n",
            "See? Effortless!\"\n",
            "\n",
            "\u001b[95m\u001b[1mCHUNK: 16\u001b[0m\n",
            "\"See? Effortless!\r\n",
            "What does French Toast taste like?\r\n",
            "\r\n",
            "Itâs sort of like Bread and Butter pudding. Custardy on the inside with buttery crispy golden edges, itâs even great to eat plain but, like pancakes, ideal for smothering in maple syrup!\r\n",
            "\r\n",
            "Maple syrup being poured over a stack of French Toast\r\n",
            "\r\n",
            "How to make French Toast: 2 eggs, 1/2 cup of milk, 1 tsp vanilla and cinnamon. Dunk bread in, pan fry in butter!\r\n",
            "The best bread for French Toast\r\n",
            "\r\n",
            "Buttery brioche is my bread of choice â pictured in the photos. Itâs a total shameless indulgence, a copycat of  trendy local bistros that charge a small fortune.\r\n",
            "\r\n",
            "So in my opinion, the best bread is:\"\n",
            "\n",
            "\u001b[95m\u001b[1mCHUNK: 17\u001b[0m\n",
            "\"So in my opinion, the best bread is:\r\n",
            "\r\n",
            "    Brioche â my first choice, hands down the most indulgent;\r\n",
            "\r\n",
            "    Challah is also excellent â similar texture to Brioche but not as buttery;\r\n",
            "\r\n",
            "    Good oleâ white sandwich bread;\r\n",
            "\r\n",
            "    Other plain white breads â even rolls and baguette cut into slices (see my Mini French Toast recipe);\r\n",
            "\r\n",
            "    Crusty artisan breads (sourdough etc). I personally donât favour the sourdough flavour in my French toast, but I know some people love it!\r\n",
            "\r\n",
            "How to make Macerated Strawberries\r\n",
            "French toast topping options\"\n",
            "\n",
            "\u001b[95m\u001b[1mCHUNK: 18\u001b[0m\n",
            "\"How to make Macerated Strawberries\r\n",
            "French toast topping options\r\n",
            "\r\n",
            "From everybodyâs favourite maple syrup, to fresh fruit, caramelised fruit, compotes or fruit syrups, ice cream (for breakfast!), chocolate and caramel sauces, nuts, BACON (yes, yes, YES!!!)â¦..\r\n",
            "\r\n",
            "So many amazing possibilities, but Iâll tell you a secret:\r\n",
            "\r\n",
            "My favourite is plain French Toast with just maple syrup and a little pat of butter.\r\n",
            "\r\n",
            "The only reason I added strawberries is to make the photos look a teeny bit prettier. Because, as readers know, Iâm very conscious that my blog is so dominated by so much yellow and brown foods, and this French Toast recipe falls firmly into that bucket.\"\n",
            "\n",
            "\u001b[95m\u001b[1mCHUNK: 19\u001b[0m\n",
            "\"So just to make myself feel a bit better, I added strawberries. Just for a bit of colour. â Nagi x\r\n",
            "Cute spins on French Toast\r\n",
            "\r\n",
            "    Cinnamon French Toast Sticks\r\n",
            "\r\n",
            "    Strawberry Nutella French Toast Roll Ups\r\n",
            "\r\n",
            "    Cinnamon French Toast bites\r\n",
            "\r\n",
            "    Bacon French Toast Roll Ups\r\n",
            "\r\n",
            "    Monte Cristo (Ham Cheese French Toast Sandwich)\r\n",
            "\r\n",
            "Close up of French Toast doused with maple syrup, a melting pat of butter and strawberries.\r\n",
            "\r\n",
            "Fork cutting into a stack of French Toast smothered in maple syrup\r\n",
            "French toast recipe\r\n",
            "Watch how to make it\r\n",
            "\r\n",
            "Subscribe to my newsletter and follow along on Facebook, Pinterest and Instagram for all of the latest updates.\r\n",
            "\r\n",
            "Servings2 - 3 people\"\n",
            "\n",
            "\u001b[95m\u001b[1mCHUNK: 20\u001b[0m\n",
            "\"Subscribe to my newsletter and follow along on Facebook, Pinterest and Instagram for all of the latest updates.\r\n",
            "\r\n",
            "Servings2 - 3 people\r\n",
            "\r\n",
            "Tap or hover to scale\r\n",
            "\r\n",
            "Recipe video above. A recipe everyone should know! Made for using up leftover bread, but if you want the ultimate French Toast experience, use brioche bread (pictured in post). Thereâs no need to use sugar if youâre dousing with maple syrup â plus it burns easily. Best made with stale bread, otherwise, see Note 1. \r\n",
            "\r\n",
            "    - 6 slices brioche or white sandwich bread , slightly stale (Note 1)\r\n",
            "    - 30 â 40g / 2 â 3 tbsp butter\r\n",
            "\r\n",
            "Egg Mixture:\r\n",
            "\r\n",
            "    - 2 large eggs (~60g / 2 oz each)\r\n",
            "    - Â½ cup / 125 ml milk\"\n",
            "\n",
            "\u001b[95m\u001b[1mCHUNK: 21\u001b[0m\n",
            "\"- 30 â 40g / 2 â 3 tbsp butter\r\n",
            "\r\n",
            "Egg Mixture:\r\n",
            "\r\n",
            "    - 2 large eggs (~60g / 2 oz each)\r\n",
            "    - Â½ cup / 125 ml milk\r\n",
            "    - 1/2 tsp cinnamon powder\r\n",
            "    - 1 tsp vanilla extract\r\n",
            "\r\n",
            "Macerated Strawberries, optional:\r\n",
            "\r\n",
            "    - 250g / 8 oz strawberries, halved\r\n",
            "    - 1 tbsp white sugar\r\n",
            "\r\n",
            "Serving:\r\n",
            "\r\n",
            "    - Maple syrup, butter\r\n",
            "\r\n",
            "    Whisk together Egg Mixture in a bowl. Vigorous whisk = avoid cinnamon floating on top.\r\n",
            "\r\n",
            "    Melt 15g / 1 tbsp butter in a non stick skillet over medium heat.\r\n",
            "\r\n",
            "    Dunk a piece of bread quickly into the egg mixture, coating both sides. Place in pan. Repeat with more slices to fill the pan, but donât crowd it (do 2 or 3 at a time).\"\n",
            "\n",
            "\u001b[95m\u001b[1mCHUNK: 22\u001b[0m\n",
            "\"Cook for 2 Â½ - 3 minutes on each side until the surface is golden, then transfer to serving plates.\r\n",
            "\r\n",
            "    Add more butter into the pan and cook remaining bread.\r\n",
            "\r\n",
            "    Serve with butter and plenty of maple syrup, and Macerated Strawberries if using!\r\n",
            "\r\n",
            "Macerated Strawberries (optional):\r\n",
            "\r\n",
            "    Toss strawberries with sugar, set aside for 20 minutes+. The strawberries will soften and sweat, and create a bit of syrup.\"\n",
            "\n",
            "\u001b[95m\u001b[1mCHUNK: 23\u001b[0m\n",
            "\"Toss strawberries with sugar, set aside for 20 minutes+. The strawberries will soften and sweat, and create a bit of syrup.\r\n",
            "\r\n",
            "1. Best bread for French Toast: Brioche is hands down the most indulgent (typically used by trendy bistros, pictured in post), also Challah (jewish bread) is excellent. After this good oleâ sandwich bread (preferably thick cut), followed by crusty artisan breads (sourdough etc), then everything and anything else (sliced bread rolls, french stick, baguettes, even things like Hot Cross Buns and other sweet rolls).\"\n",
            "\n",
            "\u001b[95m\u001b[1mCHUNK: 24\u001b[0m\n",
            "\"Slightly stale bread is better as fresh bread tends to soak up the mixture too quickly, causing the French Toast to be soggy inside. If your bread is super fresh, pop it in the oven at 180C/350F for 3 minutes on each side, just to dry it out slightly without colouring. Do not do this step if using crusty sourdough (doesnât need it).\r\n",
            "\r\n",
            "2. General notes:\r\n",
            "- Cinnamon and vanilla is recommended, but still absolutely delish without.\r\n",
            "- I personally donât recommend using cream in place of milk. I know it might seem like it will make it richer, but I feel like it leaves a greasy feel in the mouth.\"\n",
            "\n",
            "\u001b[95m\u001b[1mCHUNK: 25\u001b[0m\n",
            "\"- The right egg to milk ratio is quite important â I think 2 eggs to Â½ cup of milk is perfect.\r\n",
            "- I donât use sugar in the egg mixture because a) thereâs plenty of sweet poured on top later; and b) it makes the bread prone to burning.\r\n",
            "\r\n",
            "3. Nutrition is for plain white sandwich bread, excludes topping.\r\n",
            "\r\n",
            "Calories: 314cal (16%)Carbohydrates: 37g (12%)Protein: 7g (14%)Fat: 14g (22%)Saturated Fat: 8g (50%)Cholesterol: 32mg (11%)Sodium: 475mg (21%)Potassium: 86mg (2%)Fiber: 2g (8%)Sugar: 4g (4%)Vitamin A: 375IU (8%)Calcium: 201mg (20%)Iron: 2.7mg (15%)\r\n",
            "\r\n",
            "Originally published June 2018. Updated for housekeeping matters, no change to recipe.\r\n",
            "\r\n",
            "RECIPE 4\r\n",
            "\r\n",
            "\r\n",
            "twopeasandtheirpod.com\"\n",
            "\n",
            "\u001b[95m\u001b[1mCHUNK: 26\u001b[0m\n",
            "\"Originally published June 2018. Updated for housekeeping matters, no change to recipe.\r\n",
            "\r\n",
            "RECIPE 4\r\n",
            "\r\n",
            "\r\n",
            "twopeasandtheirpod.com\r\n",
            "French Toast Recipe - Two Peas & Their Pod\r\n",
            "Maria Lichty\r\n",
            "8â10 minutes\r\n",
            "\r\n",
            "Quick Summary\r\n",
            "\r\n",
            "The BEST French Toast Recipe! It Is easy to make at home and the perfect breakfast for weekends or any day! Serve this light and fluffy french toast with butter, maple syrup, and powdered sugar.\r\n",
            "French Toast cut in slices on plate with powdered sugar, butter, syrup, and berries.\"\n",
            "\n",
            "\u001b[95m\u001b[1mCHUNK: 27\u001b[0m\n",
            "\"French Toast cut in slices on plate with powdered sugar, butter, syrup, and berries.\r\n",
            "\r\n",
            "French toast has always been my favorite breakfast. If I have a choice between pancakes, waffles, or French toast, I always pick French toast. It is the BEST and today I am sharing all of my tips for making perfect French toast. Donât worry, it is SO simple, but SO good!\r\n",
            "OTHER RECIPES\r\n",
            "\r\n",
            "0 seconds of 1 minute, 8 secondsVolume 0%\"\n",
            "\n",
            "\u001b[95m\u001b[1mCHUNK: 28\u001b[0m\n",
            "\"OTHER RECIPES\r\n",
            "\r\n",
            "0 seconds of 1 minute, 8 secondsVolume 0%\r\n",
            "\r\n",
            "And the best part? You donât have to leave your house. Sure, I love going out for breakfast, but I would much rather stay in my pjâs and eat a delicious breakfast at home. Homemade French toast is always better, trust me. After you make my recipe, you will be a fan for life.\r\n",
            "\r\n",
            "And this recipe is also great for brunch or even dinner. Our family loves breakfast for dinner!\r\n",
            "\r\n",
            "Table of Contents\r\n",
            "\r\n",
            "    The Best Bread to Use\r\n",
            "    Ingredients\r\n",
            "    Substituting Milk\r\n",
            "    How to Make French Toast\r\n",
            "    Keep It Warm\r\n",
            "    Toppings\r\n",
            "    How to Store & Reheat\r\n",
            "    Serving Suggestions\r\n",
            "    More French Toast Recipes\"\n",
            "\n",
            "\u001b[95m\u001b[1mCHUNK: 29\u001b[0m\n",
            "\"How to Make French Toast\r\n",
            "    Keep It Warm\r\n",
            "    Toppings\r\n",
            "    How to Store & Reheat\r\n",
            "    Serving Suggestions\r\n",
            "    More French Toast Recipes\r\n",
            "    French Toast Recipe\r\n",
            "\r\n",
            "Stack of brioche French toast on plate with butter, syrup, and powdered sugar.\r\n",
            "The Best Bread to Use\"\n",
            "\n",
            "\u001b[95m\u001b[1mCHUNK: 30\u001b[0m\n",
            "\"French Toast Recipe\r\n",
            "\r\n",
            "Stack of brioche French toast on plate with butter, syrup, and powdered sugar.\r\n",
            "The Best Bread to Use\r\n",
            "\r\n",
            "Brioche bread is hands down the best bread for French toast, in my opinion. It is rich, buttery, fluffy, and makes the most amazing French toast. It is definitely a very indulgent bread, but SO worth it! If you want the best French toast, you have to start with the best bread! You can find brioche at most bakeries and some grocery stores carry brioche too. Trader Joeâs sells sliced brioche bread and it is GOOD, our very favorite!\"\n",
            "\n",
            "\u001b[95m\u001b[1mCHUNK: 31\u001b[0m\n",
            "\"If you canât find brioche bread, you can use Texas toast, Challah, or French bread. They are all good options. If you need the recipe to be gluten-free, make sure you use gluten-free bread.\r\n",
            "\r\n",
            "Day old bread or stale bread is actually better because it will soak up the batter better. So if you know you are going to make French toast, buy your bread a day or two in advance. And did you know that the French donât even call French toast, French toast, it is âpain perdu,â which means lost bread because they use stale, aka âlostâ bread.\r\n",
            "Ingredients\r\n",
            "\r\n",
            "You only need five ingredients and I bet you have all of these in your kitchen right now:\r\n",
            "\r\n",
            "    Eggs\r\n",
            "    Milk\r\n",
            "    Vanilla extract\"\n",
            "\n",
            "\u001b[95m\u001b[1mCHUNK: 32\u001b[0m\n",
            "\"Ingredients\r\n",
            "\r\n",
            "You only need five ingredients and I bet you have all of these in your kitchen right now:\r\n",
            "\r\n",
            "    Eggs\r\n",
            "    Milk\r\n",
            "    Vanilla extract\r\n",
            "    Cinnamon\r\n",
            "    Pinch of salt\r\n",
            "\r\n",
            "Substituting Milk\r\n",
            "\r\n",
            "We use whole milk because the higher fat content makes the French toast nice and creamy, but you can substitute heavy cream, almond milk, or even coconut milk. The flavors will change a little, but the end result will still be delicious!\r\n",
            "\r\n",
            "    Heavy Cream-use heavy cream for an extra decadent French toast. You can also use half milk and half heavy cream.\r\n",
            "    Almond Milk-unsweetened vanilla almond milk makes great French toast. I love the extra vanilla flavor.\"\n",
            "\n",
            "\u001b[95m\u001b[1mCHUNK: 33\u001b[0m\n",
            "\"Almond Milk-unsweetened vanilla almond milk makes great French toast. I love the extra vanilla flavor.\r\n",
            "    Coconut Milk âcoconut milk works well too! I love the rich coconut flavor.\r\n",
            "\r\n",
            "French toast slices on plate with powdered sugar, syrup, berries, and fork.\r\n",
            "How to Make French Toast\r\n",
            "\r\n",
            "    You can use an electric griddle or skillet on the stove. We like to use an electric griddle because we can cook several pieces at the same time. Make sure the griddle or skillet is nice and hot before you start cooking.\"\n",
            "\n",
            "\u001b[95m\u001b[1mCHUNK: 34\u001b[0m\n",
            "\"Mix the batter in a shallow pan or pie pan. I mix the batter right in the pan so I donât have to dirty another dish. You can use a whisk or fork to mix the batter together. Make sure the eggs and milk are thoroughly beaten together.\r\n",
            "    Do not skip the vanilla and cinnamon, these two ingredients are essential for making the best French toast. They add so much flavor to the bread.\r\n",
            "    Pro tip-add half of the cinnamon and mix it in. When you have cooked half of your French toast, add the rest of the cinnamon. This will make sure all of the French toast pieces have a good amount of cinnamon and not just the first few pieces.\"\n",
            "\n",
            "\u001b[95m\u001b[1mCHUNK: 35\u001b[0m\n",
            "\"You can use a spatula, fork, or tongs to flip the bread in the French toast batter.\r\n",
            "    Make sure you soak each side of the bread in the French toast batter. You want both sides of the bread to soak up all of the egg mixture. Donât leave the bread in the mixture too long or it will get soggy.\r\n",
            "    Cook the bread slices in butter. It will give the French toast extra flavor and create a nice golden brown crust. Place a little butter on the hot griddle or pan and let it melt. Place the soaked pieces of bread onto the hot, buttery pan.\r\n",
            "    Cook on both sides until golden brown, about 2-3 minutes per side.\r\n",
            "\r\n",
            "Keep It Warm\"\n",
            "\n",
            "\u001b[95m\u001b[1mCHUNK: 36\u001b[0m\n",
            "\"Cook on both sides until golden brown, about 2-3 minutes per side.\r\n",
            "\r\n",
            "Keep It Warm\r\n",
            "\r\n",
            "You can keep French toast warm in a 200 degree F oven for up to 30 minutes.\r\n",
            "\r\n",
            "Place a wire rack on a large baking sheet and place the French toast slices on the rack. Donât leave it in the oven for too long or it will dry out. It is best served fresh and hot!\r\n",
            "Toppings\r\n",
            "\r\n",
            "You canât go wrong with butter, pure maple syrup, and a dusting of powdered sugar. I also like to add fresh berries when they are in season. Sometimes, for a special treat, I will make my Brown Butter Buttermilk Syrup to pour over the top. It is so good you will want to drink it:)\r\n",
            "\r\n",
            "If you want to go all out you can add:\"\n",
            "\n",
            "\u001b[95m\u001b[1mCHUNK: 37\u001b[0m\n",
            "\"If you want to go all out you can add:\r\n",
            "\r\n",
            "    A dollop of whipped cream\r\n",
            "    Sliced almonds\r\n",
            "    Candied pecans\r\n",
            "    A sprinkling of granola\r\n",
            "    Your favorite nut butter\r\n",
            "    Banana slices\r\n",
            "    Jam\r\n",
            "    A little Nutella\r\n",
            "\r\n",
            "How to Store & Reheat\r\n",
            "\r\n",
            "Fridge: If you have leftovers, you can store leftover pieces in the fridge in an airtight container for up to 2 days.\r\n",
            "\r\n",
            "Freeze: You can also freeze French toast. Arrange slices in a single layer on a baking sheet to freeze, and then transfer to a freezer bag and freeze for up to two months. Thaw and reheat.\"\n",
            "\n",
            "\u001b[95m\u001b[1mCHUNK: 38\u001b[0m\n",
            "\"Reheat: You can reheat on a hot griddle, hot skillet, or place French toast slices in the toaster and toast! You can reheat the French toast in the microwave, but I think it makes the bread a little soggy.\r\n",
            "Serving Suggestions\r\n",
            "\r\n",
            "This French toast is guaranteed to be the star of any breakfast and it is good on itâs own, but if you want a full breakfast spread, you can serve the French toast with:\r\n",
            "\r\n",
            "    Bacon or Sausage\r\n",
            "    Crispy hash browns\r\n",
            "    Baked eggs\r\n",
            "    Egg casserole\r\n",
            "    Breakfast potatoes\r\n",
            "    Fruit salad\r\n",
            "\r\n",
            "large stack of brioche French toast on plate with butter, powdered sugar, and maple syrup.\r\n",
            "\r\n",
            "Breakfast/Brunch\"\n",
            "\n",
            "\u001b[95m\u001b[1mCHUNK: 39\u001b[0m\n",
            "\"Fruit salad\r\n",
            "\r\n",
            "large stack of brioche French toast on plate with butter, powdered sugar, and maple syrup.\r\n",
            "\r\n",
            "Breakfast/Brunch\r\n",
            "\r\n",
            "This easy, light and fluffy French toast recipe is a family favorite! Make it for breakfast today!\r\n",
            "\r\n",
            "    4 large eggs\r\n",
            "    1/2 cup whole milk\r\n",
            "    1 teaspoon vanilla extract\r\n",
            "    1 1/2 teaspoons ground cinnamon, divided\r\n",
            "    Pinch of salt\r\n",
            "    8 slices Brioche bread\r\n",
            "    Unsalted butter, for cooking\r\n",
            "    Maple syrup, powdered sugar, and berries for serving, if desired\r\n",
            "\r\n",
            "    If using an electric griddle, preheat the griddle to 350 degrees F.\"\n",
            "\n",
            "\u001b[95m\u001b[1mCHUNK: 40\u001b[0m\n",
            "\"Maple syrup, powdered sugar, and berries for serving, if desired\r\n",
            "\r\n",
            "    If using an electric griddle, preheat the griddle to 350 degrees F.\r\n",
            "\r\n",
            "    In a shallow pan or pie plate, add the eggs, milk, vanilla, half of the cinnamon, and salt. Whisk until well combined.\r\n",
            "\r\n",
            "    Dip each side of the bread in the egg mixture. Note-add the other half of the cinnamon after you have dipped half of your bread slices and mix again. This will make sure all of the slices get a good amount of cinnamon.\r\n",
            "\r\n",
            "    Melt a little butter on the hot griddle or in a large skillet over medium heat. Cook the French toast until golden brown, about 2-3 minutes on each side.\"\n",
            "\n",
            "\u001b[95m\u001b[1mCHUNK: 41\u001b[0m\n",
            "\"Serve the French toast warm with maple syrup, powdered sugar, and berries, if desired.\r\n",
            "\r\n",
            "    Note-to keep the French toast warm, heat the oven to 200 degrees F. Place a wire rack on a large baking sheet and place the French toast on the rack. Keep warm in the oven for up to 30 minutes.\r\n",
            "\r\n",
            "You can keep the French Toast warm in a 200 degree F oven.\r\n",
            "\r\n",
            "Serving: 4slices, Calories: 237kcal, Carbohydrates: 30g, Protein: 12g, Fat: 7g, Saturated Fat: 2g, Cholesterol: 166mg, Sodium: 366mg, Potassium: 202mg, Fiber: 2g, Sugar: 5g, Vitamin A: 285IU, Calcium: 144mg, Iron: 2.8mg\r\n",
            "\r\n",
            "Keywords bread, breakfast, french toast\"\n",
            "\n"
          ]
        }
      ],
      "source": [
        "# ANSI escape codes for text color\n",
        "PURPLE = '\\033[95m'\n",
        "BOLD = '\\033[1m'\n",
        "RESET = '\\033[0m'  # Reset text color to default\n",
        "\n",
        "\n",
        "for i in range(len(chunks)):\n",
        "    print(PURPLE + BOLD + f'CHUNK: {i}' + RESET)\n",
        "    print(\"\\\"\"+ chunks[i] + \"\\\"\\n\")"
      ]
    },
    {
      "cell_type": "markdown",
      "id": "a09ffe0d",
      "metadata": {
        "id": "a09ffe0d"
      },
      "source": [
        "> **Note**: Language models have a token limit. It is a good idea when you split your text into chunks to know how many tokens a chunck contains. You can read further here: [Langchain - Split by tokens](https://python.langchain.com/docs/modules/data_connection/document_transformers/text_splitters/split_by_token)"
      ]
    },
    {
      "cell_type": "code",
      "execution_count": null,
      "id": "ee4000ef",
      "metadata": {
        "id": "ee4000ef",
        "colab": {
          "base_uri": "https://localhost:8080/"
        },
        "outputId": "c7d286ac-84f6-4b58-86ee-4151e5f66675"
      },
      "outputs": [
        {
          "output_type": "stream",
          "name": "stdout",
          "text": [
            "42\n"
          ]
        }
      ],
      "source": [
        "print(len(chunks))"
      ]
    },
    {
      "cell_type": "code",
      "execution_count": null,
      "id": "76d43b01",
      "metadata": {
        "id": "76d43b01",
        "colab": {
          "base_uri": "https://localhost:8080/"
        },
        "outputId": "6115df34-663a-4ae9-93fb-bd753a1e3c55"
      },
      "outputs": [
        {
          "output_type": "execute_result",
          "data": {
            "text/plain": [
              "(42, 1536)"
            ]
          },
          "metadata": {},
          "execution_count": 13
        }
      ],
      "source": [
        "from langchain.embeddings import OpenAIEmbeddings\n",
        "\n",
        "embeddings_model = OpenAIEmbeddings()\n",
        "embeddings = embeddings_model.embed_documents(chunks)\n",
        "len(embeddings), len(embeddings[0])"
      ]
    },
    {
      "cell_type": "markdown",
      "id": "7a742ed7",
      "metadata": {
        "id": "7a742ed7"
      },
      "source": [
        "Now we have 27 embeddings, one for each chunk of text. Each embeddings is a vector of size 1536."
      ]
    },
    {
      "cell_type": "markdown",
      "id": "dc07ed6b",
      "metadata": {
        "id": "dc07ed6b"
      },
      "source": [
        "> **Suggestion**: There is a huge list of embedding models that langchain gives us access to. Some of them do not require API keys. Due to langchain it is easy to swap in the code any other embedder you want to try. You can browse the list here: [Langchain - Text embedding models](https://python.langchain.com/docs/integrations/text_embedding)"
      ]
    },
    {
      "cell_type": "markdown",
      "id": "6ac9f1e1",
      "metadata": {
        "id": "6ac9f1e1"
      },
      "source": [
        "### STEP 3: Store embeddings"
      ]
    },
    {
      "cell_type": "markdown",
      "id": "eae116ed",
      "metadata": {
        "id": "eae116ed"
      },
      "source": [
        "Often, especially when dealing with large amounts of text, it is a good idea to have a place to store the text and the embeddings, as well as maintain a mapping between them. For this reason there exist the concept of <span style=\"color:purple\">Vector Stores</span>, which are databases dedicated in handling vectors (notice that the embeddings are nothing else but vectors). They take care not only of vector storage but also vector space search, making search for similar embeddings efficient.\n",
        "\n",
        "Langchain supports the concept of Vector Stores. You can create a Vector Store of your embeddings as follows:\n",
        "\n",
        "```Python\n",
        "\n",
        "    # prep step: install chromadb v0.4.13\n",
        "    from langchain.vectorstores import Chroma\n",
        "\n",
        "    db = Chroma.from_texts(chunks, OpenAIEmbeddings())\n",
        "\n",
        "```\n",
        "\n",
        "This example is simple enough to not require a Vector store. However we encourage you to experiment with different Vector Stores when working with a larger project. You can read more about them here: [Langchain - Vector Stores](https://python.langchain.com/docs/modules/data_connection/vectorstores/)"
      ]
    },
    {
      "cell_type": "markdown",
      "id": "f8ec9198",
      "metadata": {
        "id": "f8ec9198"
      },
      "source": [
        "## Part 2: Query Knowledge Base"
      ]
    },
    {
      "cell_type": "markdown",
      "id": "c793b8d9",
      "metadata": {
        "id": "c793b8d9"
      },
      "source": [
        "<img src=\"https://www.donwoodlock.com/ml301-Nov2023/querytxt_demo/images/response.png\" width=\"900\" height=\"400\" alt=\"Query Pipeline\">\n",
        "\n",
        "\n"
      ]
    },
    {
      "cell_type": "markdown",
      "id": "66d56728",
      "metadata": {
        "id": "66d56728"
      },
      "source": [
        "In the previous section you learned how to create a knowledge base. Now we will continue with the fun part: Answering all of your questions!"
      ]
    },
    {
      "cell_type": "markdown",
      "id": "4bedfd63",
      "metadata": {
        "id": "4bedfd63"
      },
      "source": [
        "#### Question: How many ingredients do I need to make french toast? 🤔"
      ]
    },
    {
      "cell_type": "code",
      "execution_count": null,
      "id": "b3c23c3d",
      "metadata": {
        "id": "b3c23c3d"
      },
      "outputs": [],
      "source": [
        "question = \"How many ingredients do I need to make french toast?\""
      ]
    },
    {
      "cell_type": "markdown",
      "id": "2f1dafd3",
      "metadata": {
        "id": "2f1dafd3"
      },
      "source": [
        "### STEP 1: Create question embedding"
      ]
    },
    {
      "cell_type": "markdown",
      "id": "78ed37a4",
      "metadata": {
        "id": "78ed37a4"
      },
      "source": [
        "One of the main reasons to convert text into embeddings is so that we can identify text with similar content using math! Since we try to find an answer, we care about the similarity of our question to other text in our knowledge base. To do that you will first convert the question to embedding."
      ]
    },
    {
      "cell_type": "code",
      "execution_count": null,
      "id": "2545013c",
      "metadata": {
        "id": "2545013c",
        "colab": {
          "base_uri": "https://localhost:8080/"
        },
        "outputId": "a8dc1b56-a0a3-46d7-9dd3-886bbac45bc5"
      },
      "outputs": [
        {
          "output_type": "execute_result",
          "data": {
            "text/plain": [
              "array([ 0.01837343,  0.02399293,  0.00805375, ...,  0.01656069,\n",
              "        0.0140617 , -0.03306959])"
            ]
          },
          "metadata": {},
          "execution_count": 15
        }
      ],
      "source": [
        "import numpy as np\n",
        "\n",
        "question_embedding = np.array(embeddings_model.embed_query(question))\n",
        "question_embedding"
      ]
    },
    {
      "cell_type": "markdown",
      "id": "fa246abc",
      "metadata": {
        "id": "fa246abc"
      },
      "source": [
        "### STEP 2: Search for similar embeddings"
      ]
    },
    {
      "cell_type": "markdown",
      "id": "12c5fa5f",
      "metadata": {
        "id": "12c5fa5f"
      },
      "source": [
        "Now you can go ahead and search for similar embeddings. For that you can use any available distance between two points metric. In fact you can implement it or use a premade function. In this example we show you how you can compute the cosine similarity of the question embedding to all the embeddings in the knowledge base."
      ]
    },
    {
      "cell_type": "code",
      "execution_count": null,
      "id": "f249c3fd",
      "metadata": {
        "id": "f249c3fd",
        "colab": {
          "base_uri": "https://localhost:8080/"
        },
        "outputId": "153af3d3-df68-4cde-edf3-45e7aaff0bba"
      },
      "outputs": [
        {
          "output_type": "execute_result",
          "data": {
            "text/plain": [
              "(42,)"
            ]
          },
          "metadata": {},
          "execution_count": 16
        }
      ],
      "source": [
        "distances = []\n",
        "\n",
        "for embedding in embeddings:\n",
        "    distances.append(np.linalg.norm(embedding - question_embedding)) # L2 Norm is the same as Euclidean distance.)\n",
        "\n",
        "distances = np.array(distances)\n",
        "distances.shape"
      ]
    },
    {
      "cell_type": "markdown",
      "id": "9ef83b9d",
      "metadata": {
        "id": "9ef83b9d"
      },
      "source": [
        "Once you have the distance you can sort your results to find the top k embeddings as follows:"
      ]
    },
    {
      "cell_type": "code",
      "execution_count": null,
      "id": "ef3fad11",
      "metadata": {
        "id": "ef3fad11"
      },
      "outputs": [],
      "source": [
        "k = 4\n",
        "sorted_indices = np.argsort(distances)\n",
        "top_k = sorted_indices[:k]\n",
        "\n",
        "similar_docs = [chunks[idx] for idx in top_k]"
      ]
    },
    {
      "cell_type": "code",
      "execution_count": null,
      "id": "9f766f60",
      "metadata": {
        "id": "9f766f60",
        "colab": {
          "base_uri": "https://localhost:8080/"
        },
        "outputId": "d6bed777-b672-4f57-a3df-ad150c165bb1"
      },
      "outputs": [
        {
          "output_type": "stream",
          "name": "stdout",
          "text": [
            "Ingredients\r\n",
            "\r\n",
            "You only need five ingredients and I bet you have all of these in your kitchen right now:\r\n",
            "\r\n",
            "    Eggs\r\n",
            "    Milk\r\n",
            "    Vanilla extract\r\n",
            "    Cinnamon\r\n",
            "    Pinch of salt\r\n",
            "\r\n",
            "Substituting Milk\r\n",
            "\r\n",
            "We use whole \u001b[1m\u001b[95mmilk\u001b[0m because the higher fat content makes the French toast nice and creamy, but you can substitute heavy cream, almond \u001b[1m\u001b[95mmilk\u001b[0m, or even coconut \u001b[1m\u001b[95mmilk\u001b[0m. The flavors will change a little, but the end result will still be delicious!\r\n",
            "\r\n",
            "    Heavy Cream-use heavy cream for an extra decadent French toast. You can also use half \u001b[1m\u001b[95mmilk\u001b[0m and half heavy cream.\r\n",
            "    Almond Milk-unsweetened vanilla almond \u001b[1m\u001b[95mmilk\u001b[0m makes great French toast. I love the extra vanilla flavor.\n",
            "\n",
            "A plate with two slices of french toast cut in half with powdered \u001b[1m\u001b[95msugar\u001b[0m and syrup drizzled on top, next to two slices of bacon.\r\n",
            "\r\n",
            "If I offered up breakfast options for a family vote, everyone would choose this classic French Toast recipe, served with fresh fruit, syrup and whipped cream! Weâve been making it for decades, and itâs truly the best french toast recipe!\r\n",
            "MY LATEST VIDEOS\r\n",
            "\r\n",
            "0 seconds of 1 minute, 33 secondsVolume 0%\r\n",
            "How to Make French Toast:\r\n",
            "\r\n",
            "Combine Ingredients: Add of the ingredients, except the \u001b[1m\u001b[95mbread\u001b[0m, to a blender or shallow dish and mix to combine.\r\n",
            "Two images showing an egg based batter being blended in a small blender.\n",
            "\n",
            "Follow me for more great recipes\r\n",
            "\r\n",
            "Recipe\r\n",
            "\r\n",
            "Prep 5 minutes\r\n",
            "\r\n",
            "Cook 10 minutes\r\n",
            "\r\n",
            "Total 15 minutes\r\n",
            "\r\n",
            "Save Recipe\r\n",
            "\r\n",
            "This easy French Toast recipe is simple, uses simple pantry ingredients, and has a secret ingredient that makes a thicker batter with cinnamon \u001b[1m\u001b[95msugar\u001b[0m flavors that really set it apart. It's one of our family's favorite breakfasts!\r\n",
            "\r\n",
            "0 seconds of 40 secondsVolume 90%\r\n",
            "\r\n",
            "    - 4 large \u001b[1m\u001b[95meggs\u001b[0m\r\n",
            "    - 2/3 cup \u001b[1m\u001b[95mmilk\u001b[0m\r\n",
            "    - 1/4 cup all-purpose flour\r\n",
            "    - 1/4 cup granulated \u001b[1m\u001b[95msugar\u001b[0m\r\n",
            "    - 1/4 teaspoon salt\r\n",
            "    - 1 teaspoon ground cinnamon\r\n",
            "    - 1 teaspoon vanilla extract\r\n",
            "    - 8 thick slices \u001b[1m\u001b[95mbread\u001b[0m\r\n",
            "\r\n",
            "    Preheat griddle to 350 degrees F or or heat a skillet over medium heat.\n",
            "\n",
            "RECIPE 3\r\n",
            "\r\n",
            "recipetineats.com\r\n",
            "French Toast\r\n",
            "Nagi\r\n",
            "6â8 minutes\r\n",
            "\r\n",
            "Wake up to an irresistible weekend breakfast thatâs super quick! This is how to make French Toast â whisk 2 \u001b[1m\u001b[95meggs\u001b[0m, 1/2 cup \u001b[1m\u001b[95mmilk\u001b[0m, cinnamon and vanilla. Dip \u001b[1m\u001b[95mbread\u001b[0m, pan fry in butter for 2 minutes each side until golden, then douse with maple syrup!\r\n",
            "\r\n",
            "French toast will always be a staple for leisurely weekend breakfasts along with my favourite fluffy Pancakes and Pancakes bursting with Blueberries. So skip the bistro queue and make brunch at home this weekend!\r\n",
            "\r\n",
            "Pile of French Toast on a rustic white plate, doused with maple syrup and topped with a pat of melting butter and strawberries.\n",
            "\n"
          ]
        }
      ],
      "source": [
        "for doc in similar_docs:\n",
        "    # grab first 200 characters\n",
        "    text = doc# [:200]\n",
        "\n",
        "    # highlight eggs, milk or butter\n",
        "    text = text.replace('eggs', BOLD + PURPLE + 'eggs' + RESET)\n",
        "    text = text.replace('milk', BOLD + PURPLE + 'milk' + RESET)\n",
        "    text = text.replace('sugar', BOLD + PURPLE + 'sugar' + RESET)\n",
        "    text = text.replace('bread', BOLD + PURPLE + 'bread' + RESET)\n",
        "\n",
        "    print(text + \"\\n\")"
      ]
    },
    {
      "cell_type": "markdown",
      "id": "814d5361",
      "metadata": {
        "id": "814d5361"
      },
      "source": [
        "> Note: Why top k? Well, don't forget we pay by token! We cannot just feed the full context into the model..."
      ]
    },
    {
      "cell_type": "markdown",
      "id": "d3805e11",
      "metadata": {
        "id": "d3805e11"
      },
      "source": [
        "#### What if you have a Vector Store?"
      ]
    },
    {
      "cell_type": "markdown",
      "id": "e17b7092",
      "metadata": {
        "id": "e17b7092"
      },
      "source": [
        "Then maybe your life is a little bit easier. Here is how you can query a Vector Store to avoid all this hustle (and by all, we mean steps 1 & 2):\n",
        "\n",
        "```Python\n",
        "    docs = db.similarity_search(question)\n",
        "    print(len(docs))\n",
        "    print(docs[0].page_content)\n",
        "```"
      ]
    },
    {
      "cell_type": "markdown",
      "id": "1fa34028",
      "metadata": {
        "id": "1fa34028"
      },
      "source": [
        "### STEP 3: Generate a response"
      ]
    },
    {
      "cell_type": "markdown",
      "id": "694fe6ec",
      "metadata": {
        "id": "694fe6ec"
      },
      "source": [
        "You have collected all the information that is close enough to the question. You can use it to generate a response. In this example we use ChatCompletion from openai as well as prompt before the prompt ideas to set the stage for the ai to respond to question."
      ]
    },
    {
      "cell_type": "code",
      "execution_count": null,
      "id": "9756e804",
      "metadata": {
        "id": "9756e804",
        "colab": {
          "base_uri": "https://localhost:8080/"
        },
        "outputId": "b91625a8-f1ed-4e8f-fdbb-558908004e84"
      },
      "outputs": [
        {
          "output_type": "stream",
          "name": "stdout",
          "text": [
            "Question:\n",
            "\t How many ingredients do I need to make french toast?\n",
            "Answer:\n",
            "\t We need eight ingredients to make French toast:\n",
            "\n",
            "1.\n",
            "\t 4 large eggs\n",
            "2.\n",
            "\t 2/3 cup milk (you can substitute with heavy cream, almond milk, or coconut milk)\n",
            "3.\n",
            "\t 1/4 cup all-purpose flour\n",
            "4.\n",
            "\t 1/4 cup granulated sugar\n",
            "5.\n",
            "\t 1/4 teaspoon salt\n",
            "6.\n",
            "\t 1 teaspoon ground cinnamon\n",
            "7.\n",
            "\t 1 teaspoon vanilla extract\n",
            "8.\n",
            "\t 8 thick slices bread\n",
            "\n",
            "Please note that the flavors will change a little with different types of milk, but the end result will still be delicious!\n"
          ]
        }
      ],
      "source": [
        "import openai\n",
        "\n",
        "# >>>>>>> create context: concatenate all relevant information to be used in text generation\n",
        "context = \"\\n\\n\".join([doc for doc in similar_docs])\n",
        "\n",
        "# >>>>>>> create language model\n",
        "parameters = {\n",
        "    'model': 'gpt-4',\n",
        "    'messages': [\n",
        "        {\"role\": \"system\", \"content\":  \"You are an assistant who is helping Marta \\\n",
        "                                        to respond to questions about french toast recipes.  \\\n",
        "                                        When you answer the question, use the first person (e.g. We) to refer to Marta.\"},\n",
        "\n",
        "        {\"role\": \"user\", \"content\": question},\n",
        "\n",
        "        {\"role\": \"assistant\", \"content\": f\"Use only this information from a set of french toast recipes \\\n",
        "                                            as context to answer the user question:\\n\\n {context}. \\\n",
        "                                            \\n\\nPlease stick to this context when answering the question. \\\n",
        "                                            Do not use any other knowledge you might have\" }\n",
        "    ]\n",
        "}\n",
        "\n",
        "response = openai.ChatCompletion.create(\n",
        "    model=parameters['model'],\n",
        "    messages=parameters['messages'],\n",
        "    max_tokens=1000,\n",
        "    n=1\n",
        ")\n",
        "\n",
        "# >>>>>>> generate response\n",
        "answer = response.choices[0]['message']['content']\n",
        "\n",
        "answer = answer.replace('.', '.\\n\\t')\n",
        "\n",
        "print(\"Question:\\n\\t\", question)\n",
        "print(\"Answer:\\n\\t\", answer)"
      ]
    },
    {
      "cell_type": "code",
      "execution_count": null,
      "id": "eddbfeff",
      "metadata": {
        "id": "eddbfeff",
        "colab": {
          "base_uri": "https://localhost:8080/"
        },
        "outputId": "b33a6dc6-3d9f-4512-c525-592b96f3d25e"
      },
      "outputs": [
        {
          "output_type": "stream",
          "name": "stdout",
          "text": [
            "Use only this information from a set of french toast recipes as context to answer the user question:\n",
            "\n",
            " Ingredients\r\n",
            "\r\n",
            "You only need five ingredients and I bet you have all of these in your kitchen right now:\r\n",
            "\r\n",
            " Eggs\r\n",
            " Milk\r\n",
            " Vanilla extract\r\n",
            " Cinnamon\r\n",
            " Pinch of salt\r\n",
            "\r\n",
            "Substituting Milk\r\n",
            "\r\n",
            "We use whole milk because the higher fat content makes the French toast nice and creamy, but you can substitute heavy cream, almond milk, or even coconut milk. The flavors will change a little, but the end result will still be delicious!\r\n",
            "\r\n",
            " Heavy Cream-use heavy cream for an extra decadent French toast. You can also use half milk and half heavy cream.\r\n",
            " Almond Milk-unsweetened vanilla almond milk makes great French toast. I love the extra vanilla flavor.\n",
            "\n",
            "A plate with two slices of french toast cut in half with powdered sugar and syrup drizzled on top, next to two slices of bacon.\r\n",
            "\r\n",
            "If I offered up breakfast options for a family vote, everyone would choose this classic French Toast recipe, served with fresh fruit, syrup and whipped cream! Weâve been making it for decades, and itâs truly the best french toast recipe!\r\n",
            "MY LATEST VIDEOS\r\n",
            "\r\n",
            "0 seconds of 1 minute, 33 secondsVolume 0%\r\n",
            "How to Make French Toast:\r\n",
            "\r\n",
            "Combine Ingredients: Add of the ingredients, except the bread, to a blender or shallow dish and mix to combine.\r\n",
            "Two images showing an egg based batter being blended in a small blender.\n",
            "\n",
            "Follow me for more great recipes\r\n",
            "\r\n",
            "Recipe\r\n",
            "\r\n",
            "Prep 5 minutes\r\n",
            "\r\n",
            "Cook 10 minutes\r\n",
            "\r\n",
            "Total 15 minutes\r\n",
            "\r\n",
            "Save Recipe\r\n",
            "\r\n",
            "This easy French Toast recipe is simple, uses simple pantry ingredients, and has a secret ingredient that makes a thicker batter with cinnamon sugar flavors that really set it apart. It's one of our family's favorite breakfasts!\r\n",
            "\r\n",
            "0 seconds of 40 secondsVolume 90%\r\n",
            "\r\n",
            " - 4 large eggs\r\n",
            " - 2/3 cup milk\r\n",
            " - 1/4 cup all-purpose flour\r\n",
            " - 1/4 cup granulated sugar\r\n",
            " - 1/4 teaspoon salt\r\n",
            " - 1 teaspoon ground cinnamon\r\n",
            " - 1 teaspoon vanilla extract\r\n",
            " - 8 thick slices bread\r\n",
            "\r\n",
            " Preheat griddle to 350 degrees F or or heat a skillet over medium heat.\n",
            "\n",
            "RECIPE 3\r\n",
            "\r\n",
            "recipetineats.com\r\n",
            "French Toast\r\n",
            "Nagi\r\n",
            "6â8 minutes\r\n",
            "\r\n",
            "Wake up to an irresistible weekend breakfast thatâs super quick! This is how to make French Toast â whisk 2 eggs, 1/2 cup milk, cinnamon and vanilla. Dip bread, pan fry in butter for 2 minutes each side until golden, then douse with maple syrup!\r\n",
            "\r\n",
            "French toast will always be a staple for leisurely weekend breakfasts along with my favourite fluffy Pancakes and Pancakes bursting with Blueberries. So skip the bistro queue and make brunch at home this weekend!\r\n",
            "\r\n",
            "Pile of French Toast on a rustic white plate, doused with maple syrup and topped with a pat of melting butter and strawberries.. \n",
            "\n",
            "Please stick to this context when answering the question. Do not use any other knowledge you might have\n"
          ]
        }
      ],
      "source": [
        "import re\n",
        "print(re.sub(' +', ' ', parameters['messages'][2]['content']))"
      ]
    },
    {
      "cell_type": "markdown",
      "id": "e6604ab3",
      "metadata": {
        "id": "e6604ab3"
      },
      "source": [
        "### What about bad questions?"
      ]
    },
    {
      "cell_type": "code",
      "execution_count": null,
      "id": "b453f841",
      "metadata": {
        "id": "b453f841"
      },
      "outputs": [],
      "source": [
        "question = \"I am a cat. Can I make french toast?\""
      ]
    },
    {
      "cell_type": "code",
      "execution_count": null,
      "id": "6723b2bf",
      "metadata": {
        "id": "6723b2bf",
        "colab": {
          "base_uri": "https://localhost:8080/"
        },
        "outputId": "8a030c42-8f85-4a2f-dd8f-d389b3f52f03"
      },
      "outputs": [
        {
          "output_type": "stream",
          "name": "stdout",
          "text": [
            "Question:\n",
            "\t I am a cat. Can I make french toast?\n",
            "Answer:\n",
            "\t While we appreciate your enthusiasm for French toast, since you're a cat, we cannot recommend you attempt to make it.\n",
            "\t This cooking process involves using a stove, and it's crucial to prioritize safety.\n",
            "\t However, if your human owner wants to learn how to make French toast, we have many recipes they could try! French toast is our go-to answer for a warm, effortless weekend breakfast.\n",
            "\t All we need to do is whisk together eggs, milk, cinnamon, and vanilla, then dip bread into this mixture and pan fry in butter until golden.\n",
            "\t Topping options are plentiful - our favorite is a liberal dousing of maple syrup.\n",
            "\t\n"
          ]
        }
      ],
      "source": [
        "question_embedding = np.array(embeddings_model.embed_query(question))\n",
        "cosine_similarities = np.dot(embeddings, question_embedding) / (np.linalg.norm(embeddings, axis=1) * np.linalg.norm(question_embedding))\n",
        "k = 4\n",
        "sorted_indices = np.argsort(cosine_similarities)\n",
        "top_k = sorted_indices[-k:][::-1]\n",
        "\n",
        "similar_docs = [chunks[idx] for idx in top_k]\n",
        "\n",
        "# >>>>>>> create context: concatenate all relevant information to be used in text generation\n",
        "context = \"\\n\\n\".join([doc for doc in similar_docs])\n",
        "\n",
        "# >>>>>>> create language model\n",
        "parameters = {\n",
        "    'model': 'gpt-4',\n",
        "    'messages': [\n",
        "        {\"role\": \"system\", \"content\":  \"You are an assistant who is helping Marta \\\n",
        "                                        to respond to questions about french toast recipes.  \\\n",
        "                                        When you answer the question, use the first person (e.g. We) to refer to Marta.\"},\n",
        "\n",
        "        {\"role\": \"user\", \"content\": question},\n",
        "\n",
        "        {\"role\": \"assistant\", \"content\":  f\"Use only this information from a set of french toast recipes \\\n",
        "                                            as context to answer the user question:\\n\\n {context}. \\\n",
        "                                            \\n\\nPlease stick to this context when answering the question. \\\n",
        "                                            Do not use any other knowledge you might have.\" }\n",
        "    ]\n",
        "}\n",
        "\n",
        "response = openai.ChatCompletion.create(\n",
        "    model=parameters['model'],\n",
        "    messages=parameters['messages'],\n",
        "    max_tokens=1000,\n",
        "    n=1\n",
        ")\n",
        "\n",
        "# >>>>>>> generate response\n",
        "answer = response.choices[0]['message']['content']\n",
        "\n",
        "answer = answer.replace('.', '.\\n\\t')\n",
        "\n",
        "print(\"Question:\\n\\t\", question)\n",
        "print(\"Answer:\\n\\t\", answer)"
      ]
    },
    {
      "cell_type": "markdown",
      "id": "2ca33cb8",
      "metadata": {
        "id": "2ca33cb8"
      },
      "source": [
        "### Try yourself:"
      ]
    },
    {
      "cell_type": "markdown",
      "id": "0815b063",
      "metadata": {
        "id": "0815b063"
      },
      "source": [
        "Question 1: What will happen if chunks are too small or if they do not have overlap? You can experiment with parameters _chunk_size_ and _chunk_overlap_ in the following code block."
      ]
    },
    {
      "cell_type": "markdown",
      "id": "fafa1f93",
      "metadata": {
        "id": "fafa1f93"
      },
      "source": [
        "> Remember: Since chunks are smaller you might need to adjust the amount of chunks you use to generate the response (top_k)"
      ]
    },
    {
      "cell_type": "code",
      "execution_count": null,
      "id": "61787677",
      "metadata": {
        "id": "61787677",
        "colab": {
          "base_uri": "https://localhost:8080/"
        },
        "outputId": "736a1f4a-ca22-4da8-ef5e-c330a79f074f"
      },
      "outputs": [
        {
          "output_type": "stream",
          "name": "stdout",
          "text": [
            "Context used: \n",
            "\t quick! This is how to make French Toast â whisk\n",
            "\tthis weekend!\r\n",
            "\r\n",
            "Pile of French Toast on a rustic\n",
            "\tRECIPE 3\r\n",
            "\r\n",
            "recipetineats.com\r\n",
            "French\n",
            "\tgolden, then douse with maple syrup!\r\n",
            "\r\n",
            "French \n",
            "\n",
            "Question:\n",
            "\t How many ingredients do I need to make french toast?\n",
            "Answer:\n",
            "\t I'm sorry, but the context provided doesn't include specific information about the number of ingredients needed to make French toast.\n",
            "\t\n"
          ]
        }
      ],
      "source": [
        "import openai\n",
        "import numpy as np\n",
        "from langchain.embeddings import OpenAIEmbeddings\n",
        "from langchain.text_splitter import CharacterTextSplitter\n",
        "import os\n",
        "\n",
        "# load\n",
        "if os.path.exists(\"thefrenchtoast.txt\"):\n",
        "    with open('thefrenchtoast.txt', \"r\", encoding=\"utf8\") as f:\n",
        "        text = \"\"\n",
        "        for l in f.readlines():\n",
        "            text += l\n",
        "\n",
        "# split\n",
        "text_splitter = CharacterTextSplitter(\n",
        "    separator=\" \",\n",
        "    chunk_size= 50, # <<<<<<<<<<<<<<<<<<<<<<<<<<<<<<<<<<<<<<<<<< CHANGE chunck_size here <<<<<<<<<<\n",
        "    chunk_overlap= 0, # <<<<<<<<<<<<<<<<<<<<<<<<<<<<<<<<<<<<<<<< CHANGE chunck_overlap here <<<<<<<\n",
        "    length_function=len\n",
        ")\n",
        "\n",
        "chunks = text_splitter.split_text(text)\n",
        "\n",
        "# create embeddings\n",
        "embeddings_model = OpenAIEmbeddings()\n",
        "embeddings = embeddings_model.embed_documents(chunks)\n",
        "\n",
        "# create question embedding\n",
        "question = \"How many ingredients do I need to make french toast?\"\n",
        "question_embedding = np.array(embeddings_model.embed_query(question))\n",
        "\n",
        "# compute distance\n",
        "distances = []\n",
        "\n",
        "for embedding in embeddings:\n",
        "    distances.append(np.linalg.norm(embedding - question_embedding)) # L2 Norm is the same as Euclidean distance.)\n",
        "\n",
        "distances = np.array(distances)\n",
        "distances.shape\n",
        "\n",
        "k = 4 # <<<<<<<<<<<<<<<<<<<<<<<<<<<<<<<<<<<<<<<<<<<<<<<<<<<<<<<<  CHANGE k here <<<<<<<<<<<<<<<<<<<\n",
        "sorted_indices = np.argsort(distances)\n",
        "top_k = sorted_indices[:k]\n",
        "\n",
        "similar_docs = [chunks[idx] for idx in top_k]\n",
        "\n",
        "# >>>>>>> create context: concatenate all relevant information to be used in text generation\n",
        "context = \"\\n\\n\".join([doc for doc in similar_docs])\n",
        "print(\"Context used: \\n\\t\", context.replace('\\n\\n', '\\n\\t'), '\\n')\n",
        "\n",
        "# >>>>>>> create language model\n",
        "parameters = {\n",
        "    'model': 'gpt-4',\n",
        "    'messages': [\n",
        "        {\"role\": \"system\", \"content\":  \"You are an assistant who is helping Marta \\\n",
        "                                        to respond to questions about french toast recipes.  \\\n",
        "                                        When you answer the question, use the first person (e.g. We) to refer to Marta.\"},\n",
        "\n",
        "        {\"role\": \"user\", \"content\": question},\n",
        "\n",
        "        {\"role\": \"assistant\", \"content\":  f\"Use only this information from a set of french toast recipes \\\n",
        "                                            as context to answer the user question:\\n\\n {context}. \\\n",
        "                                            \\n\\nPlease stick to this context when answering the question. \\\n",
        "                                            Do not use any other knowledge you might have\"}\n",
        "    ]\n",
        "}\n",
        "\n",
        "response = openai.ChatCompletion.create(\n",
        "    model=parameters['model'],\n",
        "    messages=parameters['messages'],\n",
        "    max_tokens=1000,\n",
        "    n=1\n",
        ")\n",
        "\n",
        "# >>>>>>> generate response\n",
        "answer = response.choices[0]['message']['content']\n",
        "\n",
        "answer = answer.replace('.', '.\\n\\t')\n",
        "\n",
        "print(\"Question:\\n\\t\", question)\n",
        "print(\"Answer:\\n\\t\", answer)"
      ]
    },
    {
      "cell_type": "markdown",
      "id": "c10c9c36",
      "metadata": {
        "id": "c10c9c36"
      },
      "source": [
        "Question 2: Can you make the assistant respond in a different tone or more explicitly in the behalf or Marta? What if you always want it to end the response with \"Hope I made you smile\". You can experiment with the response generation in the following code block."
      ]
    },
    {
      "cell_type": "code",
      "execution_count": null,
      "id": "9296adf0",
      "metadata": {
        "id": "9296adf0",
        "colab": {
          "base_uri": "https://localhost:8080/"
        },
        "outputId": "8e39cbec-cb9e-4853-e852-f2bef2f77dd4"
      },
      "outputs": [
        {
          "output_type": "stream",
          "name": "stdout",
          "text": [
            "Question:\n",
            "\t How many ingredients do I need to make french toast?\n",
            "Answer:\n",
            "\t Marta typically uses seven primary ingredients for her French toast recipe.\n",
            "\t These ingredients are bread, eggs, milk, granulated sugar, salt, cinnamon, and unsalted butter for cooking.\n",
            "\t Additionally, she uses maple syrup for serving.\n",
            "\t But remember, recipes can be quite flexible, so feel free to add some extra toppings like whipped cream, berries, or even powdered sugar, depending on your preference.\n",
            "\t Hope I made you smile.\n",
            "\t\n"
          ]
        }
      ],
      "source": [
        "parameters = {\n",
        "    'model': 'gpt-4',\n",
        "    'messages': [\n",
        "        # <<<<<<<<<<<<<<<<<<<<<<<<<<<<<<<<  CHANGE system and/or assistant here <<<<<<<<<<<<<<<<<<<\n",
        "\n",
        "        {\"role\": \"system\", \"content\":  \"You are an assistant who is helping Marta \\\n",
        "                                        to respond to questions about french toast recipes.  \\\n",
        "                                        When you answer the question, use the third person \\\n",
        "                                        (e.g. We) to refer to Marta. Always end your response \\\n",
        "                                        with 'Hope I made you smile'\"\n",
        "        },\n",
        "\n",
        "        {\"role\": \"user\", \"content\": question},\n",
        "\n",
        "        {\"role\": \"assistant\",\n",
        "         \"content\":  f\"Use this information from a set of french toast recipes \\\n",
        "                    as context to answer the user question:\\n\\n {context}. \\\n",
        "                    \\n\\nPlease stick to this context when answering the question.\"\n",
        "        }\n",
        "    ]\n",
        "}\n",
        "\n",
        "response = openai.ChatCompletion.create(\n",
        "    model=parameters['model'],\n",
        "    messages=parameters['messages'],\n",
        "    max_tokens=1000,\n",
        "    n=1\n",
        ")\n",
        "\n",
        "# >>>>>>> generate response\n",
        "answer = response.choices[0]['message']['content']\n",
        "\n",
        "answer = answer.replace('.', '.\\n\\t')\n",
        "\n",
        "print(\"Question:\\n\\t\", question)\n",
        "print(\"Answer:\\n\\t\", answer)"
      ]
    }
  ],
  "metadata": {
    "colab": {
      "provenance": []
    },
    "kernelspec": {
      "display_name": "Python 3 (ipykernel)",
      "language": "python",
      "name": "python3"
    },
    "language_info": {
      "codemirror_mode": {
        "name": "ipython",
        "version": 3
      },
      "file_extension": ".py",
      "mimetype": "text/x-python",
      "name": "python",
      "nbconvert_exporter": "python",
      "pygments_lexer": "ipython3",
      "version": "3.11.3"
    }
  },
  "nbformat": 4,
  "nbformat_minor": 5
}